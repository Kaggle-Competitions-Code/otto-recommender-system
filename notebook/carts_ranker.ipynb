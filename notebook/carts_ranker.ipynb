{
 "cells": [
  {
   "cell_type": "code",
   "execution_count": 3,
   "id": "03d34b03",
   "metadata": {},
   "outputs": [],
   "source": [
    "import os\n",
    "import time\n",
    "import glob\n",
    "import gc\n",
    "import warnings\n",
    "from multiprocessing import Pool\n",
    "\n",
    "from tqdm import tqdm\n",
    "import pandas as pd\n",
    "import polars as pl\n",
    "import numpy as np\n",
    "import xgboost as xgb\n",
    "# import cudf\n",
    "from sklearn.model_selection import GroupKFold\n",
    "import joblib\n",
    "# from openfe import openfe, transform\n",
    "\n",
    "warnings.filterwarnings(\"ignore\")"
   ]
  },
  {
   "cell_type": "markdown",
   "id": "b0b8831c",
   "metadata": {},
   "source": [
    "# PARAMS"
   ]
  },
  {
   "cell_type": "code",
   "execution_count": 4,
   "id": "d3905876",
   "metadata": {},
   "outputs": [],
   "source": [
    "# TRAIN_SESSION_SAMPLE_SIZE = 5e6\n",
    "CORES_NUM = 8\n",
    "TRAIN_SESSION_SAMPLE_SIZE = 5e5\n",
    "DOWNSAMPLE_RATE = 6\n",
    "VALID_PICKLE_PATH = \"../data/input/otto-test-chunk-candidates-top100/valid_chunk_data/valid_chunk_data\"\n",
    "\n",
    "valid_pickle = sorted(glob.glob(os.path.join(VALID_PICKLE_PATH, \"*_candidates.pkl\")))\n",
    "# valid_pickle"
   ]
  },
  {
   "cell_type": "code",
   "execution_count": 5,
   "id": "e4f882ce",
   "metadata": {},
   "outputs": [],
   "source": [
    "DATASET_PATH = \"../data/input\"\n",
    "\n",
    "TYPE_MAP = {'clicks':0, 'carts':1, 'orders':2}\n",
    "\n",
    "def read_parquet(f):\n",
    "    df = pd.read_parquet(f)\n",
    "    df.ts = (df.ts/1000).astype('int32')\n",
    "    df['type'] = df['type'].map(TYPE_MAP).astype('int8')\n",
    "    return df"
   ]
  },
  {
   "cell_type": "markdown",
   "id": "056c291a",
   "metadata": {},
   "source": [
    "# Carts\n",
    "\n",
    "用户最近20个行为商品 + 用户top商品20 + 全部top商品10"
   ]
  },
  {
   "cell_type": "code",
   "execution_count": 6,
   "id": "51a69a1f",
   "metadata": {},
   "outputs": [],
   "source": [
    "train_files: list = sorted(glob.glob(os.path.join(DATASET_PATH, \"otto-test-chunk-candidates-top100/train_chunk_data/train_chunk_data/*.parquet\")))\n",
    "# train_files"
   ]
  },
  {
   "cell_type": "code",
   "execution_count": null,
   "id": "bda17b87",
   "metadata": {},
   "outputs": [],
   "source": [
    "%%time\n",
    "def read_parquet(f):\n",
    "    df = pd.read_parquet(f)\n",
    "    df.ts = (df.ts/1000).astype('int32')\n",
    "    df['type'] = df['type'].map(TYPE_MAP).astype('int8')\n",
    "    return df\n",
    "\n",
    "df_train = None\n",
    "for i in train_files:\n",
    "    df = read_parquet(i)\n",
    "#     df = cudf.DataFrame(read_parquet(i))\n",
    "    df = df.sort_values(['session','ts'],ascending=[True,False])\n",
    "#     df = df.to_pandas()\n",
    "    if df_train is None:\n",
    "        df_train = df\n",
    "    else:\n",
    "        df_train = pd.concat([df_train, df])\n",
    "#     break\n",
    "        \n",
    "df_train"
   ]
  },
  {
   "cell_type": "code",
   "execution_count": 7,
   "id": "220eb3b9",
   "metadata": {},
   "outputs": [
    {
     "data": {
      "text/plain": [
       "array([1110548,  724999,   30373, ...,  720469,  582525,  397245],\n",
       "      dtype=int32)"
      ]
     },
     "execution_count": 7,
     "metadata": {},
     "output_type": "execute_result"
    }
   ],
   "source": [
    "aid_candidates = df_train[\"aid\"].unique()\n",
    "aid_candidates"
   ]
  },
  {
   "cell_type": "markdown",
   "id": "3f84099b",
   "metadata": {},
   "source": [
    "## Sample"
   ]
  },
  {
   "cell_type": "code",
   "execution_count": 1,
   "id": "af3948a0",
   "metadata": {},
   "outputs": [
    {
     "ename": "NameError",
     "evalue": "name 'df_train' is not defined",
     "output_type": "error",
     "traceback": [
      "\u001b[0;31m---------------------------------------------------------------------------\u001b[0m",
      "\u001b[0;31mNameError\u001b[0m                                 Traceback (most recent call last)",
      "File \u001b[0;32m<timed exec>:3\u001b[0m\n",
      "\u001b[0;31mNameError\u001b[0m: name 'df_train' is not defined"
     ]
    }
   ],
   "source": [
    "%%time\n",
    "\n",
    "OFFSET = 0\n",
    "\n",
    "df_train = df_train[df_train[\"session\"].isin(pd.DataFrame(np.random.choice(df_train.session.unique(), int(TRAIN_SESSION_SAMPLE_SIZE))).rename({0: \"session\"}, axis=1)[\"session\"])]\n",
    "train_ts_maximal = df_train[\"ts\"].max()\n",
    "# train_ts_minimal = df_train[\"ts\"].min()\n",
    "df_train_label = df_train[((train_ts_maximal-df_train[\"ts\"]) < (OFFSET+7*0.2)*24*60*60)&((train_ts_maximal-df_train[\"ts\"]) >= (OFFSET)*24*60*60)].reset_index(drop=True)\n",
    "df_train_label = df_train_label[(df_train_label[\"type\"]==TYPE_MAP[\"carts\"])|(df_train_label[\"type\"]==TYPE_MAP[\"orders\"])]\n",
    "df_train_label = df_train_label.sort_values(['session','ts'],ascending=[True,True])\n",
    "# df_train_label['n'] = df_train_label.groupby('session').cumcount()\n",
    "# df_train_label = df_train_label.loc[df_train_label.n<20].drop('n',axis=1)\n",
    "\n",
    "df_train = df_train[((train_ts_maximal-df_train[\"ts\"]) >= (OFFSET+7*0.2)*24*60*60)&((train_ts_maximal-df_train[\"ts\"]) < (OFFSET+7)*24*60*60)].reset_index(drop=True)\n",
    "df_train_label[\"label\"] = 1\n",
    "df_train_label = df_train_label[[\"session\", \"aid\", \"label\"]].drop_duplicates(subset=[\"session\", \"aid\"])\n",
    "train_ts_minimal = df_train[\"ts\"].min()\n",
    "df_train = df_train.merge(df_train_label[[\"session\", \"aid\", \"label\"]], on=[\"session\", \"aid\"], how=\"outer\").fillna({\"label\": 0, \"type\": 3, \"ts\": train_ts_minimal})\n",
    "# df_train = df_train.merge(df_train_label[[\"session\", \"aid\", \"label\"]], on=[\"session\", \"aid\"], how=\"left\").fillna({\"label\": 0, \"type\": 3, \"ts\": train_ts_minimal})\n",
    "df_train[\"label\"] = df_train[\"label\"].astype(\"int8\")\n",
    "df_train[\"type\"] = df_train[\"type\"].astype(\"int8\")\n",
    "df_train[\"ts\"] = df_train[\"ts\"].astype(\"int32\")\n",
    "df_train[\"label\"].value_counts()\n",
    "# df_train_label"
   ]
  },
  {
   "cell_type": "markdown",
   "id": "1f3a373e",
   "metadata": {},
   "source": [
    "## Downsample\n",
    "\n",
    "1:20"
   ]
  },
  {
   "cell_type": "code",
   "execution_count": 9,
   "id": "efba5b0f",
   "metadata": {},
   "outputs": [],
   "source": [
    "def downsample(df, candidates=None, n=-1):\n",
    "    ts_minimal = df[\"ts\"].min()\n",
    "    session_num = TRAIN_SESSION_SAMPLE_SIZE\n",
    "    session_list = df[\"session\"].unique()\n",
    "    if n == -1:\n",
    "        n = DOWNSAMPLE_RATE\n",
    "    if candidates is None:\n",
    "        candidates = []\n",
    "    df_negative = df[df[\"label\"]==0]\n",
    "    df_postive = df[df[\"label\"]==1]\n",
    "    r = len(df_negative)/len(df_postive)\n",
    "    print(f\"current negative size: {len(df_negative)}, postive size: {len(df_postive)}, rate: {r}\")\n",
    "    if r > n:\n",
    "        gloden_negative_size = n * len(df_postive)\n",
    "        df_negative = df_negative.sample(gloden_negative_size)\n",
    "        df = pd.concat([df_postive, df_negative])\n",
    "    elif r < n:\n",
    "        gloden_negative_size = n * len(df_postive)\n",
    "        difference = gloden_negative_size - len(df_negative)\n",
    "        session_difference = difference // session\n",
    "        data4df = {\"session\": [], \"aid\": []}\n",
    "        for i in session_list:\n",
    "            data4df[\"aid\"].append(np.random.choice(candidates, session_difference).tolist())\n",
    "            data4df[\"session\"].append(i)\n",
    "        df_addition = pd.DataFrame(data4df)\n",
    "        df_addition = df_addition.explode(\"aid\")\n",
    "        duplicated_columns = df_addition[[\"session\", \"aid\"]].set_index([\"session\", \"aid\"]).index.intersection(df_postive[[\"session\", \"aid\"]].set_index([\"session\", \"aid\"]).index)\n",
    "        df_addition = df_addition.drop(duplicated_columns, axis=0).reset_index()\n",
    "        df_addition[\"label\"] = 0\n",
    "        df_addition[\"ts\"] = ts_minimal\n",
    "        df_addition[\"type\"] = 3\n",
    "        df = pd.concat([df, df_addition])\n",
    "        df = df.drop_duplicates(subset=[\"session\", \"aid\", \"ts\"])\n",
    "    df[\"_noise\"] = np.random.randn(len(df))\n",
    "    df = df.sort_values([\"session\", \"_noise\"])\n",
    "    df = df.drop(\"_noise\", axis=1).reset_index(drop=True)\n",
    "    return df"
   ]
  },
  {
   "cell_type": "code",
   "execution_count": 10,
   "id": "4629eea5",
   "metadata": {},
   "outputs": [
    {
     "name": "stdout",
     "output_type": "stream",
     "text": [
      "current negative size: 2314083, postive size: 340466, rate: 6.796810841611204\n"
     ]
    },
    {
     "data": {
      "text/html": [
       "<div>\n",
       "<style scoped>\n",
       "    .dataframe tbody tr th:only-of-type {\n",
       "        vertical-align: middle;\n",
       "    }\n",
       "\n",
       "    .dataframe tbody tr th {\n",
       "        vertical-align: top;\n",
       "    }\n",
       "\n",
       "    .dataframe thead th {\n",
       "        text-align: right;\n",
       "    }\n",
       "</style>\n",
       "<table border=\"1\" class=\"dataframe\">\n",
       "  <thead>\n",
       "    <tr style=\"text-align: right;\">\n",
       "      <th></th>\n",
       "      <th>session</th>\n",
       "      <th>aid</th>\n",
       "      <th>ts</th>\n",
       "      <th>type</th>\n",
       "      <th>label</th>\n",
       "    </tr>\n",
       "  </thead>\n",
       "  <tbody>\n",
       "    <tr>\n",
       "      <th>0</th>\n",
       "      <td>27</td>\n",
       "      <td>1251955</td>\n",
       "      <td>1659362219</td>\n",
       "      <td>0</td>\n",
       "      <td>0</td>\n",
       "    </tr>\n",
       "    <tr>\n",
       "      <th>1</th>\n",
       "      <td>27</td>\n",
       "      <td>1466252</td>\n",
       "      <td>1659304814</td>\n",
       "      <td>0</td>\n",
       "      <td>0</td>\n",
       "    </tr>\n",
       "    <tr>\n",
       "      <th>2</th>\n",
       "      <td>27</td>\n",
       "      <td>1627638</td>\n",
       "      <td>1659362208</td>\n",
       "      <td>0</td>\n",
       "      <td>0</td>\n",
       "    </tr>\n",
       "    <tr>\n",
       "      <th>3</th>\n",
       "      <td>27</td>\n",
       "      <td>644734</td>\n",
       "      <td>1659304800</td>\n",
       "      <td>0</td>\n",
       "      <td>0</td>\n",
       "    </tr>\n",
       "    <tr>\n",
       "      <th>4</th>\n",
       "      <td>27</td>\n",
       "      <td>555996</td>\n",
       "      <td>1659304910</td>\n",
       "      <td>0</td>\n",
       "      <td>0</td>\n",
       "    </tr>\n",
       "    <tr>\n",
       "      <th>...</th>\n",
       "      <td>...</td>\n",
       "      <td>...</td>\n",
       "      <td>...</td>\n",
       "      <td>...</td>\n",
       "      <td>...</td>\n",
       "    </tr>\n",
       "    <tr>\n",
       "      <th>2383257</th>\n",
       "      <td>11097742</td>\n",
       "      <td>881203</td>\n",
       "      <td>1659304800</td>\n",
       "      <td>3</td>\n",
       "      <td>1</td>\n",
       "    </tr>\n",
       "    <tr>\n",
       "      <th>2383258</th>\n",
       "      <td>11097742</td>\n",
       "      <td>1207772</td>\n",
       "      <td>1659304800</td>\n",
       "      <td>3</td>\n",
       "      <td>1</td>\n",
       "    </tr>\n",
       "    <tr>\n",
       "      <th>2383259</th>\n",
       "      <td>11097834</td>\n",
       "      <td>1714583</td>\n",
       "      <td>1659304800</td>\n",
       "      <td>3</td>\n",
       "      <td>1</td>\n",
       "    </tr>\n",
       "    <tr>\n",
       "      <th>2383260</th>\n",
       "      <td>11098122</td>\n",
       "      <td>530377</td>\n",
       "      <td>1659304800</td>\n",
       "      <td>3</td>\n",
       "      <td>1</td>\n",
       "    </tr>\n",
       "    <tr>\n",
       "      <th>2383261</th>\n",
       "      <td>11098382</td>\n",
       "      <td>101982</td>\n",
       "      <td>1659304800</td>\n",
       "      <td>3</td>\n",
       "      <td>1</td>\n",
       "    </tr>\n",
       "  </tbody>\n",
       "</table>\n",
       "<p>2383262 rows × 5 columns</p>\n",
       "</div>"
      ],
      "text/plain": [
       "          session      aid          ts  type  label\n",
       "0              27  1251955  1659362219     0      0\n",
       "1              27  1466252  1659304814     0      0\n",
       "2              27  1627638  1659362208     0      0\n",
       "3              27   644734  1659304800     0      0\n",
       "4              27   555996  1659304910     0      0\n",
       "...           ...      ...         ...   ...    ...\n",
       "2383257  11097742   881203  1659304800     3      1\n",
       "2383258  11097742  1207772  1659304800     3      1\n",
       "2383259  11097834  1714583  1659304800     3      1\n",
       "2383260  11098122   530377  1659304800     3      1\n",
       "2383261  11098382   101982  1659304800     3      1\n",
       "\n",
       "[2383262 rows x 5 columns]"
      ]
     },
     "execution_count": 10,
     "metadata": {},
     "output_type": "execute_result"
    }
   ],
   "source": [
    "# df_train = downsample(df_train, aid_candidates)\n",
    "df_train[\"label\"] = df_train[\"label\"].astype(\"int8\")\n",
    "df_train[\"type\"] = df_train[\"type\"].astype(\"int8\")\n",
    "df_train[\"ts\"] = df_train[\"ts\"].astype(\"int32\")\n",
    "df_train"
   ]
  },
  {
   "cell_type": "code",
   "execution_count": null,
   "id": "1b9648ef",
   "metadata": {},
   "outputs": [],
   "source": []
  },
  {
   "cell_type": "markdown",
   "id": "32fcc686",
   "metadata": {},
   "source": [
    "# Feature Engineering"
   ]
  },
  {
   "cell_type": "code",
   "execution_count": 6,
   "id": "938a813f",
   "metadata": {},
   "outputs": [
    {
     "name": "stdout",
     "output_type": "stream",
     "text": [
      "CPU times: user 1 µs, sys: 1e+03 ns, total: 2 µs\n",
      "Wall time: 4.53 µs\n"
     ]
    }
   ],
   "source": [
    "%%time\n",
    "\n",
    "def ts_day(df):\n",
    "    ts_minimal = df[\"ts\"].min()\n",
    "    df[\"ts_day\"] = (df[\"ts\"]-ts_minimal) // (24*60*60)\n",
    "    return df\n",
    "\n",
    "def carts_count(df):\n",
    "    df_tmp = pd.read_pickle(os.path.join(DATASET_PATH, \"feature/carts_count.pkl\"))\n",
    "    df = df.merge(df_tmp, on=\"aid\", how=\"left\").fillna({\"count\": 0}).rename({\"count\": \"carts_count\"}, axis=1)\n",
    "    df[\"carts_count\"] = df[\"carts_count\"].astype(\"int32\")\n",
    "    return df\n",
    "\n",
    "def clicks_count(df):\n",
    "    df_tmp = pd.read_pickle(os.path.join(DATASET_PATH, \"feature/clicks_count.pkl\"))\n",
    "    df = df.merge(df_tmp, on=\"aid\", how=\"left\").fillna({\"count\": 0}).rename({\"count\": \"clicks_count\"}, axis=1)\n",
    "    df[\"clicks_count\"] = df[\"clicks_count\"].astype(\"int32\")\n",
    "    return df\n",
    "\n",
    "def orders_count(df):\n",
    "    df_tmp = pd.read_pickle(os.path.join(DATASET_PATH, \"feature/orders_count.pkl\"))\n",
    "    df = df.merge(df_tmp, on=\"aid\", how=\"left\").fillna({\"count\": 0}).rename({\"count\": \"orders_count\"}, axis=1)\n",
    "    df[\"orders_count\"] = df[\"orders_count\"].astype(\"int32\")\n",
    "    return df\n",
    "\n",
    "def session_clicks_count(df):\n",
    "    df_tmp = df[df[\"type\"]==TYPE_MAP[\"clicks\"]].groupby(\"session\").agg({\"aid\": \"count\"}).reset_index().rename({\"aid\": \"count\"}, axis=1)\n",
    "    df = df.merge(df_tmp, on=\"session\", how=\"left\").fillna({\"count\": 0}).rename({\"count\": \"session_clicks_count\"}, axis=1)\n",
    "    df[\"session_clicks_count\"] = df[\"session_clicks_count\"].astype(\"int32\")\n",
    "    return df\n",
    "\n",
    "def session_orders_count(df):\n",
    "    df_tmp = df[df[\"type\"]==TYPE_MAP[\"orders\"]].groupby(\"session\").agg({\"aid\": \"count\"}).reset_index().rename({\"aid\": \"count\"}, axis=1)\n",
    "    df = df.merge(df_tmp, on=\"session\", how=\"left\").fillna({\"count\": 0}).rename({\"count\": \"session_orders_count\"}, axis=1)\n",
    "    df[\"session_orders_count\"] = df[\"session_orders_count\"].astype(\"int32\")\n",
    "    return df\n",
    "\n",
    "def session_carts_count(df):\n",
    "    df_tmp = df[df[\"type\"]==TYPE_MAP[\"carts\"]].groupby(\"session\").agg({\"aid\": \"count\"}).reset_index().rename({\"aid\": \"count\"}, axis=1)\n",
    "    df = df.merge(df_tmp, on=\"session\", how=\"left\").fillna({\"count\": 0}).rename({\"count\": \"session_carts_count\"}, axis=1)\n",
    "    df[\"session_carts_count\"] = df[\"session_carts_count\"].astype(\"int32\")\n",
    "    return df\n",
    "\n",
    "def session_unknow_count(df):\n",
    "    df_tmp = df[df[\"type\"]==3].groupby(\"session\").agg({\"aid\": \"count\"}).reset_index().rename({\"aid\": \"count\"}, axis=1)\n",
    "    df = df.merge(df_tmp, on=\"session\", how=\"left\").fillna({\"count\": 0}).rename({\"count\": \"session_unknow_count\"}, axis=1)\n",
    "    df[\"session_unknow_count\"] = df[\"session_unknow_count\"].astype(\"int32\")\n",
    "    return df\n",
    "\n",
    "# ---- public -----\n",
    "def add_session_length(df):\n",
    "    # If not using cuDF, remove .to_pandas()\n",
    "    df['session_length'] = df.groupby('session')['ts'].transform('count')\n",
    "    return df\n",
    "\n",
    "def add_action_num_reverse_chrono(df):\n",
    "    df['action_num_reverse_chrono'] = df.session_length - df.groupby('session').cumcount() - 1\n",
    "    return df\n",
    "\n",
    "def add_log_recency_score(df):\n",
    "    linear_interpolation = 0.1 + ((1-0.1) / (df['session_length']-1)) * (df['session_length']-df['action_num_reverse_chrono']-1)\n",
    "    df['log_recency_score'] = (2 ** linear_interpolation - 1).fillna(1.0)\n",
    "    return df\n",
    "\n",
    "def add_type_weighted_log_recency_score(df):\n",
    "    type_weights = {0:1, 1:6, 2:3, 3:1}\n",
    "    df['type_weighted_log_recency_score'] = df['log_recency_score'] / df['type'].map(type_weights)\n",
    "    return df\n",
    "\n",
    "# --- new ---\n",
    "def rate(df):\n",
    "    if isinstance(df, pd.DataFrame):\n",
    "        df = pl.DataFrame(df)\n",
    "    df = df.join(df[[\"session\", \"aid\", \"ts\", \"type\"]].groupby(\"session\").agg([\n",
    "        (((pl.col(\"type\")==TYPE_MAP[\"carts\"])&(pl.col(\"type\")==TYPE_MAP[\"orders\"])).sum()/(pl.col(\"type\")==TYPE_MAP[\"orders\"]).sum()).alias(\"carts_rate_in_orders\"),\n",
    "        (((pl.col(\"type\")==TYPE_MAP[\"carts\"])&(pl.col(\"type\")==TYPE_MAP[\"orders\"])).sum()/(pl.col(\"type\")==TYPE_MAP[\"carts\"]).sum()).alias(\"orders_rate_in_carts\"),\n",
    "        (((pl.col(\"type\")==TYPE_MAP[\"clicks\"])&(pl.col(\"type\")==TYPE_MAP[\"orders\"])).sum()/(pl.col(\"type\")==TYPE_MAP[\"orders\"]).sum()).alias(\"clicks_rate_in_orders\"),\n",
    "        (((pl.col(\"type\")==TYPE_MAP[\"clicks\"])&(pl.col(\"type\")==TYPE_MAP[\"orders\"])).sum()/(pl.col(\"type\")==TYPE_MAP[\"clicks\"]).sum()).alias(\"orders_rate_in_clicks\"),\n",
    "        (((pl.col(\"type\")==TYPE_MAP[\"carts\"])&(pl.col(\"type\")==TYPE_MAP[\"clicks\"])).sum()/(pl.col(\"type\")==TYPE_MAP[\"clicks\"]).sum()).alias(\"carts_rate_in_clicks\"),\n",
    "        (((pl.col(\"type\")==TYPE_MAP[\"carts\"])&(pl.col(\"type\")==TYPE_MAP[\"clicks\"])).sum()/(pl.col(\"type\")==TYPE_MAP[\"carts\"]).sum()).alias(\"clicks_rate_in_carts\"),\n",
    "    ]), on=[\"session\"])\n",
    "    df = df.with_column(\n",
    "        pl.col([\n",
    "            \"carts_rate_in_orders\",\n",
    "            \"orders_rate_in_carts\",\n",
    "            \"clicks_rate_in_orders\",\n",
    "            \"orders_rate_in_clicks\",\n",
    "            \"carts_rate_in_clicks\",\n",
    "            \"clicks_rate_in_carts\"\n",
    "        ]).fill_nan(pl.lit(0)),\n",
    "    )\n",
    "    df = df.to_pandas()\n",
    "    return df\n",
    "\n",
    "\n",
    "\n",
    "def clicks_rate_in_carts(df):\n",
    "    def func(x):\n",
    "        x_clicks = x[x[\"type\"]==TYPE_MAP[\"clicks\"]]\n",
    "        x_carts = x[x[\"type\"]==TYPE_MAP[\"carts\"]]\n",
    "        x_hit = x_carts.merge(x_clicks, on=\"aid\", how=\"inner\").drop_duplicates()\n",
    "        rate = (len(x_hit) / len(x_carts)) if len(x_carts) != 0 else 0\n",
    "        dual_rate = (len(x_carts) / len(x_hit)) if len(x_hit) != 0 else 0\n",
    "#         r = pd.Series({\"clicks_rate_in_carts\": rate})\n",
    "        r = pd.Series({\"clicks_rate_in_carts\": rate, \"carts_rate_in_clicks\": dual_rate})\n",
    "        return r\n",
    "    df_tmp = df[[\"session\", \"aid\", \"ts\", \"type\"]].groupby(\"session\")[[\"aid\", \"type\"]].apply(func)\n",
    "    df = df.merge(df_tmp, on=\"session\")\n",
    "    return df\n",
    "\n",
    "def clicks_rate_in_orders(df):\n",
    "    def func(x):\n",
    "        x_clicks = x[x[\"type\"]==TYPE_MAP[\"clicks\"]]\n",
    "        x_orders = x[x[\"type\"]==TYPE_MAP[\"orders\"]]\n",
    "        x_hit = x_orders.merge(x_clicks, on=\"aid\", how=\"inner\").drop_duplicates()\n",
    "        rate = (len(x_hit) / len(x_orders)) if len(x_orders) != 0 else 0\n",
    "        dual_rate = (len(x_orders) / len(x_hit)) if len(x_hit) != 0 else 0\n",
    "#         r = pd.Series({\"clicks_rate_in_orders\": rate})\n",
    "        r = pd.Series({\"clicks_rate_in_orders\": rate, \"orders_rate_in_clicks\": dual_rate})\n",
    "        return r\n",
    "    df_tmp = df[[\"session\", \"aid\", \"ts\", \"type\"]].groupby(\"session\")[[\"aid\", \"type\"]].apply(func)\n",
    "    df = df.merge(df_tmp, on=\"session\")\n",
    "    return df\n",
    "\n",
    "def carts_rate_in_orders(df):\n",
    "    def func(x):\n",
    "        x_carts = x[x[\"type\"]==TYPE_MAP[\"carts\"]]\n",
    "        x_orders = x[x[\"type\"]==TYPE_MAP[\"orders\"]]\n",
    "        x_hit = x_orders.merge(x_carts, on=\"aid\", how=\"inner\").drop_duplicates()\n",
    "        rate = (len(x_hit) / len(x_orders)) if len(x_orders) != 0 else 0\n",
    "        dual_rate = (len(x_orders) / len(x_hit)) if len(x_hit) != 0 else 0\n",
    "        r = pd.Series({\"carts_rate_in_orders\": rate, \"orders_rate_in_carts\": dual_rate})\n",
    "        return r\n",
    "    df_tmp = df[[\"session\", \"aid\", \"ts\", \"type\"]].groupby(\"session\")[[\"aid\", \"type\"]].apply(func)\n",
    "    df = df.merge(df_tmp, on=\"session\")\n",
    "    return df\n",
    "\n",
    "\n",
    "\n",
    "\n",
    "pipeline = [\n",
    "    ts_day,\n",
    "#     carts_count,\n",
    "#     clicks_count,\n",
    "#     orders_count,\n",
    "#     session_clicks_count,\n",
    "#     session_orders_count,\n",
    "#     session_carts_count,\n",
    "#     session_unknow_count,\n",
    "    add_session_length,\n",
    "    add_action_num_reverse_chrono,\n",
    "    add_log_recency_score,\n",
    "    add_type_weighted_log_recency_score,\n",
    "    clicks_rate_in_carts,\n",
    "    clicks_rate_in_orders,\n",
    "    carts_rate_in_orders\n",
    "#     rate\n",
    "]\n",
    "\n",
    "# for p in tqdm(pipeline):\n",
    "#     df_train = p(df_train)\n",
    "\n",
    "# FEATURE_COL = list(set(df_train.columns.tolist()) - set([\"session\", \"aid\", \"ts\", \"label\"]))\n",
    "# with open(\"FEATURE_COL.txt\", \"w\") as f:\n",
    "#     f.write(\"\\n\".join(FEATURE_COL))\n",
    "\n",
    "# df_train"
   ]
  },
  {
   "cell_type": "code",
   "execution_count": 12,
   "id": "ea796b6a",
   "metadata": {},
   "outputs": [
    {
     "name": "stderr",
     "output_type": "stream",
     "text": [
      "100%|███████████████████████████████████████████████████████████████████████████████████████████████████████████████████████████████████| 15/15 [27:04<00:00, 108.33s/it]\n"
     ]
    },
    {
     "name": "stdout",
     "output_type": "stream",
     "text": [
      "CPU times: user 26min 50s, sys: 2.55 s, total: 26min 53s\n",
      "Wall time: 27min 4s\n"
     ]
    },
    {
     "data": {
      "text/html": [
       "<div>\n",
       "<style scoped>\n",
       "    .dataframe tbody tr th:only-of-type {\n",
       "        vertical-align: middle;\n",
       "    }\n",
       "\n",
       "    .dataframe tbody tr th {\n",
       "        vertical-align: top;\n",
       "    }\n",
       "\n",
       "    .dataframe thead th {\n",
       "        text-align: right;\n",
       "    }\n",
       "</style>\n",
       "<table border=\"1\" class=\"dataframe\">\n",
       "  <thead>\n",
       "    <tr style=\"text-align: right;\">\n",
       "      <th></th>\n",
       "      <th>session</th>\n",
       "      <th>aid</th>\n",
       "      <th>ts</th>\n",
       "      <th>type</th>\n",
       "      <th>label</th>\n",
       "      <th>ts_day</th>\n",
       "      <th>carts_count</th>\n",
       "      <th>clicks_count</th>\n",
       "      <th>orders_count</th>\n",
       "      <th>session_clicks_count</th>\n",
       "      <th>...</th>\n",
       "      <th>session_length</th>\n",
       "      <th>action_num_reverse_chrono</th>\n",
       "      <th>log_recency_score</th>\n",
       "      <th>type_weighted_log_recency_score</th>\n",
       "      <th>clicks_rate_in_carts</th>\n",
       "      <th>carts_rate_in_clicks</th>\n",
       "      <th>clicks_rate_in_orders</th>\n",
       "      <th>orders_rate_in_clicks</th>\n",
       "      <th>carts_rate_in_orders</th>\n",
       "      <th>orders_rate_in_carts</th>\n",
       "    </tr>\n",
       "  </thead>\n",
       "  <tbody>\n",
       "    <tr>\n",
       "      <th>0</th>\n",
       "      <td>27</td>\n",
       "      <td>1251955</td>\n",
       "      <td>1659362219</td>\n",
       "      <td>0</td>\n",
       "      <td>0</td>\n",
       "      <td>0</td>\n",
       "      <td>0</td>\n",
       "      <td>5</td>\n",
       "      <td>0</td>\n",
       "      <td>6</td>\n",
       "      <td>...</td>\n",
       "      <td>6</td>\n",
       "      <td>5</td>\n",
       "      <td>0.071773</td>\n",
       "      <td>0.071773</td>\n",
       "      <td>0.0</td>\n",
       "      <td>0.0</td>\n",
       "      <td>0.0</td>\n",
       "      <td>0.0</td>\n",
       "      <td>0.0</td>\n",
       "      <td>0.0</td>\n",
       "    </tr>\n",
       "    <tr>\n",
       "      <th>1</th>\n",
       "      <td>27</td>\n",
       "      <td>1466252</td>\n",
       "      <td>1659304814</td>\n",
       "      <td>0</td>\n",
       "      <td>0</td>\n",
       "      <td>0</td>\n",
       "      <td>0</td>\n",
       "      <td>22</td>\n",
       "      <td>0</td>\n",
       "      <td>6</td>\n",
       "      <td>...</td>\n",
       "      <td>6</td>\n",
       "      <td>4</td>\n",
       "      <td>0.214195</td>\n",
       "      <td>0.214195</td>\n",
       "      <td>0.0</td>\n",
       "      <td>0.0</td>\n",
       "      <td>0.0</td>\n",
       "      <td>0.0</td>\n",
       "      <td>0.0</td>\n",
       "      <td>0.0</td>\n",
       "    </tr>\n",
       "    <tr>\n",
       "      <th>2</th>\n",
       "      <td>27</td>\n",
       "      <td>1627638</td>\n",
       "      <td>1659362208</td>\n",
       "      <td>0</td>\n",
       "      <td>0</td>\n",
       "      <td>0</td>\n",
       "      <td>0</td>\n",
       "      <td>7</td>\n",
       "      <td>0</td>\n",
       "      <td>6</td>\n",
       "      <td>...</td>\n",
       "      <td>6</td>\n",
       "      <td>3</td>\n",
       "      <td>0.375542</td>\n",
       "      <td>0.375542</td>\n",
       "      <td>0.0</td>\n",
       "      <td>0.0</td>\n",
       "      <td>0.0</td>\n",
       "      <td>0.0</td>\n",
       "      <td>0.0</td>\n",
       "      <td>0.0</td>\n",
       "    </tr>\n",
       "    <tr>\n",
       "      <th>3</th>\n",
       "      <td>27</td>\n",
       "      <td>644734</td>\n",
       "      <td>1659304800</td>\n",
       "      <td>0</td>\n",
       "      <td>0</td>\n",
       "      <td>0</td>\n",
       "      <td>0</td>\n",
       "      <td>14</td>\n",
       "      <td>0</td>\n",
       "      <td>6</td>\n",
       "      <td>...</td>\n",
       "      <td>6</td>\n",
       "      <td>2</td>\n",
       "      <td>0.558329</td>\n",
       "      <td>0.558329</td>\n",
       "      <td>0.0</td>\n",
       "      <td>0.0</td>\n",
       "      <td>0.0</td>\n",
       "      <td>0.0</td>\n",
       "      <td>0.0</td>\n",
       "      <td>0.0</td>\n",
       "    </tr>\n",
       "    <tr>\n",
       "      <th>4</th>\n",
       "      <td>27</td>\n",
       "      <td>555996</td>\n",
       "      <td>1659304910</td>\n",
       "      <td>0</td>\n",
       "      <td>0</td>\n",
       "      <td>0</td>\n",
       "      <td>7</td>\n",
       "      <td>36</td>\n",
       "      <td>1</td>\n",
       "      <td>6</td>\n",
       "      <td>...</td>\n",
       "      <td>6</td>\n",
       "      <td>1</td>\n",
       "      <td>0.765406</td>\n",
       "      <td>0.765406</td>\n",
       "      <td>0.0</td>\n",
       "      <td>0.0</td>\n",
       "      <td>0.0</td>\n",
       "      <td>0.0</td>\n",
       "      <td>0.0</td>\n",
       "      <td>0.0</td>\n",
       "    </tr>\n",
       "    <tr>\n",
       "      <th>...</th>\n",
       "      <td>...</td>\n",
       "      <td>...</td>\n",
       "      <td>...</td>\n",
       "      <td>...</td>\n",
       "      <td>...</td>\n",
       "      <td>...</td>\n",
       "      <td>...</td>\n",
       "      <td>...</td>\n",
       "      <td>...</td>\n",
       "      <td>...</td>\n",
       "      <td>...</td>\n",
       "      <td>...</td>\n",
       "      <td>...</td>\n",
       "      <td>...</td>\n",
       "      <td>...</td>\n",
       "      <td>...</td>\n",
       "      <td>...</td>\n",
       "      <td>...</td>\n",
       "      <td>...</td>\n",
       "      <td>...</td>\n",
       "      <td>...</td>\n",
       "    </tr>\n",
       "    <tr>\n",
       "      <th>2383257</th>\n",
       "      <td>11097742</td>\n",
       "      <td>881203</td>\n",
       "      <td>1659304800</td>\n",
       "      <td>3</td>\n",
       "      <td>1</td>\n",
       "      <td>0</td>\n",
       "      <td>0</td>\n",
       "      <td>2</td>\n",
       "      <td>0</td>\n",
       "      <td>0</td>\n",
       "      <td>...</td>\n",
       "      <td>2</td>\n",
       "      <td>1</td>\n",
       "      <td>0.071773</td>\n",
       "      <td>0.071773</td>\n",
       "      <td>0.0</td>\n",
       "      <td>0.0</td>\n",
       "      <td>0.0</td>\n",
       "      <td>0.0</td>\n",
       "      <td>0.0</td>\n",
       "      <td>0.0</td>\n",
       "    </tr>\n",
       "    <tr>\n",
       "      <th>2383258</th>\n",
       "      <td>11097742</td>\n",
       "      <td>1207772</td>\n",
       "      <td>1659304800</td>\n",
       "      <td>3</td>\n",
       "      <td>1</td>\n",
       "      <td>0</td>\n",
       "      <td>0</td>\n",
       "      <td>1</td>\n",
       "      <td>0</td>\n",
       "      <td>0</td>\n",
       "      <td>...</td>\n",
       "      <td>2</td>\n",
       "      <td>0</td>\n",
       "      <td>1.000000</td>\n",
       "      <td>1.000000</td>\n",
       "      <td>0.0</td>\n",
       "      <td>0.0</td>\n",
       "      <td>0.0</td>\n",
       "      <td>0.0</td>\n",
       "      <td>0.0</td>\n",
       "      <td>0.0</td>\n",
       "    </tr>\n",
       "    <tr>\n",
       "      <th>2383259</th>\n",
       "      <td>11097834</td>\n",
       "      <td>1714583</td>\n",
       "      <td>1659304800</td>\n",
       "      <td>3</td>\n",
       "      <td>1</td>\n",
       "      <td>0</td>\n",
       "      <td>0</td>\n",
       "      <td>14</td>\n",
       "      <td>0</td>\n",
       "      <td>0</td>\n",
       "      <td>...</td>\n",
       "      <td>1</td>\n",
       "      <td>0</td>\n",
       "      <td>1.000000</td>\n",
       "      <td>1.000000</td>\n",
       "      <td>0.0</td>\n",
       "      <td>0.0</td>\n",
       "      <td>0.0</td>\n",
       "      <td>0.0</td>\n",
       "      <td>0.0</td>\n",
       "      <td>0.0</td>\n",
       "    </tr>\n",
       "    <tr>\n",
       "      <th>2383260</th>\n",
       "      <td>11098122</td>\n",
       "      <td>530377</td>\n",
       "      <td>1659304800</td>\n",
       "      <td>3</td>\n",
       "      <td>1</td>\n",
       "      <td>0</td>\n",
       "      <td>33</td>\n",
       "      <td>326</td>\n",
       "      <td>8</td>\n",
       "      <td>0</td>\n",
       "      <td>...</td>\n",
       "      <td>1</td>\n",
       "      <td>0</td>\n",
       "      <td>1.000000</td>\n",
       "      <td>1.000000</td>\n",
       "      <td>0.0</td>\n",
       "      <td>0.0</td>\n",
       "      <td>0.0</td>\n",
       "      <td>0.0</td>\n",
       "      <td>0.0</td>\n",
       "      <td>0.0</td>\n",
       "    </tr>\n",
       "    <tr>\n",
       "      <th>2383261</th>\n",
       "      <td>11098382</td>\n",
       "      <td>101982</td>\n",
       "      <td>1659304800</td>\n",
       "      <td>3</td>\n",
       "      <td>1</td>\n",
       "      <td>0</td>\n",
       "      <td>0</td>\n",
       "      <td>0</td>\n",
       "      <td>0</td>\n",
       "      <td>0</td>\n",
       "      <td>...</td>\n",
       "      <td>1</td>\n",
       "      <td>0</td>\n",
       "      <td>1.000000</td>\n",
       "      <td>1.000000</td>\n",
       "      <td>0.0</td>\n",
       "      <td>0.0</td>\n",
       "      <td>0.0</td>\n",
       "      <td>0.0</td>\n",
       "      <td>0.0</td>\n",
       "      <td>0.0</td>\n",
       "    </tr>\n",
       "  </tbody>\n",
       "</table>\n",
       "<p>2383262 rows × 23 columns</p>\n",
       "</div>"
      ],
      "text/plain": [
       "          session      aid          ts  type  label  ts_day  carts_count  \\\n",
       "0              27  1251955  1659362219     0      0       0            0   \n",
       "1              27  1466252  1659304814     0      0       0            0   \n",
       "2              27  1627638  1659362208     0      0       0            0   \n",
       "3              27   644734  1659304800     0      0       0            0   \n",
       "4              27   555996  1659304910     0      0       0            7   \n",
       "...           ...      ...         ...   ...    ...     ...          ...   \n",
       "2383257  11097742   881203  1659304800     3      1       0            0   \n",
       "2383258  11097742  1207772  1659304800     3      1       0            0   \n",
       "2383259  11097834  1714583  1659304800     3      1       0            0   \n",
       "2383260  11098122   530377  1659304800     3      1       0           33   \n",
       "2383261  11098382   101982  1659304800     3      1       0            0   \n",
       "\n",
       "         clicks_count  orders_count  session_clicks_count  ...  \\\n",
       "0                   5             0                     6  ...   \n",
       "1                  22             0                     6  ...   \n",
       "2                   7             0                     6  ...   \n",
       "3                  14             0                     6  ...   \n",
       "4                  36             1                     6  ...   \n",
       "...               ...           ...                   ...  ...   \n",
       "2383257             2             0                     0  ...   \n",
       "2383258             1             0                     0  ...   \n",
       "2383259            14             0                     0  ...   \n",
       "2383260           326             8                     0  ...   \n",
       "2383261             0             0                     0  ...   \n",
       "\n",
       "         session_length  action_num_reverse_chrono  log_recency_score  \\\n",
       "0                     6                          5           0.071773   \n",
       "1                     6                          4           0.214195   \n",
       "2                     6                          3           0.375542   \n",
       "3                     6                          2           0.558329   \n",
       "4                     6                          1           0.765406   \n",
       "...                 ...                        ...                ...   \n",
       "2383257               2                          1           0.071773   \n",
       "2383258               2                          0           1.000000   \n",
       "2383259               1                          0           1.000000   \n",
       "2383260               1                          0           1.000000   \n",
       "2383261               1                          0           1.000000   \n",
       "\n",
       "         type_weighted_log_recency_score  clicks_rate_in_carts  \\\n",
       "0                               0.071773                   0.0   \n",
       "1                               0.214195                   0.0   \n",
       "2                               0.375542                   0.0   \n",
       "3                               0.558329                   0.0   \n",
       "4                               0.765406                   0.0   \n",
       "...                                  ...                   ...   \n",
       "2383257                         0.071773                   0.0   \n",
       "2383258                         1.000000                   0.0   \n",
       "2383259                         1.000000                   0.0   \n",
       "2383260                         1.000000                   0.0   \n",
       "2383261                         1.000000                   0.0   \n",
       "\n",
       "         carts_rate_in_clicks  clicks_rate_in_orders  orders_rate_in_clicks  \\\n",
       "0                         0.0                    0.0                    0.0   \n",
       "1                         0.0                    0.0                    0.0   \n",
       "2                         0.0                    0.0                    0.0   \n",
       "3                         0.0                    0.0                    0.0   \n",
       "4                         0.0                    0.0                    0.0   \n",
       "...                       ...                    ...                    ...   \n",
       "2383257                   0.0                    0.0                    0.0   \n",
       "2383258                   0.0                    0.0                    0.0   \n",
       "2383259                   0.0                    0.0                    0.0   \n",
       "2383260                   0.0                    0.0                    0.0   \n",
       "2383261                   0.0                    0.0                    0.0   \n",
       "\n",
       "         carts_rate_in_orders  orders_rate_in_carts  \n",
       "0                         0.0                   0.0  \n",
       "1                         0.0                   0.0  \n",
       "2                         0.0                   0.0  \n",
       "3                         0.0                   0.0  \n",
       "4                         0.0                   0.0  \n",
       "...                       ...                   ...  \n",
       "2383257                   0.0                   0.0  \n",
       "2383258                   0.0                   0.0  \n",
       "2383259                   0.0                   0.0  \n",
       "2383260                   0.0                   0.0  \n",
       "2383261                   0.0                   0.0  \n",
       "\n",
       "[2383262 rows x 23 columns]"
      ]
     },
     "execution_count": 12,
     "metadata": {},
     "output_type": "execute_result"
    }
   ],
   "source": [
    "%%time\n",
    "for p in tqdm(pipeline):\n",
    "    df_train = p(df_train)\n",
    "\n",
    "FEATURE_COL = list(set(df_train.columns.tolist()) - set([\"session\", \"aid\", \"ts\", \"label\"]))\n",
    "with open(\"FEATURE_COL.txt\", \"w\") as f:\n",
    "    f.write(\"\\n\".join(FEATURE_COL))\n",
    "\n",
    "df_train"
   ]
  },
  {
   "cell_type": "code",
   "execution_count": null,
   "id": "15478cd6",
   "metadata": {},
   "outputs": [],
   "source": []
  },
  {
   "cell_type": "code",
   "execution_count": null,
   "id": "f8f2b397",
   "metadata": {},
   "outputs": [],
   "source": []
  },
  {
   "cell_type": "code",
   "execution_count": null,
   "id": "def5b91d",
   "metadata": {},
   "outputs": [],
   "source": []
  },
  {
   "cell_type": "code",
   "execution_count": null,
   "id": "23bdc92d",
   "metadata": {},
   "outputs": [],
   "source": []
  },
  {
   "cell_type": "code",
   "execution_count": null,
   "id": "834a341b",
   "metadata": {},
   "outputs": [],
   "source": []
  },
  {
   "cell_type": "code",
   "execution_count": null,
   "id": "2cc23e5b",
   "metadata": {},
   "outputs": [],
   "source": []
  },
  {
   "cell_type": "markdown",
   "id": "f469aa56",
   "metadata": {},
   "source": [
    "# Model"
   ]
  },
  {
   "cell_type": "code",
   "execution_count": 18,
   "id": "754c23e6",
   "metadata": {},
   "outputs": [
    {
     "name": "stdout",
     "output_type": "stream",
     "text": [
      "CPU times: user 2min 3s, sys: 2.24 s, total: 2min 6s\n",
      "Wall time: 52.3 s\n"
     ]
    }
   ],
   "source": [
    "%%time\n",
    "n_estimators_candidates = [20]\n",
    "\n",
    "for n_estimators in n_estimators_candidates:\n",
    "    ranker = xgb.XGBRanker(\n",
    "#         tree_method='gpu_hist',\n",
    "        tree_method='hist',\n",
    "        booster='gbtree',\n",
    "        objective='rank:pairwise',\n",
    "        random_state=42, \n",
    "        learning_rate=0.1,\n",
    "        colsample_bytree=0.9,  # 0.9\n",
    "        eta=0.05, \n",
    "        max_depth=6, \n",
    "        n_estimators=n_estimators,\n",
    "        subsample=0.85,\n",
    "        n_jobs=11\n",
    "    )\n",
    "\n",
    "    feature_cols = FEATURE_COL\n",
    "    label_col = 'label'\n",
    "\n",
    "    ranker.fit(\n",
    "        X=df_train[feature_cols],\n",
    "        y=df_train[label_col],\n",
    "        group=df_train.groupby(\"session\").count()[\"label\"]\n",
    "    )\n",
    "\n",
    "    joblib.dump(ranker, f\"carts_xgbranker_{str(n_estimators)}.m\")"
   ]
  },
  {
   "cell_type": "code",
   "execution_count": null,
   "id": "fcd90c7a",
   "metadata": {},
   "outputs": [],
   "source": []
  },
  {
   "cell_type": "code",
   "execution_count": null,
   "id": "65344173",
   "metadata": {},
   "outputs": [],
   "source": []
  },
  {
   "cell_type": "code",
   "execution_count": null,
   "id": "60b13033",
   "metadata": {},
   "outputs": [],
   "source": []
  },
  {
   "cell_type": "markdown",
   "id": "e5a77183",
   "metadata": {},
   "source": [
    "# Validation"
   ]
  },
  {
   "cell_type": "code",
   "execution_count": 8,
   "id": "52b3d5a7",
   "metadata": {},
   "outputs": [
    {
     "name": "stdout",
     "output_type": "stream",
     "text": [
      "['carts_rate_in_clicks', 'clicks_rate_in_orders', 'session_clicks_count', 'session_orders_count', 'type', 'clicks_count', 'action_num_reverse_chrono', 'type_weighted_log_recency_score', 'clicks_rate_in_carts', 'carts_count', 'ts_day', 'session_length', 'orders_rate_in_clicks', 'orders_rate_in_carts', 'carts_rate_in_orders', 'orders_count', 'log_recency_score', 'session_carts_count', 'session_unknow_count']\n"
     ]
    },
    {
     "name": "stderr",
     "output_type": "stream",
     "text": [
      "\r",
      "  0%|                                                                                                                         | 0/5 [00:00<?, ?it/s]"
     ]
    },
    {
     "name": "stdout",
     "output_type": "stream",
     "text": [
      "---- processer start ----\n",
      "---- processer start ----\n",
      "---- processer start ----\n",
      "---- processer start ----\n",
      "---- processer complete ----\n",
      "---- processer complete ----\n",
      "---- processer complete ----\n",
      "---- processer complete ----\n",
      "--- batch complete ---\n"
     ]
    },
    {
     "name": "stderr",
     "output_type": "stream",
     "text": [
      "  0%|                                                                                                                         | 0/5 [09:57<?, ?it/s]\n"
     ]
    },
    {
     "name": "stdout",
     "output_type": "stream",
     "text": [
      "carts Recall: 0.05789738660808275\n",
      "n_estimators=600 get None\n"
     ]
    },
    {
     "name": "stderr",
     "output_type": "stream",
     "text": [
      "\r",
      "  0%|                                                                                                                         | 0/5 [00:00<?, ?it/s]"
     ]
    },
    {
     "name": "stdout",
     "output_type": "stream",
     "text": [
      "---- processer start ----\n",
      "---- processer start ----\n",
      "---- processer start ----\n",
      "---- processer start ----\n",
      "---- processer complete ----\n",
      "---- processer complete ----\n",
      "---- processer complete ----\n",
      "---- processer complete ----\n",
      "--- batch complete ---\n"
     ]
    },
    {
     "name": "stderr",
     "output_type": "stream",
     "text": [
      "  0%|                                                                                                                         | 0/5 [16:15<?, ?it/s]\n"
     ]
    },
    {
     "name": "stdout",
     "output_type": "stream",
     "text": [
      "carts Recall: 0.0576914275252872\n",
      "n_estimators=550 get None\n"
     ]
    },
    {
     "name": "stderr",
     "output_type": "stream",
     "text": [
      "\r",
      "  0%|                                                                                                                         | 0/5 [00:00<?, ?it/s]"
     ]
    },
    {
     "name": "stdout",
     "output_type": "stream",
     "text": [
      "---- processer start ----\n",
      "---- processer start ----\n",
      "---- processer start ----\n",
      "---- processer start ----\n",
      "---- processer complete ----\n",
      "---- processer complete ----\n",
      "---- processer complete ----\n",
      "---- processer complete ----\n",
      "--- batch complete ---\n"
     ]
    },
    {
     "name": "stderr",
     "output_type": "stream",
     "text": [
      "  0%|                                                                                                                         | 0/5 [13:35<?, ?it/s]\n"
     ]
    },
    {
     "name": "stdout",
     "output_type": "stream",
     "text": [
      "carts Recall: 0.0602163333180771\n",
      "n_estimators=500 get None\n"
     ]
    },
    {
     "name": "stderr",
     "output_type": "stream",
     "text": [
      "\r",
      "  0%|                                                                                                                         | 0/5 [00:00<?, ?it/s]"
     ]
    },
    {
     "name": "stdout",
     "output_type": "stream",
     "text": [
      "---- processer start ----\n",
      "---- processer start ----\n",
      "---- processer start ----\n",
      "---- processer start ----\n",
      "---- processer complete ----\n",
      "---- processer complete ----\n",
      "---- processer complete ----\n",
      "---- processer complete ----\n",
      "--- batch complete ---\n"
     ]
    },
    {
     "name": "stderr",
     "output_type": "stream",
     "text": [
      "  0%|                                                                                                                         | 0/5 [12:10<?, ?it/s]\n"
     ]
    },
    {
     "name": "stdout",
     "output_type": "stream",
     "text": [
      "carts Recall: 0.06284040459517598\n",
      "n_estimators=450 get None\n"
     ]
    },
    {
     "name": "stderr",
     "output_type": "stream",
     "text": [
      "\r",
      "  0%|                                                                                                                         | 0/5 [00:00<?, ?it/s]"
     ]
    },
    {
     "name": "stdout",
     "output_type": "stream",
     "text": [
      "---- processer start ----\n",
      "---- processer start ----\n",
      "---- processer start ----\n",
      "---- processer start ----\n",
      "---- processer complete ----\n",
      "---- processer complete ----\n",
      "---- processer complete ----\n",
      "---- processer complete ----\n",
      "--- batch complete ---\n"
     ]
    },
    {
     "name": "stderr",
     "output_type": "stream",
     "text": [
      "\r",
      "  0%|                                                                                                                         | 0/5 [09:37<?, ?it/s]"
     ]
    },
    {
     "name": "stdout",
     "output_type": "stream",
     "text": [
      "carts Recall: 0.062375089630341586\n",
      "n_estimators=400 get None\n"
     ]
    },
    {
     "name": "stderr",
     "output_type": "stream",
     "text": [
      "\n",
      "  0%|                                                                                                                         | 0/5 [00:00<?, ?it/s]"
     ]
    },
    {
     "name": "stdout",
     "output_type": "stream",
     "text": [
      "---- processer start ----\n",
      "---- processer start ----\n",
      "---- processer start ----\n",
      "---- processer start ----\n",
      "---- processer complete ----\n",
      "---- processer complete ----\n",
      "---- processer complete ----\n",
      "---- processer complete ----\n",
      "--- batch complete ---\n"
     ]
    },
    {
     "name": "stderr",
     "output_type": "stream",
     "text": [
      "  0%|                                                                                                                         | 0/5 [09:35<?, ?it/s]\n"
     ]
    },
    {
     "name": "stdout",
     "output_type": "stream",
     "text": [
      "carts Recall: 0.05258059102628648\n",
      "n_estimators=350 get None\n"
     ]
    },
    {
     "name": "stderr",
     "output_type": "stream",
     "text": [
      "\r",
      "  0%|                                                                                                                         | 0/5 [00:00<?, ?it/s]"
     ]
    },
    {
     "name": "stdout",
     "output_type": "stream",
     "text": [
      "---- processer start ----\n",
      "---- processer start ----\n",
      "---- processer start ----\n",
      "---- processer start ----\n",
      "---- processer complete ----\n",
      "---- processer complete ----\n",
      "---- processer complete ----\n",
      "---- processer complete ----\n",
      "--- batch complete ---\n"
     ]
    },
    {
     "name": "stderr",
     "output_type": "stream",
     "text": [
      "  0%|                                                                                                                         | 0/5 [09:33<?, ?it/s]\n"
     ]
    },
    {
     "name": "stdout",
     "output_type": "stream",
     "text": [
      "carts Recall: 0.05289334370756862\n",
      "n_estimators=300 get None\n"
     ]
    },
    {
     "name": "stderr",
     "output_type": "stream",
     "text": [
      "\r",
      "  0%|                                                                                                                         | 0/5 [00:00<?, ?it/s]"
     ]
    },
    {
     "name": "stdout",
     "output_type": "stream",
     "text": [
      "---- processer start ----\n",
      "---- processer start ----\n",
      "---- processer start ----\n",
      "---- processer start ----\n",
      "---- processer complete ----\n",
      "---- processer complete ----\n",
      "---- processer complete ----\n",
      "---- processer complete ----\n",
      "--- batch complete ---\n"
     ]
    },
    {
     "name": "stderr",
     "output_type": "stream",
     "text": [
      "\r",
      "  0%|                                                                                                                         | 0/5 [09:31<?, ?it/s]"
     ]
    },
    {
     "name": "stdout",
     "output_type": "stream",
     "text": [
      "carts Recall: 0.05556318366973317\n",
      "n_estimators=250 get None\n"
     ]
    },
    {
     "name": "stderr",
     "output_type": "stream",
     "text": [
      "\n",
      "  0%|                                                                                                                         | 0/5 [00:00<?, ?it/s]"
     ]
    },
    {
     "name": "stdout",
     "output_type": "stream",
     "text": [
      "---- processer start ----\n",
      "---- processer start ----\n",
      "---- processer start ----\n",
      "---- processer start ----\n",
      "---- processer complete ----\n",
      "---- processer complete ----\n",
      "---- processer complete ----\n",
      "---- processer complete ----\n",
      "--- batch complete ---\n"
     ]
    },
    {
     "name": "stderr",
     "output_type": "stream",
     "text": [
      "\r",
      "  0%|                                                                                                                         | 0/5 [09:28<?, ?it/s]"
     ]
    },
    {
     "name": "stdout",
     "output_type": "stream",
     "text": [
      "carts Recall: 0.09142294841869193\n",
      "n_estimators=200 get None\n"
     ]
    },
    {
     "name": "stderr",
     "output_type": "stream",
     "text": [
      "\n",
      "  0%|                                                                                                                         | 0/5 [00:00<?, ?it/s]"
     ]
    },
    {
     "name": "stdout",
     "output_type": "stream",
     "text": [
      "---- processer start ----\n",
      "---- processer start ----\n",
      "---- processer start ----\n",
      "---- processer start ----\n",
      "---- processer complete ----\n",
      "---- processer complete ----\n",
      "---- processer complete ----\n",
      "---- processer complete ----\n",
      "--- batch complete ---\n"
     ]
    },
    {
     "name": "stderr",
     "output_type": "stream",
     "text": [
      "  0%|                                                                                                                         | 0/5 [09:22<?, ?it/s]\n"
     ]
    },
    {
     "name": "stdout",
     "output_type": "stream",
     "text": [
      "carts Recall: 0.09294094314003692\n",
      "n_estimators=150 get None\n"
     ]
    },
    {
     "name": "stderr",
     "output_type": "stream",
     "text": [
      "\r",
      "  0%|                                                                                                                         | 0/5 [00:00<?, ?it/s]"
     ]
    },
    {
     "name": "stdout",
     "output_type": "stream",
     "text": [
      "---- processer start ----\n",
      "---- processer start ----\n",
      "---- processer start ----\n",
      "---- processer start ----\n",
      "---- processer complete ----\n",
      "---- processer complete ----\n",
      "---- processer complete ----\n",
      "---- processer complete ----\n",
      "--- batch complete ---\n"
     ]
    },
    {
     "name": "stderr",
     "output_type": "stream",
     "text": [
      "  0%|                                                                                                                         | 0/5 [09:17<?, ?it/s]\n"
     ]
    },
    {
     "name": "stdout",
     "output_type": "stream",
     "text": [
      "carts Recall: 0.036698857308496195\n",
      "n_estimators=100 get None\n"
     ]
    },
    {
     "name": "stderr",
     "output_type": "stream",
     "text": [
      "\r",
      "  0%|                                                                                                                         | 0/5 [00:00<?, ?it/s]"
     ]
    },
    {
     "name": "stdout",
     "output_type": "stream",
     "text": [
      "---- processer start ----\n",
      "---- processer start ----\n",
      "---- processer start ----\n",
      "---- processer start ----\n",
      "---- processer complete ----\n",
      "---- processer complete ----\n",
      "---- processer complete ----\n",
      "---- processer complete ----\n",
      "--- batch complete ---\n"
     ]
    },
    {
     "name": "stderr",
     "output_type": "stream",
     "text": [
      "\r",
      "  0%|                                                                                                                         | 0/5 [09:13<?, ?it/s]"
     ]
    },
    {
     "name": "stdout",
     "output_type": "stream",
     "text": [
      "carts Recall: 0.08127755656246663\n",
      "n_estimators=50 get None\n",
      "CPU times: user 39min 6s, sys: 2min 26s, total: 41min 33s\n",
      "Wall time: 2h 7min 41s\n"
     ]
    },
    {
     "name": "stderr",
     "output_type": "stream",
     "text": [
      "\n"
     ]
    }
   ],
   "source": [
    "%%time\n",
    "\n",
    "# ranker = joblib.load(\"carts_xgbranker_1.m\")\n",
    "\n",
    "# FEATURE_COL = list(ranker.feature_names_in_)\n",
    "with open(\"FEATURE_COL.txt\", \"r\") as f:\n",
    "    FEATURE_COL = f.read().splitlines()\n",
    "    \n",
    "print(FEATURE_COL)\n",
    "\n",
    "\n",
    "def parallel_run(func, df_list):\n",
    "    cores_num = min([CORES_NUM, len(df_list), BATCH])\n",
    "    pool = Pool(cores_num)\n",
    "    df_list = pool.map(func, df_list)\n",
    "    print(\"--- batch complete ---\")\n",
    "    pool.close()\n",
    "    pool.join()\n",
    "    return df_list\n",
    "\n",
    "\n",
    "def validate(df_valid, scope=None):\n",
    "    if scope is None:\n",
    "#         scope = [\"clicks\", \"carts\", \"orders\"]\n",
    "            scope = [\"carts\"]\n",
    "    label = pd.read_parquet(os.path.join(DATASET_PATH, \"otto-validation/test_labels.parquet\"))\n",
    "    df_valid = df_valid.merge(label, on=[\"session\", \"type\"])\n",
    "    df_valid[\"hits\"] = df_valid.apply(lambda df: len(set(df.ground_truth).intersection(set(df.aid))), axis=1)\n",
    "    df_valid['gt_count'] = df_valid.ground_truth.str.len().clip(0,20)\n",
    "    recall = 0\n",
    "    weights = {'clicks': 0.10, 'carts': 0.30, 'orders': 0.60}\n",
    "    for s in scope:\n",
    "        df = df_valid[df_valid[\"type\"]==s]\n",
    "        recall_s = df[\"hits\"].sum() / df['gt_count'].sum()\n",
    "        print(f\"{s} Recall: {recall_s}\")\n",
    "        recall += recall_s*weights[s]\n",
    "#     print(\"\")\n",
    "#     print(f\"CV Recall: {recall}\")\n",
    "    return \n",
    "\n",
    "\n",
    "def processer(df_item):\n",
    "    print(\"---- processer start ----\")\n",
    "    for p in pipeline:\n",
    "        df_item = p(df_item)\n",
    "    print(\"---- processer complete ----\")\n",
    "    return df_item\n",
    "\n",
    "\n",
    "BATCH = 4\n",
    "\n",
    "for n_estimators in n_estimators_candidates[::-1]:\n",
    "    ranker = joblib.load(f\"carts_xgbranker_{n_estimators}.m\")\n",
    "    df_valid = None\n",
    "    for i in tqdm(range(0, len(valid_pickle), BATCH)):\n",
    "    #     df = pd.concat([pd.read_pickle(_) for _ in valid_pickle[i:i+BATCH]]).reset_index(drop=True)\n",
    "        df = [pd.read_pickle(_) for _ in valid_pickle[i:i+BATCH]]\n",
    "        df = parallel_run(processer, df)\n",
    "    #     df = processer(df)\n",
    "    #     print(type(df))\n",
    "        df = pd.concat(df)\n",
    "        df[\"score\"] = ranker.predict(df[FEATURE_COL])\n",
    "        df = df.sort_values(by=['session', 'score'], ascending=False)[['session', 'aid']].reset_index(drop=True)\n",
    "        df = df.groupby('session').head(20).groupby('session').agg(list).reset_index(drop=False)\n",
    "        df[\"type\"] = \"carts\"\n",
    "        if df_valid is None:\n",
    "            df_valid = df\n",
    "        else:\n",
    "            df_valid = pd.concat([df_valid, df])\n",
    "        print(f\"n_estimators={n_estimators} get {validate(df_valid, ['carts'])}\")\n",
    "        break\n",
    "\n",
    "#     validate(df_valid, [\"carts\"])"
   ]
  },
  {
   "cell_type": "code",
   "execution_count": 17,
   "id": "c09ec44c",
   "metadata": {},
   "outputs": [],
   "source": [
    "FEATURE_COL = list(ranker.feature_names_in_)"
   ]
  },
  {
   "cell_type": "code",
   "execution_count": null,
   "id": "860b1ee0",
   "metadata": {},
   "outputs": [],
   "source": []
  },
  {
   "cell_type": "code",
   "execution_count": null,
   "id": "dda81583",
   "metadata": {},
   "outputs": [],
   "source": []
  },
  {
   "cell_type": "code",
   "execution_count": null,
   "id": "73f4243d",
   "metadata": {},
   "outputs": [],
   "source": []
  },
  {
   "cell_type": "markdown",
   "id": "7d0cc442",
   "metadata": {},
   "source": [
    "# Inference"
   ]
  },
  {
   "cell_type": "code",
   "execution_count": 15,
   "id": "b23c0bbd",
   "metadata": {},
   "outputs": [],
   "source": [
    "# ranker = joblib.load(\"carts_xgbranker_1.m\")"
   ]
  },
  {
   "cell_type": "code",
   "execution_count": 16,
   "id": "9e49ce3a",
   "metadata": {},
   "outputs": [
    {
     "name": "stderr",
     "output_type": "stream",
     "text": [
      "\r",
      "  0%|                                                                                                                                              | 0/5 [00:00<?, ?it/s]"
     ]
    },
    {
     "name": "stdout",
     "output_type": "stream",
     "text": [
      "--- batch complete ---\n"
     ]
    },
    {
     "name": "stderr",
     "output_type": "stream",
     "text": [
      "\r",
      " 20%|██████████████████████████▌                                                                                                          | 1/5 [09:11<36:45, 551.41s/it]"
     ]
    },
    {
     "name": "stdout",
     "output_type": "stream",
     "text": [
      "--- batch complete ---\n"
     ]
    },
    {
     "name": "stderr",
     "output_type": "stream",
     "text": [
      "\r",
      " 40%|█████████████████████████████████████████████████████▏                                                                               | 2/5 [18:17<27:24, 548.17s/it]"
     ]
    },
    {
     "name": "stdout",
     "output_type": "stream",
     "text": [
      "--- batch complete ---\n"
     ]
    },
    {
     "name": "stderr",
     "output_type": "stream",
     "text": [
      "\r",
      " 60%|███████████████████████████████████████████████████████████████████████████████▊                                                     | 3/5 [27:53<18:41, 560.84s/it]"
     ]
    },
    {
     "name": "stdout",
     "output_type": "stream",
     "text": [
      "--- batch complete ---\n"
     ]
    },
    {
     "name": "stderr",
     "output_type": "stream",
     "text": [
      "\r",
      " 80%|██████████████████████████████████████████████████████████████████████████████████████████████████████████▍                          | 4/5 [38:04<09:40, 580.69s/it]"
     ]
    },
    {
     "name": "stdout",
     "output_type": "stream",
     "text": [
      "--- batch complete ---\n"
     ]
    },
    {
     "name": "stderr",
     "output_type": "stream",
     "text": [
      "100%|█████████████████████████████████████████████████████████████████████████████████████████████████████████████████████████████████████| 5/5 [52:43<00:00, 632.71s/it]"
     ]
    },
    {
     "name": "stdout",
     "output_type": "stream",
     "text": [
      "CPU times: user 8min 41s, sys: 3min 8s, total: 11min 49s\n",
      "Wall time: 52min 43s\n"
     ]
    },
    {
     "name": "stderr",
     "output_type": "stream",
     "text": [
      "\n"
     ]
    },
    {
     "data": {
      "text/html": [
       "<div>\n",
       "<style scoped>\n",
       "    .dataframe tbody tr th:only-of-type {\n",
       "        vertical-align: middle;\n",
       "    }\n",
       "\n",
       "    .dataframe tbody tr th {\n",
       "        vertical-align: top;\n",
       "    }\n",
       "\n",
       "    .dataframe thead th {\n",
       "        text-align: right;\n",
       "    }\n",
       "</style>\n",
       "<table border=\"1\" class=\"dataframe\">\n",
       "  <thead>\n",
       "    <tr style=\"text-align: right;\">\n",
       "      <th></th>\n",
       "      <th>session</th>\n",
       "      <th>aid</th>\n",
       "    </tr>\n",
       "  </thead>\n",
       "  <tbody>\n",
       "    <tr>\n",
       "      <th>0</th>\n",
       "      <td>12899779</td>\n",
       "      <td>[59625, 469285, 1493965, 438191, 731692, 73744...</td>\n",
       "    </tr>\n",
       "    <tr>\n",
       "      <th>1</th>\n",
       "      <td>12899780</td>\n",
       "      <td>[1142000, 1142000, 736515, 973453, 582732, 150...</td>\n",
       "    </tr>\n",
       "    <tr>\n",
       "      <th>2</th>\n",
       "      <td>12899781</td>\n",
       "      <td>[918667, 199008, 199008, 199008, 199008, 19900...</td>\n",
       "    </tr>\n",
       "    <tr>\n",
       "      <th>3</th>\n",
       "      <td>12899782</td>\n",
       "      <td>[1007613, 595994, 1033148, 834354, 834354, 834...</td>\n",
       "    </tr>\n",
       "    <tr>\n",
       "      <th>4</th>\n",
       "      <td>12899783</td>\n",
       "      <td>[1817895, 607638, 1754419, 1216820, 1729553, 3...</td>\n",
       "    </tr>\n",
       "    <tr>\n",
       "      <th>...</th>\n",
       "      <td>...</td>\n",
       "      <td>...</td>\n",
       "    </tr>\n",
       "    <tr>\n",
       "      <th>1671798</th>\n",
       "      <td>13899774</td>\n",
       "      <td>[393555, 868822, 1383522, 321393, 575971, 4058...</td>\n",
       "    </tr>\n",
       "    <tr>\n",
       "      <th>1671799</th>\n",
       "      <td>13899775</td>\n",
       "      <td>[182882, 943641, 146605, 292423, 1217686, 1116...</td>\n",
       "    </tr>\n",
       "    <tr>\n",
       "      <th>1671800</th>\n",
       "      <td>13899776</td>\n",
       "      <td>[1236234, 1236234, 688174, 578577, 799127, 947...</td>\n",
       "    </tr>\n",
       "    <tr>\n",
       "      <th>1671801</th>\n",
       "      <td>13899777</td>\n",
       "      <td>[1382226, 1150166, 259263, 1556931, 434028, 53...</td>\n",
       "    </tr>\n",
       "    <tr>\n",
       "      <th>1671802</th>\n",
       "      <td>13899778</td>\n",
       "      <td>[1855243, 2113, 1585710, 1585710, 1299586, 158...</td>\n",
       "    </tr>\n",
       "  </tbody>\n",
       "</table>\n",
       "<p>1671803 rows × 2 columns</p>\n",
       "</div>"
      ],
      "text/plain": [
       "          session                                                aid\n",
       "0        12899779  [59625, 469285, 1493965, 438191, 731692, 73744...\n",
       "1        12899780  [1142000, 1142000, 736515, 973453, 582732, 150...\n",
       "2        12899781  [918667, 199008, 199008, 199008, 199008, 19900...\n",
       "3        12899782  [1007613, 595994, 1033148, 834354, 834354, 834...\n",
       "4        12899783  [1817895, 607638, 1754419, 1216820, 1729553, 3...\n",
       "...           ...                                                ...\n",
       "1671798  13899774  [393555, 868822, 1383522, 321393, 575971, 4058...\n",
       "1671799  13899775  [182882, 943641, 146605, 292423, 1217686, 1116...\n",
       "1671800  13899776  [1236234, 1236234, 688174, 578577, 799127, 947...\n",
       "1671801  13899777  [1382226, 1150166, 259263, 1556931, 434028, 53...\n",
       "1671802  13899778  [1855243, 2113, 1585710, 1585710, 1299586, 158...\n",
       "\n",
       "[1671803 rows x 2 columns]"
      ]
     },
     "execution_count": 16,
     "metadata": {},
     "output_type": "execute_result"
    }
   ],
   "source": [
    "%%time\n",
    "\n",
    "test_data_path = sorted(glob.glob(\"../data/input/otto-test-chunk-candidates-top100/test_chunk_data/test_chunk_data/*_candidates.pkl\"))\n",
    "\n",
    "# df_test = pd.read_pickle(os.path.join(DATASET_PATH, \"feature/candidate_comatrix_exploded_details.pkl\"))\n",
    "\n",
    "def parallel_run(func, df_list):\n",
    "    cores_num = min([CORES_NUM, len(df_list), BATCH])\n",
    "    pool = Pool(cores_num)\n",
    "    df_list = pool.map(func, df_list)\n",
    "    print(\"--- batch complete ---\")\n",
    "    pool.close()\n",
    "    pool.join()\n",
    "    return df_list\n",
    "\n",
    "\n",
    "def test_processer(df_item):\n",
    "    for p in pipeline:\n",
    "        df_item = p(df_item)\n",
    "    return df_item\n",
    "\n",
    "\n",
    "BATCH_SIZE = 4\n",
    "\n",
    "df_test = None\n",
    "for i in tqdm(range(0, len(test_data_path), BATCH_SIZE)) :\n",
    "#     df = pd.read_pickle(i)\n",
    "    df = [pd.read_pickle(_) for _ in test_data_path[i:i+BATCH_SIZE]]\n",
    "    df = parallel_run(test_processer, df)\n",
    "    df = pd.concat(df)\n",
    "    df[\"score\"] = ranker.predict(df[FEATURE_COL])\n",
    "    df = df.sort_values(by=['session', 'score'], ascending=False)[['session', 'aid']].reset_index(drop=True)\n",
    "    df = df.groupby('session').head(20).groupby('session').agg(list).reset_index(drop=False)\n",
    "    if df_test is None:\n",
    "        df_test = df\n",
    "    else:\n",
    "        df_test = pd.concat([df_test, df])\n",
    "        \n",
    "        \n",
    "df_test = df_test.reset_index(drop=True)\n",
    "df_test"
   ]
  },
  {
   "cell_type": "code",
   "execution_count": 17,
   "id": "9d321317",
   "metadata": {},
   "outputs": [
    {
     "data": {
      "text/html": [
       "<div>\n",
       "<style scoped>\n",
       "    .dataframe tbody tr th:only-of-type {\n",
       "        vertical-align: middle;\n",
       "    }\n",
       "\n",
       "    .dataframe tbody tr th {\n",
       "        vertical-align: top;\n",
       "    }\n",
       "\n",
       "    .dataframe thead th {\n",
       "        text-align: right;\n",
       "    }\n",
       "</style>\n",
       "<table border=\"1\" class=\"dataframe\">\n",
       "  <thead>\n",
       "    <tr style=\"text-align: right;\">\n",
       "      <th></th>\n",
       "      <th>session_type</th>\n",
       "      <th>labels</th>\n",
       "    </tr>\n",
       "  </thead>\n",
       "  <tbody>\n",
       "    <tr>\n",
       "      <th>0</th>\n",
       "      <td>12899779_carts</td>\n",
       "      <td>[59625, 469285, 1493965, 438191, 731692, 73744...</td>\n",
       "    </tr>\n",
       "    <tr>\n",
       "      <th>1</th>\n",
       "      <td>12899780_carts</td>\n",
       "      <td>[1142000, 1142000, 736515, 973453, 582732, 150...</td>\n",
       "    </tr>\n",
       "    <tr>\n",
       "      <th>2</th>\n",
       "      <td>12899781_carts</td>\n",
       "      <td>[918667, 199008, 199008, 199008, 199008, 19900...</td>\n",
       "    </tr>\n",
       "    <tr>\n",
       "      <th>3</th>\n",
       "      <td>12899782_carts</td>\n",
       "      <td>[1007613, 595994, 1033148, 834354, 834354, 834...</td>\n",
       "    </tr>\n",
       "    <tr>\n",
       "      <th>4</th>\n",
       "      <td>12899783_carts</td>\n",
       "      <td>[1817895, 607638, 1754419, 1216820, 1729553, 3...</td>\n",
       "    </tr>\n",
       "    <tr>\n",
       "      <th>...</th>\n",
       "      <td>...</td>\n",
       "      <td>...</td>\n",
       "    </tr>\n",
       "    <tr>\n",
       "      <th>1671798</th>\n",
       "      <td>13899774_carts</td>\n",
       "      <td>[393555, 868822, 1383522, 321393, 575971, 4058...</td>\n",
       "    </tr>\n",
       "    <tr>\n",
       "      <th>1671799</th>\n",
       "      <td>13899775_carts</td>\n",
       "      <td>[182882, 943641, 146605, 292423, 1217686, 1116...</td>\n",
       "    </tr>\n",
       "    <tr>\n",
       "      <th>1671800</th>\n",
       "      <td>13899776_carts</td>\n",
       "      <td>[1236234, 1236234, 688174, 578577, 799127, 947...</td>\n",
       "    </tr>\n",
       "    <tr>\n",
       "      <th>1671801</th>\n",
       "      <td>13899777_carts</td>\n",
       "      <td>[1382226, 1150166, 259263, 1556931, 434028, 53...</td>\n",
       "    </tr>\n",
       "    <tr>\n",
       "      <th>1671802</th>\n",
       "      <td>13899778_carts</td>\n",
       "      <td>[1855243, 2113, 1585710, 1585710, 1299586, 158...</td>\n",
       "    </tr>\n",
       "  </tbody>\n",
       "</table>\n",
       "<p>1671803 rows × 2 columns</p>\n",
       "</div>"
      ],
      "text/plain": [
       "           session_type                                             labels\n",
       "0        12899779_carts  [59625, 469285, 1493965, 438191, 731692, 73744...\n",
       "1        12899780_carts  [1142000, 1142000, 736515, 973453, 582732, 150...\n",
       "2        12899781_carts  [918667, 199008, 199008, 199008, 199008, 19900...\n",
       "3        12899782_carts  [1007613, 595994, 1033148, 834354, 834354, 834...\n",
       "4        12899783_carts  [1817895, 607638, 1754419, 1216820, 1729553, 3...\n",
       "...                 ...                                                ...\n",
       "1671798  13899774_carts  [393555, 868822, 1383522, 321393, 575971, 4058...\n",
       "1671799  13899775_carts  [182882, 943641, 146605, 292423, 1217686, 1116...\n",
       "1671800  13899776_carts  [1236234, 1236234, 688174, 578577, 799127, 947...\n",
       "1671801  13899777_carts  [1382226, 1150166, 259263, 1556931, 434028, 53...\n",
       "1671802  13899778_carts  [1855243, 2113, 1585710, 1585710, 1299586, 158...\n",
       "\n",
       "[1671803 rows x 2 columns]"
      ]
     },
     "execution_count": 17,
     "metadata": {},
     "output_type": "execute_result"
    }
   ],
   "source": [
    "df_test[\"session_type\"] = df_test[\"session\"].apply(lambda x: str(x)+\"_carts\")\n",
    "df_test = df_test.rename({\"aid\": \"labels\"}, axis=1)[[\"session_type\", \"labels\"]]\n",
    "df_test"
   ]
  },
  {
   "cell_type": "code",
   "execution_count": 18,
   "id": "02606440",
   "metadata": {},
   "outputs": [
    {
     "data": {
      "text/html": [
       "<div>\n",
       "<style scoped>\n",
       "    .dataframe tbody tr th:only-of-type {\n",
       "        vertical-align: middle;\n",
       "    }\n",
       "\n",
       "    .dataframe tbody tr th {\n",
       "        vertical-align: top;\n",
       "    }\n",
       "\n",
       "    .dataframe thead th {\n",
       "        text-align: right;\n",
       "    }\n",
       "</style>\n",
       "<table border=\"1\" class=\"dataframe\">\n",
       "  <thead>\n",
       "    <tr style=\"text-align: right;\">\n",
       "      <th></th>\n",
       "      <th>session_type</th>\n",
       "      <th>labels</th>\n",
       "    </tr>\n",
       "  </thead>\n",
       "  <tbody>\n",
       "    <tr>\n",
       "      <th>0</th>\n",
       "      <td>12899779_carts</td>\n",
       "      <td>59625 469285 1493965 438191 731692 737445 1253...</td>\n",
       "    </tr>\n",
       "    <tr>\n",
       "      <th>1</th>\n",
       "      <td>12899780_carts</td>\n",
       "      <td>1142000 1142000 736515 973453 582732 1502122 4...</td>\n",
       "    </tr>\n",
       "    <tr>\n",
       "      <th>2</th>\n",
       "      <td>12899781_carts</td>\n",
       "      <td>918667 199008 199008 199008 199008 199008 1990...</td>\n",
       "    </tr>\n",
       "    <tr>\n",
       "      <th>3</th>\n",
       "      <td>12899782_carts</td>\n",
       "      <td>1007613 595994 1033148 834354 834354 834354 83...</td>\n",
       "    </tr>\n",
       "    <tr>\n",
       "      <th>4</th>\n",
       "      <td>12899783_carts</td>\n",
       "      <td>1817895 607638 1754419 1216820 1729553 300127 ...</td>\n",
       "    </tr>\n",
       "    <tr>\n",
       "      <th>...</th>\n",
       "      <td>...</td>\n",
       "      <td>...</td>\n",
       "    </tr>\n",
       "    <tr>\n",
       "      <th>1671798</th>\n",
       "      <td>13899774_carts</td>\n",
       "      <td>393555 868822 1383522 321393 575971 405819 126...</td>\n",
       "    </tr>\n",
       "    <tr>\n",
       "      <th>1671799</th>\n",
       "      <td>13899775_carts</td>\n",
       "      <td>182882 943641 146605 292423 1217686 1116425 30...</td>\n",
       "    </tr>\n",
       "    <tr>\n",
       "      <th>1671800</th>\n",
       "      <td>13899776_carts</td>\n",
       "      <td>1236234 1236234 688174 578577 799127 947126 90...</td>\n",
       "    </tr>\n",
       "    <tr>\n",
       "      <th>1671801</th>\n",
       "      <td>13899777_carts</td>\n",
       "      <td>1382226 1150166 259263 1556931 434028 534366 5...</td>\n",
       "    </tr>\n",
       "    <tr>\n",
       "      <th>1671802</th>\n",
       "      <td>13899778_carts</td>\n",
       "      <td>1855243 2113 1585710 1585710 1299586 1582522 6...</td>\n",
       "    </tr>\n",
       "  </tbody>\n",
       "</table>\n",
       "<p>1671803 rows × 2 columns</p>\n",
       "</div>"
      ],
      "text/plain": [
       "           session_type                                             labels\n",
       "0        12899779_carts  59625 469285 1493965 438191 731692 737445 1253...\n",
       "1        12899780_carts  1142000 1142000 736515 973453 582732 1502122 4...\n",
       "2        12899781_carts  918667 199008 199008 199008 199008 199008 1990...\n",
       "3        12899782_carts  1007613 595994 1033148 834354 834354 834354 83...\n",
       "4        12899783_carts  1817895 607638 1754419 1216820 1729553 300127 ...\n",
       "...                 ...                                                ...\n",
       "1671798  13899774_carts  393555 868822 1383522 321393 575971 405819 126...\n",
       "1671799  13899775_carts  182882 943641 146605 292423 1217686 1116425 30...\n",
       "1671800  13899776_carts  1236234 1236234 688174 578577 799127 947126 90...\n",
       "1671801  13899777_carts  1382226 1150166 259263 1556931 434028 534366 5...\n",
       "1671802  13899778_carts  1855243 2113 1585710 1585710 1299586 1582522 6...\n",
       "\n",
       "[1671803 rows x 2 columns]"
      ]
     },
     "execution_count": 18,
     "metadata": {},
     "output_type": "execute_result"
    }
   ],
   "source": [
    "# df_carts_top50 = pd.read_pickle(os.path.join(DATASET_PATH, \"feature/carts_top50.pkl\"))\n",
    "# carts_top50 = df_carts_top50[\"aid\"].tolist()\n",
    "\n",
    "# def func(x):\n",
    "#     if len(x) < 20:\n",
    "#         n = 20 - len(x)\n",
    "#         x = x + carts_top50[:n]\n",
    "#     return x\n",
    "\n",
    "# df_test[\"labels\"] = df_test[\"labels\"].apply(func)\n",
    "df_test[\"labels\"] = df_test[\"labels\"].apply(lambda x: \" \".join([str(_) for _ in x]))\n",
    "df_test"
   ]
  },
  {
   "cell_type": "code",
   "execution_count": 19,
   "id": "fc3fc101",
   "metadata": {},
   "outputs": [],
   "source": [
    "df_submission = pd.read_csv(\"../data/output/submission_578.csv\")\n",
    "df_submission = df_submission[~df_submission.session_type.str.contains(\"_carts$\")]\n",
    "df_submission = pd.concat([df_test, df_submission])\n",
    "df_submission.to_csv(\"../data/output/submission_optim_carts.csv\", index=False)"
   ]
  },
  {
   "cell_type": "code",
   "execution_count": 16,
   "id": "2e20555d",
   "metadata": {},
   "outputs": [
    {
     "data": {
      "text/html": [
       "<div>\n",
       "<style scoped>\n",
       "    .dataframe tbody tr th:only-of-type {\n",
       "        vertical-align: middle;\n",
       "    }\n",
       "\n",
       "    .dataframe tbody tr th {\n",
       "        vertical-align: top;\n",
       "    }\n",
       "\n",
       "    .dataframe thead th {\n",
       "        text-align: right;\n",
       "    }\n",
       "</style>\n",
       "<table border=\"1\" class=\"dataframe\">\n",
       "  <thead>\n",
       "    <tr style=\"text-align: right;\">\n",
       "      <th></th>\n",
       "      <th>session_type</th>\n",
       "      <th>labels</th>\n",
       "    </tr>\n",
       "  </thead>\n",
       "  <tbody>\n",
       "    <tr>\n",
       "      <th>0</th>\n",
       "      <td>12899779_carts</td>\n",
       "      <td>59625 984047 898986 438191 1667087 737445 1825...</td>\n",
       "    </tr>\n",
       "    <tr>\n",
       "      <th>1</th>\n",
       "      <td>12899780_carts</td>\n",
       "      <td>1142000 1502122 973453 1142000 582732 1419849 ...</td>\n",
       "    </tr>\n",
       "    <tr>\n",
       "      <th>2</th>\n",
       "      <td>12899781_carts</td>\n",
       "      <td>199008 918667 3542 199008 518425 199008 129797...</td>\n",
       "    </tr>\n",
       "    <tr>\n",
       "      <th>3</th>\n",
       "      <td>12899782_carts</td>\n",
       "      <td>889671 595994 834354 1007613 127404 987399 740...</td>\n",
       "    </tr>\n",
       "    <tr>\n",
       "      <th>4</th>\n",
       "      <td>12899783_carts</td>\n",
       "      <td>1502122 607638 1754419 1216820 198385 1142000 ...</td>\n",
       "    </tr>\n",
       "    <tr>\n",
       "      <th>...</th>\n",
       "      <td>...</td>\n",
       "      <td>...</td>\n",
       "    </tr>\n",
       "    <tr>\n",
       "      <th>5015404</th>\n",
       "      <td>14362948_orders</td>\n",
       "      <td>44180 1633529 1661189 290775 1734371 441577 13...</td>\n",
       "    </tr>\n",
       "    <tr>\n",
       "      <th>5015405</th>\n",
       "      <td>13525273_clicks</td>\n",
       "      <td>1745620 1068655 223523 1530242 1703143 1314705...</td>\n",
       "    </tr>\n",
       "    <tr>\n",
       "      <th>5015406</th>\n",
       "      <td>13665806_clicks</td>\n",
       "      <td>1402107 426140 1636071 185602 995813 1523231 1...</td>\n",
       "    </tr>\n",
       "    <tr>\n",
       "      <th>5015407</th>\n",
       "      <td>13179133_clicks</td>\n",
       "      <td>1792659 490652 102965 1677119 1375098 284105 1...</td>\n",
       "    </tr>\n",
       "    <tr>\n",
       "      <th>5015408</th>\n",
       "      <td>13974220_clicks</td>\n",
       "      <td>198588 606210 1232533 1099174 1432181 147695 5...</td>\n",
       "    </tr>\n",
       "  </tbody>\n",
       "</table>\n",
       "<p>5015409 rows × 2 columns</p>\n",
       "</div>"
      ],
      "text/plain": [
       "            session_type                                             labels\n",
       "0         12899779_carts  59625 984047 898986 438191 1667087 737445 1825...\n",
       "1         12899780_carts  1142000 1502122 973453 1142000 582732 1419849 ...\n",
       "2         12899781_carts  199008 918667 3542 199008 518425 199008 129797...\n",
       "3         12899782_carts  889671 595994 834354 1007613 127404 987399 740...\n",
       "4         12899783_carts  1502122 607638 1754419 1216820 198385 1142000 ...\n",
       "...                  ...                                                ...\n",
       "5015404  14362948_orders  44180 1633529 1661189 290775 1734371 441577 13...\n",
       "5015405  13525273_clicks  1745620 1068655 223523 1530242 1703143 1314705...\n",
       "5015406  13665806_clicks  1402107 426140 1636071 185602 995813 1523231 1...\n",
       "5015407  13179133_clicks  1792659 490652 102965 1677119 1375098 284105 1...\n",
       "5015408  13974220_clicks  198588 606210 1232533 1099174 1432181 147695 5...\n",
       "\n",
       "[5015409 rows x 2 columns]"
      ]
     },
     "execution_count": 16,
     "metadata": {},
     "output_type": "execute_result"
    }
   ],
   "source": [
    "df_submission"
   ]
  },
  {
   "cell_type": "markdown",
   "id": "8c666b8d",
   "metadata": {},
   "source": [
    "# submission csv must have 5015409 rows"
   ]
  },
  {
   "cell_type": "code",
   "execution_count": null,
   "id": "4713bf37",
   "metadata": {},
   "outputs": [],
   "source": []
  },
  {
   "cell_type": "code",
   "execution_count": null,
   "id": "7baa84a7",
   "metadata": {},
   "outputs": [],
   "source": []
  },
  {
   "cell_type": "code",
   "execution_count": null,
   "id": "e1eaf3c2",
   "metadata": {},
   "outputs": [],
   "source": []
  },
  {
   "cell_type": "code",
   "execution_count": null,
   "id": "3b7bc560",
   "metadata": {},
   "outputs": [],
   "source": []
  },
  {
   "cell_type": "code",
   "execution_count": null,
   "id": "69eb73e4",
   "metadata": {},
   "outputs": [],
   "source": []
  },
  {
   "cell_type": "code",
   "execution_count": null,
   "id": "35f517f5",
   "metadata": {},
   "outputs": [],
   "source": []
  },
  {
   "cell_type": "code",
   "execution_count": null,
   "id": "75bcd55d",
   "metadata": {},
   "outputs": [],
   "source": []
  },
  {
   "cell_type": "code",
   "execution_count": null,
   "id": "9dcae628",
   "metadata": {},
   "outputs": [],
   "source": []
  },
  {
   "cell_type": "code",
   "execution_count": null,
   "id": "42d20624",
   "metadata": {},
   "outputs": [],
   "source": []
  },
  {
   "cell_type": "code",
   "execution_count": null,
   "id": "a7704e4e",
   "metadata": {},
   "outputs": [],
   "source": []
  },
  {
   "cell_type": "code",
   "execution_count": null,
   "id": "cd98da57",
   "metadata": {},
   "outputs": [],
   "source": []
  },
  {
   "cell_type": "code",
   "execution_count": null,
   "id": "4d338fc8",
   "metadata": {},
   "outputs": [],
   "source": []
  },
  {
   "cell_type": "code",
   "execution_count": null,
   "id": "9f9e0c0f",
   "metadata": {},
   "outputs": [],
   "source": []
  },
  {
   "cell_type": "code",
   "execution_count": null,
   "id": "248a1675",
   "metadata": {},
   "outputs": [],
   "source": []
  },
  {
   "cell_type": "code",
   "execution_count": null,
   "id": "b93ab85a",
   "metadata": {},
   "outputs": [],
   "source": []
  },
  {
   "cell_type": "markdown",
   "id": "61043dbd",
   "metadata": {},
   "source": [
    "# Unused Function"
   ]
  },
  {
   "cell_type": "code",
   "execution_count": null,
   "id": "419380fb",
   "metadata": {},
   "outputs": [],
   "source": [
    "def bool_count(df):\n",
    "    df_tmp = df[df[\"label\"]==0].groupby(\"session\").agg({\"aid\": \"count\"}).reset_index().rename({\"aid\": \"negative_count\"}, axis=1)\n",
    "    df = df.merge(df_tmp, on=\"session\", how=\"left\").fillna(0)\n",
    "    df[\"negative_count\"] = df[\"negative_count\"].astype(\"int32\")\n",
    "    df_tmp = df[df[\"label\"]==1].groupby(\"session\").agg({\"aid\": \"count\"}).reset_index().rename({\"aid\": \"postive_count\"}, axis=1)\n",
    "    df = df.merge(df_tmp, on=\"session\", how=\"left\").fillna(0)\n",
    "    df[\"postive_count\"] = df[\"postive_count\"].astype(\"int32\")\n",
    "    return df"
   ]
  },
  {
   "cell_type": "code",
   "execution_count": null,
   "id": "a74b81ab",
   "metadata": {},
   "outputs": [],
   "source": []
  },
  {
   "cell_type": "code",
   "execution_count": null,
   "id": "86aea842",
   "metadata": {},
   "outputs": [],
   "source": []
  },
  {
   "cell_type": "code",
   "execution_count": null,
   "id": "8026beb8",
   "metadata": {},
   "outputs": [],
   "source": []
  },
  {
   "cell_type": "code",
   "execution_count": null,
   "id": "7658d850",
   "metadata": {},
   "outputs": [],
   "source": []
  },
  {
   "cell_type": "code",
   "execution_count": null,
   "id": "edddf008",
   "metadata": {},
   "outputs": [],
   "source": []
  },
  {
   "cell_type": "code",
   "execution_count": null,
   "id": "75ac5139",
   "metadata": {},
   "outputs": [],
   "source": []
  },
  {
   "cell_type": "code",
   "execution_count": null,
   "id": "bde21aa7",
   "metadata": {},
   "outputs": [],
   "source": []
  },
  {
   "cell_type": "code",
   "execution_count": null,
   "id": "030ab4b4",
   "metadata": {},
   "outputs": [],
   "source": []
  }
 ],
 "metadata": {
  "kernelspec": {
   "display_name": "Python 3 (ipykernel)",
   "language": "python",
   "name": "python3"
  },
  "language_info": {
   "codemirror_mode": {
    "name": "ipython",
    "version": 3
   },
   "file_extension": ".py",
   "mimetype": "text/x-python",
   "name": "python",
   "nbconvert_exporter": "python",
   "pygments_lexer": "ipython3",
   "version": "3.8.15"
  }
 },
 "nbformat": 4,
 "nbformat_minor": 5
}
