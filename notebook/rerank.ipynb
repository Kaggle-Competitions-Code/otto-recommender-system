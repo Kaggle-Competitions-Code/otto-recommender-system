{
 "cells": [
  {
   "cell_type": "code",
   "execution_count": 1,
   "id": "cb287cab",
   "metadata": {},
   "outputs": [],
   "source": [
    "import os\n",
    "import time\n",
    "import glob\n",
    "import gc\n",
    "import warnings\n",
    "from multiprocessing import Pool\n",
    "\n",
    "from tqdm import tqdm\n",
    "import pandas as pd\n",
    "import polars as pl\n",
    "import numpy as np\n",
    "import xgboost as xgb\n",
    "# import cudf\n",
    "from sklearn.model_selection import GroupKFold\n",
    "import joblib\n",
    "# from openfe import openfe, transform\n",
    "\n",
    "warnings.filterwarnings(\"ignore\")"
   ]
  },
  {
   "cell_type": "markdown",
   "id": "9491800c",
   "metadata": {},
   "source": [
    "# Param"
   ]
  },
  {
   "cell_type": "code",
   "execution_count": 2,
   "id": "6cd2d391",
   "metadata": {},
   "outputs": [],
   "source": [
    "DATA_PATH = \"/home/search3/lichunyu/otto-recommender-system/data\"\n",
    "TYPE_MAP = {'clicks':0, 'carts':1, 'orders':2}\n",
    "DOWNSAMPLE_RATE = 20\n",
    "\n",
    "def read_parquet(f):\n",
    "    df = pd.read_parquet(f)\n",
    "    df.ts = (df.ts/1000).astype('int32')\n",
    "    df['type'] = df['type'].map(TYPE_MAP).astype('int8')\n",
    "    return df"
   ]
  },
  {
   "cell_type": "markdown",
   "id": "2a4ea7f1",
   "metadata": {},
   "source": [
    "# Feature Engineering"
   ]
  },
  {
   "cell_type": "markdown",
   "id": "da1575fc",
   "metadata": {},
   "source": [
    "## Time Feature"
   ]
  },
  {
   "cell_type": "code",
   "execution_count": 3,
   "id": "4c9b480f",
   "metadata": {},
   "outputs": [],
   "source": [
    "def ts_day(df):\n",
    "    ts_minimal = df[\"ts\"].min()\n",
    "    df[\"ts_day\"] = (df[\"ts\"]-ts_minimal) // (24*60*60)\n",
    "    return df\n",
    "\n",
    "def add_session_length(df):\n",
    "    # If not using cuDF, remove .to_pandas()\n",
    "    df['session_length'] = df.groupby('session')['ts'].transform('count')\n",
    "    return df\n",
    "\n",
    "def add_action_num_reverse_chrono(df):\n",
    "    df['action_num_reverse_chrono'] = df.session_length - df.groupby('session').cumcount() - 1\n",
    "    return df\n",
    "\n",
    "def add_log_recency_score(df):\n",
    "    linear_interpolation = 0.1 + ((1-0.1) / (df['session_length']-1)) * (df['session_length']-df['action_num_reverse_chrono']-1)\n",
    "    df['log_recency_score'] = (2 ** linear_interpolation - 1).fillna(1.0)\n",
    "    return df\n",
    "\n",
    "def add_type_weighted_log_recency_score(df):\n",
    "    type_weights = {0:1, 1:6, 2:3, 3:0.1}\n",
    "    df['type_weighted_log_recency_score'] = df['log_recency_score'] / df['type'].map(type_weights)\n",
    "    return df\n",
    "\n",
    "\n",
    "\n",
    "pipeline = [\n",
    "    ts_day,\n",
    "    add_session_length,\n",
    "    add_action_num_reverse_chrono,\n",
    "    add_log_recency_score,\n",
    "    add_type_weighted_log_recency_score\n",
    "]"
   ]
  },
  {
   "cell_type": "code",
   "execution_count": null,
   "id": "7cfeead8",
   "metadata": {},
   "outputs": [],
   "source": []
  },
  {
   "cell_type": "code",
   "execution_count": null,
   "id": "32338d6f",
   "metadata": {},
   "outputs": [],
   "source": []
  },
  {
   "cell_type": "markdown",
   "id": "25acef6b",
   "metadata": {},
   "source": [
    "## Item Feature"
   ]
  },
  {
   "cell_type": "code",
   "execution_count": 22,
   "id": "5d4e5b09",
   "metadata": {},
   "outputs": [],
   "source": [
    "def item_feature_1(df, prefix):\n",
    "    if isinstance(df, pd.DataFrame):\n",
    "        df = pl.DataFrame(df)\n",
    "    df = df.groupby(\"aid\").agg([\n",
    "        pl.col(\"session\").n_unique().alias(\"item_user_count\"),\n",
    "        pl.col(\"aid\").count().alias(\"item_item_count\"),\n",
    "        pl.col(\"type\").mean().alias(\"item_buy_ratio\"),\n",
    "    ]).to_pandas().to_parquet(\n",
    "        os.path.join(DATA_PATH, f\"input/feature/{prefix}/item_feature_1.parquet\")\n",
    "    )\n",
    "    return df"
   ]
  },
  {
   "cell_type": "code",
   "execution_count": null,
   "id": "2dc7a92d",
   "metadata": {},
   "outputs": [],
   "source": []
  },
  {
   "cell_type": "code",
   "execution_count": null,
   "id": "71339e01",
   "metadata": {},
   "outputs": [],
   "source": []
  },
  {
   "cell_type": "code",
   "execution_count": null,
   "id": "ee7f1408",
   "metadata": {},
   "outputs": [],
   "source": []
  },
  {
   "cell_type": "code",
   "execution_count": null,
   "id": "78a6ab5a",
   "metadata": {},
   "outputs": [],
   "source": []
  },
  {
   "cell_type": "markdown",
   "id": "521f0f45",
   "metadata": {},
   "source": [
    "# User Feature"
   ]
  },
  {
   "cell_type": "code",
   "execution_count": 23,
   "id": "c907660e",
   "metadata": {},
   "outputs": [],
   "source": [
    "def user_feature_1(df, prefix):\n",
    "    if isinstance(df, pd.DataFrame):\n",
    "        df = pl.DataFrame(df)\n",
    "    df = df.groupby(\"session\").agg([\n",
    "        pl.col(\"session\").count().alias(\"user_user_count\"),\n",
    "        pl.col(\"aid\").n_unique().alias(\"user_item_count\"),\n",
    "        pl.col(\"type\").mean().alias(\"user_buy_ratio\")\n",
    "    ]).to_pandas().to_parquet(\n",
    "        os.path.join(DATA_PATH, f\"input/feature/{prefix}/user_feature_1.parquet\")\n",
    "    )\n",
    "    return df"
   ]
  },
  {
   "cell_type": "code",
   "execution_count": null,
   "id": "ce8378e6",
   "metadata": {},
   "outputs": [],
   "source": []
  },
  {
   "cell_type": "code",
   "execution_count": null,
   "id": "6f6d281e",
   "metadata": {},
   "outputs": [],
   "source": []
  },
  {
   "cell_type": "code",
   "execution_count": null,
   "id": "6efe6786",
   "metadata": {},
   "outputs": [],
   "source": []
  },
  {
   "cell_type": "code",
   "execution_count": null,
   "id": "d94d3477",
   "metadata": {},
   "outputs": [],
   "source": []
  },
  {
   "cell_type": "code",
   "execution_count": null,
   "id": "a5102833",
   "metadata": {},
   "outputs": [],
   "source": []
  },
  {
   "cell_type": "markdown",
   "id": "36c7b9d0",
   "metadata": {},
   "source": [
    "# Train"
   ]
  },
  {
   "cell_type": "markdown",
   "id": "d2dfef29",
   "metadata": {},
   "source": [
    "## Item Feature"
   ]
  },
  {
   "cell_type": "code",
   "execution_count": 3,
   "id": "84fe9d0c",
   "metadata": {},
   "outputs": [
    {
     "name": "stdout",
     "output_type": "stream",
     "text": [
      "CPU times: user 25.1 s, sys: 5.33 s, total: 30.5 s\n",
      "Wall time: 20.4 s\n"
     ]
    },
    {
     "data": {
      "text/html": [
       "<div>\n",
       "<style scoped>\n",
       "    .dataframe tbody tr th:only-of-type {\n",
       "        vertical-align: middle;\n",
       "    }\n",
       "\n",
       "    .dataframe tbody tr th {\n",
       "        vertical-align: top;\n",
       "    }\n",
       "\n",
       "    .dataframe thead th {\n",
       "        text-align: right;\n",
       "    }\n",
       "</style>\n",
       "<table border=\"1\" class=\"dataframe\">\n",
       "  <thead>\n",
       "    <tr style=\"text-align: right;\">\n",
       "      <th></th>\n",
       "      <th>session</th>\n",
       "      <th>aid</th>\n",
       "      <th>ts</th>\n",
       "      <th>type</th>\n",
       "    </tr>\n",
       "  </thead>\n",
       "  <tbody>\n",
       "    <tr>\n",
       "      <th>0</th>\n",
       "      <td>0</td>\n",
       "      <td>1517085</td>\n",
       "      <td>1659304800</td>\n",
       "      <td>0</td>\n",
       "    </tr>\n",
       "    <tr>\n",
       "      <th>1</th>\n",
       "      <td>0</td>\n",
       "      <td>1563459</td>\n",
       "      <td>1659304904</td>\n",
       "      <td>0</td>\n",
       "    </tr>\n",
       "    <tr>\n",
       "      <th>2</th>\n",
       "      <td>0</td>\n",
       "      <td>1309446</td>\n",
       "      <td>1659367439</td>\n",
       "      <td>0</td>\n",
       "    </tr>\n",
       "    <tr>\n",
       "      <th>3</th>\n",
       "      <td>0</td>\n",
       "      <td>16246</td>\n",
       "      <td>1659367719</td>\n",
       "      <td>0</td>\n",
       "    </tr>\n",
       "    <tr>\n",
       "      <th>4</th>\n",
       "      <td>0</td>\n",
       "      <td>1781822</td>\n",
       "      <td>1659367871</td>\n",
       "      <td>0</td>\n",
       "    </tr>\n",
       "    <tr>\n",
       "      <th>...</th>\n",
       "      <td>...</td>\n",
       "      <td>...</td>\n",
       "      <td>...</td>\n",
       "      <td>...</td>\n",
       "    </tr>\n",
       "    <tr>\n",
       "      <th>316324</th>\n",
       "      <td>12899774</td>\n",
       "      <td>33035</td>\n",
       "      <td>1661723968</td>\n",
       "      <td>0</td>\n",
       "    </tr>\n",
       "    <tr>\n",
       "      <th>316325</th>\n",
       "      <td>12899775</td>\n",
       "      <td>1743151</td>\n",
       "      <td>1661723970</td>\n",
       "      <td>0</td>\n",
       "    </tr>\n",
       "    <tr>\n",
       "      <th>316326</th>\n",
       "      <td>12899776</td>\n",
       "      <td>548599</td>\n",
       "      <td>1661723972</td>\n",
       "      <td>0</td>\n",
       "    </tr>\n",
       "    <tr>\n",
       "      <th>316327</th>\n",
       "      <td>12899777</td>\n",
       "      <td>384045</td>\n",
       "      <td>1661723976</td>\n",
       "      <td>0</td>\n",
       "    </tr>\n",
       "    <tr>\n",
       "      <th>316328</th>\n",
       "      <td>12899778</td>\n",
       "      <td>561560</td>\n",
       "      <td>1661723983</td>\n",
       "      <td>0</td>\n",
       "    </tr>\n",
       "  </tbody>\n",
       "</table>\n",
       "<p>171638757 rows × 4 columns</p>\n",
       "</div>"
      ],
      "text/plain": [
       "         session      aid          ts  type\n",
       "0              0  1517085  1659304800     0\n",
       "1              0  1563459  1659304904     0\n",
       "2              0  1309446  1659367439     0\n",
       "3              0    16246  1659367719     0\n",
       "4              0  1781822  1659367871     0\n",
       "...          ...      ...         ...   ...\n",
       "316324  12899774    33035  1661723968     0\n",
       "316325  12899775  1743151  1661723970     0\n",
       "316326  12899776   548599  1661723972     0\n",
       "316327  12899777   384045  1661723976     0\n",
       "316328  12899778   561560  1661723983     0\n",
       "\n",
       "[171638757 rows x 4 columns]"
      ]
     },
     "execution_count": 3,
     "metadata": {},
     "output_type": "execute_result"
    }
   ],
   "source": [
    "%%time\n",
    "\n",
    "train_path = sorted(glob.glob(\n",
    "    os.path.join(DATA_PATH, \"input/otto-validation/train_parquet/*.parquet\")\n",
    "))\n",
    "\n",
    "valid_a_path = sorted(glob.glob(\n",
    "    os.path.join(DATA_PATH, \"input/otto-validation/test_parquet/*.parquet\")\n",
    "))\n",
    "\n",
    "df_train_item = pd.concat([\n",
    "    pd.concat([read_parquet(i) for i in train_path]),\n",
    "    pd.concat([read_parquet(i) for i in valid_a_path])\n",
    "])\n",
    "\n",
    "df_train_item = pl.DataFrame(df_train_item)"
   ]
  },
  {
   "cell_type": "code",
   "execution_count": 15,
   "id": "85d0039e",
   "metadata": {},
   "outputs": [
    {
     "name": "stdout",
     "output_type": "stream",
     "text": [
      "CPU times: user 8 µs, sys: 0 ns, total: 8 µs\n",
      "Wall time: 17.2 µs\n"
     ]
    }
   ],
   "source": [
    "%%time\n",
    "\n",
    "df_train_item.groupby(\"aid\").agg([\n",
    "    pl.col(\"session\").n_unique().alias(\"item_user_count\"),\n",
    "    pl.col(\"aid\").count().alias(\"item_item_count\"),\n",
    "    pl.col(\"type\").mean().alias(\"item_buy_ratio\"),\n",
    "]).to_pandas().to_parquet(\n",
    "    os.path.join(DATA_PATH, \"input/feature/train/item_feature_1.parquet\")\n",
    ")"
   ]
  },
  {
   "cell_type": "code",
   "execution_count": null,
   "id": "ef13f242",
   "metadata": {},
   "outputs": [],
   "source": []
  },
  {
   "cell_type": "code",
   "execution_count": null,
   "id": "2f3cc42b",
   "metadata": {},
   "outputs": [],
   "source": []
  },
  {
   "cell_type": "markdown",
   "id": "1255f555",
   "metadata": {},
   "source": [
    "## User Feature"
   ]
  },
  {
   "cell_type": "code",
   "execution_count": 19,
   "id": "01106491",
   "metadata": {},
   "outputs": [
    {
     "name": "stdout",
     "output_type": "stream",
     "text": [
      "CPU times: user 1.53 s, sys: 117 ms, total: 1.64 s\n",
      "Wall time: 1.28 s\n"
     ]
    },
    {
     "data": {
      "text/html": [
       "<div>\n",
       "<style scoped>\n",
       "    .dataframe tbody tr th:only-of-type {\n",
       "        vertical-align: middle;\n",
       "    }\n",
       "\n",
       "    .dataframe tbody tr th {\n",
       "        vertical-align: top;\n",
       "    }\n",
       "\n",
       "    .dataframe thead th {\n",
       "        text-align: right;\n",
       "    }\n",
       "\n",
       "    .dataframe td {\n",
       "        white-space: pre;\n",
       "    }\n",
       "\n",
       "    .dataframe td {\n",
       "        padding-top: 0;\n",
       "    }\n",
       "\n",
       "    .dataframe td {\n",
       "        padding-bottom: 0;\n",
       "    }\n",
       "\n",
       "    .dataframe td {\n",
       "        line-height: 95%;\n",
       "    }\n",
       "</style>\n",
       "<table border=\"1\" class=\"dataframe\">\n",
       "<small>shape: (10, 4)</small>\n",
       "<thead>\n",
       "<tr>\n",
       "<th>\n",
       "session\n",
       "</th>\n",
       "<th>\n",
       "aid\n",
       "</th>\n",
       "<th>\n",
       "ts\n",
       "</th>\n",
       "<th>\n",
       "type\n",
       "</th>\n",
       "</tr>\n",
       "<tr>\n",
       "<td>\n",
       "i32\n",
       "</td>\n",
       "<td>\n",
       "i32\n",
       "</td>\n",
       "<td>\n",
       "i32\n",
       "</td>\n",
       "<td>\n",
       "i8\n",
       "</td>\n",
       "</tr>\n",
       "</thead>\n",
       "<tbody>\n",
       "<tr>\n",
       "<td>\n",
       "11098528\n",
       "</td>\n",
       "<td>\n",
       "11830\n",
       "</td>\n",
       "<td>\n",
       "1661119200\n",
       "</td>\n",
       "<td>\n",
       "0\n",
       "</td>\n",
       "</tr>\n",
       "<tr>\n",
       "<td>\n",
       "11098529\n",
       "</td>\n",
       "<td>\n",
       "1105029\n",
       "</td>\n",
       "<td>\n",
       "1661119200\n",
       "</td>\n",
       "<td>\n",
       "0\n",
       "</td>\n",
       "</tr>\n",
       "<tr>\n",
       "<td>\n",
       "11098530\n",
       "</td>\n",
       "<td>\n",
       "264500\n",
       "</td>\n",
       "<td>\n",
       "1661119200\n",
       "</td>\n",
       "<td>\n",
       "0\n",
       "</td>\n",
       "</tr>\n",
       "<tr>\n",
       "<td>\n",
       "11098530\n",
       "</td>\n",
       "<td>\n",
       "264500\n",
       "</td>\n",
       "<td>\n",
       "1661119288\n",
       "</td>\n",
       "<td>\n",
       "0\n",
       "</td>\n",
       "</tr>\n",
       "<tr>\n",
       "<td>\n",
       "11098530\n",
       "</td>\n",
       "<td>\n",
       "409236\n",
       "</td>\n",
       "<td>\n",
       "1661119369\n",
       "</td>\n",
       "<td>\n",
       "0\n",
       "</td>\n",
       "</tr>\n",
       "<tr>\n",
       "<td>\n",
       "11098530\n",
       "</td>\n",
       "<td>\n",
       "409236\n",
       "</td>\n",
       "<td>\n",
       "1661119441\n",
       "</td>\n",
       "<td>\n",
       "0\n",
       "</td>\n",
       "</tr>\n",
       "<tr>\n",
       "<td>\n",
       "11098530\n",
       "</td>\n",
       "<td>\n",
       "409236\n",
       "</td>\n",
       "<td>\n",
       "1661120165\n",
       "</td>\n",
       "<td>\n",
       "0\n",
       "</td>\n",
       "</tr>\n",
       "<tr>\n",
       "<td>\n",
       "11098530\n",
       "</td>\n",
       "<td>\n",
       "409236\n",
       "</td>\n",
       "<td>\n",
       "1661120532\n",
       "</td>\n",
       "<td>\n",
       "1\n",
       "</td>\n",
       "</tr>\n",
       "<tr>\n",
       "<td>\n",
       "11098531\n",
       "</td>\n",
       "<td>\n",
       "452188\n",
       "</td>\n",
       "<td>\n",
       "1661119200\n",
       "</td>\n",
       "<td>\n",
       "0\n",
       "</td>\n",
       "</tr>\n",
       "<tr>\n",
       "<td>\n",
       "11098531\n",
       "</td>\n",
       "<td>\n",
       "1239060\n",
       "</td>\n",
       "<td>\n",
       "1661119227\n",
       "</td>\n",
       "<td>\n",
       "0\n",
       "</td>\n",
       "</tr>\n",
       "</tbody>\n",
       "</table>\n",
       "</div>"
      ],
      "text/plain": [
       "shape: (10, 4)\n",
       "┌──────────┬─────────┬────────────┬──────┐\n",
       "│ session  ┆ aid     ┆ ts         ┆ type │\n",
       "│ ---      ┆ ---     ┆ ---        ┆ ---  │\n",
       "│ i32      ┆ i32     ┆ i32        ┆ i8   │\n",
       "╞══════════╪═════════╪════════════╪══════╡\n",
       "│ 11098528 ┆ 11830   ┆ 1661119200 ┆ 0    │\n",
       "├╌╌╌╌╌╌╌╌╌╌┼╌╌╌╌╌╌╌╌╌┼╌╌╌╌╌╌╌╌╌╌╌╌┼╌╌╌╌╌╌┤\n",
       "│ 11098529 ┆ 1105029 ┆ 1661119200 ┆ 0    │\n",
       "├╌╌╌╌╌╌╌╌╌╌┼╌╌╌╌╌╌╌╌╌┼╌╌╌╌╌╌╌╌╌╌╌╌┼╌╌╌╌╌╌┤\n",
       "│ 11098530 ┆ 264500  ┆ 1661119200 ┆ 0    │\n",
       "├╌╌╌╌╌╌╌╌╌╌┼╌╌╌╌╌╌╌╌╌┼╌╌╌╌╌╌╌╌╌╌╌╌┼╌╌╌╌╌╌┤\n",
       "│ 11098530 ┆ 264500  ┆ 1661119288 ┆ 0    │\n",
       "├╌╌╌╌╌╌╌╌╌╌┼╌╌╌╌╌╌╌╌╌┼╌╌╌╌╌╌╌╌╌╌╌╌┼╌╌╌╌╌╌┤\n",
       "│ ...      ┆ ...     ┆ ...        ┆ ...  │\n",
       "├╌╌╌╌╌╌╌╌╌╌┼╌╌╌╌╌╌╌╌╌┼╌╌╌╌╌╌╌╌╌╌╌╌┼╌╌╌╌╌╌┤\n",
       "│ 11098530 ┆ 409236  ┆ 1661120165 ┆ 0    │\n",
       "├╌╌╌╌╌╌╌╌╌╌┼╌╌╌╌╌╌╌╌╌┼╌╌╌╌╌╌╌╌╌╌╌╌┼╌╌╌╌╌╌┤\n",
       "│ 11098530 ┆ 409236  ┆ 1661120532 ┆ 1    │\n",
       "├╌╌╌╌╌╌╌╌╌╌┼╌╌╌╌╌╌╌╌╌┼╌╌╌╌╌╌╌╌╌╌╌╌┼╌╌╌╌╌╌┤\n",
       "│ 11098531 ┆ 452188  ┆ 1661119200 ┆ 0    │\n",
       "├╌╌╌╌╌╌╌╌╌╌┼╌╌╌╌╌╌╌╌╌┼╌╌╌╌╌╌╌╌╌╌╌╌┼╌╌╌╌╌╌┤\n",
       "│ 11098531 ┆ 1239060 ┆ 1661119227 ┆ 0    │\n",
       "└──────────┴─────────┴────────────┴──────┘"
      ]
     },
     "execution_count": 19,
     "metadata": {},
     "output_type": "execute_result"
    }
   ],
   "source": [
    "%%time\n",
    "\n",
    "valid_a_path = sorted(glob.glob(\n",
    "    os.path.join(DATA_PATH, \"input/otto-validation/test_parquet/*.parquet\")\n",
    "))\n",
    "\n",
    "df_train_user = pd.concat([read_parquet(i) for i in valid_a_path])\n",
    "df_train_user = pl.DataFrame(df_train_user)\n",
    "df_train_user.head(10)"
   ]
  },
  {
   "cell_type": "code",
   "execution_count": 18,
   "id": "635691b5",
   "metadata": {},
   "outputs": [],
   "source": [
    "df_train_user.groupby(\"session\").agg([\n",
    "    pl.col(\"session\").count().alias(\"user_user_count\"),\n",
    "    pl.col(\"aid\").n_unique().alias(\"user_item_count\"),\n",
    "    pl.col(\"type\").mean().alias(\"user_buy_ratio\")\n",
    "]).to_pandas().to_parquet(\n",
    "    os.path.join(DATA_PATH, \"input/feature/train/user_feature_1.parquet\")\n",
    ")"
   ]
  },
  {
   "cell_type": "code",
   "execution_count": null,
   "id": "ed784f12",
   "metadata": {},
   "outputs": [],
   "source": []
  },
  {
   "cell_type": "code",
   "execution_count": null,
   "id": "f30fdace",
   "metadata": {},
   "outputs": [],
   "source": []
  },
  {
   "cell_type": "markdown",
   "id": "53bd7152",
   "metadata": {},
   "source": [
    "## Model Train"
   ]
  },
  {
   "cell_type": "code",
   "execution_count": 4,
   "id": "668ec930",
   "metadata": {},
   "outputs": [
    {
     "name": "stdout",
     "output_type": "stream",
     "text": [
      "CPU times: user 1min 37s, sys: 13.1 s, total: 1min 50s\n",
      "Wall time: 1min 50s\n"
     ]
    },
    {
     "data": {
      "text/plain": [
       "(182272665, 5)"
      ]
     },
     "execution_count": 4,
     "metadata": {},
     "output_type": "execute_result"
    }
   ],
   "source": [
    "%%time\n",
    "\n",
    "valid_a_candidates_path = sorted(glob.glob(\n",
    "    os.path.join(DATA_PATH, \"input/otto-test-chunk-candidates-top100/valid_chunk_data/valid_chunk_data/*_candidates.pkl\")\n",
    "))\n",
    "\n",
    "df_train_candidates = pd.concat([pd.read_pickle(i) for i in valid_a_candidates_path])\n",
    "\n",
    "df_train_label = pd.read_parquet(\n",
    "    os.path.join(DATA_PATH, \"input/otto-validation/test_labels.parquet\")\n",
    ")\n",
    "df_train_label = df_train_label[df_train_label[\"type\"]==\"orders\"][[\"session\", \"ground_truth\"]]\n",
    "df_train_label = df_train_label.explode(\"ground_truth\").reset_index(drop=True)\n",
    "df_train_label = df_train_label.rename({\"ground_truth\": \"aid\"}, axis=1)\n",
    "df_train_label[\"label\"] = 1\n",
    "\n",
    "df_train_candidates = df_train_candidates.merge(df_train_label, on=[\"session\", \"aid\"], how=\"left\").fillna({\"label\": 0})\n",
    "df_train_candidates[\"label\"] = df_train_candidates[\"label\"].astype(\"int\")\n",
    "df_train_candidates.shape"
   ]
  },
  {
   "cell_type": "code",
   "execution_count": 5,
   "id": "7c433a8c",
   "metadata": {},
   "outputs": [
    {
     "name": "stdout",
     "output_type": "stream",
     "text": [
      "origin all data size: 182272665\n",
      "current negative size: 148785554, postive size: 419345, rate: 354\n",
      "df_train_candidates size: 8806245, df_valid_candidates size: 33067766\n"
     ]
    }
   ],
   "source": [
    "def downsample(df, n=-1):\n",
    "    if n == -1:\n",
    "        n = DOWNSAMPLE_RATE\n",
    "    df_negative = df[df[\"label\"]==0]\n",
    "    df_postive = df[df[\"label\"]==1]\n",
    "    r = len(df_negative)//len(df_postive)\n",
    "    print(f\"current negative size: {len(df_negative)}, postive size: {len(df_postive)}, rate: {r}\")\n",
    "    if r > n:\n",
    "        gloden_negative_size = n * len(df_postive)\n",
    "        df_negative = df_negative.sample(gloden_negative_size)\n",
    "        df = pd.concat([df_postive, df_negative])\n",
    "    df[\"_noise\"] = np.random.randn(len(df))\n",
    "    df = df.sort_values([\"session\", \"_noise\"])\n",
    "    df = df.drop(\"_noise\", axis=1).reset_index(drop=True)\n",
    "    return df\n",
    "\n",
    "\n",
    "def train_valid_split(df):\n",
    "    print(f\"origin all data size: {len(df)}\")\n",
    "    valid_session = np.random.choice(df_train_candidates.session.unique(), int(len(df_train_candidates.session.unique())*0.2))\n",
    "    df_train = df[~df[\"session\"].isin(valid_session)]\n",
    "    df_valid = df[df[\"session\"].isin(valid_session)]\n",
    "    df_train = downsample(df_train)\n",
    "    return df_train, df_valid\n",
    "\n",
    "\n",
    "df_train_candidates, df_valid_candidates = train_valid_split(df_train_candidates)\n",
    "df_train_candidates[\"label\"] = df_train_candidates[\"label\"].astype(\"int\")\n",
    "df_valid_candidates[\"label\"] = df_valid_candidates[\"label\"].astype(\"int\")\n",
    "print(f\"df_train_candidates size: {len(df_train_candidates)}, df_valid_candidates size: {len(df_valid_candidates)}\")\n",
    "\n",
    "# storage\n",
    "# df_train_candidates.to_pickle(\"df_train_candidates.pkl\")\n",
    "# df_valid_candidates.to_pickle(\"df_valid_candidates.pkl\")"
   ]
  },
  {
   "cell_type": "code",
   "execution_count": 6,
   "id": "3281b148",
   "metadata": {},
   "outputs": [
    {
     "name": "stdout",
     "output_type": "stream",
     "text": [
      "CPU times: user 7.41 s, sys: 1.16 s, total: 8.56 s\n",
      "Wall time: 8.56 s\n"
     ]
    }
   ],
   "source": [
    "%%time\n",
    "\n",
    "for p in pipeline:\n",
    "    df_train_candidates = p(df_train_candidates)\n",
    "    df_valid_candidates = p(df_valid_candidates)"
   ]
  },
  {
   "cell_type": "code",
   "execution_count": 7,
   "id": "59356c29",
   "metadata": {},
   "outputs": [
    {
     "data": {
      "text/html": [
       "<div>\n",
       "<style scoped>\n",
       "    .dataframe tbody tr th:only-of-type {\n",
       "        vertical-align: middle;\n",
       "    }\n",
       "\n",
       "    .dataframe tbody tr th {\n",
       "        vertical-align: top;\n",
       "    }\n",
       "\n",
       "    .dataframe thead th {\n",
       "        text-align: right;\n",
       "    }\n",
       "</style>\n",
       "<table border=\"1\" class=\"dataframe\">\n",
       "  <thead>\n",
       "    <tr style=\"text-align: right;\">\n",
       "      <th></th>\n",
       "      <th>session</th>\n",
       "      <th>aid</th>\n",
       "      <th>ts</th>\n",
       "      <th>type</th>\n",
       "      <th>label</th>\n",
       "      <th>ts_day</th>\n",
       "      <th>session_length</th>\n",
       "      <th>action_num_reverse_chrono</th>\n",
       "      <th>log_recency_score</th>\n",
       "      <th>type_weighted_log_recency_score</th>\n",
       "    </tr>\n",
       "  </thead>\n",
       "  <tbody>\n",
       "    <tr>\n",
       "      <th>0</th>\n",
       "      <td>11098528</td>\n",
       "      <td>1467813</td>\n",
       "      <td>1661119200</td>\n",
       "      <td>3</td>\n",
       "      <td>0</td>\n",
       "      <td>0</td>\n",
       "      <td>10</td>\n",
       "      <td>9</td>\n",
       "      <td>0.071773</td>\n",
       "      <td>0.717735</td>\n",
       "    </tr>\n",
       "    <tr>\n",
       "      <th>1</th>\n",
       "      <td>11098528</td>\n",
       "      <td>11830</td>\n",
       "      <td>1661119200</td>\n",
       "      <td>0</td>\n",
       "      <td>1</td>\n",
       "      <td>0</td>\n",
       "      <td>10</td>\n",
       "      <td>8</td>\n",
       "      <td>0.148698</td>\n",
       "      <td>0.148698</td>\n",
       "    </tr>\n",
       "    <tr>\n",
       "      <th>2</th>\n",
       "      <td>11098528</td>\n",
       "      <td>1586171</td>\n",
       "      <td>1661119200</td>\n",
       "      <td>3</td>\n",
       "      <td>0</td>\n",
       "      <td>0</td>\n",
       "      <td>10</td>\n",
       "      <td>7</td>\n",
       "      <td>0.231144</td>\n",
       "      <td>2.311444</td>\n",
       "    </tr>\n",
       "    <tr>\n",
       "      <th>3</th>\n",
       "      <td>11098528</td>\n",
       "      <td>1764621</td>\n",
       "      <td>1661119200</td>\n",
       "      <td>3</td>\n",
       "      <td>0</td>\n",
       "      <td>0</td>\n",
       "      <td>10</td>\n",
       "      <td>6</td>\n",
       "      <td>0.319508</td>\n",
       "      <td>3.195079</td>\n",
       "    </tr>\n",
       "    <tr>\n",
       "      <th>4</th>\n",
       "      <td>11098528</td>\n",
       "      <td>307904</td>\n",
       "      <td>1661119200</td>\n",
       "      <td>3</td>\n",
       "      <td>0</td>\n",
       "      <td>0</td>\n",
       "      <td>10</td>\n",
       "      <td>5</td>\n",
       "      <td>0.414214</td>\n",
       "      <td>4.142136</td>\n",
       "    </tr>\n",
       "    <tr>\n",
       "      <th>...</th>\n",
       "      <td>...</td>\n",
       "      <td>...</td>\n",
       "      <td>...</td>\n",
       "      <td>...</td>\n",
       "      <td>...</td>\n",
       "      <td>...</td>\n",
       "      <td>...</td>\n",
       "      <td>...</td>\n",
       "      <td>...</td>\n",
       "      <td>...</td>\n",
       "    </tr>\n",
       "    <tr>\n",
       "      <th>8806240</th>\n",
       "      <td>12899778</td>\n",
       "      <td>674409</td>\n",
       "      <td>1661119200</td>\n",
       "      <td>3</td>\n",
       "      <td>0</td>\n",
       "      <td>0</td>\n",
       "      <td>7</td>\n",
       "      <td>4</td>\n",
       "      <td>0.319508</td>\n",
       "      <td>3.195079</td>\n",
       "    </tr>\n",
       "    <tr>\n",
       "      <th>8806241</th>\n",
       "      <td>12899778</td>\n",
       "      <td>1845894</td>\n",
       "      <td>1661119200</td>\n",
       "      <td>3</td>\n",
       "      <td>0</td>\n",
       "      <td>0</td>\n",
       "      <td>7</td>\n",
       "      <td>3</td>\n",
       "      <td>0.464086</td>\n",
       "      <td>4.640857</td>\n",
       "    </tr>\n",
       "    <tr>\n",
       "      <th>8806242</th>\n",
       "      <td>12899778</td>\n",
       "      <td>631041</td>\n",
       "      <td>1661119200</td>\n",
       "      <td>3</td>\n",
       "      <td>0</td>\n",
       "      <td>0</td>\n",
       "      <td>7</td>\n",
       "      <td>2</td>\n",
       "      <td>0.624505</td>\n",
       "      <td>6.245048</td>\n",
       "    </tr>\n",
       "    <tr>\n",
       "      <th>8806243</th>\n",
       "      <td>12899778</td>\n",
       "      <td>863998</td>\n",
       "      <td>1661119200</td>\n",
       "      <td>3</td>\n",
       "      <td>0</td>\n",
       "      <td>0</td>\n",
       "      <td>7</td>\n",
       "      <td>1</td>\n",
       "      <td>0.802501</td>\n",
       "      <td>8.025009</td>\n",
       "    </tr>\n",
       "    <tr>\n",
       "      <th>8806244</th>\n",
       "      <td>12899778</td>\n",
       "      <td>1515663</td>\n",
       "      <td>1661119200</td>\n",
       "      <td>3</td>\n",
       "      <td>0</td>\n",
       "      <td>0</td>\n",
       "      <td>7</td>\n",
       "      <td>0</td>\n",
       "      <td>1.000000</td>\n",
       "      <td>10.000000</td>\n",
       "    </tr>\n",
       "  </tbody>\n",
       "</table>\n",
       "<p>8806245 rows × 10 columns</p>\n",
       "</div>"
      ],
      "text/plain": [
       "          session      aid          ts  type  label  ts_day  session_length  \\\n",
       "0        11098528  1467813  1661119200     3      0       0              10   \n",
       "1        11098528    11830  1661119200     0      1       0              10   \n",
       "2        11098528  1586171  1661119200     3      0       0              10   \n",
       "3        11098528  1764621  1661119200     3      0       0              10   \n",
       "4        11098528   307904  1661119200     3      0       0              10   \n",
       "...           ...      ...         ...   ...    ...     ...             ...   \n",
       "8806240  12899778   674409  1661119200     3      0       0               7   \n",
       "8806241  12899778  1845894  1661119200     3      0       0               7   \n",
       "8806242  12899778   631041  1661119200     3      0       0               7   \n",
       "8806243  12899778   863998  1661119200     3      0       0               7   \n",
       "8806244  12899778  1515663  1661119200     3      0       0               7   \n",
       "\n",
       "         action_num_reverse_chrono  log_recency_score  \\\n",
       "0                                9           0.071773   \n",
       "1                                8           0.148698   \n",
       "2                                7           0.231144   \n",
       "3                                6           0.319508   \n",
       "4                                5           0.414214   \n",
       "...                            ...                ...   \n",
       "8806240                          4           0.319508   \n",
       "8806241                          3           0.464086   \n",
       "8806242                          2           0.624505   \n",
       "8806243                          1           0.802501   \n",
       "8806244                          0           1.000000   \n",
       "\n",
       "         type_weighted_log_recency_score  \n",
       "0                               0.717735  \n",
       "1                               0.148698  \n",
       "2                               2.311444  \n",
       "3                               3.195079  \n",
       "4                               4.142136  \n",
       "...                                  ...  \n",
       "8806240                         3.195079  \n",
       "8806241                         4.640857  \n",
       "8806242                         6.245048  \n",
       "8806243                         8.025009  \n",
       "8806244                        10.000000  \n",
       "\n",
       "[8806245 rows x 10 columns]"
      ]
     },
     "execution_count": 7,
     "metadata": {},
     "output_type": "execute_result"
    }
   ],
   "source": [
    "df_train_candidates"
   ]
  },
  {
   "cell_type": "code",
   "execution_count": 8,
   "id": "4650e435",
   "metadata": {},
   "outputs": [
    {
     "name": "stderr",
     "output_type": "stream",
     "text": [
      "100%|████████████████████████████████████████████████████████████████████████████████████████████████████| 1/1 [00:25<00:00, 25.72s/it]"
     ]
    },
    {
     "name": "stdout",
     "output_type": "stream",
     "text": [
      "df_train_candidates size: 8806245, df_valid_candidates size: 33067766\n",
      "CPU times: user 23.8 s, sys: 2.09 s, total: 25.9 s\n",
      "Wall time: 25.7 s\n"
     ]
    },
    {
     "name": "stderr",
     "output_type": "stream",
     "text": [
      "\n"
     ]
    },
    {
     "data": {
      "text/html": [
       "<div>\n",
       "<style scoped>\n",
       "    .dataframe tbody tr th:only-of-type {\n",
       "        vertical-align: middle;\n",
       "    }\n",
       "\n",
       "    .dataframe tbody tr th {\n",
       "        vertical-align: top;\n",
       "    }\n",
       "\n",
       "    .dataframe thead th {\n",
       "        text-align: right;\n",
       "    }\n",
       "</style>\n",
       "<table border=\"1\" class=\"dataframe\">\n",
       "  <thead>\n",
       "    <tr style=\"text-align: right;\">\n",
       "      <th></th>\n",
       "      <th>session</th>\n",
       "      <th>aid</th>\n",
       "      <th>ts</th>\n",
       "      <th>type</th>\n",
       "      <th>label</th>\n",
       "      <th>ts_day</th>\n",
       "      <th>session_length</th>\n",
       "      <th>action_num_reverse_chrono</th>\n",
       "      <th>log_recency_score</th>\n",
       "      <th>type_weighted_log_recency_score</th>\n",
       "      <th>item_user_count</th>\n",
       "      <th>item_item_count</th>\n",
       "      <th>item_buy_ratio</th>\n",
       "    </tr>\n",
       "  </thead>\n",
       "  <tbody>\n",
       "    <tr>\n",
       "      <th>0</th>\n",
       "      <td>11098528</td>\n",
       "      <td>1467813</td>\n",
       "      <td>1661119200</td>\n",
       "      <td>3</td>\n",
       "      <td>0</td>\n",
       "      <td>0</td>\n",
       "      <td>10</td>\n",
       "      <td>9</td>\n",
       "      <td>0.071773</td>\n",
       "      <td>0.717735</td>\n",
       "      <td>2950.0</td>\n",
       "      <td>4355.0</td>\n",
       "      <td>0.174053</td>\n",
       "    </tr>\n",
       "    <tr>\n",
       "      <th>1</th>\n",
       "      <td>11098528</td>\n",
       "      <td>11830</td>\n",
       "      <td>1661119200</td>\n",
       "      <td>0</td>\n",
       "      <td>1</td>\n",
       "      <td>0</td>\n",
       "      <td>10</td>\n",
       "      <td>8</td>\n",
       "      <td>0.148698</td>\n",
       "      <td>0.148698</td>\n",
       "      <td>19211.0</td>\n",
       "      <td>33776.0</td>\n",
       "      <td>0.173970</td>\n",
       "    </tr>\n",
       "    <tr>\n",
       "      <th>2</th>\n",
       "      <td>11098528</td>\n",
       "      <td>1586171</td>\n",
       "      <td>1661119200</td>\n",
       "      <td>3</td>\n",
       "      <td>0</td>\n",
       "      <td>0</td>\n",
       "      <td>10</td>\n",
       "      <td>7</td>\n",
       "      <td>0.231144</td>\n",
       "      <td>2.311444</td>\n",
       "      <td>33479.0</td>\n",
       "      <td>50753.0</td>\n",
       "      <td>0.131657</td>\n",
       "    </tr>\n",
       "    <tr>\n",
       "      <th>3</th>\n",
       "      <td>11098528</td>\n",
       "      <td>1764621</td>\n",
       "      <td>1661119200</td>\n",
       "      <td>3</td>\n",
       "      <td>0</td>\n",
       "      <td>0</td>\n",
       "      <td>10</td>\n",
       "      <td>6</td>\n",
       "      <td>0.319508</td>\n",
       "      <td>3.195079</td>\n",
       "      <td>3895.0</td>\n",
       "      <td>6228.0</td>\n",
       "      <td>0.201349</td>\n",
       "    </tr>\n",
       "    <tr>\n",
       "      <th>4</th>\n",
       "      <td>11098528</td>\n",
       "      <td>307904</td>\n",
       "      <td>1661119200</td>\n",
       "      <td>3</td>\n",
       "      <td>0</td>\n",
       "      <td>0</td>\n",
       "      <td>10</td>\n",
       "      <td>5</td>\n",
       "      <td>0.414214</td>\n",
       "      <td>4.142136</td>\n",
       "      <td>5352.0</td>\n",
       "      <td>8581.0</td>\n",
       "      <td>0.121897</td>\n",
       "    </tr>\n",
       "  </tbody>\n",
       "</table>\n",
       "</div>"
      ],
      "text/plain": [
       "    session      aid          ts  type  label  ts_day  session_length  \\\n",
       "0  11098528  1467813  1661119200     3      0       0              10   \n",
       "1  11098528    11830  1661119200     0      1       0              10   \n",
       "2  11098528  1586171  1661119200     3      0       0              10   \n",
       "3  11098528  1764621  1661119200     3      0       0              10   \n",
       "4  11098528   307904  1661119200     3      0       0              10   \n",
       "\n",
       "   action_num_reverse_chrono  log_recency_score  \\\n",
       "0                          9           0.071773   \n",
       "1                          8           0.148698   \n",
       "2                          7           0.231144   \n",
       "3                          6           0.319508   \n",
       "4                          5           0.414214   \n",
       "\n",
       "   type_weighted_log_recency_score  item_user_count  item_item_count  \\\n",
       "0                         0.717735           2950.0           4355.0   \n",
       "1                         0.148698          19211.0          33776.0   \n",
       "2                         2.311444          33479.0          50753.0   \n",
       "3                         3.195079           3895.0           6228.0   \n",
       "4                         4.142136           5352.0           8581.0   \n",
       "\n",
       "   item_buy_ratio  \n",
       "0        0.174053  \n",
       "1        0.173970  \n",
       "2        0.131657  \n",
       "3        0.201349  \n",
       "4        0.121897  "
      ]
     },
     "execution_count": 8,
     "metadata": {},
     "output_type": "execute_result"
    }
   ],
   "source": [
    "%%time\n",
    "\n",
    "train_item_feature_path = sorted(glob.glob(\n",
    "    os.path.join(DATA_PATH, \"input/feature/train/item_feature_*.parquet\")\n",
    "))\n",
    "\n",
    "for p in tqdm(train_item_feature_path):\n",
    "    df_train_candidates = df_train_candidates.merge(pd.read_parquet(p), on=\"aid\", how=\"left\")\n",
    "    df_valid_candidates = df_valid_candidates.merge(pd.read_parquet(p), on=\"aid\", how=\"left\")\n",
    "\n",
    "print(f\"df_train_candidates size: {len(df_train_candidates)}, df_valid_candidates size: {len(df_valid_candidates)}\")\n",
    "df_train_candidates.head(5)"
   ]
  },
  {
   "cell_type": "code",
   "execution_count": 9,
   "id": "fb0027a4",
   "metadata": {},
   "outputs": [
    {
     "name": "stderr",
     "output_type": "stream",
     "text": [
      "100%|████████████████████████████████████████████████████████████████████████████████████████████████████| 1/1 [00:08<00:00,  8.47s/it]"
     ]
    },
    {
     "name": "stdout",
     "output_type": "stream",
     "text": [
      "df_train_candidates size: 8806245, df_valid_candidates size: 33067766\n",
      "CPU times: user 7.44 s, sys: 1.25 s, total: 8.69 s\n",
      "Wall time: 8.47 s\n"
     ]
    },
    {
     "name": "stderr",
     "output_type": "stream",
     "text": [
      "\n"
     ]
    },
    {
     "data": {
      "text/html": [
       "<div>\n",
       "<style scoped>\n",
       "    .dataframe tbody tr th:only-of-type {\n",
       "        vertical-align: middle;\n",
       "    }\n",
       "\n",
       "    .dataframe tbody tr th {\n",
       "        vertical-align: top;\n",
       "    }\n",
       "\n",
       "    .dataframe thead th {\n",
       "        text-align: right;\n",
       "    }\n",
       "</style>\n",
       "<table border=\"1\" class=\"dataframe\">\n",
       "  <thead>\n",
       "    <tr style=\"text-align: right;\">\n",
       "      <th></th>\n",
       "      <th>session</th>\n",
       "      <th>aid</th>\n",
       "      <th>ts</th>\n",
       "      <th>type</th>\n",
       "      <th>label</th>\n",
       "      <th>ts_day</th>\n",
       "      <th>session_length</th>\n",
       "      <th>action_num_reverse_chrono</th>\n",
       "      <th>log_recency_score</th>\n",
       "      <th>type_weighted_log_recency_score</th>\n",
       "      <th>item_user_count</th>\n",
       "      <th>item_item_count</th>\n",
       "      <th>item_buy_ratio</th>\n",
       "      <th>user_user_count</th>\n",
       "      <th>user_item_count</th>\n",
       "      <th>user_buy_ratio</th>\n",
       "    </tr>\n",
       "  </thead>\n",
       "  <tbody>\n",
       "    <tr>\n",
       "      <th>0</th>\n",
       "      <td>11098528</td>\n",
       "      <td>1467813</td>\n",
       "      <td>1661119200</td>\n",
       "      <td>3</td>\n",
       "      <td>0</td>\n",
       "      <td>0</td>\n",
       "      <td>10</td>\n",
       "      <td>9</td>\n",
       "      <td>0.071773</td>\n",
       "      <td>0.717735</td>\n",
       "      <td>2950.0</td>\n",
       "      <td>4355.0</td>\n",
       "      <td>0.174053</td>\n",
       "      <td>1</td>\n",
       "      <td>1</td>\n",
       "      <td>0.0</td>\n",
       "    </tr>\n",
       "    <tr>\n",
       "      <th>1</th>\n",
       "      <td>11098528</td>\n",
       "      <td>11830</td>\n",
       "      <td>1661119200</td>\n",
       "      <td>0</td>\n",
       "      <td>1</td>\n",
       "      <td>0</td>\n",
       "      <td>10</td>\n",
       "      <td>8</td>\n",
       "      <td>0.148698</td>\n",
       "      <td>0.148698</td>\n",
       "      <td>19211.0</td>\n",
       "      <td>33776.0</td>\n",
       "      <td>0.173970</td>\n",
       "      <td>1</td>\n",
       "      <td>1</td>\n",
       "      <td>0.0</td>\n",
       "    </tr>\n",
       "    <tr>\n",
       "      <th>2</th>\n",
       "      <td>11098528</td>\n",
       "      <td>1586171</td>\n",
       "      <td>1661119200</td>\n",
       "      <td>3</td>\n",
       "      <td>0</td>\n",
       "      <td>0</td>\n",
       "      <td>10</td>\n",
       "      <td>7</td>\n",
       "      <td>0.231144</td>\n",
       "      <td>2.311444</td>\n",
       "      <td>33479.0</td>\n",
       "      <td>50753.0</td>\n",
       "      <td>0.131657</td>\n",
       "      <td>1</td>\n",
       "      <td>1</td>\n",
       "      <td>0.0</td>\n",
       "    </tr>\n",
       "    <tr>\n",
       "      <th>3</th>\n",
       "      <td>11098528</td>\n",
       "      <td>1764621</td>\n",
       "      <td>1661119200</td>\n",
       "      <td>3</td>\n",
       "      <td>0</td>\n",
       "      <td>0</td>\n",
       "      <td>10</td>\n",
       "      <td>6</td>\n",
       "      <td>0.319508</td>\n",
       "      <td>3.195079</td>\n",
       "      <td>3895.0</td>\n",
       "      <td>6228.0</td>\n",
       "      <td>0.201349</td>\n",
       "      <td>1</td>\n",
       "      <td>1</td>\n",
       "      <td>0.0</td>\n",
       "    </tr>\n",
       "    <tr>\n",
       "      <th>4</th>\n",
       "      <td>11098528</td>\n",
       "      <td>307904</td>\n",
       "      <td>1661119200</td>\n",
       "      <td>3</td>\n",
       "      <td>0</td>\n",
       "      <td>0</td>\n",
       "      <td>10</td>\n",
       "      <td>5</td>\n",
       "      <td>0.414214</td>\n",
       "      <td>4.142136</td>\n",
       "      <td>5352.0</td>\n",
       "      <td>8581.0</td>\n",
       "      <td>0.121897</td>\n",
       "      <td>1</td>\n",
       "      <td>1</td>\n",
       "      <td>0.0</td>\n",
       "    </tr>\n",
       "  </tbody>\n",
       "</table>\n",
       "</div>"
      ],
      "text/plain": [
       "    session      aid          ts  type  label  ts_day  session_length  \\\n",
       "0  11098528  1467813  1661119200     3      0       0              10   \n",
       "1  11098528    11830  1661119200     0      1       0              10   \n",
       "2  11098528  1586171  1661119200     3      0       0              10   \n",
       "3  11098528  1764621  1661119200     3      0       0              10   \n",
       "4  11098528   307904  1661119200     3      0       0              10   \n",
       "\n",
       "   action_num_reverse_chrono  log_recency_score  \\\n",
       "0                          9           0.071773   \n",
       "1                          8           0.148698   \n",
       "2                          7           0.231144   \n",
       "3                          6           0.319508   \n",
       "4                          5           0.414214   \n",
       "\n",
       "   type_weighted_log_recency_score  item_user_count  item_item_count  \\\n",
       "0                         0.717735           2950.0           4355.0   \n",
       "1                         0.148698          19211.0          33776.0   \n",
       "2                         2.311444          33479.0          50753.0   \n",
       "3                         3.195079           3895.0           6228.0   \n",
       "4                         4.142136           5352.0           8581.0   \n",
       "\n",
       "   item_buy_ratio  user_user_count  user_item_count  user_buy_ratio  \n",
       "0        0.174053                1                1             0.0  \n",
       "1        0.173970                1                1             0.0  \n",
       "2        0.131657                1                1             0.0  \n",
       "3        0.201349                1                1             0.0  \n",
       "4        0.121897                1                1             0.0  "
      ]
     },
     "execution_count": 9,
     "metadata": {},
     "output_type": "execute_result"
    }
   ],
   "source": [
    "%%time\n",
    "\n",
    "train_user_feature_path = sorted(glob.glob(\n",
    "    os.path.join(DATA_PATH, \"input/feature/train/user_feature_*.parquet\")\n",
    "))\n",
    "\n",
    "for p in tqdm(train_user_feature_path):\n",
    "    df_train_candidates = df_train_candidates.merge(pd.read_parquet(p), on=\"session\", how=\"left\")\n",
    "    df_valid_candidates = df_valid_candidates.merge(pd.read_parquet(p), on=\"session\", how=\"left\")\n",
    "\n",
    "print(f\"df_train_candidates size: {len(df_train_candidates)}, df_valid_candidates size: {len(df_valid_candidates)}\")\n",
    "df_train_candidates.head(5)"
   ]
  },
  {
   "cell_type": "markdown",
   "id": "6426d06c",
   "metadata": {},
   "source": [
    "## Storage"
   ]
  },
  {
   "cell_type": "code",
   "execution_count": 10,
   "id": "cbcd94ad",
   "metadata": {},
   "outputs": [],
   "source": [
    "df_train_candidates.to_pickle(\"df_train_candidates.pkl\")\n",
    "df_valid_candidates.to_pickle(\"df_valid_candidates.pkl\")"
   ]
  },
  {
   "cell_type": "code",
   "execution_count": null,
   "id": "53db947a",
   "metadata": {},
   "outputs": [],
   "source": []
  },
  {
   "cell_type": "markdown",
   "id": "ddebfec5",
   "metadata": {},
   "source": [
    "## Feature Name"
   ]
  },
  {
   "cell_type": "code",
   "execution_count": 11,
   "id": "07ecd0d7",
   "metadata": {},
   "outputs": [
    {
     "data": {
      "text/plain": [
       "['type',\n",
       " 'user_user_count',\n",
       " 'item_buy_ratio',\n",
       " 'action_num_reverse_chrono',\n",
       " 'user_item_count',\n",
       " 'session_length',\n",
       " 'item_item_count',\n",
       " 'user_buy_ratio',\n",
       " 'type_weighted_log_recency_score',\n",
       " 'log_recency_score',\n",
       " 'ts_day',\n",
       " 'item_user_count']"
      ]
     },
     "execution_count": 11,
     "metadata": {},
     "output_type": "execute_result"
    }
   ],
   "source": [
    "FEATURE_COL = list(set(df_train_candidates.columns.tolist()) - set([\"session\", \"aid\", \"ts\", \"label\"]))\n",
    "with open(\"FEATURE_COL.txt\", \"w\") as f:\n",
    "    f.write(\"\\n\".join(FEATURE_COL))\n",
    "    \n",
    "FEATURE_COL"
   ]
  },
  {
   "cell_type": "code",
   "execution_count": null,
   "id": "db2096e7",
   "metadata": {},
   "outputs": [],
   "source": []
  },
  {
   "cell_type": "code",
   "execution_count": null,
   "id": "5e99efcb",
   "metadata": {},
   "outputs": [],
   "source": []
  },
  {
   "cell_type": "markdown",
   "id": "ced552b4",
   "metadata": {},
   "source": [
    "## Training"
   ]
  },
  {
   "cell_type": "code",
   "execution_count": 12,
   "id": "1aab6e9b",
   "metadata": {},
   "outputs": [
    {
     "name": "stderr",
     "output_type": "stream",
     "text": [
      "100%|████████████████████████████████████████████████████████████████████████████████████████████████████| 9/9 [03:31<00:00, 23.54s/it]"
     ]
    },
    {
     "name": "stdout",
     "output_type": "stream",
     "text": [
      "CPU times: user 33min 58s, sys: 29.6 s, total: 34min 28s\n",
      "Wall time: 3min 31s\n"
     ]
    },
    {
     "name": "stderr",
     "output_type": "stream",
     "text": [
      "\n"
     ]
    }
   ],
   "source": [
    "%%time\n",
    "n_estimators_candidates = list(range(10,91,10))\n",
    "\n",
    "for n_estimators in tqdm(n_estimators_candidates):\n",
    "    ranker = xgb.XGBRanker(\n",
    "#         tree_method='gpu_hist',\n",
    "        tree_method=\"hist\",\n",
    "        booster='gbtree',\n",
    "        objective='rank:pairwise',\n",
    "        random_state=42, \n",
    "        learning_rate=0.1,\n",
    "        colsample_bytree=0.9,  # 0.9\n",
    "        eta=0.05, \n",
    "        max_depth=6, \n",
    "        n_estimators=n_estimators,\n",
    "        subsample=0.8,\n",
    "        n_jobs=11\n",
    "    )\n",
    "\n",
    "    feature_cols = FEATURE_COL\n",
    "    label_col = 'label'\n",
    "\n",
    "    ranker.fit(\n",
    "        X=df_train_candidates[feature_cols],\n",
    "        y=df_train_candidates[label_col],\n",
    "        group=df_train_candidates.groupby(\"session\").count()[\"label\"]\n",
    "    )\n",
    "\n",
    "    joblib.dump(ranker, f\"orders_xgbranker_{str(n_estimators)}.m\")"
   ]
  },
  {
   "cell_type": "code",
   "execution_count": null,
   "id": "60e2a3a4",
   "metadata": {},
   "outputs": [],
   "source": []
  },
  {
   "cell_type": "code",
   "execution_count": null,
   "id": "bfcd50d5",
   "metadata": {},
   "outputs": [],
   "source": []
  },
  {
   "cell_type": "code",
   "execution_count": null,
   "id": "773bbfda",
   "metadata": {},
   "outputs": [],
   "source": []
  },
  {
   "cell_type": "markdown",
   "id": "a8ee7835",
   "metadata": {},
   "source": [
    "# Valid"
   ]
  },
  {
   "cell_type": "code",
   "execution_count": 13,
   "id": "fb7b2ba2",
   "metadata": {},
   "outputs": [
    {
     "name": "stdout",
     "output_type": "stream",
     "text": [
      "['type', 'user_user_count', 'item_buy_ratio', 'action_num_reverse_chrono', 'user_item_count', 'session_length', 'item_item_count', 'user_buy_ratio', 'type_weighted_log_recency_score', 'log_recency_score', 'ts_day', 'item_user_count']\n"
     ]
    },
    {
     "name": "stderr",
     "output_type": "stream",
     "text": [
      " 11%|███████████                                                                                         | 1/9 [00:30<04:04, 30.55s/it]"
     ]
    },
    {
     "name": "stdout",
     "output_type": "stream",
     "text": [
      "n_estimators=90 get Recall@20: 0.8034475026144497\n"
     ]
    },
    {
     "name": "stderr",
     "output_type": "stream",
     "text": [
      "\r",
      " 22%|██████████████████████▏                                                                             | 2/9 [01:00<03:32, 30.31s/it]"
     ]
    },
    {
     "name": "stdout",
     "output_type": "stream",
     "text": [
      "n_estimators=80 get Recall@20: 0.8029117092544046\n"
     ]
    },
    {
     "name": "stderr",
     "output_type": "stream",
     "text": [
      "\r",
      " 33%|█████████████████████████████████▎                                                                  | 3/9 [01:30<02:59, 29.86s/it]"
     ]
    },
    {
     "name": "stdout",
     "output_type": "stream",
     "text": [
      "n_estimators=70 get Recall@20: 0.8032645775668841\n"
     ]
    },
    {
     "name": "stderr",
     "output_type": "stream",
     "text": [
      "\r",
      " 44%|████████████████████████████████████████████▍                                                       | 4/9 [01:58<02:26, 29.34s/it]"
     ]
    },
    {
     "name": "stdout",
     "output_type": "stream",
     "text": [
      "n_estimators=60 get Recall@20: 0.8020121828036556\n"
     ]
    },
    {
     "name": "stderr",
     "output_type": "stream",
     "text": [
      "\r",
      " 56%|███████████████████████████████████████████████████████▌                                            | 5/9 [02:26<01:54, 28.67s/it]"
     ]
    },
    {
     "name": "stdout",
     "output_type": "stream",
     "text": [
      "n_estimators=50 get Recall@20: 0.8020352846866952\n"
     ]
    },
    {
     "name": "stderr",
     "output_type": "stream",
     "text": [
      "\r",
      " 67%|██████████████████████████████████████████████████████████████████▋                                 | 6/9 [02:51<01:23, 27.68s/it]"
     ]
    },
    {
     "name": "stdout",
     "output_type": "stream",
     "text": [
      "n_estimators=40 get Recall@20: 0.805536668398937\n"
     ]
    },
    {
     "name": "stderr",
     "output_type": "stream",
     "text": [
      "\r",
      " 78%|█████████████████████████████████████████████████████████████████████████████▊                      | 7/9 [03:16<00:53, 26.63s/it]"
     ]
    },
    {
     "name": "stdout",
     "output_type": "stream",
     "text": [
      "n_estimators=30 get Recall@20: 0.8058955404946412\n"
     ]
    },
    {
     "name": "stderr",
     "output_type": "stream",
     "text": [
      "\r",
      " 89%|████████████████████████████████████████████████████████████████████████████████████████▉           | 8/9 [03:40<00:25, 25.84s/it]"
     ]
    },
    {
     "name": "stdout",
     "output_type": "stream",
     "text": [
      "n_estimators=20 get Recall@20: 0.806478196221058\n"
     ]
    },
    {
     "name": "stderr",
     "output_type": "stream",
     "text": [
      "100%|████████████████████████████████████████████████████████████████████████████████████████████████████| 9/9 [04:02<00:00, 26.92s/it]"
     ]
    },
    {
     "name": "stdout",
     "output_type": "stream",
     "text": [
      "n_estimators=10 get Recall@20: 0.806092901946874\n",
      "CPU times: user 9min 1s, sys: 37.9 s, total: 9min 39s\n",
      "Wall time: 4min 2s\n"
     ]
    },
    {
     "name": "stderr",
     "output_type": "stream",
     "text": [
      "\n"
     ]
    }
   ],
   "source": [
    "%%time\n",
    "\n",
    "# ranker = joblib.load(\"carts_xgbranker_1.m\")\n",
    "\n",
    "# FEATURE_COL = list(ranker.feature_names_in_)\n",
    "with open(\"FEATURE_COL.txt\", \"r\") as f:\n",
    "    FEATURE_COL = f.read().splitlines()\n",
    "    \n",
    "print(FEATURE_COL)\n",
    "\n",
    "for n_estimators in tqdm(n_estimators_candidates[::-1]):\n",
    "    df_valid_candidates = pd.read_pickle(\"df_valid_candidates.pkl\")\n",
    "    ranker = joblib.load(f\"orders_xgbranker_{n_estimators}.m\")\n",
    "    df_valid_candidates[\"score\"] = ranker.predict(df_valid_candidates[FEATURE_COL])\n",
    "    df_valid_candidates = df_valid_candidates.sort_values(by=['session', 'score'], ascending=False)[['session', 'aid', \"label\", \"score\"]].reset_index(drop=True)\n",
    "    recall = pl.DataFrame(df_valid_candidates).groupby(\"session\").agg([\n",
    "        (pl.col(\"label\").head(20).sum()/pl.col(\"label\").sum()).alias(\"gt_ratio\")\n",
    "    ]).select(pl.col(\"gt_ratio\").drop_nans()).mean()[\"gt_ratio\"][0]\n",
    "    print(f\"n_estimators={n_estimators} get Recall@20: {recall}\")"
   ]
  },
  {
   "cell_type": "code",
   "execution_count": 54,
   "id": "ae725c2b",
   "metadata": {},
   "outputs": [
    {
     "data": {
      "text/plain": [
       "0.0014527939831891822"
      ]
     },
     "execution_count": 54,
     "metadata": {},
     "output_type": "execute_result"
    }
   ],
   "source": [
    "(0.8097062407307981 - 0.8072849174254828)*0.6"
   ]
  },
  {
   "cell_type": "code",
   "execution_count": null,
   "id": "6c7c5472",
   "metadata": {},
   "outputs": [],
   "source": []
  },
  {
   "cell_type": "code",
   "execution_count": null,
   "id": "80609cdf",
   "metadata": {},
   "outputs": [],
   "source": []
  },
  {
   "cell_type": "code",
   "execution_count": null,
   "id": "5b24118e",
   "metadata": {},
   "outputs": [],
   "source": []
  },
  {
   "cell_type": "markdown",
   "id": "07bde2b2",
   "metadata": {},
   "source": [
    "# Inference"
   ]
  },
  {
   "cell_type": "markdown",
   "id": "f710490d",
   "metadata": {},
   "source": [
    "## Feature"
   ]
  },
  {
   "cell_type": "code",
   "execution_count": 21,
   "id": "eba9f4a2",
   "metadata": {},
   "outputs": [
    {
     "name": "stdout",
     "output_type": "stream",
     "text": [
      "CPU times: user 38 s, sys: 9.34 s, total: 47.4 s\n",
      "Wall time: 28.8 s\n"
     ]
    }
   ],
   "source": [
    "%%time\n",
    "\n",
    "kaggle_train_path = sorted(glob.glob(\n",
    "    os.path.join(DATA_PATH, \"input/otto-chunk-data-inparquet-format/train_parquet/*.parquet\")\n",
    "))\n",
    "\n",
    "kaggle_test_path = sorted(glob.glob(\n",
    "    os.path.join(DATA_PATH, \"input/otto-chunk-data-inparquet-format/test_parquet/*.parquet\")\n",
    "))\n",
    "\n",
    "df_test_item = pd.concat([\n",
    "    pd.concat([read_parquet(i) for i in kaggle_train_path]),\n",
    "    pd.concat([read_parquet(i) for i in kaggle_test_path])\n",
    "])\n"
   ]
  },
  {
   "cell_type": "code",
   "execution_count": 24,
   "id": "5b878c84",
   "metadata": {},
   "outputs": [],
   "source": [
    "%%time\n",
    "\n",
    "df_test_item = pl.DataFrame(df_test_item)\n",
    "item_feature_1(df_test_item, \"test\")\n",
    "user_feature_1(df_test_item, \"test\")"
   ]
  },
  {
   "cell_type": "code",
   "execution_count": null,
   "id": "b88732af",
   "metadata": {},
   "outputs": [],
   "source": []
  },
  {
   "cell_type": "markdown",
   "id": "66f8023e",
   "metadata": {},
   "source": [
    "## Mege"
   ]
  },
  {
   "cell_type": "code",
   "execution_count": 14,
   "id": "ba808a8f",
   "metadata": {},
   "outputs": [
    {
     "data": {
      "text/html": [
       "<div>\n",
       "<style scoped>\n",
       "    .dataframe tbody tr th:only-of-type {\n",
       "        vertical-align: middle;\n",
       "    }\n",
       "\n",
       "    .dataframe tbody tr th {\n",
       "        vertical-align: top;\n",
       "    }\n",
       "\n",
       "    .dataframe thead th {\n",
       "        text-align: right;\n",
       "    }\n",
       "</style>\n",
       "<table border=\"1\" class=\"dataframe\">\n",
       "  <thead>\n",
       "    <tr style=\"text-align: right;\">\n",
       "      <th></th>\n",
       "      <th>session</th>\n",
       "      <th>aid</th>\n",
       "      <th>ts</th>\n",
       "      <th>type</th>\n",
       "    </tr>\n",
       "  </thead>\n",
       "  <tbody>\n",
       "    <tr>\n",
       "      <th>0</th>\n",
       "      <td>12899779</td>\n",
       "      <td>59625</td>\n",
       "      <td>1661724000</td>\n",
       "      <td>0</td>\n",
       "    </tr>\n",
       "    <tr>\n",
       "      <th>1</th>\n",
       "      <td>12899779</td>\n",
       "      <td>469285</td>\n",
       "      <td>1661724000</td>\n",
       "      <td>3</td>\n",
       "    </tr>\n",
       "    <tr>\n",
       "      <th>2</th>\n",
       "      <td>12899779</td>\n",
       "      <td>1493965</td>\n",
       "      <td>1661724000</td>\n",
       "      <td>3</td>\n",
       "    </tr>\n",
       "    <tr>\n",
       "      <th>3</th>\n",
       "      <td>12899779</td>\n",
       "      <td>438191</td>\n",
       "      <td>1661724000</td>\n",
       "      <td>3</td>\n",
       "    </tr>\n",
       "    <tr>\n",
       "      <th>4</th>\n",
       "      <td>12899779</td>\n",
       "      <td>731692</td>\n",
       "      <td>1661724000</td>\n",
       "      <td>3</td>\n",
       "    </tr>\n",
       "    <tr>\n",
       "      <th>...</th>\n",
       "      <td>...</td>\n",
       "      <td>...</td>\n",
       "      <td>...</td>\n",
       "      <td>...</td>\n",
       "    </tr>\n",
       "    <tr>\n",
       "      <th>101041929</th>\n",
       "      <td>13899778</td>\n",
       "      <td>880834</td>\n",
       "      <td>1661724000</td>\n",
       "      <td>3</td>\n",
       "    </tr>\n",
       "    <tr>\n",
       "      <th>101041930</th>\n",
       "      <td>13899778</td>\n",
       "      <td>894123</td>\n",
       "      <td>1661724000</td>\n",
       "      <td>3</td>\n",
       "    </tr>\n",
       "    <tr>\n",
       "      <th>101041931</th>\n",
       "      <td>13899778</td>\n",
       "      <td>907634</td>\n",
       "      <td>1661724000</td>\n",
       "      <td>3</td>\n",
       "    </tr>\n",
       "    <tr>\n",
       "      <th>101041932</th>\n",
       "      <td>13899778</td>\n",
       "      <td>937690</td>\n",
       "      <td>1661724000</td>\n",
       "      <td>3</td>\n",
       "    </tr>\n",
       "    <tr>\n",
       "      <th>101041933</th>\n",
       "      <td>13899778</td>\n",
       "      <td>1043281</td>\n",
       "      <td>1661724000</td>\n",
       "      <td>3</td>\n",
       "    </tr>\n",
       "  </tbody>\n",
       "</table>\n",
       "<p>168843437 rows × 4 columns</p>\n",
       "</div>"
      ],
      "text/plain": [
       "            session      aid          ts  type\n",
       "0          12899779    59625  1661724000     0\n",
       "1          12899779   469285  1661724000     3\n",
       "2          12899779  1493965  1661724000     3\n",
       "3          12899779   438191  1661724000     3\n",
       "4          12899779   731692  1661724000     3\n",
       "...             ...      ...         ...   ...\n",
       "101041929  13899778   880834  1661724000     3\n",
       "101041930  13899778   894123  1661724000     3\n",
       "101041931  13899778   907634  1661724000     3\n",
       "101041932  13899778   937690  1661724000     3\n",
       "101041933  13899778  1043281  1661724000     3\n",
       "\n",
       "[168843437 rows x 4 columns]"
      ]
     },
     "execution_count": 14,
     "metadata": {},
     "output_type": "execute_result"
    }
   ],
   "source": [
    "kaggle_test_candidates_path = sorted(glob.glob(\n",
    "    os.path.join(DATA_PATH, \"input/otto-test-chunk-candidates-top100/test_chunk_data/test_chunk_data/*_candidates.pkl\")\n",
    "))\n",
    "\n",
    "df_kaggle_test = pd.concat([pd.read_pickle(i) for i in kaggle_test_candidates_path])\n",
    "df_kaggle_test"
   ]
  },
  {
   "cell_type": "code",
   "execution_count": 15,
   "id": "65fb40f7",
   "metadata": {},
   "outputs": [
    {
     "name": "stderr",
     "output_type": "stream",
     "text": [
      "100%|████████████████████████████████████████████████████████████████████████████████████████████████████| 5/5 [00:31<00:00,  6.34s/it]\n",
      "100%|████████████████████████████████████████████████████████████████████████████████████████████████████| 1/1 [00:24<00:00, 24.11s/it]\n",
      "100%|███████████████████████████████████████████████████████████████████████████████████████████████████| 1/1 [01:41<00:00, 101.02s/it]"
     ]
    },
    {
     "name": "stdout",
     "output_type": "stream",
     "text": [
      "CPU times: user 2min 14s, sys: 22.1 s, total: 2min 36s\n",
      "Wall time: 2min 36s\n"
     ]
    },
    {
     "name": "stderr",
     "output_type": "stream",
     "text": [
      "\n"
     ]
    }
   ],
   "source": [
    "%%time\n",
    "\n",
    "for p in tqdm(pipeline):\n",
    "    df_kaggle_test = p(df_kaggle_test)\n",
    "\n",
    "\n",
    "test_user_feature_path = sorted(glob.glob(\n",
    "    os.path.join(DATA_PATH, \"input/feature/test/user_feature_*.parquet\")\n",
    "))\n",
    "for p in tqdm(train_user_feature_path):\n",
    "    df_kaggle_test = df_kaggle_test.merge(pd.read_parquet(p), on=\"session\", how=\"left\")\n",
    "\n",
    "\n",
    "test_item_feature_path = sorted(glob.glob(\n",
    "    os.path.join(DATA_PATH, \"input/feature/test/item_feature_*.parquet\")\n",
    "))\n",
    "for p in tqdm(train_item_feature_path):\n",
    "    df_kaggle_test = df_kaggle_test.merge(pd.read_parquet(p), on=\"aid\", how=\"left\")"
   ]
  },
  {
   "cell_type": "code",
   "execution_count": 16,
   "id": "7776f6e6",
   "metadata": {},
   "outputs": [
    {
     "name": "stdout",
     "output_type": "stream",
     "text": [
      "CPU times: user 4min 14s, sys: 12.5 s, total: 4min 27s\n",
      "Wall time: 2min 25s\n"
     ]
    },
    {
     "data": {
      "text/html": [
       "<div>\n",
       "<style scoped>\n",
       "    .dataframe tbody tr th:only-of-type {\n",
       "        vertical-align: middle;\n",
       "    }\n",
       "\n",
       "    .dataframe tbody tr th {\n",
       "        vertical-align: top;\n",
       "    }\n",
       "\n",
       "    .dataframe thead th {\n",
       "        text-align: right;\n",
       "    }\n",
       "</style>\n",
       "<table border=\"1\" class=\"dataframe\">\n",
       "  <thead>\n",
       "    <tr style=\"text-align: right;\">\n",
       "      <th></th>\n",
       "      <th>session</th>\n",
       "      <th>aid</th>\n",
       "    </tr>\n",
       "  </thead>\n",
       "  <tbody>\n",
       "    <tr>\n",
       "      <th>0</th>\n",
       "      <td>12899779</td>\n",
       "      <td>[475447, 448688, 985764, 1340695, 1422133, 696...</td>\n",
       "    </tr>\n",
       "    <tr>\n",
       "      <th>1</th>\n",
       "      <td>12899780</td>\n",
       "      <td>[973453, 736515, 582732, 1142000, 1142000, 137...</td>\n",
       "    </tr>\n",
       "    <tr>\n",
       "      <th>2</th>\n",
       "      <td>12899781</td>\n",
       "      <td>[199008, 57315, 141736, 199008, 199008, 199008...</td>\n",
       "    </tr>\n",
       "    <tr>\n",
       "      <th>3</th>\n",
       "      <td>12899782</td>\n",
       "      <td>[740494, 987399, 834354, 834354, 889671, 12740...</td>\n",
       "    </tr>\n",
       "    <tr>\n",
       "      <th>4</th>\n",
       "      <td>12899783</td>\n",
       "      <td>[255297, 198385, 255297, 1729553, 1817895, 111...</td>\n",
       "    </tr>\n",
       "    <tr>\n",
       "      <th>...</th>\n",
       "      <td>...</td>\n",
       "      <td>...</td>\n",
       "    </tr>\n",
       "    <tr>\n",
       "      <th>1671798</th>\n",
       "      <td>14571577</td>\n",
       "      <td>[1141710, 166065, 30148, 512809, 287041, 63870...</td>\n",
       "    </tr>\n",
       "    <tr>\n",
       "      <th>1671799</th>\n",
       "      <td>14571578</td>\n",
       "      <td>[1403962, 131032, 1174989, 40598, 5095, 231888...</td>\n",
       "    </tr>\n",
       "    <tr>\n",
       "      <th>1671800</th>\n",
       "      <td>14571579</td>\n",
       "      <td>[739876, 304799, 630181, 653990, 1590992, 1557...</td>\n",
       "    </tr>\n",
       "    <tr>\n",
       "      <th>1671801</th>\n",
       "      <td>14571580</td>\n",
       "      <td>[202353, 391852, 1652005, 441903, 142475, 2488...</td>\n",
       "    </tr>\n",
       "    <tr>\n",
       "      <th>1671802</th>\n",
       "      <td>14571581</td>\n",
       "      <td>[1100210, 1395895, 1072049, 281335, 644819, 15...</td>\n",
       "    </tr>\n",
       "  </tbody>\n",
       "</table>\n",
       "<p>1671803 rows × 2 columns</p>\n",
       "</div>"
      ],
      "text/plain": [
       "          session                                                aid\n",
       "0        12899779  [475447, 448688, 985764, 1340695, 1422133, 696...\n",
       "1        12899780  [973453, 736515, 582732, 1142000, 1142000, 137...\n",
       "2        12899781  [199008, 57315, 141736, 199008, 199008, 199008...\n",
       "3        12899782  [740494, 987399, 834354, 834354, 889671, 12740...\n",
       "4        12899783  [255297, 198385, 255297, 1729553, 1817895, 111...\n",
       "...           ...                                                ...\n",
       "1671798  14571577  [1141710, 166065, 30148, 512809, 287041, 63870...\n",
       "1671799  14571578  [1403962, 131032, 1174989, 40598, 5095, 231888...\n",
       "1671800  14571579  [739876, 304799, 630181, 653990, 1590992, 1557...\n",
       "1671801  14571580  [202353, 391852, 1652005, 441903, 142475, 2488...\n",
       "1671802  14571581  [1100210, 1395895, 1072049, 281335, 644819, 15...\n",
       "\n",
       "[1671803 rows x 2 columns]"
      ]
     },
     "execution_count": 16,
     "metadata": {},
     "output_type": "execute_result"
    }
   ],
   "source": [
    "%%time\n",
    "best_n_estimators = \"20\"\n",
    "ranker = joblib.load(f\"orders_xgbranker_{best_n_estimators}.m\")\n",
    "df_kaggle_test[\"score\"] = ranker.predict(df_kaggle_test[FEATURE_COL])\n",
    "df_kaggle_test = df_kaggle_test.sort_values(by=['session', 'score'], ascending=False)[['session', 'aid']].reset_index(drop=True)\n",
    "df_kaggle_test = df_kaggle_test.groupby('session').head(20).groupby('session').agg(list).reset_index(drop=False)\n",
    "df_kaggle_test"
   ]
  },
  {
   "cell_type": "code",
   "execution_count": 17,
   "id": "a87bc0ab",
   "metadata": {},
   "outputs": [
    {
     "name": "stdout",
     "output_type": "stream",
     "text": [
      "CPU times: user 31.4 s, sys: 1.54 s, total: 32.9 s\n",
      "Wall time: 36.4 s\n"
     ]
    },
    {
     "data": {
      "text/plain": [
       "(5015409, 2)"
      ]
     },
     "execution_count": 17,
     "metadata": {},
     "output_type": "execute_result"
    }
   ],
   "source": [
    "%%time\n",
    "\n",
    "df_kaggle_test[\"session_type\"] = df_kaggle_test[\"session\"].apply(lambda x: str(x)+\"_orders\")\n",
    "# df_test[\"session_type\"] = df_test[\"session\"].apply(lambda x: str(x)+\"_carts\")\n",
    "df_kaggle_test = df_kaggle_test.rename({\"aid\": \"labels\"}, axis=1)[[\"session_type\", \"labels\"]]\n",
    "df_kaggle_test[\"labels\"] = df_kaggle_test[\"labels\"].apply(lambda x: \" \".join([str(_) for _ in x]))\n",
    "df_submission = pd.read_csv(\"../data/output/submission_578.csv\")\n",
    "# df_submission = df_submission[~df_submission.session_type.str.contains(\"_carts$\")]\n",
    "df_submission = df_submission[~df_submission.session_type.str.contains(\"_orders$\")]\n",
    "df_submission = pd.concat([df_kaggle_test, df_submission])\n",
    "df_submission.to_csv(\"../data/output/submission_optim_orders.csv\", index=False)\n",
    "df_submission.shape"
   ]
  },
  {
   "cell_type": "code",
   "execution_count": null,
   "id": "3cf02c9a",
   "metadata": {},
   "outputs": [],
   "source": []
  },
  {
   "cell_type": "code",
   "execution_count": null,
   "id": "40d26ad7",
   "metadata": {},
   "outputs": [],
   "source": []
  },
  {
   "cell_type": "code",
   "execution_count": null,
   "id": "60b44833",
   "metadata": {},
   "outputs": [],
   "source": []
  },
  {
   "cell_type": "code",
   "execution_count": 41,
   "id": "71f18031",
   "metadata": {},
   "outputs": [
    {
     "data": {
      "text/plain": [
       "(5015409, 2)"
      ]
     },
     "execution_count": 41,
     "metadata": {},
     "output_type": "execute_result"
    }
   ],
   "source": [
    "df_submission = pd.read_csv(\"../data/output/submission_578.csv\")\n",
    "# df_submission = df_submission[~df_submission.session_type.str.contains(\"_carts$\")]\n",
    "df_submission = df_submission[~df_submission.session_type.str.contains(\"_orders$\")]\n",
    "df_submission = pd.concat([df_kaggle_test, df_submission])\n",
    "df_submission.to_csv(\"../data/output/submission_optim_orders.csv\", index=False)\n",
    "df_submission.shape"
   ]
  },
  {
   "cell_type": "code",
   "execution_count": null,
   "id": "e70d572e",
   "metadata": {},
   "outputs": [],
   "source": []
  },
  {
   "cell_type": "code",
   "execution_count": null,
   "id": "6a0d4f6a",
   "metadata": {},
   "outputs": [],
   "source": []
  },
  {
   "cell_type": "code",
   "execution_count": null,
   "id": "8d90472a",
   "metadata": {},
   "outputs": [],
   "source": []
  },
  {
   "cell_type": "code",
   "execution_count": null,
   "id": "dfcf90f6",
   "metadata": {},
   "outputs": [],
   "source": []
  },
  {
   "cell_type": "code",
   "execution_count": null,
   "id": "0ae16086",
   "metadata": {},
   "outputs": [],
   "source": []
  },
  {
   "cell_type": "code",
   "execution_count": null,
   "id": "c7f1a6ea",
   "metadata": {},
   "outputs": [],
   "source": []
  },
  {
   "cell_type": "code",
   "execution_count": null,
   "id": "dd46d467",
   "metadata": {},
   "outputs": [],
   "source": []
  },
  {
   "cell_type": "code",
   "execution_count": null,
   "id": "24b9dc01",
   "metadata": {},
   "outputs": [],
   "source": []
  },
  {
   "cell_type": "code",
   "execution_count": null,
   "id": "1b32cbce",
   "metadata": {},
   "outputs": [],
   "source": []
  },
  {
   "cell_type": "code",
   "execution_count": null,
   "id": "21a0df90",
   "metadata": {},
   "outputs": [],
   "source": []
  },
  {
   "cell_type": "code",
   "execution_count": null,
   "id": "449be061",
   "metadata": {},
   "outputs": [],
   "source": []
  },
  {
   "cell_type": "code",
   "execution_count": null,
   "id": "459129a8",
   "metadata": {},
   "outputs": [],
   "source": []
  },
  {
   "cell_type": "code",
   "execution_count": null,
   "id": "d29a4ce2",
   "metadata": {},
   "outputs": [],
   "source": []
  },
  {
   "cell_type": "code",
   "execution_count": null,
   "id": "9ca3e6df",
   "metadata": {},
   "outputs": [],
   "source": []
  },
  {
   "cell_type": "code",
   "execution_count": null,
   "id": "7e59fae4",
   "metadata": {},
   "outputs": [],
   "source": []
  }
 ],
 "metadata": {
  "kernelspec": {
   "display_name": "Python 3 (ipykernel)",
   "language": "python",
   "name": "python3"
  },
  "language_info": {
   "codemirror_mode": {
    "name": "ipython",
    "version": 3
   },
   "file_extension": ".py",
   "mimetype": "text/x-python",
   "name": "python",
   "nbconvert_exporter": "python",
   "pygments_lexer": "ipython3",
   "version": "3.8.15"
  }
 },
 "nbformat": 4,
 "nbformat_minor": 5
}
