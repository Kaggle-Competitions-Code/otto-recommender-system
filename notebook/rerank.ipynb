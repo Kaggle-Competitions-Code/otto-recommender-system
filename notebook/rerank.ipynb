{
 "cells": [
  {
   "cell_type": "code",
   "execution_count": 1,
   "id": "cb287cab",
   "metadata": {},
   "outputs": [],
   "source": [
    "import os\n",
    "import time\n",
    "import glob\n",
    "import gc\n",
    "import warnings\n",
    "from multiprocessing import Pool\n",
    "\n",
    "from tqdm import tqdm\n",
    "import pandas as pd\n",
    "import polars as pl\n",
    "import numpy as np\n",
    "import xgboost as xgb\n",
    "# import cudf\n",
    "from sklearn.model_selection import GroupKFold\n",
    "import joblib\n",
    "# from openfe import openfe, transform\n",
    "\n",
    "warnings.filterwarnings(\"ignore\")"
   ]
  },
  {
   "cell_type": "markdown",
   "id": "9491800c",
   "metadata": {},
   "source": [
    "# Param"
   ]
  },
  {
   "cell_type": "code",
   "execution_count": 2,
   "id": "6cd2d391",
   "metadata": {},
   "outputs": [],
   "source": [
    "DATA_PATH = \"/home/search3/lichunyu/otto-recommender-system/data\"\n",
    "TYPE_MAP = {'clicks':0, 'carts':1, 'orders':2}\n",
    "DOWNSAMPLE_RATE = 20\n",
    "\n",
    "def read_parquet(f):\n",
    "    df = pd.read_parquet(f)\n",
    "    df.ts = (df.ts/1000).astype('int32')\n",
    "    df['type'] = df['type'].map(TYPE_MAP).astype('int8')\n",
    "    return df"
   ]
  },
  {
   "cell_type": "markdown",
   "id": "53bd7152",
   "metadata": {},
   "source": [
    "## Model Train"
   ]
  },
  {
   "cell_type": "code",
   "execution_count": 5,
   "id": "668ec930",
   "metadata": {},
   "outputs": [
    {
     "name": "stdout",
     "output_type": "stream",
     "text": [
      "CPU times: user 44.9 s, sys: 7.33 s, total: 52.2 s\n",
      "Wall time: 51 s\n"
     ]
    },
    {
     "data": {
      "text/plain": [
       "(89862970, 3)"
      ]
     },
     "execution_count": 5,
     "metadata": {},
     "output_type": "execute_result"
    }
   ],
   "source": [
    "%%time\n",
    "\n",
    "# valid_a_candidates_path = sorted(glob.glob(\n",
    "#     os.path.join(DATA_PATH, \"input/otto-candidates/valid_a_candidates/valid_a_candidates_buys_top50.parquet \")\n",
    "# ))\n",
    "\n",
    "# df_train_candidates = pd.concat([pd.read_parquet(i) for i in valid_a_candidates_path])\n",
    "\n",
    "valid_a_candidates_path = os.path.join(DATA_PATH, \"input/otto-candidates/valid_a_candidates/valid_a_candidates_buys_top50.parquet\")\n",
    "df_train_candidates = pd.read_parquet(valid_a_candidates_path)\n",
    "\n",
    "\n",
    "df_train_label = pd.read_parquet(\n",
    "    os.path.join(DATA_PATH, \"input/otto-validation/test_labels.parquet\")\n",
    ")\n",
    "df_train_label = df_train_label[df_train_label[\"type\"]==\"orders\"][[\"session\", \"ground_truth\"]]\n",
    "df_train_label = df_train_label.explode(\"ground_truth\").reset_index(drop=True)\n",
    "df_train_label = df_train_label.rename({\"ground_truth\": \"aid\"}, axis=1)\n",
    "df_train_label[\"label\"] = 1\n",
    "\n",
    "df_train_candidates = df_train_candidates.merge(df_train_label, on=[\"session\", \"aid\"], how=\"left\").fillna({\"label\": 0})\n",
    "df_train_candidates[\"label\"] = df_train_candidates[\"label\"].astype(\"int\")\n",
    "df_train_candidates.shape"
   ]
  },
  {
   "cell_type": "code",
   "execution_count": 6,
   "id": "7c433a8c",
   "metadata": {},
   "outputs": [
    {
     "name": "stdout",
     "output_type": "stream",
     "text": [
      "origin all data size: 89862970\n",
      "current negative size: 73396016, postive size: 175530, rate: 418\n",
      "df_train_candidates size: 3686130, df_valid_candidates size: 16291424\n"
     ]
    }
   ],
   "source": [
    "def downsample(df, n=-1):\n",
    "    if n == -1:\n",
    "        n = DOWNSAMPLE_RATE\n",
    "    df_negative = df[df[\"label\"]==0]\n",
    "    df_postive = df[df[\"label\"]==1]\n",
    "    r = len(df_negative)//len(df_postive)\n",
    "    print(f\"current negative size: {len(df_negative)}, postive size: {len(df_postive)}, rate: {r}\")\n",
    "    if r > n:\n",
    "        gloden_negative_size = n * len(df_postive)\n",
    "        df_negative = df_negative.sample(gloden_negative_size)\n",
    "        df = pd.concat([df_postive, df_negative])\n",
    "    df[\"_noise\"] = np.random.randn(len(df))\n",
    "    df = df.sort_values([\"session\", \"_noise\"])\n",
    "    df = df.drop(\"_noise\", axis=1).reset_index(drop=True)\n",
    "    return df\n",
    "\n",
    "\n",
    "def train_valid_split(df):\n",
    "    print(f\"origin all data size: {len(df)}\")\n",
    "    valid_session = np.random.choice(df_train_candidates.session.unique(), int(len(df_train_candidates.session.unique())*0.2))\n",
    "    df_train = df[~df[\"session\"].isin(valid_session)]\n",
    "    df_valid = df[df[\"session\"].isin(valid_session)]\n",
    "    df_train = downsample(df_train)\n",
    "    return df_train, df_valid\n",
    "\n",
    "\n",
    "df_train_candidates, df_valid_candidates = train_valid_split(df_train_candidates)\n",
    "df_train_candidates[\"label\"] = df_train_candidates[\"label\"].astype(\"int\")\n",
    "df_valid_candidates[\"label\"] = df_valid_candidates[\"label\"].astype(\"int\")\n",
    "print(f\"df_train_candidates size: {len(df_train_candidates)}, df_valid_candidates size: {len(df_valid_candidates)}\")\n",
    "\n",
    "# storage\n",
    "# df_train_candidates.to_pickle(\"df_train_candidates.pkl\")\n",
    "# df_valid_candidates.to_pickle(\"df_valid_candidates.pkl\")"
   ]
  },
  {
   "cell_type": "code",
   "execution_count": 6,
   "id": "3281b148",
   "metadata": {},
   "outputs": [
    {
     "name": "stdout",
     "output_type": "stream",
     "text": [
      "CPU times: user 7.41 s, sys: 1.16 s, total: 8.56 s\n",
      "Wall time: 8.56 s\n"
     ]
    }
   ],
   "source": [
    "# %%time\n",
    "\n",
    "# for p in pipeline:\n",
    "#     df_train_candidates = p(df_train_candidates)\n",
    "#     df_valid_candidates = p(df_valid_candidates)"
   ]
  },
  {
   "cell_type": "code",
   "execution_count": 7,
   "id": "4650e435",
   "metadata": {},
   "outputs": [
    {
     "name": "stderr",
     "output_type": "stream",
     "text": [
      "100%|████████████████████████████████████████████████████████████████████████████████████████████████████| 1/1 [00:09<00:00,  9.96s/it]"
     ]
    },
    {
     "name": "stdout",
     "output_type": "stream",
     "text": [
      "df_train_candidates size: 3686130, df_valid_candidates size: 16291424\n",
      "CPU times: user 9.64 s, sys: 548 ms, total: 10.2 s\n",
      "Wall time: 9.96 s\n"
     ]
    },
    {
     "name": "stderr",
     "output_type": "stream",
     "text": [
      "\n"
     ]
    },
    {
     "data": {
      "text/html": [
       "<div>\n",
       "<style scoped>\n",
       "    .dataframe tbody tr th:only-of-type {\n",
       "        vertical-align: middle;\n",
       "    }\n",
       "\n",
       "    .dataframe tbody tr th {\n",
       "        vertical-align: top;\n",
       "    }\n",
       "\n",
       "    .dataframe thead th {\n",
       "        text-align: right;\n",
       "    }\n",
       "</style>\n",
       "<table border=\"1\" class=\"dataframe\">\n",
       "  <thead>\n",
       "    <tr style=\"text-align: right;\">\n",
       "      <th></th>\n",
       "      <th>session</th>\n",
       "      <th>aid</th>\n",
       "      <th>label</th>\n",
       "      <th>item_user_count</th>\n",
       "      <th>item_item_count</th>\n",
       "      <th>item_buy_ratio</th>\n",
       "    </tr>\n",
       "  </thead>\n",
       "  <tbody>\n",
       "    <tr>\n",
       "      <th>0</th>\n",
       "      <td>11098528</td>\n",
       "      <td>542780</td>\n",
       "      <td>0</td>\n",
       "      <td>10772</td>\n",
       "      <td>16655</td>\n",
       "      <td>0.071390</td>\n",
       "    </tr>\n",
       "    <tr>\n",
       "      <th>1</th>\n",
       "      <td>11098528</td>\n",
       "      <td>205357</td>\n",
       "      <td>0</td>\n",
       "      <td>5105</td>\n",
       "      <td>8528</td>\n",
       "      <td>0.084780</td>\n",
       "    </tr>\n",
       "    <tr>\n",
       "      <th>2</th>\n",
       "      <td>11098528</td>\n",
       "      <td>822934</td>\n",
       "      <td>0</td>\n",
       "      <td>14015</td>\n",
       "      <td>23154</td>\n",
       "      <td>0.192451</td>\n",
       "    </tr>\n",
       "    <tr>\n",
       "      <th>3</th>\n",
       "      <td>11098528</td>\n",
       "      <td>487136</td>\n",
       "      <td>0</td>\n",
       "      <td>18408</td>\n",
       "      <td>29704</td>\n",
       "      <td>0.155232</td>\n",
       "    </tr>\n",
       "    <tr>\n",
       "      <th>4</th>\n",
       "      <td>11098528</td>\n",
       "      <td>11830</td>\n",
       "      <td>1</td>\n",
       "      <td>19211</td>\n",
       "      <td>33776</td>\n",
       "      <td>0.173970</td>\n",
       "    </tr>\n",
       "  </tbody>\n",
       "</table>\n",
       "</div>"
      ],
      "text/plain": [
       "    session     aid  label  item_user_count  item_item_count  item_buy_ratio\n",
       "0  11098528  542780      0            10772            16655        0.071390\n",
       "1  11098528  205357      0             5105             8528        0.084780\n",
       "2  11098528  822934      0            14015            23154        0.192451\n",
       "3  11098528  487136      0            18408            29704        0.155232\n",
       "4  11098528   11830      1            19211            33776        0.173970"
      ]
     },
     "execution_count": 7,
     "metadata": {},
     "output_type": "execute_result"
    }
   ],
   "source": [
    "%%time\n",
    "\n",
    "train_item_feature_path = sorted(glob.glob(\n",
    "    os.path.join(DATA_PATH, \"input/feature/train/item_feature_*.parquet\")\n",
    "))\n",
    "\n",
    "for p in tqdm(train_item_feature_path):\n",
    "    df_train_candidates = df_train_candidates.merge(pd.read_parquet(p), on=\"aid\", how=\"left\")\n",
    "    df_valid_candidates = df_valid_candidates.merge(pd.read_parquet(p), on=\"aid\", how=\"left\")\n",
    "\n",
    "print(f\"df_train_candidates size: {len(df_train_candidates)}, df_valid_candidates size: {len(df_valid_candidates)}\")\n",
    "df_train_candidates.head(5)"
   ]
  },
  {
   "cell_type": "code",
   "execution_count": 8,
   "id": "fb0027a4",
   "metadata": {},
   "outputs": [
    {
     "name": "stderr",
     "output_type": "stream",
     "text": [
      "100%|████████████████████████████████████████████████████████████████████████████████████████████████████| 1/1 [00:03<00:00,  3.86s/it]"
     ]
    },
    {
     "name": "stdout",
     "output_type": "stream",
     "text": [
      "df_train_candidates size: 3686130, df_valid_candidates size: 16291424\n",
      "CPU times: user 3.57 s, sys: 497 ms, total: 4.07 s\n",
      "Wall time: 3.87 s\n"
     ]
    },
    {
     "name": "stderr",
     "output_type": "stream",
     "text": [
      "\n"
     ]
    },
    {
     "data": {
      "text/html": [
       "<div>\n",
       "<style scoped>\n",
       "    .dataframe tbody tr th:only-of-type {\n",
       "        vertical-align: middle;\n",
       "    }\n",
       "\n",
       "    .dataframe tbody tr th {\n",
       "        vertical-align: top;\n",
       "    }\n",
       "\n",
       "    .dataframe thead th {\n",
       "        text-align: right;\n",
       "    }\n",
       "</style>\n",
       "<table border=\"1\" class=\"dataframe\">\n",
       "  <thead>\n",
       "    <tr style=\"text-align: right;\">\n",
       "      <th></th>\n",
       "      <th>session</th>\n",
       "      <th>aid</th>\n",
       "      <th>label</th>\n",
       "      <th>item_user_count</th>\n",
       "      <th>item_item_count</th>\n",
       "      <th>item_buy_ratio</th>\n",
       "      <th>user_user_count</th>\n",
       "      <th>user_item_count</th>\n",
       "      <th>user_buy_ratio</th>\n",
       "    </tr>\n",
       "  </thead>\n",
       "  <tbody>\n",
       "    <tr>\n",
       "      <th>0</th>\n",
       "      <td>11098528</td>\n",
       "      <td>542780</td>\n",
       "      <td>0</td>\n",
       "      <td>10772</td>\n",
       "      <td>16655</td>\n",
       "      <td>0.071390</td>\n",
       "      <td>1</td>\n",
       "      <td>1</td>\n",
       "      <td>0.0</td>\n",
       "    </tr>\n",
       "    <tr>\n",
       "      <th>1</th>\n",
       "      <td>11098528</td>\n",
       "      <td>205357</td>\n",
       "      <td>0</td>\n",
       "      <td>5105</td>\n",
       "      <td>8528</td>\n",
       "      <td>0.084780</td>\n",
       "      <td>1</td>\n",
       "      <td>1</td>\n",
       "      <td>0.0</td>\n",
       "    </tr>\n",
       "    <tr>\n",
       "      <th>2</th>\n",
       "      <td>11098528</td>\n",
       "      <td>822934</td>\n",
       "      <td>0</td>\n",
       "      <td>14015</td>\n",
       "      <td>23154</td>\n",
       "      <td>0.192451</td>\n",
       "      <td>1</td>\n",
       "      <td>1</td>\n",
       "      <td>0.0</td>\n",
       "    </tr>\n",
       "    <tr>\n",
       "      <th>3</th>\n",
       "      <td>11098528</td>\n",
       "      <td>487136</td>\n",
       "      <td>0</td>\n",
       "      <td>18408</td>\n",
       "      <td>29704</td>\n",
       "      <td>0.155232</td>\n",
       "      <td>1</td>\n",
       "      <td>1</td>\n",
       "      <td>0.0</td>\n",
       "    </tr>\n",
       "    <tr>\n",
       "      <th>4</th>\n",
       "      <td>11098528</td>\n",
       "      <td>11830</td>\n",
       "      <td>1</td>\n",
       "      <td>19211</td>\n",
       "      <td>33776</td>\n",
       "      <td>0.173970</td>\n",
       "      <td>1</td>\n",
       "      <td>1</td>\n",
       "      <td>0.0</td>\n",
       "    </tr>\n",
       "  </tbody>\n",
       "</table>\n",
       "</div>"
      ],
      "text/plain": [
       "    session     aid  label  item_user_count  item_item_count  item_buy_ratio  \\\n",
       "0  11098528  542780      0            10772            16655        0.071390   \n",
       "1  11098528  205357      0             5105             8528        0.084780   \n",
       "2  11098528  822934      0            14015            23154        0.192451   \n",
       "3  11098528  487136      0            18408            29704        0.155232   \n",
       "4  11098528   11830      1            19211            33776        0.173970   \n",
       "\n",
       "   user_user_count  user_item_count  user_buy_ratio  \n",
       "0                1                1             0.0  \n",
       "1                1                1             0.0  \n",
       "2                1                1             0.0  \n",
       "3                1                1             0.0  \n",
       "4                1                1             0.0  "
      ]
     },
     "execution_count": 8,
     "metadata": {},
     "output_type": "execute_result"
    }
   ],
   "source": [
    "%%time\n",
    "\n",
    "train_user_feature_path = sorted(glob.glob(\n",
    "    os.path.join(DATA_PATH, \"input/feature/train/user_feature_*.parquet\")\n",
    "))\n",
    "\n",
    "for p in tqdm(train_user_feature_path):\n",
    "    df_train_candidates = df_train_candidates.merge(pd.read_parquet(p), on=\"session\", how=\"left\")\n",
    "    df_valid_candidates = df_valid_candidates.merge(pd.read_parquet(p), on=\"session\", how=\"left\")\n",
    "\n",
    "print(f\"df_train_candidates size: {len(df_train_candidates)}, df_valid_candidates size: {len(df_valid_candidates)}\")\n",
    "df_train_candidates.head(5)"
   ]
  },
  {
   "cell_type": "markdown",
   "id": "6426d06c",
   "metadata": {},
   "source": [
    "## Storage"
   ]
  },
  {
   "cell_type": "code",
   "execution_count": 9,
   "id": "cbcd94ad",
   "metadata": {},
   "outputs": [],
   "source": [
    "df_train_candidates.to_pickle(\"df_train_candidates.pkl\")\n",
    "df_valid_candidates.to_pickle(\"df_valid_candidates.pkl\")"
   ]
  },
  {
   "cell_type": "code",
   "execution_count": null,
   "id": "53db947a",
   "metadata": {},
   "outputs": [],
   "source": []
  },
  {
   "cell_type": "markdown",
   "id": "ddebfec5",
   "metadata": {},
   "source": [
    "## Feature Name"
   ]
  },
  {
   "cell_type": "code",
   "execution_count": 10,
   "id": "07ecd0d7",
   "metadata": {},
   "outputs": [
    {
     "data": {
      "text/plain": [
       "['user_user_count',\n",
       " 'item_item_count',\n",
       " 'item_buy_ratio',\n",
       " 'item_user_count',\n",
       " 'user_buy_ratio',\n",
       " 'user_item_count']"
      ]
     },
     "execution_count": 10,
     "metadata": {},
     "output_type": "execute_result"
    }
   ],
   "source": [
    "FEATURE_COL = list(set(df_train_candidates.columns.tolist()) - set([\"session\", \"aid\", \"ts\", \"label\"]))\n",
    "with open(\"FEATURE_COL.txt\", \"w\") as f:\n",
    "    f.write(\"\\n\".join(FEATURE_COL))\n",
    "    \n",
    "FEATURE_COL"
   ]
  },
  {
   "cell_type": "code",
   "execution_count": null,
   "id": "db2096e7",
   "metadata": {},
   "outputs": [],
   "source": []
  },
  {
   "cell_type": "code",
   "execution_count": null,
   "id": "5e99efcb",
   "metadata": {},
   "outputs": [],
   "source": []
  },
  {
   "cell_type": "markdown",
   "id": "ced552b4",
   "metadata": {},
   "source": [
    "## Training"
   ]
  },
  {
   "cell_type": "code",
   "execution_count": 11,
   "id": "1aab6e9b",
   "metadata": {},
   "outputs": [
    {
     "name": "stderr",
     "output_type": "stream",
     "text": [
      "100%|████████████████████████████████████████████████████████████████████████████████████████████████████| 5/5 [00:26<00:00,  5.39s/it]"
     ]
    },
    {
     "name": "stdout",
     "output_type": "stream",
     "text": [
      "CPU times: user 4min 46s, sys: 3.26 s, total: 4min 50s\n",
      "Wall time: 26.9 s\n"
     ]
    },
    {
     "name": "stderr",
     "output_type": "stream",
     "text": [
      "\n"
     ]
    }
   ],
   "source": [
    "%%time\n",
    "n_estimators_candidates = list(range(10,51,10))\n",
    "\n",
    "for n_estimators in tqdm(n_estimators_candidates):\n",
    "    ranker = xgb.XGBRanker(\n",
    "#         tree_method='gpu_hist',\n",
    "        tree_method=\"hist\",\n",
    "        booster='gbtree',\n",
    "        objective='rank:pairwise',\n",
    "        random_state=42, \n",
    "        learning_rate=0.1,\n",
    "        colsample_bytree=0.9,  # 0.9\n",
    "        eta=0.05, \n",
    "        max_depth=6, \n",
    "        n_estimators=n_estimators,\n",
    "        subsample=0.8,\n",
    "        n_jobs=11\n",
    "    )\n",
    "\n",
    "    feature_cols = FEATURE_COL\n",
    "    label_col = 'label'\n",
    "\n",
    "    ranker.fit(\n",
    "        X=df_train_candidates[feature_cols],\n",
    "        y=df_train_candidates[label_col],\n",
    "        group=df_train_candidates.groupby(\"session\").count()[\"label\"]\n",
    "    )\n",
    "\n",
    "    joblib.dump(ranker, f\"models/orders_xgbranker_{str(n_estimators)}.m\")"
   ]
  },
  {
   "cell_type": "code",
   "execution_count": null,
   "id": "60e2a3a4",
   "metadata": {},
   "outputs": [],
   "source": []
  },
  {
   "cell_type": "code",
   "execution_count": null,
   "id": "bfcd50d5",
   "metadata": {},
   "outputs": [],
   "source": []
  },
  {
   "cell_type": "code",
   "execution_count": null,
   "id": "773bbfda",
   "metadata": {},
   "outputs": [],
   "source": []
  },
  {
   "cell_type": "markdown",
   "id": "a8ee7835",
   "metadata": {},
   "source": [
    "# Valid"
   ]
  },
  {
   "cell_type": "code",
   "execution_count": 12,
   "id": "fb7b2ba2",
   "metadata": {},
   "outputs": [
    {
     "name": "stdout",
     "output_type": "stream",
     "text": [
      "['user_user_count', 'item_item_count', 'item_buy_ratio', 'item_user_count', 'user_buy_ratio', 'user_item_count']\n"
     ]
    },
    {
     "name": "stderr",
     "output_type": "stream",
     "text": [
      " 20%|████████████████████                                                                                | 1/5 [00:11<00:45, 11.36s/it]"
     ]
    },
    {
     "name": "stdout",
     "output_type": "stream",
     "text": [
      "n_estimators=50 get Recall@20: 0.5787934275097294\n"
     ]
    },
    {
     "name": "stderr",
     "output_type": "stream",
     "text": [
      "\r",
      " 40%|████████████████████████████████████████                                                            | 2/5 [00:22<00:33, 11.03s/it]"
     ]
    },
    {
     "name": "stdout",
     "output_type": "stream",
     "text": [
      "n_estimators=40 get Recall@20: 0.5797784249789684\n"
     ]
    },
    {
     "name": "stderr",
     "output_type": "stream",
     "text": [
      "\r",
      " 60%|████████████████████████████████████████████████████████████                                        | 3/5 [00:32<00:21, 10.90s/it]"
     ]
    },
    {
     "name": "stdout",
     "output_type": "stream",
     "text": [
      "n_estimators=30 get Recall@20: 0.579733063855297\n"
     ]
    },
    {
     "name": "stderr",
     "output_type": "stream",
     "text": [
      "\r",
      " 80%|████████████████████████████████████████████████████████████████████████████████                    | 4/5 [00:43<00:10, 10.76s/it]"
     ]
    },
    {
     "name": "stdout",
     "output_type": "stream",
     "text": [
      "n_estimators=20 get Recall@20: 0.5803773727008771\n"
     ]
    },
    {
     "name": "stderr",
     "output_type": "stream",
     "text": [
      "100%|████████████████████████████████████████████████████████████████████████████████████████████████████| 5/5 [00:52<00:00, 10.59s/it]"
     ]
    },
    {
     "name": "stdout",
     "output_type": "stream",
     "text": [
      "n_estimators=10 get Recall@20: 0.5922325112274903\n",
      "CPU times: user 2min 11s, sys: 7.93 s, total: 2min 19s\n",
      "Wall time: 53 s\n"
     ]
    },
    {
     "name": "stderr",
     "output_type": "stream",
     "text": [
      "\n"
     ]
    }
   ],
   "source": [
    "%%time\n",
    "\n",
    "# ranker = joblib.load(\"carts_xgbranker_1.m\")\n",
    "\n",
    "# FEATURE_COL = list(ranker.feature_names_in_)\n",
    "with open(\"FEATURE_COL.txt\", \"r\") as f:\n",
    "    FEATURE_COL = f.read().splitlines()\n",
    "    \n",
    "print(FEATURE_COL)\n",
    "\n",
    "for n_estimators in tqdm(n_estimators_candidates[::-1]):\n",
    "    df_valid_candidates = pd.read_pickle(\"df_valid_candidates.pkl\")\n",
    "    ranker = joblib.load(f\"models/orders_xgbranker_{n_estimators}.m\")\n",
    "    df_valid_candidates[\"score\"] = ranker.predict(df_valid_candidates[FEATURE_COL])\n",
    "    df_valid_candidates = df_valid_candidates.sort_values(by=['session', 'score'], ascending=False)[['session', 'aid', \"label\", \"score\"]].reset_index(drop=True)\n",
    "    recall = pl.DataFrame(df_valid_candidates).groupby(\"session\").agg([\n",
    "        (pl.col(\"label\").head(20).sum()/pl.col(\"label\").sum()).alias(\"gt_ratio\")\n",
    "    ]).select(pl.col(\"gt_ratio\").drop_nans()).mean()[\"gt_ratio\"][0]\n",
    "    print(f\"n_estimators={n_estimators} get Recall@20: {recall}\")"
   ]
  },
  {
   "cell_type": "code",
   "execution_count": 54,
   "id": "ae725c2b",
   "metadata": {},
   "outputs": [
    {
     "data": {
      "text/plain": [
       "0.0014527939831891822"
      ]
     },
     "execution_count": 54,
     "metadata": {},
     "output_type": "execute_result"
    }
   ],
   "source": [
    "(0.8097062407307981 - 0.8072849174254828)*0.6"
   ]
  },
  {
   "cell_type": "code",
   "execution_count": null,
   "id": "6c7c5472",
   "metadata": {},
   "outputs": [],
   "source": []
  },
  {
   "cell_type": "code",
   "execution_count": null,
   "id": "80609cdf",
   "metadata": {},
   "outputs": [],
   "source": []
  },
  {
   "cell_type": "code",
   "execution_count": null,
   "id": "5b24118e",
   "metadata": {},
   "outputs": [],
   "source": []
  },
  {
   "cell_type": "code",
   "execution_count": null,
   "id": "593ae8a8",
   "metadata": {},
   "outputs": [],
   "source": []
  },
  {
   "cell_type": "markdown",
   "id": "07bde2b2",
   "metadata": {},
   "source": [
    "# Inference"
   ]
  },
  {
   "cell_type": "code",
   "execution_count": 26,
   "id": "ba808a8f",
   "metadata": {},
   "outputs": [
    {
     "data": {
      "text/html": [
       "<div>\n",
       "<style scoped>\n",
       "    .dataframe tbody tr th:only-of-type {\n",
       "        vertical-align: middle;\n",
       "    }\n",
       "\n",
       "    .dataframe tbody tr th {\n",
       "        vertical-align: top;\n",
       "    }\n",
       "\n",
       "    .dataframe thead th {\n",
       "        text-align: right;\n",
       "    }\n",
       "</style>\n",
       "<table border=\"1\" class=\"dataframe\">\n",
       "  <thead>\n",
       "    <tr style=\"text-align: right;\">\n",
       "      <th></th>\n",
       "      <th>session</th>\n",
       "      <th>aid</th>\n",
       "      <th>ts</th>\n",
       "      <th>type</th>\n",
       "    </tr>\n",
       "  </thead>\n",
       "  <tbody>\n",
       "    <tr>\n",
       "      <th>0</th>\n",
       "      <td>12899779</td>\n",
       "      <td>59625</td>\n",
       "      <td>1661724000</td>\n",
       "      <td>0</td>\n",
       "    </tr>\n",
       "    <tr>\n",
       "      <th>1</th>\n",
       "      <td>12899779</td>\n",
       "      <td>469285</td>\n",
       "      <td>1661724000</td>\n",
       "      <td>3</td>\n",
       "    </tr>\n",
       "    <tr>\n",
       "      <th>2</th>\n",
       "      <td>12899779</td>\n",
       "      <td>1493965</td>\n",
       "      <td>1661724000</td>\n",
       "      <td>3</td>\n",
       "    </tr>\n",
       "    <tr>\n",
       "      <th>3</th>\n",
       "      <td>12899779</td>\n",
       "      <td>438191</td>\n",
       "      <td>1661724000</td>\n",
       "      <td>3</td>\n",
       "    </tr>\n",
       "    <tr>\n",
       "      <th>4</th>\n",
       "      <td>12899779</td>\n",
       "      <td>731692</td>\n",
       "      <td>1661724000</td>\n",
       "      <td>3</td>\n",
       "    </tr>\n",
       "    <tr>\n",
       "      <th>...</th>\n",
       "      <td>...</td>\n",
       "      <td>...</td>\n",
       "      <td>...</td>\n",
       "      <td>...</td>\n",
       "    </tr>\n",
       "    <tr>\n",
       "      <th>101041929</th>\n",
       "      <td>13899778</td>\n",
       "      <td>880834</td>\n",
       "      <td>1661724000</td>\n",
       "      <td>3</td>\n",
       "    </tr>\n",
       "    <tr>\n",
       "      <th>101041930</th>\n",
       "      <td>13899778</td>\n",
       "      <td>894123</td>\n",
       "      <td>1661724000</td>\n",
       "      <td>3</td>\n",
       "    </tr>\n",
       "    <tr>\n",
       "      <th>101041931</th>\n",
       "      <td>13899778</td>\n",
       "      <td>907634</td>\n",
       "      <td>1661724000</td>\n",
       "      <td>3</td>\n",
       "    </tr>\n",
       "    <tr>\n",
       "      <th>101041932</th>\n",
       "      <td>13899778</td>\n",
       "      <td>937690</td>\n",
       "      <td>1661724000</td>\n",
       "      <td>3</td>\n",
       "    </tr>\n",
       "    <tr>\n",
       "      <th>101041933</th>\n",
       "      <td>13899778</td>\n",
       "      <td>1043281</td>\n",
       "      <td>1661724000</td>\n",
       "      <td>3</td>\n",
       "    </tr>\n",
       "  </tbody>\n",
       "</table>\n",
       "<p>168843437 rows × 4 columns</p>\n",
       "</div>"
      ],
      "text/plain": [
       "            session      aid          ts  type\n",
       "0          12899779    59625  1661724000     0\n",
       "1          12899779   469285  1661724000     3\n",
       "2          12899779  1493965  1661724000     3\n",
       "3          12899779   438191  1661724000     3\n",
       "4          12899779   731692  1661724000     3\n",
       "...             ...      ...         ...   ...\n",
       "101041929  13899778   880834  1661724000     3\n",
       "101041930  13899778   894123  1661724000     3\n",
       "101041931  13899778   907634  1661724000     3\n",
       "101041932  13899778   937690  1661724000     3\n",
       "101041933  13899778  1043281  1661724000     3\n",
       "\n",
       "[168843437 rows x 4 columns]"
      ]
     },
     "execution_count": 26,
     "metadata": {},
     "output_type": "execute_result"
    }
   ],
   "source": [
    "kaggle_test_candidates_path = sorted(glob.glob(\n",
    "    os.path.join(DATA_PATH, \"input/otto-test-chunk-candidates-top100/test_chunk_data/test_chunk_data/*_candidates.pkl\")\n",
    "))\n",
    "\n",
    "df_kaggle_test = pd.concat([pd.read_pickle(i) for i in kaggle_test_candidates_path])\n",
    "df_kaggle_test"
   ]
  },
  {
   "cell_type": "code",
   "execution_count": 28,
   "id": "65fb40f7",
   "metadata": {},
   "outputs": [
    {
     "name": "stderr",
     "output_type": "stream",
     "text": [
      "100%|████████████████████████████████████████████████████████████████████████████████████████████████████| 1/1 [00:27<00:00, 27.03s/it]\n",
      "100%|████████████████████████████████████████████████████████████████████████████████████████████████████| 1/1 [01:29<00:00, 89.14s/it]"
     ]
    },
    {
     "name": "stdout",
     "output_type": "stream",
     "text": [
      "CPU times: user 1min 22s, sys: 29.3 s, total: 1min 51s\n",
      "Wall time: 1min 56s\n"
     ]
    },
    {
     "name": "stderr",
     "output_type": "stream",
     "text": [
      "\n"
     ]
    }
   ],
   "source": [
    "%%time\n",
    "\n",
    "# for p in tqdm(pipeline):\n",
    "#     df_kaggle_test = p(df_kaggle_test)\n",
    "\n",
    "\n",
    "test_user_feature_path = sorted(glob.glob(\n",
    "    os.path.join(DATA_PATH, \"input/feature/test/user_feature_*.parquet\")\n",
    "))\n",
    "for p in tqdm(train_user_feature_path):\n",
    "    df_kaggle_test = df_kaggle_test.merge(pd.read_parquet(p), on=\"session\", how=\"left\")\n",
    "\n",
    "\n",
    "test_item_feature_path = sorted(glob.glob(\n",
    "    os.path.join(DATA_PATH, \"input/feature/test/item_feature_*.parquet\")\n",
    "))\n",
    "for p in tqdm(train_item_feature_path):\n",
    "    df_kaggle_test = df_kaggle_test.merge(pd.read_parquet(p), on=\"aid\", how=\"left\")"
   ]
  },
  {
   "cell_type": "code",
   "execution_count": 29,
   "id": "e00aa44d",
   "metadata": {},
   "outputs": [
    {
     "data": {
      "text/html": [
       "<div>\n",
       "<style scoped>\n",
       "    .dataframe tbody tr th:only-of-type {\n",
       "        vertical-align: middle;\n",
       "    }\n",
       "\n",
       "    .dataframe tbody tr th {\n",
       "        vertical-align: top;\n",
       "    }\n",
       "\n",
       "    .dataframe thead th {\n",
       "        text-align: right;\n",
       "    }\n",
       "</style>\n",
       "<table border=\"1\" class=\"dataframe\">\n",
       "  <thead>\n",
       "    <tr style=\"text-align: right;\">\n",
       "      <th></th>\n",
       "      <th>session</th>\n",
       "      <th>aid</th>\n",
       "      <th>ts</th>\n",
       "      <th>type</th>\n",
       "      <th>user_user_count</th>\n",
       "      <th>user_item_count</th>\n",
       "      <th>user_buy_ratio</th>\n",
       "      <th>item_user_count</th>\n",
       "      <th>item_item_count</th>\n",
       "      <th>item_buy_ratio</th>\n",
       "    </tr>\n",
       "  </thead>\n",
       "  <tbody>\n",
       "    <tr>\n",
       "      <th>0</th>\n",
       "      <td>12899779</td>\n",
       "      <td>59625</td>\n",
       "      <td>1661724000</td>\n",
       "      <td>0</td>\n",
       "      <td>NaN</td>\n",
       "      <td>NaN</td>\n",
       "      <td>NaN</td>\n",
       "      <td>9.0</td>\n",
       "      <td>10.0</td>\n",
       "      <td>0.000000</td>\n",
       "    </tr>\n",
       "    <tr>\n",
       "      <th>1</th>\n",
       "      <td>12899779</td>\n",
       "      <td>469285</td>\n",
       "      <td>1661724000</td>\n",
       "      <td>3</td>\n",
       "      <td>NaN</td>\n",
       "      <td>NaN</td>\n",
       "      <td>NaN</td>\n",
       "      <td>26.0</td>\n",
       "      <td>42.0</td>\n",
       "      <td>0.071429</td>\n",
       "    </tr>\n",
       "    <tr>\n",
       "      <th>2</th>\n",
       "      <td>12899779</td>\n",
       "      <td>1493965</td>\n",
       "      <td>1661724000</td>\n",
       "      <td>3</td>\n",
       "      <td>NaN</td>\n",
       "      <td>NaN</td>\n",
       "      <td>NaN</td>\n",
       "      <td>108.0</td>\n",
       "      <td>139.0</td>\n",
       "      <td>0.064748</td>\n",
       "    </tr>\n",
       "    <tr>\n",
       "      <th>3</th>\n",
       "      <td>12899779</td>\n",
       "      <td>438191</td>\n",
       "      <td>1661724000</td>\n",
       "      <td>3</td>\n",
       "      <td>NaN</td>\n",
       "      <td>NaN</td>\n",
       "      <td>NaN</td>\n",
       "      <td>1869.0</td>\n",
       "      <td>2847.0</td>\n",
       "      <td>0.028802</td>\n",
       "    </tr>\n",
       "    <tr>\n",
       "      <th>4</th>\n",
       "      <td>12899779</td>\n",
       "      <td>731692</td>\n",
       "      <td>1661724000</td>\n",
       "      <td>3</td>\n",
       "      <td>NaN</td>\n",
       "      <td>NaN</td>\n",
       "      <td>NaN</td>\n",
       "      <td>45.0</td>\n",
       "      <td>89.0</td>\n",
       "      <td>0.191011</td>\n",
       "    </tr>\n",
       "    <tr>\n",
       "      <th>...</th>\n",
       "      <td>...</td>\n",
       "      <td>...</td>\n",
       "      <td>...</td>\n",
       "      <td>...</td>\n",
       "      <td>...</td>\n",
       "      <td>...</td>\n",
       "      <td>...</td>\n",
       "      <td>...</td>\n",
       "      <td>...</td>\n",
       "      <td>...</td>\n",
       "    </tr>\n",
       "    <tr>\n",
       "      <th>168843432</th>\n",
       "      <td>13899778</td>\n",
       "      <td>880834</td>\n",
       "      <td>1661724000</td>\n",
       "      <td>3</td>\n",
       "      <td>NaN</td>\n",
       "      <td>NaN</td>\n",
       "      <td>NaN</td>\n",
       "      <td>25.0</td>\n",
       "      <td>35.0</td>\n",
       "      <td>0.171429</td>\n",
       "    </tr>\n",
       "    <tr>\n",
       "      <th>168843433</th>\n",
       "      <td>13899778</td>\n",
       "      <td>894123</td>\n",
       "      <td>1661724000</td>\n",
       "      <td>3</td>\n",
       "      <td>NaN</td>\n",
       "      <td>NaN</td>\n",
       "      <td>NaN</td>\n",
       "      <td>266.0</td>\n",
       "      <td>348.0</td>\n",
       "      <td>0.020115</td>\n",
       "    </tr>\n",
       "    <tr>\n",
       "      <th>168843434</th>\n",
       "      <td>13899778</td>\n",
       "      <td>907634</td>\n",
       "      <td>1661724000</td>\n",
       "      <td>3</td>\n",
       "      <td>NaN</td>\n",
       "      <td>NaN</td>\n",
       "      <td>NaN</td>\n",
       "      <td>630.0</td>\n",
       "      <td>1023.0</td>\n",
       "      <td>0.037146</td>\n",
       "    </tr>\n",
       "    <tr>\n",
       "      <th>168843435</th>\n",
       "      <td>13899778</td>\n",
       "      <td>937690</td>\n",
       "      <td>1661724000</td>\n",
       "      <td>3</td>\n",
       "      <td>NaN</td>\n",
       "      <td>NaN</td>\n",
       "      <td>NaN</td>\n",
       "      <td>176.0</td>\n",
       "      <td>268.0</td>\n",
       "      <td>0.014925</td>\n",
       "    </tr>\n",
       "    <tr>\n",
       "      <th>168843436</th>\n",
       "      <td>13899778</td>\n",
       "      <td>1043281</td>\n",
       "      <td>1661724000</td>\n",
       "      <td>3</td>\n",
       "      <td>NaN</td>\n",
       "      <td>NaN</td>\n",
       "      <td>NaN</td>\n",
       "      <td>48.0</td>\n",
       "      <td>49.0</td>\n",
       "      <td>0.000000</td>\n",
       "    </tr>\n",
       "  </tbody>\n",
       "</table>\n",
       "<p>168843437 rows × 10 columns</p>\n",
       "</div>"
      ],
      "text/plain": [
       "            session      aid          ts  type  user_user_count  \\\n",
       "0          12899779    59625  1661724000     0              NaN   \n",
       "1          12899779   469285  1661724000     3              NaN   \n",
       "2          12899779  1493965  1661724000     3              NaN   \n",
       "3          12899779   438191  1661724000     3              NaN   \n",
       "4          12899779   731692  1661724000     3              NaN   \n",
       "...             ...      ...         ...   ...              ...   \n",
       "168843432  13899778   880834  1661724000     3              NaN   \n",
       "168843433  13899778   894123  1661724000     3              NaN   \n",
       "168843434  13899778   907634  1661724000     3              NaN   \n",
       "168843435  13899778   937690  1661724000     3              NaN   \n",
       "168843436  13899778  1043281  1661724000     3              NaN   \n",
       "\n",
       "           user_item_count  user_buy_ratio  item_user_count  item_item_count  \\\n",
       "0                      NaN             NaN              9.0             10.0   \n",
       "1                      NaN             NaN             26.0             42.0   \n",
       "2                      NaN             NaN            108.0            139.0   \n",
       "3                      NaN             NaN           1869.0           2847.0   \n",
       "4                      NaN             NaN             45.0             89.0   \n",
       "...                    ...             ...              ...              ...   \n",
       "168843432              NaN             NaN             25.0             35.0   \n",
       "168843433              NaN             NaN            266.0            348.0   \n",
       "168843434              NaN             NaN            630.0           1023.0   \n",
       "168843435              NaN             NaN            176.0            268.0   \n",
       "168843436              NaN             NaN             48.0             49.0   \n",
       "\n",
       "           item_buy_ratio  \n",
       "0                0.000000  \n",
       "1                0.071429  \n",
       "2                0.064748  \n",
       "3                0.028802  \n",
       "4                0.191011  \n",
       "...                   ...  \n",
       "168843432        0.171429  \n",
       "168843433        0.020115  \n",
       "168843434        0.037146  \n",
       "168843435        0.014925  \n",
       "168843436        0.000000  \n",
       "\n",
       "[168843437 rows x 10 columns]"
      ]
     },
     "execution_count": 29,
     "metadata": {},
     "output_type": "execute_result"
    }
   ],
   "source": [
    "df_kaggle_test"
   ]
  },
  {
   "cell_type": "code",
   "execution_count": 25,
   "id": "7776f6e6",
   "metadata": {},
   "outputs": [
    {
     "ename": "KeyError",
     "evalue": "\"None of [Index(['user_user_count', 'item_item_count', 'item_buy_ratio',\\n       'item_user_count', 'user_buy_ratio', 'user_item_count'],\\n      dtype='object')] are in the [columns]\"",
     "output_type": "error",
     "traceback": [
      "\u001b[0;31m---------------------------------------------------------------------------\u001b[0m",
      "\u001b[0;31mKeyError\u001b[0m                                  Traceback (most recent call last)",
      "File \u001b[0;32m<timed exec>:3\u001b[0m\n",
      "File \u001b[0;32m~/miniconda3/envs/kaggle/lib/python3.8/site-packages/pandas/core/frame.py:3811\u001b[0m, in \u001b[0;36mDataFrame.__getitem__\u001b[0;34m(self, key)\u001b[0m\n\u001b[1;32m   3809\u001b[0m     \u001b[38;5;28;01mif\u001b[39;00m is_iterator(key):\n\u001b[1;32m   3810\u001b[0m         key \u001b[38;5;241m=\u001b[39m \u001b[38;5;28mlist\u001b[39m(key)\n\u001b[0;32m-> 3811\u001b[0m     indexer \u001b[38;5;241m=\u001b[39m \u001b[38;5;28;43mself\u001b[39;49m\u001b[38;5;241;43m.\u001b[39;49m\u001b[43mcolumns\u001b[49m\u001b[38;5;241;43m.\u001b[39;49m\u001b[43m_get_indexer_strict\u001b[49m\u001b[43m(\u001b[49m\u001b[43mkey\u001b[49m\u001b[43m,\u001b[49m\u001b[43m \u001b[49m\u001b[38;5;124;43m\"\u001b[39;49m\u001b[38;5;124;43mcolumns\u001b[39;49m\u001b[38;5;124;43m\"\u001b[39;49m\u001b[43m)\u001b[49m[\u001b[38;5;241m1\u001b[39m]\n\u001b[1;32m   3813\u001b[0m \u001b[38;5;66;03m# take() does not accept boolean indexers\u001b[39;00m\n\u001b[1;32m   3814\u001b[0m \u001b[38;5;28;01mif\u001b[39;00m \u001b[38;5;28mgetattr\u001b[39m(indexer, \u001b[38;5;124m\"\u001b[39m\u001b[38;5;124mdtype\u001b[39m\u001b[38;5;124m\"\u001b[39m, \u001b[38;5;28;01mNone\u001b[39;00m) \u001b[38;5;241m==\u001b[39m \u001b[38;5;28mbool\u001b[39m:\n",
      "File \u001b[0;32m~/miniconda3/envs/kaggle/lib/python3.8/site-packages/pandas/core/indexes/base.py:6113\u001b[0m, in \u001b[0;36mIndex._get_indexer_strict\u001b[0;34m(self, key, axis_name)\u001b[0m\n\u001b[1;32m   6110\u001b[0m \u001b[38;5;28;01melse\u001b[39;00m:\n\u001b[1;32m   6111\u001b[0m     keyarr, indexer, new_indexer \u001b[38;5;241m=\u001b[39m \u001b[38;5;28mself\u001b[39m\u001b[38;5;241m.\u001b[39m_reindex_non_unique(keyarr)\n\u001b[0;32m-> 6113\u001b[0m \u001b[38;5;28;43mself\u001b[39;49m\u001b[38;5;241;43m.\u001b[39;49m\u001b[43m_raise_if_missing\u001b[49m\u001b[43m(\u001b[49m\u001b[43mkeyarr\u001b[49m\u001b[43m,\u001b[49m\u001b[43m \u001b[49m\u001b[43mindexer\u001b[49m\u001b[43m,\u001b[49m\u001b[43m \u001b[49m\u001b[43maxis_name\u001b[49m\u001b[43m)\u001b[49m\n\u001b[1;32m   6115\u001b[0m keyarr \u001b[38;5;241m=\u001b[39m \u001b[38;5;28mself\u001b[39m\u001b[38;5;241m.\u001b[39mtake(indexer)\n\u001b[1;32m   6116\u001b[0m \u001b[38;5;28;01mif\u001b[39;00m \u001b[38;5;28misinstance\u001b[39m(key, Index):\n\u001b[1;32m   6117\u001b[0m     \u001b[38;5;66;03m# GH 42790 - Preserve name from an Index\u001b[39;00m\n",
      "File \u001b[0;32m~/miniconda3/envs/kaggle/lib/python3.8/site-packages/pandas/core/indexes/base.py:6173\u001b[0m, in \u001b[0;36mIndex._raise_if_missing\u001b[0;34m(self, key, indexer, axis_name)\u001b[0m\n\u001b[1;32m   6171\u001b[0m     \u001b[38;5;28;01mif\u001b[39;00m use_interval_msg:\n\u001b[1;32m   6172\u001b[0m         key \u001b[38;5;241m=\u001b[39m \u001b[38;5;28mlist\u001b[39m(key)\n\u001b[0;32m-> 6173\u001b[0m     \u001b[38;5;28;01mraise\u001b[39;00m \u001b[38;5;167;01mKeyError\u001b[39;00m(\u001b[38;5;124mf\u001b[39m\u001b[38;5;124m\"\u001b[39m\u001b[38;5;124mNone of [\u001b[39m\u001b[38;5;132;01m{\u001b[39;00mkey\u001b[38;5;132;01m}\u001b[39;00m\u001b[38;5;124m] are in the [\u001b[39m\u001b[38;5;132;01m{\u001b[39;00maxis_name\u001b[38;5;132;01m}\u001b[39;00m\u001b[38;5;124m]\u001b[39m\u001b[38;5;124m\"\u001b[39m)\n\u001b[1;32m   6175\u001b[0m not_found \u001b[38;5;241m=\u001b[39m \u001b[38;5;28mlist\u001b[39m(ensure_index(key)[missing_mask\u001b[38;5;241m.\u001b[39mnonzero()[\u001b[38;5;241m0\u001b[39m]]\u001b[38;5;241m.\u001b[39munique())\n\u001b[1;32m   6176\u001b[0m \u001b[38;5;28;01mraise\u001b[39;00m \u001b[38;5;167;01mKeyError\u001b[39;00m(\u001b[38;5;124mf\u001b[39m\u001b[38;5;124m\"\u001b[39m\u001b[38;5;132;01m{\u001b[39;00mnot_found\u001b[38;5;132;01m}\u001b[39;00m\u001b[38;5;124m not in index\u001b[39m\u001b[38;5;124m\"\u001b[39m)\n",
      "\u001b[0;31mKeyError\u001b[0m: \"None of [Index(['user_user_count', 'item_item_count', 'item_buy_ratio',\\n       'item_user_count', 'user_buy_ratio', 'user_item_count'],\\n      dtype='object')] are in the [columns]\""
     ]
    }
   ],
   "source": [
    "%%time\n",
    "best_n_estimators = \"20\"\n",
    "ranker = joblib.load(f\"models/orders_xgbranker_{best_n_estimators}.m\")\n",
    "df_kaggle_test[\"score\"] = ranker.predict(df_kaggle_test[FEATURE_COL])\n",
    "df_kaggle_test = df_kaggle_test.sort_values(by=['session', 'score'], ascending=False)[['session', 'aid']].reset_index(drop=True)\n",
    "df_kaggle_test = df_kaggle_test.groupby('session').head(20).groupby('session').agg(list).reset_index(drop=False)\n",
    "df_kaggle_test"
   ]
  },
  {
   "cell_type": "code",
   "execution_count": 17,
   "id": "a87bc0ab",
   "metadata": {},
   "outputs": [
    {
     "name": "stdout",
     "output_type": "stream",
     "text": [
      "CPU times: user 30.8 s, sys: 1.24 s, total: 32.1 s\n",
      "Wall time: 35.6 s\n"
     ]
    },
    {
     "data": {
      "text/plain": [
       "(5015409, 2)"
      ]
     },
     "execution_count": 17,
     "metadata": {},
     "output_type": "execute_result"
    }
   ],
   "source": [
    "%%time\n",
    "\n",
    "df_kaggle_test[\"session_type\"] = df_kaggle_test[\"session\"].apply(lambda x: str(x)+\"_orders\")\n",
    "# df_test[\"session_type\"] = df_test[\"session\"].apply(lambda x: str(x)+\"_carts\")\n",
    "df_kaggle_test = df_kaggle_test.rename({\"aid\": \"labels\"}, axis=1)[[\"session_type\", \"labels\"]]\n",
    "df_kaggle_test[\"labels\"] = df_kaggle_test[\"labels\"].apply(lambda x: \" \".join([str(_) for _ in x]))\n",
    "df_submission = pd.read_csv(\"../data/output/submission_578.csv\")\n",
    "# df_submission = df_submission[~df_submission.session_type.str.contains(\"_carts$\")]\n",
    "df_submission = df_submission[~df_submission.session_type.str.contains(\"_orders$\")]\n",
    "df_submission = pd.concat([df_kaggle_test, df_submission])\n",
    "df_submission.to_csv(\"../data/output/submission_optim_orders.csv\", index=False)\n",
    "df_submission.shape"
   ]
  },
  {
   "cell_type": "code",
   "execution_count": 30,
   "id": "3cf02c9a",
   "metadata": {},
   "outputs": [
    {
     "data": {
      "text/html": [
       "<div>\n",
       "<style scoped>\n",
       "    .dataframe tbody tr th:only-of-type {\n",
       "        vertical-align: middle;\n",
       "    }\n",
       "\n",
       "    .dataframe tbody tr th {\n",
       "        vertical-align: top;\n",
       "    }\n",
       "\n",
       "    .dataframe thead th {\n",
       "        text-align: right;\n",
       "    }\n",
       "</style>\n",
       "<table border=\"1\" class=\"dataframe\">\n",
       "  <thead>\n",
       "    <tr style=\"text-align: right;\">\n",
       "      <th></th>\n",
       "      <th>session_type</th>\n",
       "      <th>labels</th>\n",
       "    </tr>\n",
       "  </thead>\n",
       "  <tbody>\n",
       "    <tr>\n",
       "      <th>0</th>\n",
       "      <td>13913534_clicks</td>\n",
       "      <td>278972 1089813 1638602 667905 1076015 967342 1...</td>\n",
       "    </tr>\n",
       "    <tr>\n",
       "      <th>1</th>\n",
       "      <td>14289599_clicks</td>\n",
       "      <td>928810 814150 620490 90121 435196 1390232 1305...</td>\n",
       "    </tr>\n",
       "    <tr>\n",
       "      <th>2</th>\n",
       "      <td>12997553_carts</td>\n",
       "      <td>1837490 1066416 57315 127864 1582125 959548 10...</td>\n",
       "    </tr>\n",
       "    <tr>\n",
       "      <th>3</th>\n",
       "      <td>14090373_carts</td>\n",
       "      <td>1400630 63531 629603 337471 1497245 199409 168...</td>\n",
       "    </tr>\n",
       "    <tr>\n",
       "      <th>4</th>\n",
       "      <td>12919826_orders</td>\n",
       "      <td>138748 907262 223388 1655327 525721 1052093 87...</td>\n",
       "    </tr>\n",
       "    <tr>\n",
       "      <th>...</th>\n",
       "      <td>...</td>\n",
       "      <td>...</td>\n",
       "    </tr>\n",
       "    <tr>\n",
       "      <th>5015404</th>\n",
       "      <td>13686109_orders</td>\n",
       "      <td>823175 1254185 1424310 147427 635613 1440236 1...</td>\n",
       "    </tr>\n",
       "    <tr>\n",
       "      <th>5015405</th>\n",
       "      <td>13894288_carts</td>\n",
       "      <td>442211 176650 1155739 1639021 480831 1354998 1...</td>\n",
       "    </tr>\n",
       "    <tr>\n",
       "      <th>5015406</th>\n",
       "      <td>13871060_carts</td>\n",
       "      <td>528019 795130 439795 341050 1270528 1658239 10...</td>\n",
       "    </tr>\n",
       "    <tr>\n",
       "      <th>5015407</th>\n",
       "      <td>12965861_carts</td>\n",
       "      <td>1851407 623811 1667230 990186 1178396 1695413 ...</td>\n",
       "    </tr>\n",
       "    <tr>\n",
       "      <th>5015408</th>\n",
       "      <td>13300415_clicks</td>\n",
       "      <td>1683902 856160 1128795 1096467 1394814 489692 ...</td>\n",
       "    </tr>\n",
       "  </tbody>\n",
       "</table>\n",
       "<p>5015409 rows × 2 columns</p>\n",
       "</div>"
      ],
      "text/plain": [
       "            session_type                                             labels\n",
       "0        13913534_clicks  278972 1089813 1638602 667905 1076015 967342 1...\n",
       "1        14289599_clicks  928810 814150 620490 90121 435196 1390232 1305...\n",
       "2         12997553_carts  1837490 1066416 57315 127864 1582125 959548 10...\n",
       "3         14090373_carts  1400630 63531 629603 337471 1497245 199409 168...\n",
       "4        12919826_orders  138748 907262 223388 1655327 525721 1052093 87...\n",
       "...                  ...                                                ...\n",
       "5015404  13686109_orders  823175 1254185 1424310 147427 635613 1440236 1...\n",
       "5015405   13894288_carts  442211 176650 1155739 1639021 480831 1354998 1...\n",
       "5015406   13871060_carts  528019 795130 439795 341050 1270528 1658239 10...\n",
       "5015407   12965861_carts  1851407 623811 1667230 990186 1178396 1695413 ...\n",
       "5015408  13300415_clicks  1683902 856160 1128795 1096467 1394814 489692 ...\n",
       "\n",
       "[5015409 rows x 2 columns]"
      ]
     },
     "execution_count": 30,
     "metadata": {},
     "output_type": "execute_result"
    }
   ],
   "source": [
    "df_submission = pd.read_csv(\"../data/output/submission_578.csv\")\n",
    "df_submission"
   ]
  },
  {
   "cell_type": "code",
   "execution_count": null,
   "id": "40d26ad7",
   "metadata": {},
   "outputs": [],
   "source": []
  },
  {
   "cell_type": "code",
   "execution_count": null,
   "id": "60b44833",
   "metadata": {},
   "outputs": [],
   "source": []
  },
  {
   "cell_type": "code",
   "execution_count": null,
   "id": "e70d572e",
   "metadata": {},
   "outputs": [],
   "source": []
  },
  {
   "cell_type": "code",
   "execution_count": null,
   "id": "6a0d4f6a",
   "metadata": {},
   "outputs": [],
   "source": []
  },
  {
   "cell_type": "code",
   "execution_count": null,
   "id": "8d90472a",
   "metadata": {},
   "outputs": [],
   "source": []
  },
  {
   "cell_type": "code",
   "execution_count": null,
   "id": "dfcf90f6",
   "metadata": {},
   "outputs": [],
   "source": []
  },
  {
   "cell_type": "code",
   "execution_count": null,
   "id": "0ae16086",
   "metadata": {},
   "outputs": [],
   "source": []
  },
  {
   "cell_type": "code",
   "execution_count": null,
   "id": "c7f1a6ea",
   "metadata": {},
   "outputs": [],
   "source": []
  },
  {
   "cell_type": "code",
   "execution_count": null,
   "id": "dd46d467",
   "metadata": {},
   "outputs": [],
   "source": []
  },
  {
   "cell_type": "code",
   "execution_count": null,
   "id": "24b9dc01",
   "metadata": {},
   "outputs": [],
   "source": []
  },
  {
   "cell_type": "code",
   "execution_count": null,
   "id": "1b32cbce",
   "metadata": {},
   "outputs": [],
   "source": []
  },
  {
   "cell_type": "code",
   "execution_count": null,
   "id": "21a0df90",
   "metadata": {},
   "outputs": [],
   "source": []
  },
  {
   "cell_type": "code",
   "execution_count": null,
   "id": "449be061",
   "metadata": {},
   "outputs": [],
   "source": []
  },
  {
   "cell_type": "code",
   "execution_count": null,
   "id": "459129a8",
   "metadata": {},
   "outputs": [],
   "source": []
  },
  {
   "cell_type": "code",
   "execution_count": null,
   "id": "d29a4ce2",
   "metadata": {},
   "outputs": [],
   "source": []
  },
  {
   "cell_type": "code",
   "execution_count": null,
   "id": "9ca3e6df",
   "metadata": {},
   "outputs": [],
   "source": []
  },
  {
   "cell_type": "code",
   "execution_count": null,
   "id": "7e59fae4",
   "metadata": {},
   "outputs": [],
   "source": []
  }
 ],
 "metadata": {
  "kernelspec": {
   "display_name": "Python 3 (ipykernel)",
   "language": "python",
   "name": "python3"
  },
  "language_info": {
   "codemirror_mode": {
    "name": "ipython",
    "version": 3
   },
   "file_extension": ".py",
   "mimetype": "text/x-python",
   "name": "python",
   "nbconvert_exporter": "python",
   "pygments_lexer": "ipython3",
   "version": "3.8.15"
  }
 },
 "nbformat": 4,
 "nbformat_minor": 5
}
