{
 "cells": [
  {
   "cell_type": "code",
   "execution_count": 1,
   "id": "0f7554fe",
   "metadata": {},
   "outputs": [],
   "source": [
    "import os\n",
    "import time\n",
    "import glob\n",
    "import gc\n",
    "import warnings\n",
    "from multiprocessing import Pool\n",
    "\n",
    "from tqdm import tqdm\n",
    "import pandas as pd\n",
    "import polars as pl\n",
    "import numpy as np\n",
    "import xgboost as xgb\n",
    "# import cudf\n",
    "from sklearn.model_selection import GroupKFold\n",
    "import joblib\n",
    "# from openfe import openfe, transform\n",
    "\n",
    "warnings.filterwarnings(\"ignore\")"
   ]
  },
  {
   "cell_type": "markdown",
   "id": "7ea4d4bd",
   "metadata": {},
   "source": [
    "# Setup"
   ]
  },
  {
   "cell_type": "code",
   "execution_count": 2,
   "id": "bf07cf38",
   "metadata": {},
   "outputs": [],
   "source": [
    "DATA_PATH = \"/home/search3/lichunyu/otto-recommender-system/data\"\n",
    "TYPE_MAP = {'clicks':0, 'carts':1, 'orders':2}\n",
    "DOWNSAMPLE_RATE = 20\n",
    "\n",
    "def read_parquet(f):\n",
    "    df = pd.read_parquet(f)\n",
    "    df.ts = (df.ts/1000).astype('int32')\n",
    "    df['type'] = df['type'].map(TYPE_MAP).astype('int8')\n",
    "    return df"
   ]
  },
  {
   "cell_type": "markdown",
   "id": "fe5f1aff",
   "metadata": {},
   "source": [
    "# Item Feature"
   ]
  },
  {
   "cell_type": "code",
   "execution_count": 9,
   "id": "cab97d68",
   "metadata": {},
   "outputs": [],
   "source": [
    "def item_feature_1(df, prefix):\n",
    "    if isinstance(df, pd.DataFrame):\n",
    "        df = pl.DataFrame(df)\n",
    "    df = df.groupby(\"aid\").agg([\n",
    "        pl.col(\"session\").n_unique().alias(\"item_user_count\"),\n",
    "        pl.col(\"aid\").count().alias(\"item_item_count\"),\n",
    "        pl.col(\"type\").mean().alias(\"item_buy_ratio\"),\n",
    "    ]).to_pandas().to_parquet(\n",
    "        os.path.join(DATA_PATH, f\"input/feature/{prefix}/item_feature_1.parquet\")\n",
    "    )\n",
    "    return df\n",
    "\n",
    "def item_feature_2(df, prefix):\n",
    "    if isinstance(df, pd.DataFrame):\n",
    "        df = pl.DataFrame(df)\n",
    "    df = df.filter(\n",
    "        pl.col(\"type\")==TYPE_MAP[\"clicks\"]\n",
    "    ).groupby(\"aid\").agg([\n",
    "        pl.col(\"session\").n_unique().alias(\"item_clicks_user_count\"),\n",
    "        pl.col(\"aid\").count().alias(\"item_clicks_item_count\")\n",
    "    ])\n",
    "    df.to_pandas().to_parquet(\n",
    "        os.path.join(DATA_PATH, f\"input/feature/{prefix}/item_feature_2.parquet\")\n",
    "    )\n",
    "    return df\n",
    "\n",
    "def item_feature_3(df, prefix):\n",
    "    if isinstance(df, pd.DataFrame):\n",
    "        df = pl.DataFrame(df)\n",
    "    df = df.filter(\n",
    "        pl.col(\"type\")==TYPE_MAP[\"carts\"]\n",
    "    ).groupby(\"aid\").agg([\n",
    "        pl.col(\"session\").n_unique().alias(\"item_carts_user_count\"),\n",
    "        pl.col(\"aid\").count().alias(\"item_carts_item_count\")\n",
    "    ])\n",
    "    df.to_pandas().to_parquet(\n",
    "        os.path.join(DATA_PATH, f\"input/feature/{prefix}/item_feature_3.parquet\")\n",
    "    )\n",
    "    return df\n",
    "\n",
    "def item_feature_4(df, prefix):\n",
    "    if isinstance(df, pd.DataFrame):\n",
    "        df = pl.DataFrame(df)\n",
    "    df = df.filter(\n",
    "        pl.col(\"type\")==TYPE_MAP[\"orders\"]\n",
    "    ).groupby(\"aid\").agg([\n",
    "        pl.col(\"session\").n_unique().alias(\"item_orders_user_count\"),\n",
    "        pl.col(\"aid\").count().alias(\"item_orders_item_count\")\n",
    "    ])\n",
    "    df.to_pandas().to_parquet(\n",
    "        os.path.join(DATA_PATH, f\"input/feature/{prefix}/item_feature_4.parquet\")\n",
    "    )\n",
    "    return df\n",
    "\n",
    "def item_feature_5(df, prefix):\n",
    "    if isinstance(df, pd.DataFrame):\n",
    "        df = pl.DataFrame(df)\n",
    "    ts_maximal = df[\"ts\"].max()\n",
    "    df = df.filter(\n",
    "        pl.col(\"type\")==TYPE_MAP[\"clicks\"]\n",
    "    ).groupby(\"aid\").agg([\n",
    "        ((ts_maximal-pl.col(\"ts\").max())/(24*60*60)).alias(\"item_last_clicks_ts\"),\n",
    "        ((ts_maximal-pl.col(\"ts\").min())/(24*60*60)).alias(\"item_first_clicks_ts\")\n",
    "    ])\n",
    "    df.to_pandas().to_parquet(\n",
    "        os.path.join(DATA_PATH, f\"input/feature/{prefix}/item_feature_5.parquet\")\n",
    "    )\n",
    "    return df\n",
    "\n",
    "def item_feature_6(df, prefix):\n",
    "    if isinstance(df, pd.DataFrame):\n",
    "        df = pl.DataFrame(df)\n",
    "    ts_maximal = df[\"ts\"].max()\n",
    "    df = df.filter(\n",
    "        pl.col(\"type\")==TYPE_MAP[\"carts\"]\n",
    "    ).groupby(\"aid\").agg([\n",
    "        ((ts_maximal-pl.col(\"ts\").max())/(24*60*60)).alias(\"item_last_carts_ts\"),\n",
    "        ((ts_maximal-pl.col(\"ts\").min())/(24*60*60)).alias(\"item_first_carts_ts\")\n",
    "    ])\n",
    "    df.to_pandas().to_parquet(\n",
    "        os.path.join(DATA_PATH, f\"input/feature/{prefix}/item_feature_6.parquet\")\n",
    "    )\n",
    "    return df\n",
    "\n",
    "def item_feature_7(df, prefix):\n",
    "    if isinstance(df, pd.DataFrame):\n",
    "        df = pl.DataFrame(df)\n",
    "    ts_maximal = df[\"ts\"].max()\n",
    "    df = df.filter(\n",
    "        pl.col(\"type\")==TYPE_MAP[\"orders\"]\n",
    "    ).groupby(\"aid\").agg([\n",
    "        ((ts_maximal-pl.col(\"ts\").max())/(24*60*60)).alias(\"item_last_orders_ts\"),\n",
    "        ((ts_maximal-pl.col(\"ts\").min())/(24*60*60)).alias(\"item_first_orders_ts\")\n",
    "    ])\n",
    "    df.to_pandas().to_parquet(\n",
    "        os.path.join(DATA_PATH, f\"input/feature/{prefix}/item_feature_7.parquet\")\n",
    "    )\n",
    "    return df"
   ]
  },
  {
   "cell_type": "code",
   "execution_count": null,
   "id": "5c620751",
   "metadata": {},
   "outputs": [],
   "source": []
  },
  {
   "cell_type": "code",
   "execution_count": null,
   "id": "0f08effb",
   "metadata": {},
   "outputs": [],
   "source": []
  },
  {
   "cell_type": "code",
   "execution_count": null,
   "id": "b99a1cf0",
   "metadata": {},
   "outputs": [],
   "source": []
  },
  {
   "cell_type": "code",
   "execution_count": null,
   "id": "1b2edbcc",
   "metadata": {},
   "outputs": [],
   "source": []
  },
  {
   "cell_type": "code",
   "execution_count": null,
   "id": "956253b6",
   "metadata": {},
   "outputs": [],
   "source": []
  },
  {
   "cell_type": "code",
   "execution_count": null,
   "id": "53dcb0fb",
   "metadata": {},
   "outputs": [],
   "source": []
  },
  {
   "cell_type": "code",
   "execution_count": 10,
   "id": "54bb48ea",
   "metadata": {},
   "outputs": [],
   "source": [
    "pipeline = [\n",
    "    item_feature_1,\n",
    "    item_feature_2,\n",
    "    item_feature_3,\n",
    "    item_feature_4,\n",
    "    item_feature_5,\n",
    "    item_feature_6,\n",
    "    item_feature_7\n",
    "]"
   ]
  },
  {
   "cell_type": "markdown",
   "id": "ef7417d1",
   "metadata": {},
   "source": [
    "# Build"
   ]
  },
  {
   "cell_type": "markdown",
   "id": "f20c168d",
   "metadata": {},
   "source": [
    "## Train"
   ]
  },
  {
   "cell_type": "code",
   "execution_count": 5,
   "id": "5464586d",
   "metadata": {},
   "outputs": [
    {
     "name": "stdout",
     "output_type": "stream",
     "text": [
      "CPU times: user 25.8 s, sys: 5.94 s, total: 31.7 s\n",
      "Wall time: 21.2 s\n"
     ]
    },
    {
     "data": {
      "text/html": [
       "<div>\n",
       "<style scoped>\n",
       "    .dataframe tbody tr th:only-of-type {\n",
       "        vertical-align: middle;\n",
       "    }\n",
       "\n",
       "    .dataframe tbody tr th {\n",
       "        vertical-align: top;\n",
       "    }\n",
       "\n",
       "    .dataframe thead th {\n",
       "        text-align: right;\n",
       "    }\n",
       "</style>\n",
       "<table border=\"1\" class=\"dataframe\">\n",
       "  <thead>\n",
       "    <tr style=\"text-align: right;\">\n",
       "      <th></th>\n",
       "      <th>session</th>\n",
       "      <th>aid</th>\n",
       "      <th>ts</th>\n",
       "      <th>type</th>\n",
       "    </tr>\n",
       "  </thead>\n",
       "  <tbody>\n",
       "    <tr>\n",
       "      <th>0</th>\n",
       "      <td>0</td>\n",
       "      <td>1517085</td>\n",
       "      <td>1659304800</td>\n",
       "      <td>0</td>\n",
       "    </tr>\n",
       "    <tr>\n",
       "      <th>1</th>\n",
       "      <td>0</td>\n",
       "      <td>1563459</td>\n",
       "      <td>1659304904</td>\n",
       "      <td>0</td>\n",
       "    </tr>\n",
       "    <tr>\n",
       "      <th>2</th>\n",
       "      <td>0</td>\n",
       "      <td>1309446</td>\n",
       "      <td>1659367439</td>\n",
       "      <td>0</td>\n",
       "    </tr>\n",
       "    <tr>\n",
       "      <th>3</th>\n",
       "      <td>0</td>\n",
       "      <td>16246</td>\n",
       "      <td>1659367719</td>\n",
       "      <td>0</td>\n",
       "    </tr>\n",
       "    <tr>\n",
       "      <th>4</th>\n",
       "      <td>0</td>\n",
       "      <td>1781822</td>\n",
       "      <td>1659367871</td>\n",
       "      <td>0</td>\n",
       "    </tr>\n",
       "    <tr>\n",
       "      <th>5</th>\n",
       "      <td>0</td>\n",
       "      <td>1152674</td>\n",
       "      <td>1659367885</td>\n",
       "      <td>0</td>\n",
       "    </tr>\n",
       "    <tr>\n",
       "      <th>6</th>\n",
       "      <td>0</td>\n",
       "      <td>1649869</td>\n",
       "      <td>1659369893</td>\n",
       "      <td>1</td>\n",
       "    </tr>\n",
       "    <tr>\n",
       "      <th>7</th>\n",
       "      <td>0</td>\n",
       "      <td>461689</td>\n",
       "      <td>1659369898</td>\n",
       "      <td>1</td>\n",
       "    </tr>\n",
       "    <tr>\n",
       "      <th>8</th>\n",
       "      <td>0</td>\n",
       "      <td>305831</td>\n",
       "      <td>1659370027</td>\n",
       "      <td>2</td>\n",
       "    </tr>\n",
       "    <tr>\n",
       "      <th>9</th>\n",
       "      <td>0</td>\n",
       "      <td>461689</td>\n",
       "      <td>1659370027</td>\n",
       "      <td>2</td>\n",
       "    </tr>\n",
       "  </tbody>\n",
       "</table>\n",
       "</div>"
      ],
      "text/plain": [
       "   session      aid          ts  type\n",
       "0        0  1517085  1659304800     0\n",
       "1        0  1563459  1659304904     0\n",
       "2        0  1309446  1659367439     0\n",
       "3        0    16246  1659367719     0\n",
       "4        0  1781822  1659367871     0\n",
       "5        0  1152674  1659367885     0\n",
       "6        0  1649869  1659369893     1\n",
       "7        0   461689  1659369898     1\n",
       "8        0   305831  1659370027     2\n",
       "9        0   461689  1659370027     2"
      ]
     },
     "execution_count": 5,
     "metadata": {},
     "output_type": "execute_result"
    }
   ],
   "source": [
    "%%time\n",
    "\n",
    "train_path = sorted(glob.glob(\n",
    "    os.path.join(DATA_PATH, \"input/otto-validation/train_parquet/*.parquet\")\n",
    "))\n",
    "\n",
    "valid_a_path = sorted(glob.glob(\n",
    "    os.path.join(DATA_PATH, \"input/otto-validation/test_parquet/*.parquet\")\n",
    "))\n",
    "\n",
    "df_train_item = pd.concat([\n",
    "    pd.concat([read_parquet(i) for i in train_path]),\n",
    "    pd.concat([read_parquet(i) for i in valid_a_path])\n",
    "])\n",
    "\n",
    "# df_train_item = pl.DataFrame(df_train_item)\n",
    "df_train_item.head(10)"
   ]
  },
  {
   "cell_type": "code",
   "execution_count": 11,
   "id": "6816b57b",
   "metadata": {},
   "outputs": [
    {
     "name": "stderr",
     "output_type": "stream",
     "text": [
      "100%|████████████████████████████████████████████████████████████████████████████████████████████████████| 7/7 [00:09<00:00,  1.31s/it]\n"
     ]
    }
   ],
   "source": [
    "for p in tqdm(pipeline):\n",
    "    p(df_train_item, \"train\")"
   ]
  },
  {
   "cell_type": "code",
   "execution_count": null,
   "id": "29f04215",
   "metadata": {},
   "outputs": [],
   "source": []
  },
  {
   "cell_type": "code",
   "execution_count": null,
   "id": "bc1bb77a",
   "metadata": {},
   "outputs": [],
   "source": []
  },
  {
   "cell_type": "code",
   "execution_count": null,
   "id": "61589e00",
   "metadata": {},
   "outputs": [],
   "source": []
  },
  {
   "cell_type": "code",
   "execution_count": null,
   "id": "e22fab28",
   "metadata": {},
   "outputs": [],
   "source": []
  },
  {
   "cell_type": "code",
   "execution_count": null,
   "id": "eff71537",
   "metadata": {},
   "outputs": [],
   "source": []
  },
  {
   "cell_type": "code",
   "execution_count": null,
   "id": "c2330ed4",
   "metadata": {},
   "outputs": [],
   "source": []
  },
  {
   "cell_type": "markdown",
   "id": "564e80fc",
   "metadata": {},
   "source": [
    "## Test"
   ]
  },
  {
   "cell_type": "code",
   "execution_count": 12,
   "id": "44c80923",
   "metadata": {},
   "outputs": [
    {
     "name": "stdout",
     "output_type": "stream",
     "text": [
      "(223644219, 4)\n",
      "(170483281, 4)\n",
      "CPU times: user 40.2 s, sys: 12.1 s, total: 52.3 s\n",
      "Wall time: 42.4 s\n"
     ]
    }
   ],
   "source": [
    "%%time\n",
    "\n",
    "kaggle_train_path = sorted(glob.glob(\n",
    "    os.path.join(DATA_PATH, \"input/otto-chunk-data-inparquet-format/train_parquet/*.parquet\")\n",
    "))\n",
    "\n",
    "kaggle_test_path = sorted(glob.glob(\n",
    "    os.path.join(DATA_PATH, \"input/otto-chunk-data-inparquet-format/test_parquet/*.parquet\")\n",
    "))\n",
    "\n",
    "df_test_item = pd.concat([\n",
    "    pd.concat([read_parquet(i) for i in kaggle_train_path]),\n",
    "    pd.concat([read_parquet(i) for i in kaggle_test_path])\n",
    "])\n",
    "df_test_item = pl.DataFrame(df_test_item)\n",
    "print(df_test_item.shape)\n",
    "df_test_item = df_test_item.filter(\n",
    "    pl.col(\"ts\") > df_test_item[\"ts\"].min()+7*24*60*60\n",
    ")\n",
    "print(df_test_item.shape)"
   ]
  },
  {
   "cell_type": "code",
   "execution_count": 13,
   "id": "e4914eeb",
   "metadata": {},
   "outputs": [
    {
     "name": "stderr",
     "output_type": "stream",
     "text": [
      "100%|████████████████████████████████████████████████████████████████████████████████████████████████████| 7/7 [00:10<00:00,  1.49s/it]"
     ]
    },
    {
     "name": "stdout",
     "output_type": "stream",
     "text": [
      "CPU times: user 1min 53s, sys: 3.23 s, total: 1min 56s\n",
      "Wall time: 10.4 s\n"
     ]
    },
    {
     "name": "stderr",
     "output_type": "stream",
     "text": [
      "\n"
     ]
    }
   ],
   "source": [
    "%%time\n",
    "\n",
    "for p in tqdm(pipeline):\n",
    "    p(df_test_item, \"test\")"
   ]
  },
  {
   "cell_type": "code",
   "execution_count": null,
   "id": "4858ed8b",
   "metadata": {},
   "outputs": [],
   "source": []
  },
  {
   "cell_type": "code",
   "execution_count": null,
   "id": "54c7c48b",
   "metadata": {},
   "outputs": [],
   "source": []
  },
  {
   "cell_type": "code",
   "execution_count": null,
   "id": "131a2478",
   "metadata": {},
   "outputs": [],
   "source": []
  },
  {
   "cell_type": "code",
   "execution_count": null,
   "id": "e0468d3a",
   "metadata": {},
   "outputs": [],
   "source": []
  },
  {
   "cell_type": "code",
   "execution_count": null,
   "id": "6d023793",
   "metadata": {},
   "outputs": [],
   "source": []
  },
  {
   "cell_type": "code",
   "execution_count": null,
   "id": "6743c6bf",
   "metadata": {},
   "outputs": [],
   "source": []
  },
  {
   "cell_type": "code",
   "execution_count": null,
   "id": "2c57b29d",
   "metadata": {},
   "outputs": [],
   "source": [
    "def add_session_length(df):\n",
    "    # If not using cuDF, remove .to_pandas()\n",
    "    df['session_length'] = df.groupby('session')['ts'].transform('count')\n",
    "    return df\n",
    "\n",
    "def add_action_num_reverse_chrono(df):\n",
    "    df['action_num_reverse_chrono'] = df.session_length - df.groupby('session').cumcount() - 1\n",
    "    return df\n",
    "\n",
    "def add_log_recency_score(df):\n",
    "    linear_interpolation = 0.1 + ((1-0.1) / (df['session_length']-1)) * (df['session_length']-df['action_num_reverse_chrono']-1)\n",
    "    df['log_recency_score'] = (2 ** linear_interpolation - 1).fillna(1.0)\n",
    "    return df\n",
    "\n",
    "def add_type_weighted_log_recency_score(df):\n",
    "    type_weights = {0:1, 1:6, 2:3, 3:0.1}\n",
    "    df['type_weighted_log_recency_score'] = df['log_recency_score'] / df['type'].map(type_weights)\n",
    "    return df\n",
    "\n",
    "\n",
    "\n",
    "pipeline = [\n",
    "    ts_day,\n",
    "    add_session_length,\n",
    "    add_action_num_reverse_chrono,\n",
    "    add_log_recency_score,\n",
    "    add_type_weighted_log_recency_score\n",
    "]"
   ]
  },
  {
   "cell_type": "code",
   "execution_count": null,
   "id": "b09aa8b0",
   "metadata": {},
   "outputs": [],
   "source": []
  },
  {
   "cell_type": "code",
   "execution_count": null,
   "id": "31a47d17",
   "metadata": {},
   "outputs": [],
   "source": []
  },
  {
   "cell_type": "code",
   "execution_count": null,
   "id": "9270c8a1",
   "metadata": {},
   "outputs": [],
   "source": []
  },
  {
   "cell_type": "code",
   "execution_count": null,
   "id": "39be6a46",
   "metadata": {},
   "outputs": [],
   "source": []
  },
  {
   "cell_type": "code",
   "execution_count": null,
   "id": "7491a0c7",
   "metadata": {},
   "outputs": [],
   "source": []
  },
  {
   "cell_type": "code",
   "execution_count": null,
   "id": "f4d2e71e",
   "metadata": {},
   "outputs": [],
   "source": []
  },
  {
   "cell_type": "code",
   "execution_count": null,
   "id": "92e5f952",
   "metadata": {},
   "outputs": [],
   "source": []
  }
 ],
 "metadata": {
  "kernelspec": {
   "display_name": "Python 3 (ipykernel)",
   "language": "python",
   "name": "python3"
  },
  "language_info": {
   "codemirror_mode": {
    "name": "ipython",
    "version": 3
   },
   "file_extension": ".py",
   "mimetype": "text/x-python",
   "name": "python",
   "nbconvert_exporter": "python",
   "pygments_lexer": "ipython3",
   "version": "3.8.15"
  }
 },
 "nbformat": 4,
 "nbformat_minor": 5
}
