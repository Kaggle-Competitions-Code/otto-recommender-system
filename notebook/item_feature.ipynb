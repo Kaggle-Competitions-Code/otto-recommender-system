{
 "cells": [
  {
   "cell_type": "code",
   "execution_count": 4,
   "id": "0f7554fe",
   "metadata": {},
   "outputs": [],
   "source": [
    "import os\n",
    "import time\n",
    "import glob\n",
    "import gc\n",
    "import warnings\n",
    "from multiprocessing import Pool\n",
    "\n",
    "from tqdm import tqdm\n",
    "import pandas as pd\n",
    "import polars as pl\n",
    "import numpy as np\n",
    "import xgboost as xgb\n",
    "# import cudf\n",
    "from sklearn.model_selection import GroupKFold\n",
    "import joblib\n",
    "# from openfe import openfe, transform\n",
    "\n",
    "warnings.filterwarnings(\"ignore\")"
   ]
  },
  {
   "cell_type": "markdown",
   "id": "7ea4d4bd",
   "metadata": {},
   "source": [
    "# Setup"
   ]
  },
  {
   "cell_type": "code",
   "execution_count": 5,
   "id": "bf07cf38",
   "metadata": {},
   "outputs": [],
   "source": [
    "DATA_PATH = \"/home/search3/lichunyu/otto-recommender-system/data\"\n",
    "TYPE_MAP = {'clicks':0, 'carts':1, 'orders':2}\n",
    "DOWNSAMPLE_RATE = 20\n",
    "\n",
    "def read_parquet(f):\n",
    "    df = pd.read_parquet(f)\n",
    "    df.ts = (df.ts/1000).astype('int32')\n",
    "    df['type'] = df['type'].map(TYPE_MAP).astype('int8')\n",
    "    return df"
   ]
  },
  {
   "cell_type": "markdown",
   "id": "fe5f1aff",
   "metadata": {},
   "source": [
    "# Item Feature"
   ]
  },
  {
   "cell_type": "code",
   "execution_count": 6,
   "id": "cab97d68",
   "metadata": {},
   "outputs": [],
   "source": [
    "def item_feature_1(df, prefix):\n",
    "    if isinstance(df, pd.DataFrame):\n",
    "        df = pl.DataFrame(df)\n",
    "    df = df.groupby(\"aid\").agg([\n",
    "        pl.col(\"session\").n_unique().alias(\"item_user_count\"),\n",
    "        pl.col(\"aid\").count().alias(\"item_item_count\"),\n",
    "        pl.col(\"type\").mean().alias(\"item_buy_ratio\"),\n",
    "    ]).to_pandas().to_parquet(\n",
    "        os.path.join(DATA_PATH, f\"input/feature/{prefix}/item_feature_1.parquet\")\n",
    "    )\n",
    "    return df"
   ]
  },
  {
   "cell_type": "code",
   "execution_count": null,
   "id": "187a4636",
   "metadata": {},
   "outputs": [],
   "source": []
  },
  {
   "cell_type": "code",
   "execution_count": null,
   "id": "069934d2",
   "metadata": {},
   "outputs": [],
   "source": []
  },
  {
   "cell_type": "code",
   "execution_count": null,
   "id": "53dcb0fb",
   "metadata": {},
   "outputs": [],
   "source": []
  },
  {
   "cell_type": "code",
   "execution_count": 7,
   "id": "54bb48ea",
   "metadata": {},
   "outputs": [],
   "source": [
    "pipeline = [\n",
    "    item_feature_1\n",
    "]"
   ]
  },
  {
   "cell_type": "markdown",
   "id": "ef7417d1",
   "metadata": {},
   "source": [
    "# Build"
   ]
  },
  {
   "cell_type": "markdown",
   "id": "f20c168d",
   "metadata": {},
   "source": [
    "## Train"
   ]
  },
  {
   "cell_type": "code",
   "execution_count": null,
   "id": "5464586d",
   "metadata": {},
   "outputs": [],
   "source": [
    "%%time\n",
    "\n",
    "train_path = sorted(glob.glob(\n",
    "    os.path.join(DATA_PATH, \"input/otto-validation/train_parquet/*.parquet\")\n",
    "))\n",
    "\n",
    "valid_a_path = sorted(glob.glob(\n",
    "    os.path.join(DATA_PATH, \"input/otto-validation/test_parquet/*.parquet\")\n",
    "))\n",
    "\n",
    "df_train_item = pd.concat([\n",
    "    pd.concat([read_parquet(i) for i in train_path]),\n",
    "    pd.concat([read_parquet(i) for i in valid_a_path])\n",
    "])\n",
    "\n",
    "df_train_item = pl.DataFrame(df_train_item)"
   ]
  },
  {
   "cell_type": "code",
   "execution_count": null,
   "id": "6816b57b",
   "metadata": {},
   "outputs": [],
   "source": [
    "for p in tqdm(pipeline):\n",
    "    p(df_train_item, \"train\")"
   ]
  },
  {
   "cell_type": "code",
   "execution_count": null,
   "id": "c6563577",
   "metadata": {},
   "outputs": [],
   "source": []
  },
  {
   "cell_type": "code",
   "execution_count": null,
   "id": "eff71537",
   "metadata": {},
   "outputs": [],
   "source": []
  },
  {
   "cell_type": "code",
   "execution_count": null,
   "id": "c2330ed4",
   "metadata": {},
   "outputs": [],
   "source": []
  },
  {
   "cell_type": "markdown",
   "id": "564e80fc",
   "metadata": {},
   "source": [
    "## Test"
   ]
  },
  {
   "cell_type": "code",
   "execution_count": 24,
   "id": "44c80923",
   "metadata": {},
   "outputs": [
    {
     "name": "stdout",
     "output_type": "stream",
     "text": [
      "(223644219, 4)\n",
      "(170483281, 4)\n",
      "CPU times: user 40.6 s, sys: 12.4 s, total: 53 s\n",
      "Wall time: 43.3 s\n"
     ]
    }
   ],
   "source": [
    "%%time\n",
    "\n",
    "kaggle_train_path = sorted(glob.glob(\n",
    "    os.path.join(DATA_PATH, \"input/otto-chunk-data-inparquet-format/train_parquet/*.parquet\")\n",
    "))\n",
    "\n",
    "kaggle_test_path = sorted(glob.glob(\n",
    "    os.path.join(DATA_PATH, \"input/otto-chunk-data-inparquet-format/test_parquet/*.parquet\")\n",
    "))\n",
    "\n",
    "df_test_item = pd.concat([\n",
    "    pd.concat([read_parquet(i) for i in kaggle_train_path]),\n",
    "    pd.concat([read_parquet(i) for i in kaggle_test_path])\n",
    "])\n",
    "df_test_item = pl.DataFrame(df_test_item)\n",
    "print(df_test_item.shape)\n",
    "df_test_item = df_test_item.filter(\n",
    "    pl.col(\"ts\") > df_test_item[\"ts\"].min()+7*24*60*60\n",
    ")\n",
    "print(df_test_item.shape)"
   ]
  },
  {
   "cell_type": "code",
   "execution_count": 25,
   "id": "e4914eeb",
   "metadata": {},
   "outputs": [
    {
     "name": "stderr",
     "output_type": "stream",
     "text": [
      "100%|████████████████████████████████████████████████████████████████████████████████████████████████████| 1/1 [00:02<00:00,  2.74s/it]"
     ]
    },
    {
     "name": "stdout",
     "output_type": "stream",
     "text": [
      "CPU times: user 40.9 s, sys: 609 ms, total: 41.5 s\n",
      "Wall time: 2.75 s\n"
     ]
    },
    {
     "name": "stderr",
     "output_type": "stream",
     "text": [
      "\n"
     ]
    }
   ],
   "source": [
    "%%time\n",
    "\n",
    "for p in tqdm(pipeline):\n",
    "    p(df_test_item, \"test\")"
   ]
  },
  {
   "cell_type": "code",
   "execution_count": 22,
   "id": "db8560c8",
   "metadata": {},
   "outputs": [
    {
     "data": {
      "text/plain": [
       "(170483281, 4)"
      ]
     },
     "execution_count": 22,
     "metadata": {},
     "output_type": "execute_result"
    }
   ],
   "source": [
    "df_test_item.shape"
   ]
  },
  {
   "cell_type": "code",
   "execution_count": null,
   "id": "4858ed8b",
   "metadata": {},
   "outputs": [],
   "source": []
  },
  {
   "cell_type": "code",
   "execution_count": null,
   "id": "e0468d3a",
   "metadata": {},
   "outputs": [],
   "source": []
  },
  {
   "cell_type": "code",
   "execution_count": null,
   "id": "6d023793",
   "metadata": {},
   "outputs": [],
   "source": []
  },
  {
   "cell_type": "code",
   "execution_count": null,
   "id": "6743c6bf",
   "metadata": {},
   "outputs": [],
   "source": []
  },
  {
   "cell_type": "code",
   "execution_count": null,
   "id": "2c57b29d",
   "metadata": {},
   "outputs": [],
   "source": [
    "def ts_day(df):\n",
    "    ts_minimal = df[\"ts\"].min()\n",
    "    df[\"ts_day\"] = (df[\"ts\"]-ts_minimal) // (24*60*60)\n",
    "    return df\n",
    "\n",
    "def add_session_length(df):\n",
    "    # If not using cuDF, remove .to_pandas()\n",
    "    df['session_length'] = df.groupby('session')['ts'].transform('count')\n",
    "    return df\n",
    "\n",
    "def add_action_num_reverse_chrono(df):\n",
    "    df['action_num_reverse_chrono'] = df.session_length - df.groupby('session').cumcount() - 1\n",
    "    return df\n",
    "\n",
    "def add_log_recency_score(df):\n",
    "    linear_interpolation = 0.1 + ((1-0.1) / (df['session_length']-1)) * (df['session_length']-df['action_num_reverse_chrono']-1)\n",
    "    df['log_recency_score'] = (2 ** linear_interpolation - 1).fillna(1.0)\n",
    "    return df\n",
    "\n",
    "def add_type_weighted_log_recency_score(df):\n",
    "    type_weights = {0:1, 1:6, 2:3, 3:0.1}\n",
    "    df['type_weighted_log_recency_score'] = df['log_recency_score'] / df['type'].map(type_weights)\n",
    "    return df\n",
    "\n",
    "\n",
    "\n",
    "pipeline = [\n",
    "    ts_day,\n",
    "    add_session_length,\n",
    "    add_action_num_reverse_chrono,\n",
    "    add_log_recency_score,\n",
    "    add_type_weighted_log_recency_score\n",
    "]"
   ]
  },
  {
   "cell_type": "code",
   "execution_count": null,
   "id": "b09aa8b0",
   "metadata": {},
   "outputs": [],
   "source": []
  },
  {
   "cell_type": "code",
   "execution_count": null,
   "id": "31a47d17",
   "metadata": {},
   "outputs": [],
   "source": []
  },
  {
   "cell_type": "code",
   "execution_count": null,
   "id": "9270c8a1",
   "metadata": {},
   "outputs": [],
   "source": []
  },
  {
   "cell_type": "code",
   "execution_count": null,
   "id": "39be6a46",
   "metadata": {},
   "outputs": [],
   "source": []
  },
  {
   "cell_type": "code",
   "execution_count": null,
   "id": "7491a0c7",
   "metadata": {},
   "outputs": [],
   "source": []
  },
  {
   "cell_type": "code",
   "execution_count": null,
   "id": "f4d2e71e",
   "metadata": {},
   "outputs": [],
   "source": []
  },
  {
   "cell_type": "code",
   "execution_count": null,
   "id": "92e5f952",
   "metadata": {},
   "outputs": [],
   "source": []
  }
 ],
 "metadata": {
  "kernelspec": {
   "display_name": "Python 3 (ipykernel)",
   "language": "python",
   "name": "python3"
  },
  "language_info": {
   "codemirror_mode": {
    "name": "ipython",
    "version": 3
   },
   "file_extension": ".py",
   "mimetype": "text/x-python",
   "name": "python",
   "nbconvert_exporter": "python",
   "pygments_lexer": "ipython3",
   "version": "3.8.15"
  }
 },
 "nbformat": 4,
 "nbformat_minor": 5
}
