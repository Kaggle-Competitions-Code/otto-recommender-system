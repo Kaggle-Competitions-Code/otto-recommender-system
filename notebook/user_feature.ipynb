{
 "cells": [
  {
   "cell_type": "code",
   "execution_count": 2,
   "id": "51a7bfe6",
   "metadata": {},
   "outputs": [],
   "source": [
    "import os\n",
    "import time\n",
    "import glob\n",
    "import gc\n",
    "import warnings\n",
    "from multiprocessing import Pool\n",
    "\n",
    "from tqdm import tqdm\n",
    "import pandas as pd\n",
    "import polars as pl\n",
    "import numpy as np\n",
    "import xgboost as xgb\n",
    "# import cudf\n",
    "from sklearn.model_selection import GroupKFold\n",
    "import joblib\n",
    "# from openfe import openfe, transform\n",
    "\n",
    "warnings.filterwarnings(\"ignore\")"
   ]
  },
  {
   "cell_type": "markdown",
   "id": "87ef6192",
   "metadata": {},
   "source": [
    "# Setup"
   ]
  },
  {
   "cell_type": "code",
   "execution_count": 3,
   "id": "75100afe",
   "metadata": {},
   "outputs": [],
   "source": [
    "DATA_PATH = \"/home/search3/lichunyu/otto-recommender-system/data\"\n",
    "TYPE_MAP = {'clicks':0, 'carts':1, 'orders':2}\n",
    "DOWNSAMPLE_RATE = 20\n",
    "\n",
    "def read_parquet(f):\n",
    "    df = pd.read_parquet(f)\n",
    "    df.ts = (df.ts/1000).astype('int32')\n",
    "    df['type'] = df['type'].map(TYPE_MAP).astype('int8')\n",
    "    return df"
   ]
  },
  {
   "cell_type": "markdown",
   "id": "add312a7",
   "metadata": {},
   "source": [
    "# User Feature"
   ]
  },
  {
   "cell_type": "code",
   "execution_count": 4,
   "id": "ecc3b156",
   "metadata": {},
   "outputs": [],
   "source": [
    "def user_feature_1(df, prefix):\n",
    "    if isinstance(df, pd.DataFrame):\n",
    "        df = pl.DataFrame(df)\n",
    "    df = df.groupby(\"session\").agg([\n",
    "        pl.col(\"session\").count().alias(\"user_user_count\"),\n",
    "        pl.col(\"aid\").n_unique().alias(\"user_item_count\"),\n",
    "        pl.col(\"type\").mean().alias(\"user_buy_ratio\")\n",
    "    ]).to_pandas().to_parquet(\n",
    "        os.path.join(DATA_PATH, f\"input/feature/{prefix}/user_feature_1.parquet\")\n",
    "    )\n",
    "    return df\n",
    "\n",
    "def user_feature_2(df, prefix):\n",
    "    if isinstance(df, pd.DataFrame):\n",
    "        df = pl.DataFrame(df)\n",
    "#     ts_minimal = df[\"ts\"].min()\n",
    "    ts_maximal = df[\"ts\"].max()\n",
    "    df = df.filter(\n",
    "        pl.col(\"type\")==TYPE_MAP[\"orders\"]\n",
    "    ).groupby(\"session\").agg([\n",
    "        ((ts_maximal - pl.col(\"ts\").min())/(24*60*60)).alias(\"user_first_orders_time\"),\n",
    "        ((ts_maximal - pl.col(\"ts\").max())/(24*60*60)).alias(\"user_last_orders_time\")\n",
    "    ])\n",
    "    df.to_pandas().to_parquet(\n",
    "        os.path.join(DATA_PATH, f\"input/feature/{prefix}/user_feature_2.parquet\")\n",
    "    )\n",
    "    return df\n",
    "\n",
    "def user_feature_3(df, prefix):\n",
    "    if isinstance(df, pd.DataFrame):\n",
    "        df = pl.DataFrame(df)\n",
    "    df = df.groupby(\"session\").agg([\n",
    "        (pl.col(\"type\")==TYPE_MAP[\"orders\"]).sum().alias(\"user_orders_count\"),\n",
    "        (pl.col(\"type\")==TYPE_MAP[\"clicks\"]).sum().alias(\"user_clicks_count\"),\n",
    "        (pl.col(\"type\")==TYPE_MAP[\"carts\"]).sum().alias(\"user_carts_count\"),\n",
    "        (pl.col(\"type\")<5).sum().alias(\"user_behavior_count\")\n",
    "    ]).with_columns([\n",
    "        (pl.col(\"user_orders_count\")/pl.col(\"user_behavior_count\")).alias(\"user_orders_ratio\"),\n",
    "        (pl.col(\"user_clicks_count\")/pl.col(\"user_behavior_count\")).alias(\"user_clicks_ratio\"),\n",
    "        (pl.col(\"user_carts_count\")/pl.col(\"user_behavior_count\")).alias(\"user_carts_ratio\"),\n",
    "    ])\n",
    "    df.to_pandas().to_parquet(\n",
    "        os.path.join(DATA_PATH, f\"input/feature/{prefix}/user_feature_3.parquet\")\n",
    "    )\n",
    "    return df\n",
    "\n",
    "def user_feature_4(df, prefix):\n",
    "    if isinstance(df, pd.DataFrame):\n",
    "        df = pl.DataFrame(df)\n",
    "#     ts_minimal = df[\"ts\"].min()\n",
    "    ts_maximal = df[\"ts\"].max()\n",
    "    df = df.filter(\n",
    "        pl.col(\"type\")==TYPE_MAP[\"clicks\"]\n",
    "    ).groupby(\"session\").agg([\n",
    "        ((ts_maximal - pl.col(\"ts\").min())/(24*60*60)).alias(\"user_first_clicks_time\"),\n",
    "        ((ts_maximal - pl.col(\"ts\").max())/(24*60*60)).alias(\"user_last_clicks_time\")\n",
    "    ])\n",
    "    df.to_pandas().to_parquet(\n",
    "        os.path.join(DATA_PATH, f\"input/feature/{prefix}/user_feature_4.parquet\")\n",
    "    )\n",
    "    return df\n",
    "\n",
    "def user_feature_5(df, prefix):\n",
    "    if isinstance(df, pd.DataFrame):\n",
    "        df = pl.DataFrame(df)\n",
    "#     ts_minimal = df[\"ts\"].min()\n",
    "    ts_maximal = df[\"ts\"].max()\n",
    "    df = df.filter(\n",
    "        pl.col(\"type\")==TYPE_MAP[\"carts\"]\n",
    "    ).groupby(\"session\").agg([\n",
    "        ((ts_maximal - pl.col(\"ts\").min())/(24*60*60)).alias(\"user_first_carts_time\"),\n",
    "        ((ts_maximal - pl.col(\"ts\").max())/(24*60*60)).alias(\"user_last_carts_time\")\n",
    "    ])\n",
    "    df.to_pandas().to_parquet(\n",
    "        os.path.join(DATA_PATH, f\"input/feature/{prefix}/user_feature_5.parquet\")\n",
    "    )\n",
    "    return df"
   ]
  },
  {
   "cell_type": "code",
   "execution_count": null,
   "id": "541fa346",
   "metadata": {},
   "outputs": [],
   "source": []
  },
  {
   "cell_type": "code",
   "execution_count": null,
   "id": "e692b5fb",
   "metadata": {},
   "outputs": [],
   "source": [
    "def clicks_rate_in_carts(df):\n",
    "    def func(x):\n",
    "        x_clicks = x[x[\"type\"]==TYPE_MAP[\"clicks\"]]\n",
    "        x_carts = x[x[\"type\"]==TYPE_MAP[\"carts\"]]\n",
    "        x_hit = x_carts.merge(x_clicks, on=\"aid\", how=\"inner\").drop_duplicates()\n",
    "        rate = (len(x_hit) / len(x_carts)) if len(x_carts) != 0 else 0\n",
    "        dual_rate = (len(x_carts) / len(x_hit)) if len(x_hit) != 0 else 0\n",
    "#         r = pd.Series({\"clicks_rate_in_carts\": rate})\n",
    "        r = pd.Series({\"clicks_rate_in_carts\": rate, \"carts_rate_in_clicks\": dual_rate})\n",
    "        return r\n",
    "    df_tmp = df[[\"session\", \"aid\", \"ts\", \"type\"]].groupby(\"session\")[[\"aid\", \"type\"]].apply(func)\n",
    "    df = df.merge(df_tmp, on=\"session\")\n",
    "    return df\n",
    "\n",
    "def clicks_rate_in_orders(df):\n",
    "    def func(x):\n",
    "        x_clicks = x[x[\"type\"]==TYPE_MAP[\"clicks\"]]\n",
    "        x_orders = x[x[\"type\"]==TYPE_MAP[\"orders\"]]\n",
    "        x_hit = x_orders.merge(x_clicks, on=\"aid\", how=\"inner\").drop_duplicates()\n",
    "        rate = (len(x_hit) / len(x_orders)) if len(x_orders) != 0 else 0\n",
    "        dual_rate = (len(x_orders) / len(x_hit)) if len(x_hit) != 0 else 0\n",
    "#         r = pd.Series({\"clicks_rate_in_orders\": rate})\n",
    "        r = pd.Series({\"clicks_rate_in_orders\": rate, \"orders_rate_in_clicks\": dual_rate})\n",
    "        return r\n",
    "    df_tmp = df[[\"session\", \"aid\", \"ts\", \"type\"]].groupby(\"session\")[[\"aid\", \"type\"]].apply(func)\n",
    "    df = df.merge(df_tmp, on=\"session\")\n",
    "    return df\n",
    "\n",
    "def carts_rate_in_orders(df):\n",
    "    def func(x):\n",
    "        x_carts = x[x[\"type\"]==TYPE_MAP[\"carts\"]]\n",
    "        x_orders = x[x[\"type\"]==TYPE_MAP[\"orders\"]]\n",
    "        x_hit = x_orders.merge(x_carts, on=\"aid\", how=\"inner\").drop_duplicates()\n",
    "        rate = (len(x_hit) / len(x_orders)) if len(x_orders) != 0 else 0\n",
    "        dual_rate = (len(x_orders) / len(x_hit)) if len(x_hit) != 0 else 0\n",
    "        r = pd.Series({\"carts_rate_in_orders\": rate, \"orders_rate_in_carts\": dual_rate})\n",
    "        return r\n",
    "    df_tmp = df[[\"session\", \"aid\", \"ts\", \"type\"]].groupby(\"session\")[[\"aid\", \"type\"]].apply(func)\n",
    "    df = df.merge(df_tmp, on=\"session\")\n",
    "    return df"
   ]
  },
  {
   "cell_type": "code",
   "execution_count": null,
   "id": "3da13782",
   "metadata": {},
   "outputs": [],
   "source": []
  },
  {
   "cell_type": "code",
   "execution_count": null,
   "id": "14d5cc3d",
   "metadata": {},
   "outputs": [],
   "source": []
  },
  {
   "cell_type": "code",
   "execution_count": null,
   "id": "e2579f92",
   "metadata": {},
   "outputs": [],
   "source": []
  },
  {
   "cell_type": "code",
   "execution_count": null,
   "id": "c20671fa",
   "metadata": {},
   "outputs": [],
   "source": []
  },
  {
   "cell_type": "code",
   "execution_count": null,
   "id": "725620de",
   "metadata": {},
   "outputs": [],
   "source": []
  },
  {
   "cell_type": "code",
   "execution_count": 5,
   "id": "d42b3439",
   "metadata": {},
   "outputs": [],
   "source": [
    "pipeline = [\n",
    "    user_feature_2,\n",
    "    user_feature_4,\n",
    "    user_feature_5\n",
    "]"
   ]
  },
  {
   "cell_type": "code",
   "execution_count": 9,
   "id": "6abe6ad3",
   "metadata": {},
   "outputs": [],
   "source": [
    "pipeline = [\n",
    "    user_feature_1\n",
    "]"
   ]
  },
  {
   "cell_type": "code",
   "execution_count": null,
   "id": "5d3f431e",
   "metadata": {},
   "outputs": [],
   "source": []
  },
  {
   "cell_type": "code",
   "execution_count": null,
   "id": "17e5ed8d",
   "metadata": {},
   "outputs": [],
   "source": []
  },
  {
   "cell_type": "markdown",
   "id": "4c50d437",
   "metadata": {},
   "source": [
    "# Build"
   ]
  },
  {
   "cell_type": "markdown",
   "id": "9de61766",
   "metadata": {},
   "source": [
    "## Train"
   ]
  },
  {
   "cell_type": "code",
   "execution_count": 6,
   "id": "8b15f7b2",
   "metadata": {},
   "outputs": [
    {
     "name": "stdout",
     "output_type": "stream",
     "text": [
      "CPU times: user 1.49 s, sys: 229 ms, total: 1.72 s\n",
      "Wall time: 1.3 s\n"
     ]
    },
    {
     "data": {
      "text/html": [
       "<div>\n",
       "<style scoped>\n",
       "    .dataframe tbody tr th:only-of-type {\n",
       "        vertical-align: middle;\n",
       "    }\n",
       "\n",
       "    .dataframe tbody tr th {\n",
       "        vertical-align: top;\n",
       "    }\n",
       "\n",
       "    .dataframe thead th {\n",
       "        text-align: right;\n",
       "    }\n",
       "\n",
       "    .dataframe td {\n",
       "        white-space: pre;\n",
       "    }\n",
       "\n",
       "    .dataframe td {\n",
       "        padding-top: 0;\n",
       "    }\n",
       "\n",
       "    .dataframe td {\n",
       "        padding-bottom: 0;\n",
       "    }\n",
       "\n",
       "    .dataframe td {\n",
       "        line-height: 95%;\n",
       "    }\n",
       "</style>\n",
       "<table border=\"1\" class=\"dataframe\">\n",
       "<small>shape: (5, 4)</small>\n",
       "<thead>\n",
       "<tr>\n",
       "<th>\n",
       "session\n",
       "</th>\n",
       "<th>\n",
       "aid\n",
       "</th>\n",
       "<th>\n",
       "ts\n",
       "</th>\n",
       "<th>\n",
       "type\n",
       "</th>\n",
       "</tr>\n",
       "<tr>\n",
       "<td>\n",
       "i32\n",
       "</td>\n",
       "<td>\n",
       "i32\n",
       "</td>\n",
       "<td>\n",
       "i32\n",
       "</td>\n",
       "<td>\n",
       "i8\n",
       "</td>\n",
       "</tr>\n",
       "</thead>\n",
       "<tbody>\n",
       "<tr>\n",
       "<td>\n",
       "11098528\n",
       "</td>\n",
       "<td>\n",
       "11830\n",
       "</td>\n",
       "<td>\n",
       "1661119200\n",
       "</td>\n",
       "<td>\n",
       "0\n",
       "</td>\n",
       "</tr>\n",
       "<tr>\n",
       "<td>\n",
       "11098529\n",
       "</td>\n",
       "<td>\n",
       "1105029\n",
       "</td>\n",
       "<td>\n",
       "1661119200\n",
       "</td>\n",
       "<td>\n",
       "0\n",
       "</td>\n",
       "</tr>\n",
       "<tr>\n",
       "<td>\n",
       "11098530\n",
       "</td>\n",
       "<td>\n",
       "264500\n",
       "</td>\n",
       "<td>\n",
       "1661119200\n",
       "</td>\n",
       "<td>\n",
       "0\n",
       "</td>\n",
       "</tr>\n",
       "<tr>\n",
       "<td>\n",
       "11098530\n",
       "</td>\n",
       "<td>\n",
       "264500\n",
       "</td>\n",
       "<td>\n",
       "1661119288\n",
       "</td>\n",
       "<td>\n",
       "0\n",
       "</td>\n",
       "</tr>\n",
       "<tr>\n",
       "<td>\n",
       "11098530\n",
       "</td>\n",
       "<td>\n",
       "409236\n",
       "</td>\n",
       "<td>\n",
       "1661119369\n",
       "</td>\n",
       "<td>\n",
       "0\n",
       "</td>\n",
       "</tr>\n",
       "</tbody>\n",
       "</table>\n",
       "</div>"
      ],
      "text/plain": [
       "shape: (5, 4)\n",
       "┌──────────┬─────────┬────────────┬──────┐\n",
       "│ session  ┆ aid     ┆ ts         ┆ type │\n",
       "│ ---      ┆ ---     ┆ ---        ┆ ---  │\n",
       "│ i32      ┆ i32     ┆ i32        ┆ i8   │\n",
       "╞══════════╪═════════╪════════════╪══════╡\n",
       "│ 11098528 ┆ 11830   ┆ 1661119200 ┆ 0    │\n",
       "├╌╌╌╌╌╌╌╌╌╌┼╌╌╌╌╌╌╌╌╌┼╌╌╌╌╌╌╌╌╌╌╌╌┼╌╌╌╌╌╌┤\n",
       "│ 11098529 ┆ 1105029 ┆ 1661119200 ┆ 0    │\n",
       "├╌╌╌╌╌╌╌╌╌╌┼╌╌╌╌╌╌╌╌╌┼╌╌╌╌╌╌╌╌╌╌╌╌┼╌╌╌╌╌╌┤\n",
       "│ 11098530 ┆ 264500  ┆ 1661119200 ┆ 0    │\n",
       "├╌╌╌╌╌╌╌╌╌╌┼╌╌╌╌╌╌╌╌╌┼╌╌╌╌╌╌╌╌╌╌╌╌┼╌╌╌╌╌╌┤\n",
       "│ 11098530 ┆ 264500  ┆ 1661119288 ┆ 0    │\n",
       "├╌╌╌╌╌╌╌╌╌╌┼╌╌╌╌╌╌╌╌╌┼╌╌╌╌╌╌╌╌╌╌╌╌┼╌╌╌╌╌╌┤\n",
       "│ 11098530 ┆ 409236  ┆ 1661119369 ┆ 0    │\n",
       "└──────────┴─────────┴────────────┴──────┘"
      ]
     },
     "execution_count": 6,
     "metadata": {},
     "output_type": "execute_result"
    }
   ],
   "source": [
    "%%time\n",
    "\n",
    "valid_a_path = sorted(glob.glob(\n",
    "    os.path.join(DATA_PATH, \"input/otto-validation/test_parquet/*.parquet\")\n",
    "))\n",
    "\n",
    "df_train_user = pd.concat([read_parquet(i) for i in valid_a_path])\n",
    "df_train_user = pl.DataFrame(df_train_user)\n",
    "df_train_user.head(5)"
   ]
  },
  {
   "cell_type": "code",
   "execution_count": null,
   "id": "cdb96aec",
   "metadata": {},
   "outputs": [],
   "source": []
  },
  {
   "cell_type": "code",
   "execution_count": 7,
   "id": "63101dfb",
   "metadata": {},
   "outputs": [
    {
     "name": "stderr",
     "output_type": "stream",
     "text": [
      "100%|████████████████████████████████████████████████████████████████████████████████████████████████████| 3/3 [00:00<00:00,  4.71it/s]\n"
     ]
    }
   ],
   "source": [
    "for p in tqdm(pipeline):\n",
    "    p(df_train_user, \"train\")"
   ]
  },
  {
   "cell_type": "code",
   "execution_count": null,
   "id": "daba8b7b",
   "metadata": {},
   "outputs": [],
   "source": []
  },
  {
   "cell_type": "code",
   "execution_count": null,
   "id": "1b3f9bd8",
   "metadata": {},
   "outputs": [],
   "source": []
  },
  {
   "cell_type": "code",
   "execution_count": null,
   "id": "698162ef",
   "metadata": {},
   "outputs": [],
   "source": []
  },
  {
   "cell_type": "code",
   "execution_count": null,
   "id": "78819668",
   "metadata": {},
   "outputs": [],
   "source": []
  },
  {
   "cell_type": "code",
   "execution_count": null,
   "id": "307eac0a",
   "metadata": {},
   "outputs": [],
   "source": []
  },
  {
   "cell_type": "code",
   "execution_count": null,
   "id": "8e177d44",
   "metadata": {},
   "outputs": [],
   "source": []
  },
  {
   "cell_type": "code",
   "execution_count": null,
   "id": "d72bb575",
   "metadata": {},
   "outputs": [],
   "source": []
  },
  {
   "cell_type": "code",
   "execution_count": null,
   "id": "46004a71",
   "metadata": {},
   "outputs": [],
   "source": []
  },
  {
   "cell_type": "code",
   "execution_count": null,
   "id": "ff4e5f87",
   "metadata": {},
   "outputs": [],
   "source": []
  },
  {
   "cell_type": "markdown",
   "id": "9b53c9e2",
   "metadata": {},
   "source": [
    "## Test"
   ]
  },
  {
   "cell_type": "code",
   "execution_count": 8,
   "id": "ceb26d58",
   "metadata": {},
   "outputs": [
    {
     "name": "stdout",
     "output_type": "stream",
     "text": [
      "CPU times: user 1.78 s, sys: 173 ms, total: 1.95 s\n",
      "Wall time: 1.22 s\n"
     ]
    },
    {
     "data": {
      "text/plain": [
       "(6928123, 4)"
      ]
     },
     "execution_count": 8,
     "metadata": {},
     "output_type": "execute_result"
    }
   ],
   "source": [
    "%%time\n",
    "\n",
    "kaggle_test_path = sorted(glob.glob(\n",
    "    os.path.join(DATA_PATH, \"input/otto-chunk-data-inparquet-format/test_parquet/*.parquet\")\n",
    "))\n",
    "\n",
    "df_test_user = pd.concat([read_parquet(i) for i in kaggle_test_path])\n",
    "df_test_user = pl.DataFrame(df_test_user)\n",
    "df_test_user.shape"
   ]
  },
  {
   "cell_type": "code",
   "execution_count": 9,
   "id": "04053c1d",
   "metadata": {},
   "outputs": [
    {
     "name": "stderr",
     "output_type": "stream",
     "text": [
      "100%|████████████████████████████████████████████████████████████████████████████████████████████████████| 3/3 [00:00<00:00,  5.01it/s]\n"
     ]
    }
   ],
   "source": [
    "for p in tqdm(pipeline):\n",
    "    p(df_test_user, \"test\")"
   ]
  },
  {
   "cell_type": "code",
   "execution_count": null,
   "id": "599b6d45",
   "metadata": {},
   "outputs": [],
   "source": []
  },
  {
   "cell_type": "code",
   "execution_count": null,
   "id": "68577ebe",
   "metadata": {},
   "outputs": [],
   "source": []
  },
  {
   "cell_type": "code",
   "execution_count": null,
   "id": "7051d66f",
   "metadata": {},
   "outputs": [],
   "source": []
  },
  {
   "cell_type": "code",
   "execution_count": null,
   "id": "5d9c0256",
   "metadata": {},
   "outputs": [],
   "source": []
  },
  {
   "cell_type": "code",
   "execution_count": null,
   "id": "5e50b445",
   "metadata": {},
   "outputs": [],
   "source": []
  },
  {
   "cell_type": "code",
   "execution_count": null,
   "id": "884e2bbb",
   "metadata": {},
   "outputs": [],
   "source": []
  },
  {
   "cell_type": "code",
   "execution_count": null,
   "id": "4b8d1500",
   "metadata": {},
   "outputs": [],
   "source": []
  },
  {
   "cell_type": "code",
   "execution_count": null,
   "id": "68a9ace0",
   "metadata": {},
   "outputs": [],
   "source": [
    "def ts_day(df):\n",
    "    ts_minimal = df[\"ts\"].min()\n",
    "    df[\"ts_day\"] = (df[\"ts\"]-ts_minimal) // (24*60*60)\n",
    "    return df\n",
    "\n",
    "def add_session_length(df):\n",
    "    # If not using cuDF, remove .to_pandas()\n",
    "    df['session_length'] = df.groupby('session')['ts'].transform('count')\n",
    "    return df\n",
    "\n",
    "def add_action_num_reverse_chrono(df):\n",
    "    df['action_num_reverse_chrono'] = df.session_length - df.groupby('session').cumcount() - 1\n",
    "    return df\n",
    "\n",
    "def add_log_recency_score(df):\n",
    "    linear_interpolation = 0.1 + ((1-0.1) / (df['session_length']-1)) * (df['session_length']-df['action_num_reverse_chrono']-1)\n",
    "    df['log_recency_score'] = (2 ** linear_interpolation - 1).fillna(1.0)\n",
    "    return df\n",
    "\n",
    "def add_type_weighted_log_recency_score(df):\n",
    "    type_weights = {0:1, 1:6, 2:3, 3:0.1}\n",
    "    df['type_weighted_log_recency_score'] = df['log_recency_score'] / df['type'].map(type_weights)\n",
    "    return df\n",
    "\n",
    "\n",
    "\n",
    "pipeline = [\n",
    "    ts_day,\n",
    "    add_session_length,\n",
    "    add_action_num_reverse_chrono,\n",
    "    add_log_recency_score,\n",
    "    add_type_weighted_log_recency_score\n",
    "]"
   ]
  },
  {
   "cell_type": "code",
   "execution_count": null,
   "id": "dc9a678f",
   "metadata": {},
   "outputs": [],
   "source": []
  },
  {
   "cell_type": "code",
   "execution_count": null,
   "id": "bc4b957a",
   "metadata": {},
   "outputs": [],
   "source": []
  },
  {
   "cell_type": "code",
   "execution_count": null,
   "id": "06422fad",
   "metadata": {},
   "outputs": [],
   "source": []
  },
  {
   "cell_type": "code",
   "execution_count": null,
   "id": "6bfafc74",
   "metadata": {},
   "outputs": [],
   "source": []
  },
  {
   "cell_type": "code",
   "execution_count": null,
   "id": "3b472adb",
   "metadata": {},
   "outputs": [],
   "source": []
  },
  {
   "cell_type": "code",
   "execution_count": null,
   "id": "b8b9e981",
   "metadata": {},
   "outputs": [],
   "source": []
  }
 ],
 "metadata": {
  "kernelspec": {
   "display_name": "Python 3 (ipykernel)",
   "language": "python",
   "name": "python3"
  },
  "language_info": {
   "codemirror_mode": {
    "name": "ipython",
    "version": 3
   },
   "file_extension": ".py",
   "mimetype": "text/x-python",
   "name": "python",
   "nbconvert_exporter": "python",
   "pygments_lexer": "ipython3",
   "version": "3.8.15"
  }
 },
 "nbformat": 4,
 "nbformat_minor": 5
}
