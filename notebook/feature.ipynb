{
 "cells": [
  {
   "cell_type": "code",
   "execution_count": 1,
   "id": "78b128ed",
   "metadata": {},
   "outputs": [],
   "source": [
    "import os\n",
    "import time\n",
    "import glob\n",
    "\n",
    "import pandas as pd\n",
    "import polars as pl\n",
    "import numpy as np\n",
    "import xgboost as xgb\n",
    "import cudf\n",
    "from sklearn.model_selection import GroupKFold\n",
    "import joblib\n",
    "from matplotlib import pyplot as plt"
   ]
  },
  {
   "cell_type": "code",
   "execution_count": 2,
   "id": "491f9850",
   "metadata": {},
   "outputs": [],
   "source": [
    "DATASET_PATH = \"/home/search2/lichunyu/otto-recommender-system/data/input\"\n",
    "\n",
    "TYPE_MAP = {'clicks':0, 'carts':1, 'orders':2}\n",
    "\n",
    "def read_parquet(f):\n",
    "    df = pd.read_parquet(f)\n",
    "    df.ts = (df.ts/1000).astype('int32')\n",
    "    df['type'] = df['type'].map(TYPE_MAP).astype('int8')\n",
    "    return df"
   ]
  },
  {
   "cell_type": "code",
   "execution_count": 3,
   "id": "b0dd2bb3",
   "metadata": {},
   "outputs": [],
   "source": [
    "train_files: list = sorted(glob.glob(os.path.join(DATASET_PATH, \"otto-validation/train_parquet/*.parquet\")))\n",
    "# train_files"
   ]
  },
  {
   "cell_type": "code",
   "execution_count": 4,
   "id": "762045d5",
   "metadata": {},
   "outputs": [],
   "source": [
    "test_files: list = sorted(glob.glob(os.path.join(DATASET_PATH, \"otto-validation/test_parquet/*.parquet\")))\n",
    "# test_files"
   ]
  },
  {
   "cell_type": "code",
   "execution_count": null,
   "id": "305d620b",
   "metadata": {},
   "outputs": [],
   "source": [
    "%%time\n",
    "df_train = read_parquet(train_files[0])\n",
    "df_train = df_train[df_train[\"session\"].isin(pd.DataFrame(np.random.choice(df_train.session.unique(), int(TRAIN_SESSION_SAMPLE_SIZE))).rename({0: \"session\"}, axis=1)[\"session\"])]\n",
    "train_ts_maximal = df_train[\"ts\"].max()\n",
    "train_ts_minimal = df_train[\"ts\"].min()\n",
    "df_train_label = df_train[(train_ts_maximal-df_train[\"ts\"]) < 24*60*60].reset_index(drop=True)\n",
    "df_train = df_train[(train_ts_maximal-df_train[\"ts\"]) >= 24*60*60].reset_index(drop=True)\n",
    "df_train_label[\"label\"] = 1\n",
    "df_train = df_train.merge(df_train_label[[\"session\", \"aid\", \"label\"]], on=[\"session\", \"aid\"], how=\"outer\").fillna({\"label\": 0, \"type\": 3, \"ts\": train_ts_minimal})\n",
    "df_train[\"label\"] = df_train[\"label\"].astype(\"int8\")\n",
    "df_train[\"type\"].value_counts()"
   ]
  },
  {
   "cell_type": "code",
   "execution_count": null,
   "id": "a1055125",
   "metadata": {},
   "outputs": [],
   "source": []
  },
  {
   "cell_type": "code",
   "execution_count": null,
   "id": "809657f0",
   "metadata": {},
   "outputs": [],
   "source": []
  },
  {
   "cell_type": "code",
   "execution_count": null,
   "id": "47ed2b0a",
   "metadata": {},
   "outputs": [],
   "source": []
  },
  {
   "cell_type": "code",
   "execution_count": null,
   "id": "36343d89",
   "metadata": {},
   "outputs": [],
   "source": []
  },
  {
   "cell_type": "code",
   "execution_count": null,
   "id": "7c78e769",
   "metadata": {},
   "outputs": [],
   "source": []
  },
  {
   "cell_type": "code",
   "execution_count": null,
   "id": "979692c5",
   "metadata": {},
   "outputs": [],
   "source": []
  },
  {
   "cell_type": "code",
   "execution_count": null,
   "id": "a2ebc0f9",
   "metadata": {},
   "outputs": [],
   "source": []
  },
  {
   "cell_type": "code",
   "execution_count": null,
   "id": "bf547899",
   "metadata": {},
   "outputs": [],
   "source": []
  },
  {
   "cell_type": "code",
   "execution_count": null,
   "id": "e90aabff",
   "metadata": {},
   "outputs": [],
   "source": []
  },
  {
   "cell_type": "code",
   "execution_count": null,
   "id": "b5b6ac4e",
   "metadata": {},
   "outputs": [],
   "source": []
  },
  {
   "cell_type": "code",
   "execution_count": null,
   "id": "042954f1",
   "metadata": {},
   "outputs": [],
   "source": []
  },
  {
   "cell_type": "code",
   "execution_count": null,
   "id": "575485e5",
   "metadata": {},
   "outputs": [],
   "source": []
  },
  {
   "cell_type": "code",
   "execution_count": null,
   "id": "1afa39a9",
   "metadata": {},
   "outputs": [],
   "source": []
  },
  {
   "cell_type": "code",
   "execution_count": null,
   "id": "b7056611",
   "metadata": {},
   "outputs": [],
   "source": []
  },
  {
   "cell_type": "code",
   "execution_count": null,
   "id": "43a074de",
   "metadata": {},
   "outputs": [],
   "source": []
  },
  {
   "cell_type": "code",
   "execution_count": null,
   "id": "23ce279a",
   "metadata": {},
   "outputs": [],
   "source": []
  },
  {
   "cell_type": "code",
   "execution_count": null,
   "id": "bef3ed79",
   "metadata": {},
   "outputs": [],
   "source": []
  },
  {
   "cell_type": "code",
   "execution_count": null,
   "id": "773fede9",
   "metadata": {},
   "outputs": [],
   "source": []
  },
  {
   "cell_type": "code",
   "execution_count": null,
   "id": "c21f75b8",
   "metadata": {},
   "outputs": [],
   "source": []
  },
  {
   "cell_type": "code",
   "execution_count": null,
   "id": "e10d72b2",
   "metadata": {},
   "outputs": [],
   "source": []
  },
  {
   "cell_type": "markdown",
   "id": "6ab73f6c",
   "metadata": {},
   "source": [
    "# EDA\n",
    "user count: 11096179  \n",
    "clicks item count: 1824585\n",
    "\n",
    "# item feature\n",
    "* 购买次数\n",
    "* 点击次数\n",
    "* carts次数\n",
    "* 被多少用户购买过\n",
    "* 被多少用户点击过\n",
    "* 被多少用户carts过\n",
    "\n",
    "# user feature\n",
    "* 点击次数\n",
    "* 购买次数\n",
    "* carts次数\n",
    "* 最近n天是否有行为记录\n",
    "* 行为记录属于频繁还是\n",
    "\n",
    "# interaction feature\n",
    "* 用户内点击次数\n",
    "* 用户内购买次数\n",
    "* 用户内carts次数"
   ]
  },
  {
   "cell_type": "markdown",
   "id": "4c87a75f",
   "metadata": {},
   "source": [
    "# Item Feature"
   ]
  },
  {
   "cell_type": "code",
   "execution_count": 31,
   "id": "82310678",
   "metadata": {},
   "outputs": [
    {
     "name": "stdout",
     "output_type": "stream",
     "text": [
      "CPU times: user 34.2 s, sys: 3.63 s, total: 37.8 s\n",
      "Wall time: 33.1 s\n"
     ]
    }
   ],
   "source": [
    "%%time\n",
    "df_clicks_count = None\n",
    "for f in train_files:\n",
    "    df_tmp = read_parquet(f)\n",
    "    df_tmp = df_tmp[df_tmp[\"type\"]==0].groupby(\"aid\").agg(\"count\").reset_index()\n",
    "    df_tmp = df_tmp[[\"aid\", \"session\"]].rename({\"session\": \"count\"}, axis=1)\n",
    "    if df_clicks_count is None:\n",
    "        df_clicks_count = df_tmp\n",
    "    else:\n",
    "        df_clicks_count = pd.concat([df_clicks_count, df_tmp])\n",
    "        df_clicks_count = df_clicks_count.groupby(\"aid\").agg(\"sum\").reset_index()\n",
    "#     break\n",
    "df_clicks_count = df_clicks_count.reset_index(drop=True)"
   ]
  },
  {
   "cell_type": "code",
   "execution_count": 65,
   "id": "7c304395",
   "metadata": {},
   "outputs": [],
   "source": [
    "# df_clicks_count[\"count\"] = df_clicks_count[\"count\"]//100\n",
    "df_clicks_count.to_pickle(os.path.join(DATASET_PATH, \"feature/clicks_count.pkl\"))"
   ]
  },
  {
   "cell_type": "code",
   "execution_count": 56,
   "id": "40b66598",
   "metadata": {},
   "outputs": [
    {
     "data": {
      "text/plain": [
       "<AxesSubplot: >"
      ]
     },
     "execution_count": 56,
     "metadata": {},
     "output_type": "execute_result"
    },
    {
     "data": {
      "image/png": "[encoded data removed]",
      "text/plain": [
       "<Figure size 640x480 with 1 Axes>"
      ]
     },
     "metadata": {},
     "output_type": "display_data"
    }
   ],
   "source": [
    "df_clicks_count[[\"count\"]].plot()"
   ]
  },
  {
   "cell_type": "code",
   "execution_count": 57,
   "id": "8d8c7469",
   "metadata": {},
   "outputs": [
    {
     "name": "stdout",
     "output_type": "stream",
     "text": [
      "CPU times: user 20.2 s, sys: 3.03 s, total: 23.3 s\n",
      "Wall time: 18.7 s\n"
     ]
    }
   ],
   "source": [
    "%%time\n",
    "df_carts_count = None\n",
    "for f in train_files:\n",
    "    df_tmp = read_parquet(f)\n",
    "    df_tmp = df_tmp[df_tmp[\"type\"]==TYPE_MAP[\"carts\"]].groupby(\"aid\").agg(\"count\").reset_index()\n",
    "    df_tmp = df_tmp[[\"aid\", \"session\"]].rename({\"session\": \"count\"}, axis=1)\n",
    "    if df_carts_count is None:\n",
    "        df_carts_count = df_tmp\n",
    "    else:\n",
    "        df_carts_count = pd.concat([df_carts_count, df_tmp])\n",
    "        df_carts_count = df_carts_count.groupby(\"aid\").agg(\"sum\").reset_index()\n",
    "#     break\n",
    "df_carts_count = df_carts_count.reset_index(drop=True)"
   ]
  },
  {
   "cell_type": "code",
   "execution_count": 63,
   "id": "7d969da5",
   "metadata": {},
   "outputs": [
    {
     "data": {
      "text/plain": [
       "(61,)"
      ]
     },
     "execution_count": 63,
     "metadata": {},
     "output_type": "execute_result"
    }
   ],
   "source": [
    "df_carts_count[\"count\"].unique().shape"
   ]
  },
  {
   "cell_type": "code",
   "execution_count": 66,
   "id": "76474463",
   "metadata": {},
   "outputs": [],
   "source": [
    "# df_carts_count[\"count\"] = df_carts_count[\"count\"]//100\n",
    "df_carts_count.to_pickle(os.path.join(DATASET_PATH, \"feature/carts_count.pkl\"))"
   ]
  },
  {
   "cell_type": "code",
   "execution_count": null,
   "id": "3965ac79",
   "metadata": {},
   "outputs": [],
   "source": []
  },
  {
   "cell_type": "code",
   "execution_count": 67,
   "id": "0f1362f1",
   "metadata": {},
   "outputs": [
    {
     "name": "stdout",
     "output_type": "stream",
     "text": [
      "CPU times: user 16.2 s, sys: 2.03 s, total: 18.3 s\n",
      "Wall time: 13.8 s\n"
     ]
    }
   ],
   "source": [
    "%%time\n",
    "df_orders_count = None\n",
    "for f in train_files:\n",
    "    df_tmp = read_parquet(f)\n",
    "    df_tmp = df_tmp[df_tmp[\"type\"]==TYPE_MAP[\"orders\"]].groupby(\"aid\").agg(\"count\").reset_index()\n",
    "    df_tmp = df_tmp[[\"aid\", \"session\"]].rename({\"session\": \"count\"}, axis=1)\n",
    "    if df_orders_count is None:\n",
    "        df_orders_count = df_tmp\n",
    "    else:\n",
    "        df_orders_count = pd.concat([df_orders_count, df_tmp])\n",
    "        df_orders_count = df_orders_count.groupby(\"aid\").agg(\"sum\").reset_index()\n",
    "#     break\n",
    "df_orders_count = df_orders_count.reset_index(drop=True)"
   ]
  },
  {
   "cell_type": "code",
   "execution_count": 72,
   "id": "17fc5216",
   "metadata": {},
   "outputs": [],
   "source": [
    "df_orders_count[\"count\"] = df_orders_count[\"count\"]//10"
   ]
  },
  {
   "cell_type": "code",
   "execution_count": 74,
   "id": "d1af77ac",
   "metadata": {},
   "outputs": [],
   "source": [
    "df_orders_count.to_pickle(os.path.join(DATASET_PATH, \"feature/orders_count.pkl\"))"
   ]
  },
  {
   "cell_type": "code",
   "execution_count": null,
   "id": "4dcc491e",
   "metadata": {},
   "outputs": [],
   "source": []
  },
  {
   "cell_type": "code",
   "execution_count": null,
   "id": "8b8b6f34",
   "metadata": {},
   "outputs": [],
   "source": []
  },
  {
   "cell_type": "markdown",
   "id": "799e3136",
   "metadata": {},
   "source": [
    "# User Feature"
   ]
  },
  {
   "cell_type": "markdown",
   "id": "f5206ae3",
   "metadata": {},
   "source": [
    "## carts次数"
   ]
  },
  {
   "cell_type": "code",
   "execution_count": 13,
   "id": "8f1a1954",
   "metadata": {},
   "outputs": [
    {
     "data": {
      "text/html": [
       "<div>\n",
       "<style scoped>\n",
       "    .dataframe tbody tr th:only-of-type {\n",
       "        vertical-align: middle;\n",
       "    }\n",
       "\n",
       "    .dataframe tbody tr th {\n",
       "        vertical-align: top;\n",
       "    }\n",
       "\n",
       "    .dataframe thead th {\n",
       "        text-align: right;\n",
       "    }\n",
       "</style>\n",
       "<table border=\"1\" class=\"dataframe\">\n",
       "  <thead>\n",
       "    <tr style=\"text-align: right;\">\n",
       "      <th></th>\n",
       "      <th>session</th>\n",
       "      <th>count</th>\n",
       "    </tr>\n",
       "  </thead>\n",
       "  <tbody>\n",
       "    <tr>\n",
       "      <th>0</th>\n",
       "      <td>0</td>\n",
       "      <td>3</td>\n",
       "    </tr>\n",
       "    <tr>\n",
       "      <th>1</th>\n",
       "      <td>1</td>\n",
       "      <td>8</td>\n",
       "    </tr>\n",
       "    <tr>\n",
       "      <th>2</th>\n",
       "      <td>3</td>\n",
       "      <td>21</td>\n",
       "    </tr>\n",
       "    <tr>\n",
       "      <th>3</th>\n",
       "      <td>5</td>\n",
       "      <td>1</td>\n",
       "    </tr>\n",
       "    <tr>\n",
       "      <th>4</th>\n",
       "      <td>9</td>\n",
       "      <td>1</td>\n",
       "    </tr>\n",
       "    <tr>\n",
       "      <th>...</th>\n",
       "      <td>...</td>\n",
       "      <td>...</td>\n",
       "    </tr>\n",
       "    <tr>\n",
       "      <th>3089890</th>\n",
       "      <td>11098382</td>\n",
       "      <td>1</td>\n",
       "    </tr>\n",
       "    <tr>\n",
       "      <th>3089891</th>\n",
       "      <td>11098409</td>\n",
       "      <td>1</td>\n",
       "    </tr>\n",
       "    <tr>\n",
       "      <th>3089892</th>\n",
       "      <td>11098423</td>\n",
       "      <td>2</td>\n",
       "    </tr>\n",
       "    <tr>\n",
       "      <th>3089893</th>\n",
       "      <td>11098444</td>\n",
       "      <td>2</td>\n",
       "    </tr>\n",
       "    <tr>\n",
       "      <th>3089894</th>\n",
       "      <td>11098458</td>\n",
       "      <td>1</td>\n",
       "    </tr>\n",
       "  </tbody>\n",
       "</table>\n",
       "<p>3089895 rows × 2 columns</p>\n",
       "</div>"
      ],
      "text/plain": [
       "          session  count\n",
       "0               0      3\n",
       "1               1      8\n",
       "2               3     21\n",
       "3               5      1\n",
       "4               9      1\n",
       "...           ...    ...\n",
       "3089890  11098382      1\n",
       "3089891  11098409      1\n",
       "3089892  11098423      2\n",
       "3089893  11098444      2\n",
       "3089894  11098458      1\n",
       "\n",
       "[3089895 rows x 2 columns]"
      ]
     },
     "execution_count": 13,
     "metadata": {},
     "output_type": "execute_result"
    }
   ],
   "source": [
    "df_carts_count = None\n",
    "for f in train_files:\n",
    "    df_tmp = read_parquet(f)\n",
    "    df_tmp = df_tmp[df_tmp[\"type\"]==TYPE_MAP[\"carts\"]].groupby(\"session\").agg(\"count\").reset_index()\n",
    "    df_tmp = df_tmp[[\"session\", \"aid\"]].rename({\"aid\": \"count\"}, axis=1)\n",
    "    if df_carts_count is None:\n",
    "        df_carts_count = df_tmp\n",
    "    else:\n",
    "        df_carts_count = pd.concat([df_carts_count, df_tmp])\n",
    "#     break\n",
    "df_carts_count = df_carts_count.reset_index(drop=True)\n",
    "df_carts_count"
   ]
  },
  {
   "cell_type": "code",
   "execution_count": 17,
   "id": "09ae2418",
   "metadata": {},
   "outputs": [],
   "source": [
    "df_carts_count.to_pickle(os.path.join(DATASET_PATH, \"feature/session_carts_count.pkl\"))"
   ]
  },
  {
   "cell_type": "markdown",
   "id": "d03b9e78",
   "metadata": {},
   "source": [
    "## clicks 次数"
   ]
  },
  {
   "cell_type": "code",
   "execution_count": 18,
   "id": "5ea89938",
   "metadata": {},
   "outputs": [
    {
     "data": {
      "text/html": [
       "<div>\n",
       "<style scoped>\n",
       "    .dataframe tbody tr th:only-of-type {\n",
       "        vertical-align: middle;\n",
       "    }\n",
       "\n",
       "    .dataframe tbody tr th {\n",
       "        vertical-align: top;\n",
       "    }\n",
       "\n",
       "    .dataframe thead th {\n",
       "        text-align: right;\n",
       "    }\n",
       "</style>\n",
       "<table border=\"1\" class=\"dataframe\">\n",
       "  <thead>\n",
       "    <tr style=\"text-align: right;\">\n",
       "      <th></th>\n",
       "      <th>session</th>\n",
       "      <th>count</th>\n",
       "    </tr>\n",
       "  </thead>\n",
       "  <tbody>\n",
       "    <tr>\n",
       "      <th>0</th>\n",
       "      <td>0</td>\n",
       "      <td>142</td>\n",
       "    </tr>\n",
       "    <tr>\n",
       "      <th>1</th>\n",
       "      <td>1</td>\n",
       "      <td>19</td>\n",
       "    </tr>\n",
       "    <tr>\n",
       "      <th>2</th>\n",
       "      <td>2</td>\n",
       "      <td>13</td>\n",
       "    </tr>\n",
       "    <tr>\n",
       "      <th>3</th>\n",
       "      <td>3</td>\n",
       "      <td>200</td>\n",
       "    </tr>\n",
       "    <tr>\n",
       "      <th>4</th>\n",
       "      <td>4</td>\n",
       "      <td>2</td>\n",
       "    </tr>\n",
       "    <tr>\n",
       "      <th>...</th>\n",
       "      <td>...</td>\n",
       "      <td>...</td>\n",
       "    </tr>\n",
       "    <tr>\n",
       "      <th>11096174</th>\n",
       "      <td>11098523</td>\n",
       "      <td>1</td>\n",
       "    </tr>\n",
       "    <tr>\n",
       "      <th>11096175</th>\n",
       "      <td>11098524</td>\n",
       "      <td>1</td>\n",
       "    </tr>\n",
       "    <tr>\n",
       "      <th>11096176</th>\n",
       "      <td>11098525</td>\n",
       "      <td>1</td>\n",
       "    </tr>\n",
       "    <tr>\n",
       "      <th>11096177</th>\n",
       "      <td>11098526</td>\n",
       "      <td>1</td>\n",
       "    </tr>\n",
       "    <tr>\n",
       "      <th>11096178</th>\n",
       "      <td>11098527</td>\n",
       "      <td>1</td>\n",
       "    </tr>\n",
       "  </tbody>\n",
       "</table>\n",
       "<p>11096179 rows × 2 columns</p>\n",
       "</div>"
      ],
      "text/plain": [
       "           session  count\n",
       "0                0    142\n",
       "1                1     19\n",
       "2                2     13\n",
       "3                3    200\n",
       "4                4      2\n",
       "...            ...    ...\n",
       "11096174  11098523      1\n",
       "11096175  11098524      1\n",
       "11096176  11098525      1\n",
       "11096177  11098526      1\n",
       "11096178  11098527      1\n",
       "\n",
       "[11096179 rows x 2 columns]"
      ]
     },
     "execution_count": 18,
     "metadata": {},
     "output_type": "execute_result"
    }
   ],
   "source": [
    "df_carts_count = None\n",
    "for f in train_files:\n",
    "    df_tmp = read_parquet(f)\n",
    "    df_tmp = df_tmp[df_tmp[\"type\"]==TYPE_MAP[\"clicks\"]].groupby(\"session\").agg(\"count\").reset_index()\n",
    "    df_tmp = df_tmp[[\"session\", \"aid\"]].rename({\"aid\": \"count\"}, axis=1)\n",
    "    if df_carts_count is None:\n",
    "        df_carts_count = df_tmp\n",
    "    else:\n",
    "        df_carts_count = pd.concat([df_carts_count, df_tmp])\n",
    "#     break\n",
    "df_carts_count = df_carts_count.reset_index(drop=True)\n",
    "df_carts_count"
   ]
  },
  {
   "cell_type": "code",
   "execution_count": 19,
   "id": "0b504951",
   "metadata": {},
   "outputs": [],
   "source": [
    "df_carts_count.to_pickle(os.path.join(DATASET_PATH, \"feature/session_clicks_count.pkl\"))"
   ]
  },
  {
   "cell_type": "markdown",
   "id": "7c9e9a4f",
   "metadata": {},
   "source": [
    "## orders 次数"
   ]
  },
  {
   "cell_type": "code",
   "execution_count": 20,
   "id": "8af0cf1f",
   "metadata": {},
   "outputs": [
    {
     "data": {
      "text/html": [
       "<div>\n",
       "<style scoped>\n",
       "    .dataframe tbody tr th:only-of-type {\n",
       "        vertical-align: middle;\n",
       "    }\n",
       "\n",
       "    .dataframe tbody tr th {\n",
       "        vertical-align: top;\n",
       "    }\n",
       "\n",
       "    .dataframe thead th {\n",
       "        text-align: right;\n",
       "    }\n",
       "</style>\n",
       "<table border=\"1\" class=\"dataframe\">\n",
       "  <thead>\n",
       "    <tr style=\"text-align: right;\">\n",
       "      <th></th>\n",
       "      <th>session</th>\n",
       "      <th>count</th>\n",
       "    </tr>\n",
       "  </thead>\n",
       "  <tbody>\n",
       "    <tr>\n",
       "      <th>0</th>\n",
       "      <td>0</td>\n",
       "      <td>2</td>\n",
       "    </tr>\n",
       "    <tr>\n",
       "      <th>1</th>\n",
       "      <td>3</td>\n",
       "      <td>5</td>\n",
       "    </tr>\n",
       "    <tr>\n",
       "      <th>2</th>\n",
       "      <td>4</td>\n",
       "      <td>1</td>\n",
       "    </tr>\n",
       "    <tr>\n",
       "      <th>3</th>\n",
       "      <td>11</td>\n",
       "      <td>2</td>\n",
       "    </tr>\n",
       "    <tr>\n",
       "      <th>4</th>\n",
       "      <td>12</td>\n",
       "      <td>1</td>\n",
       "    </tr>\n",
       "    <tr>\n",
       "      <th>...</th>\n",
       "      <td>...</td>\n",
       "      <td>...</td>\n",
       "    </tr>\n",
       "    <tr>\n",
       "      <th>1314402</th>\n",
       "      <td>11098168</td>\n",
       "      <td>1</td>\n",
       "    </tr>\n",
       "    <tr>\n",
       "      <th>1314403</th>\n",
       "      <td>11098185</td>\n",
       "      <td>3</td>\n",
       "    </tr>\n",
       "    <tr>\n",
       "      <th>1314404</th>\n",
       "      <td>11098290</td>\n",
       "      <td>2</td>\n",
       "    </tr>\n",
       "    <tr>\n",
       "      <th>1314405</th>\n",
       "      <td>11098316</td>\n",
       "      <td>1</td>\n",
       "    </tr>\n",
       "    <tr>\n",
       "      <th>1314406</th>\n",
       "      <td>11098322</td>\n",
       "      <td>5</td>\n",
       "    </tr>\n",
       "  </tbody>\n",
       "</table>\n",
       "<p>1314407 rows × 2 columns</p>\n",
       "</div>"
      ],
      "text/plain": [
       "          session  count\n",
       "0               0      2\n",
       "1               3      5\n",
       "2               4      1\n",
       "3              11      2\n",
       "4              12      1\n",
       "...           ...    ...\n",
       "1314402  11098168      1\n",
       "1314403  11098185      3\n",
       "1314404  11098290      2\n",
       "1314405  11098316      1\n",
       "1314406  11098322      5\n",
       "\n",
       "[1314407 rows x 2 columns]"
      ]
     },
     "execution_count": 20,
     "metadata": {},
     "output_type": "execute_result"
    }
   ],
   "source": [
    "df_carts_count = None\n",
    "for f in train_files:\n",
    "    df_tmp = read_parquet(f)\n",
    "    df_tmp = df_tmp[df_tmp[\"type\"]==TYPE_MAP[\"orders\"]].groupby(\"session\").agg(\"count\").reset_index()\n",
    "    df_tmp = df_tmp[[\"session\", \"aid\"]].rename({\"aid\": \"count\"}, axis=1)\n",
    "    if df_carts_count is None:\n",
    "        df_carts_count = df_tmp\n",
    "    else:\n",
    "        df_carts_count = pd.concat([df_carts_count, df_tmp])\n",
    "#     break\n",
    "df_carts_count = df_carts_count.reset_index(drop=True)\n",
    "df_carts_count"
   ]
  },
  {
   "cell_type": "code",
   "execution_count": 21,
   "id": "faec0388",
   "metadata": {},
   "outputs": [],
   "source": [
    "df_carts_count.to_pickle(os.path.join(DATASET_PATH, \"feature/session_orders_count.pkl\"))"
   ]
  },
  {
   "cell_type": "code",
   "execution_count": null,
   "id": "f5a44ce6",
   "metadata": {},
   "outputs": [],
   "source": []
  },
  {
   "cell_type": "code",
   "execution_count": null,
   "id": "edaa83b4",
   "metadata": {},
   "outputs": [],
   "source": []
  },
  {
   "cell_type": "code",
   "execution_count": null,
   "id": "55fadd71",
   "metadata": {},
   "outputs": [],
   "source": []
  },
  {
   "cell_type": "code",
   "execution_count": null,
   "id": "d05cb35e",
   "metadata": {},
   "outputs": [],
   "source": []
  },
  {
   "cell_type": "code",
   "execution_count": null,
   "id": "293d3130",
   "metadata": {},
   "outputs": [],
   "source": []
  },
  {
   "cell_type": "code",
   "execution_count": 11,
   "id": "9cd2290f",
   "metadata": {},
   "outputs": [
    {
     "data": {
      "text/html": [
       "<div>\n",
       "<style scoped>\n",
       "    .dataframe tbody tr th:only-of-type {\n",
       "        vertical-align: middle;\n",
       "    }\n",
       "\n",
       "    .dataframe tbody tr th {\n",
       "        vertical-align: top;\n",
       "    }\n",
       "\n",
       "    .dataframe thead th {\n",
       "        text-align: right;\n",
       "    }\n",
       "</style>\n",
       "<table border=\"1\" class=\"dataframe\">\n",
       "  <thead>\n",
       "    <tr style=\"text-align: right;\">\n",
       "      <th></th>\n",
       "      <th>session</th>\n",
       "      <th>aid</th>\n",
       "      <th>ts</th>\n",
       "      <th>type</th>\n",
       "    </tr>\n",
       "  </thead>\n",
       "  <tbody>\n",
       "    <tr>\n",
       "      <th>0</th>\n",
       "      <td>12809725</td>\n",
       "      <td>1080975</td>\n",
       "      <td>1661703782</td>\n",
       "      <td>0</td>\n",
       "    </tr>\n",
       "    <tr>\n",
       "      <th>1</th>\n",
       "      <td>12809726</td>\n",
       "      <td>46950</td>\n",
       "      <td>1661703782</td>\n",
       "      <td>0</td>\n",
       "    </tr>\n",
       "    <tr>\n",
       "      <th>2</th>\n",
       "      <td>12809727</td>\n",
       "      <td>1203591</td>\n",
       "      <td>1661703783</td>\n",
       "      <td>0</td>\n",
       "    </tr>\n",
       "    <tr>\n",
       "      <th>3</th>\n",
       "      <td>12809727</td>\n",
       "      <td>1203591</td>\n",
       "      <td>1661703793</td>\n",
       "      <td>1</td>\n",
       "    </tr>\n",
       "    <tr>\n",
       "      <th>4</th>\n",
       "      <td>12809728</td>\n",
       "      <td>543478</td>\n",
       "      <td>1661703783</td>\n",
       "      <td>0</td>\n",
       "    </tr>\n",
       "    <tr>\n",
       "      <th>...</th>\n",
       "      <td>...</td>\n",
       "      <td>...</td>\n",
       "      <td>...</td>\n",
       "      <td>...</td>\n",
       "    </tr>\n",
       "    <tr>\n",
       "      <th>316324</th>\n",
       "      <td>12899774</td>\n",
       "      <td>33035</td>\n",
       "      <td>1661723968</td>\n",
       "      <td>0</td>\n",
       "    </tr>\n",
       "    <tr>\n",
       "      <th>316325</th>\n",
       "      <td>12899775</td>\n",
       "      <td>1743151</td>\n",
       "      <td>1661723970</td>\n",
       "      <td>0</td>\n",
       "    </tr>\n",
       "    <tr>\n",
       "      <th>316326</th>\n",
       "      <td>12899776</td>\n",
       "      <td>548599</td>\n",
       "      <td>1661723972</td>\n",
       "      <td>0</td>\n",
       "    </tr>\n",
       "    <tr>\n",
       "      <th>316327</th>\n",
       "      <td>12899777</td>\n",
       "      <td>384045</td>\n",
       "      <td>1661723976</td>\n",
       "      <td>0</td>\n",
       "    </tr>\n",
       "    <tr>\n",
       "      <th>316328</th>\n",
       "      <td>12899778</td>\n",
       "      <td>561560</td>\n",
       "      <td>1661723983</td>\n",
       "      <td>0</td>\n",
       "    </tr>\n",
       "  </tbody>\n",
       "</table>\n",
       "<p>316329 rows × 4 columns</p>\n",
       "</div>"
      ],
      "text/plain": [
       "         session      aid          ts  type\n",
       "0       12809725  1080975  1661703782     0\n",
       "1       12809726    46950  1661703782     0\n",
       "2       12809727  1203591  1661703783     0\n",
       "3       12809727  1203591  1661703793     1\n",
       "4       12809728   543478  1661703783     0\n",
       "...          ...      ...         ...   ...\n",
       "316324  12899774    33035  1661723968     0\n",
       "316325  12899775  1743151  1661723970     0\n",
       "316326  12899776   548599  1661723972     0\n",
       "316327  12899777   384045  1661723976     0\n",
       "316328  12899778   561560  1661723983     0\n",
       "\n",
       "[316329 rows x 4 columns]"
      ]
     },
     "execution_count": 11,
     "metadata": {},
     "output_type": "execute_result"
    }
   ],
   "source": [
    "read_parquet(test_files[-1])"
   ]
  },
  {
   "cell_type": "code",
   "execution_count": 5,
   "id": "a7758a43",
   "metadata": {},
   "outputs": [
    {
     "data": {
      "text/html": [
       "<div>\n",
       "<style scoped>\n",
       "    .dataframe tbody tr th:only-of-type {\n",
       "        vertical-align: middle;\n",
       "    }\n",
       "\n",
       "    .dataframe tbody tr th {\n",
       "        vertical-align: top;\n",
       "    }\n",
       "\n",
       "    .dataframe thead th {\n",
       "        text-align: right;\n",
       "    }\n",
       "</style>\n",
       "<table border=\"1\" class=\"dataframe\">\n",
       "  <thead>\n",
       "    <tr style=\"text-align: right;\">\n",
       "      <th></th>\n",
       "      <th>session</th>\n",
       "      <th>aid</th>\n",
       "      <th>ts</th>\n",
       "      <th>type</th>\n",
       "    </tr>\n",
       "  </thead>\n",
       "  <tbody>\n",
       "    <tr>\n",
       "      <th>0</th>\n",
       "      <td>11098528</td>\n",
       "      <td>11830</td>\n",
       "      <td>1661119200</td>\n",
       "      <td>0</td>\n",
       "    </tr>\n",
       "    <tr>\n",
       "      <th>1</th>\n",
       "      <td>11098528</td>\n",
       "      <td>1732105</td>\n",
       "      <td>1661119200</td>\n",
       "      <td>3</td>\n",
       "    </tr>\n",
       "    <tr>\n",
       "      <th>2</th>\n",
       "      <td>11098528</td>\n",
       "      <td>588923</td>\n",
       "      <td>1661119200</td>\n",
       "      <td>3</td>\n",
       "    </tr>\n",
       "    <tr>\n",
       "      <th>3</th>\n",
       "      <td>11098528</td>\n",
       "      <td>876129</td>\n",
       "      <td>1661119200</td>\n",
       "      <td>3</td>\n",
       "    </tr>\n",
       "    <tr>\n",
       "      <th>4</th>\n",
       "      <td>11098528</td>\n",
       "      <td>884502</td>\n",
       "      <td>1661119200</td>\n",
       "      <td>3</td>\n",
       "    </tr>\n",
       "    <tr>\n",
       "      <th>...</th>\n",
       "      <td>...</td>\n",
       "      <td>...</td>\n",
       "      <td>...</td>\n",
       "      <td>...</td>\n",
       "    </tr>\n",
       "    <tr>\n",
       "      <th>182272660</th>\n",
       "      <td>12899778</td>\n",
       "      <td>314422</td>\n",
       "      <td>1661119200</td>\n",
       "      <td>3</td>\n",
       "    </tr>\n",
       "    <tr>\n",
       "      <th>182272661</th>\n",
       "      <td>12899778</td>\n",
       "      <td>357194</td>\n",
       "      <td>1661119200</td>\n",
       "      <td>3</td>\n",
       "    </tr>\n",
       "    <tr>\n",
       "      <th>182272662</th>\n",
       "      <td>12899778</td>\n",
       "      <td>362673</td>\n",
       "      <td>1661119200</td>\n",
       "      <td>3</td>\n",
       "    </tr>\n",
       "    <tr>\n",
       "      <th>182272663</th>\n",
       "      <td>12899778</td>\n",
       "      <td>377330</td>\n",
       "      <td>1661119200</td>\n",
       "      <td>3</td>\n",
       "    </tr>\n",
       "    <tr>\n",
       "      <th>182272664</th>\n",
       "      <td>12899778</td>\n",
       "      <td>467421</td>\n",
       "      <td>1661119200</td>\n",
       "      <td>3</td>\n",
       "    </tr>\n",
       "  </tbody>\n",
       "</table>\n",
       "<p>182272665 rows × 4 columns</p>\n",
       "</div>"
      ],
      "text/plain": [
       "            session      aid          ts  type\n",
       "0          11098528    11830  1661119200     0\n",
       "1          11098528  1732105  1661119200     3\n",
       "2          11098528   588923  1661119200     3\n",
       "3          11098528   876129  1661119200     3\n",
       "4          11098528   884502  1661119200     3\n",
       "...             ...      ...         ...   ...\n",
       "182272660  12899778   314422  1661119200     3\n",
       "182272661  12899778   357194  1661119200     3\n",
       "182272662  12899778   362673  1661119200     3\n",
       "182272663  12899778   377330  1661119200     3\n",
       "182272664  12899778   467421  1661119200     3\n",
       "\n",
       "[182272665 rows x 4 columns]"
      ]
     },
     "execution_count": 5,
     "metadata": {},
     "output_type": "execute_result"
    }
   ],
   "source": [
    "df = pd.read_pickle(\"/home/search2/lichunyu/otto-recommender-system/data/input/otto-validation/test_candidates/candidate_comatrix_exploded_details.pkl\")\n",
    "df"
   ]
  },
  {
   "cell_type": "code",
   "execution_count": null,
   "id": "05ee8214",
   "metadata": {},
   "outputs": [],
   "source": []
  },
  {
   "cell_type": "code",
   "execution_count": null,
   "id": "b3cacf6a",
   "metadata": {},
   "outputs": [],
   "source": []
  },
  {
   "cell_type": "code",
   "execution_count": null,
   "id": "af1c8336",
   "metadata": {},
   "outputs": [],
   "source": []
  },
  {
   "cell_type": "code",
   "execution_count": null,
   "id": "54cc4fa4",
   "metadata": {},
   "outputs": [],
   "source": []
  },
  {
   "cell_type": "code",
   "execution_count": null,
   "id": "409184fd",
   "metadata": {},
   "outputs": [],
   "source": []
  },
  {
   "cell_type": "code",
   "execution_count": null,
   "id": "cd69d46c",
   "metadata": {},
   "outputs": [],
   "source": []
  },
  {
   "cell_type": "code",
   "execution_count": null,
   "id": "e02bfda4",
   "metadata": {},
   "outputs": [],
   "source": []
  },
  {
   "cell_type": "code",
   "execution_count": null,
   "id": "c112540a",
   "metadata": {},
   "outputs": [],
   "source": []
  },
  {
   "cell_type": "code",
   "execution_count": null,
   "id": "409b81ff",
   "metadata": {},
   "outputs": [],
   "source": []
  },
  {
   "cell_type": "code",
   "execution_count": null,
   "id": "f7e240fb",
   "metadata": {},
   "outputs": [],
   "source": []
  },
  {
   "cell_type": "code",
   "execution_count": null,
   "id": "0e96a0d8",
   "metadata": {},
   "outputs": [],
   "source": []
  }
 ],
 "metadata": {
  "kernelspec": {
   "display_name": "Python 3 (ipykernel)",
   "language": "python",
   "name": "python3"
  },
  "language_info": {
   "codemirror_mode": {
    "name": "ipython",
    "version": 3
   },
   "file_extension": ".py",
   "mimetype": "text/x-python",
   "name": "python",
   "nbconvert_exporter": "python",
   "pygments_lexer": "ipython3",
   "version": "3.8.15"
  }
 },
 "nbformat": 4,
 "nbformat_minor": 5
}
