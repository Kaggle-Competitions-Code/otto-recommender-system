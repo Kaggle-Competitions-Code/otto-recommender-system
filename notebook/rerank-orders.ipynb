{
 "cells": [
  {
   "cell_type": "code",
   "execution_count": 1,
   "id": "cb287cab",
   "metadata": {},
   "outputs": [],
   "source": [
    "import os\n",
    "import time\n",
    "import glob\n",
    "import gc\n",
    "import pickle\n",
    "import warnings\n",
    "from multiprocessing import Pool\n",
    "\n",
    "from tqdm import tqdm\n",
    "import pandas as pd\n",
    "import polars as pl\n",
    "import numpy as np\n",
    "import xgboost as xgb\n",
    "# import cudf\n",
    "from sklearn.model_selection import GroupKFold\n",
    "import joblib\n",
    "# from openfe import openfe, transform\n",
    "\n",
    "warnings.filterwarnings(\"ignore\")"
   ]
  },
  {
   "cell_type": "markdown",
   "id": "9491800c",
   "metadata": {},
   "source": [
    "# Param"
   ]
  },
  {
   "cell_type": "code",
   "execution_count": 2,
   "id": "6cd2d391",
   "metadata": {},
   "outputs": [],
   "source": [
    "DATA_PATH = \"/home/search3/lichunyu/otto-recommender-system/data\"\n",
    "TYPE_MAP = {'clicks':0, 'carts':1, 'orders':2}\n",
    "TOPN = 50\n",
    "DOWNSAMPLE_RATE = 20\n",
    "VALID_DATA_RATIO = 0.01\n",
    "MODEL_TYPE = \"orders\"\n",
    "\n",
    "def read_parquet(f):\n",
    "    df = pd.read_parquet(f)\n",
    "    df.ts = (df.ts/1000).astype('int32')\n",
    "    df['type'] = df['type'].map(TYPE_MAP).astype('int8')\n",
    "    return df"
   ]
  },
  {
   "cell_type": "markdown",
   "id": "fa9f9dd5",
   "metadata": {},
   "source": [
    "# Fill NA"
   ]
  },
  {
   "cell_type": "code",
   "execution_count": 3,
   "id": "d46afa21",
   "metadata": {},
   "outputs": [],
   "source": [
    "def fillna_default(df):\n",
    "    df = df.fillna({\n",
    "        \"user_first_clicks_time\": 8.0,\n",
    "        \"user_last_clicks_time\": 8.0,\n",
    "        \"user_first_orders_time\": 8.0,\n",
    "        \"user_last_orders_time\": 8.0,\n",
    "        \"user_first_carts_time\": 8.0,\n",
    "        \"user_last_carts_time\": 8.0,\n",
    "        \"interaction_type_core\": 0,\n",
    "        \"item_last_clicks_ts\": 30,\n",
    "        \"item_first_clicks_ts\": 30,\n",
    "        \"item_last_carts_ts\": 30,\n",
    "        \"item_first_carts_ts\": 30,\n",
    "        \"item_last_orders_ts\": 30,\n",
    "        \"item_first_orders_ts\": 30,\n",
    "        \"interaction_clicks_carts_ratio\": 0,\n",
    "        \"interaction_carts_clicks_ratio\": 0,\n",
    "        \"interaction_clicks_orders_ratio\": 0,\n",
    "        \"interaction_orders_clicks_ratio\": 0,\n",
    "        \"interaction_orders_carts_ratio\": 0,\n",
    "        \"interaction_carts_orders_ratio\": 0,\n",
    "        \"interaction_timing_decay_score\": 0,\n",
    "        \"interaction_orders_count\": 0,\n",
    "        \"interaction_clicks_count\": 0,\n",
    "        \"interaction_carts_count\": 0,\n",
    "        \"interaction_behavior_count\": 0,\n",
    "        \"interaction_behavor_period\": 0\n",
    "    }, axis=0)\n",
    "    return df"
   ]
  },
  {
   "cell_type": "markdown",
   "id": "53bd7152",
   "metadata": {},
   "source": [
    "## Model Train"
   ]
  },
  {
   "cell_type": "code",
   "execution_count": 4,
   "id": "668ec930",
   "metadata": {},
   "outputs": [
    {
     "name": "stdout",
     "output_type": "stream",
     "text": [
      "CPU times: user 58.3 s, sys: 8.51 s, total: 1min 6s\n",
      "Wall time: 1min 5s\n"
     ]
    },
    {
     "data": {
      "text/plain": [
       "(90062550, 4)"
      ]
     },
     "execution_count": 4,
     "metadata": {},
     "output_type": "execute_result"
    }
   ],
   "source": [
    "%%time\n",
    "\n",
    "# valid_a_candidates_path = sorted(glob.glob(\n",
    "#     os.path.join(DATA_PATH, \"input/otto-candidates/valid_a_candidates/valid_a_candidates_buys_top50.parquet \")\n",
    "# ))\n",
    "\n",
    "# df_train_candidates = pd.concat([pd.read_parquet(i) for i in valid_a_candidates_path])\n",
    "\n",
    "# valid_a_candidates_path = os.path.join(DATA_PATH, \"input/otto-candidates/valid_a_candidates/valid_a_orders_candidates_top50.parquet\")\n",
    "valid_a_candidates_path = os.path.join(DATA_PATH, f\"input/otto-candidates/valid_a_candidates/valid_a_{MODEL_TYPE}_candidates_top{TOPN}.parquet\")\n",
    "df_train_candidates = pd.read_parquet(valid_a_candidates_path)\n",
    "\n",
    "\n",
    "df_train_label = pd.read_parquet(\n",
    "    os.path.join(DATA_PATH, \"input/otto-validation/test_labels.parquet\")\n",
    ")\n",
    "# df_train_label = df_train_label[(df_train_label[\"type\"]==\"orders\")|(df_train_label[\"type\"]==\"carts\")][[\"session\", \"ground_truth\"]] # TODO test it\n",
    "df_train_label = df_train_label[(df_train_label[\"type\"]==MODEL_TYPE)][[\"session\", \"ground_truth\"]]\n",
    "df_train_label = df_train_label.explode(\"ground_truth\").reset_index(drop=True)\n",
    "df_train_label = df_train_label.rename({\"ground_truth\": \"aid\"}, axis=1)\n",
    "df_train_label[\"label\"] = 1\n",
    "\n",
    "# df_train_candidates = df_train_candidates.merge(df_train_label, on=[\"session\", \"aid\"], how=\"outer\").fillna({\"label\": 0})\n",
    "\n",
    "df_train_candidates = df_train_candidates.merge(df_train_label, on=[\"session\", \"aid\"], how=\"left\").fillna({\"label\": 0})\n",
    "df_train_candidates[\"label\"] = df_train_candidates[\"label\"].astype(\"int\")\n",
    "df_train_candidates[\"recall_order\"] = df_train_candidates.groupby('session').cumcount()\n",
    "df_train_candidates.shape"
   ]
  },
  {
   "cell_type": "markdown",
   "id": "9331182c",
   "metadata": {},
   "source": [
    "## Downsample"
   ]
  },
  {
   "cell_type": "code",
   "execution_count": 5,
   "id": "7c433a8c",
   "metadata": {},
   "outputs": [
    {
     "name": "stdout",
     "output_type": "stream",
     "text": [
      "origin all data size: 90062550\n",
      "current negative size: 88955407, postive size: 211043, rate: 421\n",
      "df_train_candidates size: 4431903, df_valid_candidates size: 896100\n",
      "CPU times: user 23.2 s, sys: 1.69 s, total: 24.9 s\n",
      "Wall time: 24.9 s\n"
     ]
    }
   ],
   "source": [
    "%%time\n",
    "\n",
    "def downsample(df, n=-1):\n",
    "    if n == -1:\n",
    "        n = DOWNSAMPLE_RATE\n",
    "    df_negative = df[df[\"label\"]==0]\n",
    "    df_postive = df[df[\"label\"]==1]\n",
    "    r = len(df_negative)//len(df_postive)\n",
    "    print(f\"current negative size: {len(df_negative)}, postive size: {len(df_postive)}, rate: {r}\")\n",
    "    if r > n:\n",
    "        gloden_negative_size = n * len(df_postive)\n",
    "        df_negative = df_negative.sample(gloden_negative_size)\n",
    "        df = pd.concat([df_postive, df_negative])\n",
    "    df[\"_noise\"] = np.random.randn(len(df))\n",
    "    df = df.sort_values([\"session\", \"_noise\"])\n",
    "    df = df.drop(\"_noise\", axis=1).reset_index(drop=True)\n",
    "    return df\n",
    "\n",
    "\n",
    "def train_valid_split(df):\n",
    "    print(f\"origin all data size: {len(df)}\")\n",
    "    valid_session = np.random.choice(df_train_candidates.session.unique(), int(len(df_train_candidates.session.unique())*VALID_DATA_RATIO))\n",
    "    df_train = df[~df[\"session\"].isin(valid_session)]\n",
    "    df_valid = df[df[\"session\"].isin(valid_session)]\n",
    "    df_train = downsample(df_train)\n",
    "    return df_train, df_valid\n",
    "\n",
    "\n",
    "df_train_candidates, df_valid_candidates = train_valid_split(df_train_candidates)\n",
    "df_train_candidates[\"label\"] = df_train_candidates[\"label\"].astype(\"int\")\n",
    "df_valid_candidates[\"label\"] = df_valid_candidates[\"label\"].astype(\"int\")\n",
    "print(f\"df_train_candidates size: {len(df_train_candidates)}, df_valid_candidates size: {len(df_valid_candidates)}\")"
   ]
  },
  {
   "cell_type": "markdown",
   "id": "cf1f73ee",
   "metadata": {},
   "source": [
    "## Merge Feature"
   ]
  },
  {
   "cell_type": "code",
   "execution_count": 6,
   "id": "4650e435",
   "metadata": {},
   "outputs": [
    {
     "name": "stderr",
     "output_type": "stream",
     "text": [
      "100%|██████████████████████████████████████████████████████████████████████████████████████████████████████████████████████████████████████| 7/7 [00:35<00:00,  5.03s/it]\n",
      "100%|██████████████████████████████████████████████████████████████████████████████████████████████████████████████████████████████████████| 5/5 [00:11<00:00,  2.37s/it]\n",
      "100%|██████████████████████████████████████████████████████████████████████████████████████████████████████████████████████████████████████| 5/5 [01:06<00:00, 13.27s/it]\n"
     ]
    },
    {
     "name": "stdout",
     "output_type": "stream",
     "text": [
      "df_train_candidates size: 4431903, df_valid_candidates size: 896100\n",
      "CPU times: user 1min 55s, sys: 13.2 s, total: 2min 8s\n",
      "Wall time: 2min 5s\n"
     ]
    },
    {
     "data": {
      "text/html": [
       "<div>\n",
       "<style scoped>\n",
       "    .dataframe tbody tr th:only-of-type {\n",
       "        vertical-align: middle;\n",
       "    }\n",
       "\n",
       "    .dataframe tbody tr th {\n",
       "        vertical-align: top;\n",
       "    }\n",
       "\n",
       "    .dataframe thead th {\n",
       "        text-align: right;\n",
       "    }\n",
       "</style>\n",
       "<table border=\"1\" class=\"dataframe\">\n",
       "  <thead>\n",
       "    <tr style=\"text-align: right;\">\n",
       "      <th></th>\n",
       "      <th>session</th>\n",
       "      <th>aid</th>\n",
       "      <th>label</th>\n",
       "      <th>recall_order</th>\n",
       "      <th>item_user_count</th>\n",
       "      <th>item_item_count</th>\n",
       "      <th>item_buy_ratio</th>\n",
       "      <th>item_clicks_user_count</th>\n",
       "      <th>item_clicks_item_count</th>\n",
       "      <th>item_carts_user_count</th>\n",
       "      <th>...</th>\n",
       "      <th>interaction_clicks_orders_ratio</th>\n",
       "      <th>interaction_orders_clicks_ratio</th>\n",
       "      <th>interaction_orders_carts_ratio</th>\n",
       "      <th>interaction_carts_orders_ratio</th>\n",
       "      <th>interaction_timing_decay_score</th>\n",
       "      <th>interaction_orders_count</th>\n",
       "      <th>interaction_clicks_count</th>\n",
       "      <th>interaction_carts_count</th>\n",
       "      <th>interaction_behavior_count</th>\n",
       "      <th>interaction_behavor_period</th>\n",
       "    </tr>\n",
       "  </thead>\n",
       "  <tbody>\n",
       "    <tr>\n",
       "      <th>0</th>\n",
       "      <td>11098529</td>\n",
       "      <td>1105029</td>\n",
       "      <td>0</td>\n",
       "      <td>0</td>\n",
       "      <td>149</td>\n",
       "      <td>206</td>\n",
       "      <td>0.033981</td>\n",
       "      <td>149.0</td>\n",
       "      <td>200.0</td>\n",
       "      <td>5.0</td>\n",
       "      <td>...</td>\n",
       "      <td>1.0</td>\n",
       "      <td>0.0</td>\n",
       "      <td>0.0</td>\n",
       "      <td>0.0</td>\n",
       "      <td>1.250007</td>\n",
       "      <td>0.0</td>\n",
       "      <td>1.0</td>\n",
       "      <td>0.0</td>\n",
       "      <td>1.0</td>\n",
       "      <td>0.0</td>\n",
       "    </tr>\n",
       "    <tr>\n",
       "      <th>1</th>\n",
       "      <td>11098529</td>\n",
       "      <td>628708</td>\n",
       "      <td>0</td>\n",
       "      <td>12</td>\n",
       "      <td>89</td>\n",
       "      <td>137</td>\n",
       "      <td>0.124088</td>\n",
       "      <td>89.0</td>\n",
       "      <td>123.0</td>\n",
       "      <td>10.0</td>\n",
       "      <td>...</td>\n",
       "      <td>0.0</td>\n",
       "      <td>0.0</td>\n",
       "      <td>0.0</td>\n",
       "      <td>0.0</td>\n",
       "      <td>0.000000</td>\n",
       "      <td>0.0</td>\n",
       "      <td>0.0</td>\n",
       "      <td>0.0</td>\n",
       "      <td>0.0</td>\n",
       "      <td>0.0</td>\n",
       "    </tr>\n",
       "    <tr>\n",
       "      <th>2</th>\n",
       "      <td>11098529</td>\n",
       "      <td>982457</td>\n",
       "      <td>0</td>\n",
       "      <td>17</td>\n",
       "      <td>921</td>\n",
       "      <td>1657</td>\n",
       "      <td>0.097164</td>\n",
       "      <td>917.0</td>\n",
       "      <td>1523.0</td>\n",
       "      <td>97.0</td>\n",
       "      <td>...</td>\n",
       "      <td>0.0</td>\n",
       "      <td>0.0</td>\n",
       "      <td>0.0</td>\n",
       "      <td>0.0</td>\n",
       "      <td>0.000000</td>\n",
       "      <td>0.0</td>\n",
       "      <td>0.0</td>\n",
       "      <td>0.0</td>\n",
       "      <td>0.0</td>\n",
       "      <td>0.0</td>\n",
       "    </tr>\n",
       "    <tr>\n",
       "      <th>3</th>\n",
       "      <td>11098530</td>\n",
       "      <td>364155</td>\n",
       "      <td>0</td>\n",
       "      <td>5</td>\n",
       "      <td>3393</td>\n",
       "      <td>7151</td>\n",
       "      <td>0.169487</td>\n",
       "      <td>3390.0</td>\n",
       "      <td>6181.0</td>\n",
       "      <td>543.0</td>\n",
       "      <td>...</td>\n",
       "      <td>0.0</td>\n",
       "      <td>0.0</td>\n",
       "      <td>0.0</td>\n",
       "      <td>0.0</td>\n",
       "      <td>0.000000</td>\n",
       "      <td>0.0</td>\n",
       "      <td>0.0</td>\n",
       "      <td>0.0</td>\n",
       "      <td>0.0</td>\n",
       "      <td>0.0</td>\n",
       "    </tr>\n",
       "    <tr>\n",
       "      <th>4</th>\n",
       "      <td>11098530</td>\n",
       "      <td>876493</td>\n",
       "      <td>0</td>\n",
       "      <td>25</td>\n",
       "      <td>3252</td>\n",
       "      <td>6616</td>\n",
       "      <td>0.246221</td>\n",
       "      <td>3219.0</td>\n",
       "      <td>5276.0</td>\n",
       "      <td>773.0</td>\n",
       "      <td>...</td>\n",
       "      <td>0.0</td>\n",
       "      <td>0.0</td>\n",
       "      <td>0.0</td>\n",
       "      <td>0.0</td>\n",
       "      <td>0.000000</td>\n",
       "      <td>0.0</td>\n",
       "      <td>0.0</td>\n",
       "      <td>0.0</td>\n",
       "      <td>0.0</td>\n",
       "      <td>0.0</td>\n",
       "    </tr>\n",
       "  </tbody>\n",
       "</table>\n",
       "<p>5 rows × 48 columns</p>\n",
       "</div>"
      ],
      "text/plain": [
       "    session      aid  label  recall_order  item_user_count  item_item_count  \\\n",
       "0  11098529  1105029      0             0              149              206   \n",
       "1  11098529   628708      0            12               89              137   \n",
       "2  11098529   982457      0            17              921             1657   \n",
       "3  11098530   364155      0             5             3393             7151   \n",
       "4  11098530   876493      0            25             3252             6616   \n",
       "\n",
       "   item_buy_ratio  item_clicks_user_count  item_clicks_item_count  \\\n",
       "0        0.033981                   149.0                   200.0   \n",
       "1        0.124088                    89.0                   123.0   \n",
       "2        0.097164                   917.0                  1523.0   \n",
       "3        0.169487                  3390.0                  6181.0   \n",
       "4        0.246221                  3219.0                  5276.0   \n",
       "\n",
       "   item_carts_user_count  ...  interaction_clicks_orders_ratio  \\\n",
       "0                    5.0  ...                              1.0   \n",
       "1                   10.0  ...                              0.0   \n",
       "2                   97.0  ...                              0.0   \n",
       "3                  543.0  ...                              0.0   \n",
       "4                  773.0  ...                              0.0   \n",
       "\n",
       "   interaction_orders_clicks_ratio  interaction_orders_carts_ratio  \\\n",
       "0                              0.0                             0.0   \n",
       "1                              0.0                             0.0   \n",
       "2                              0.0                             0.0   \n",
       "3                              0.0                             0.0   \n",
       "4                              0.0                             0.0   \n",
       "\n",
       "   interaction_carts_orders_ratio  interaction_timing_decay_score  \\\n",
       "0                             0.0                        1.250007   \n",
       "1                             0.0                        0.000000   \n",
       "2                             0.0                        0.000000   \n",
       "3                             0.0                        0.000000   \n",
       "4                             0.0                        0.000000   \n",
       "\n",
       "   interaction_orders_count  interaction_clicks_count  \\\n",
       "0                       0.0                       1.0   \n",
       "1                       0.0                       0.0   \n",
       "2                       0.0                       0.0   \n",
       "3                       0.0                       0.0   \n",
       "4                       0.0                       0.0   \n",
       "\n",
       "   interaction_carts_count  interaction_behavior_count  \\\n",
       "0                      0.0                         1.0   \n",
       "1                      0.0                         0.0   \n",
       "2                      0.0                         0.0   \n",
       "3                      0.0                         0.0   \n",
       "4                      0.0                         0.0   \n",
       "\n",
       "   interaction_behavor_period  \n",
       "0                         0.0  \n",
       "1                         0.0  \n",
       "2                         0.0  \n",
       "3                         0.0  \n",
       "4                         0.0  \n",
       "\n",
       "[5 rows x 48 columns]"
      ]
     },
     "execution_count": 6,
     "metadata": {},
     "output_type": "execute_result"
    }
   ],
   "source": [
    "%%time\n",
    "\n",
    "train_item_feature_path = sorted(glob.glob(\n",
    "    os.path.join(DATA_PATH, \"input/feature/train/item_feature_*.parquet\")\n",
    "))\n",
    "for p in tqdm(train_item_feature_path):\n",
    "    df_train_candidates = df_train_candidates.merge(pd.read_parquet(p), on=\"aid\", how=\"left\")\n",
    "    df_valid_candidates = df_valid_candidates.merge(pd.read_parquet(p), on=\"aid\", how=\"left\")\n",
    "\n",
    "\n",
    "train_user_feature_path = sorted(glob.glob(\n",
    "    os.path.join(DATA_PATH, \"input/feature/train/user_feature_*.parquet\")\n",
    "))\n",
    "for p in tqdm(train_user_feature_path):\n",
    "    df_train_candidates = df_train_candidates.merge(pd.read_parquet(p), on=\"session\", how=\"left\")\n",
    "    df_valid_candidates = df_valid_candidates.merge(pd.read_parquet(p), on=\"session\", how=\"left\")\n",
    "\n",
    "\n",
    "train_interaction_feature_path = sorted(glob.glob(\n",
    "    os.path.join(DATA_PATH, \"input/feature/train/interaction_feature_*.parquet\")\n",
    "))\n",
    "for p in tqdm(train_interaction_feature_path):\n",
    "    df_train_candidates = df_train_candidates.merge(pd.read_parquet(p), on=[\"session\", \"aid\"], how=\"left\")\n",
    "    df_valid_candidates = df_valid_candidates.merge(pd.read_parquet(p), on=[\"session\", \"aid\"], how=\"left\")\n",
    "\n",
    "\n",
    "df_train_candidates = fillna_default(df_train_candidates)\n",
    "df_valid_candidates = fillna_default(df_valid_candidates)\n",
    "\n",
    "print(f\"df_train_candidates size: {len(df_train_candidates)}, df_valid_candidates size: {len(df_valid_candidates)}\")\n",
    "df_train_candidates.head(5)"
   ]
  },
  {
   "cell_type": "code",
   "execution_count": null,
   "id": "a161a7b1",
   "metadata": {},
   "outputs": [],
   "source": []
  },
  {
   "cell_type": "code",
   "execution_count": null,
   "id": "d4e9cf0c",
   "metadata": {},
   "outputs": [],
   "source": []
  },
  {
   "cell_type": "code",
   "execution_count": null,
   "id": "203df3c2",
   "metadata": {},
   "outputs": [],
   "source": []
  },
  {
   "cell_type": "markdown",
   "id": "6426d06c",
   "metadata": {},
   "source": [
    "## Storage"
   ]
  },
  {
   "cell_type": "code",
   "execution_count": 7,
   "id": "cbcd94ad",
   "metadata": {},
   "outputs": [],
   "source": [
    "df_train_candidates.to_pickle(f\"df_train_{MODEL_TYPE}_candidates.pkl\")\n",
    "df_valid_candidates.to_pickle(f\"df_valid_{MODEL_TYPE}_candidates.pkl\")\n",
    "df_train_label[\n",
    "    df_train_label[\"session\"].isin(df_valid_candidates[\"session\"].unique())\n",
    "].reset_index(drop=True).rename({\"aid\": \"ground_truth\"}, axis=1).to_parquet(f\"df_valid_{MODEL_TYPE}_label.parquet\")"
   ]
  },
  {
   "cell_type": "markdown",
   "id": "ddebfec5",
   "metadata": {},
   "source": [
    "## Feature Name"
   ]
  },
  {
   "cell_type": "code",
   "execution_count": 8,
   "id": "07ecd0d7",
   "metadata": {},
   "outputs": [
    {
     "name": "stdout",
     "output_type": "stream",
     "text": [
      "Count of Feature is: 44\n",
      "\n"
     ]
    },
    {
     "data": {
      "text/plain": [
       "['item_orders_item_count',\n",
       " 'item_first_clicks_ts',\n",
       " 'item_clicks_user_count',\n",
       " 'user_user_count',\n",
       " 'interaction_carts_orders_ratio',\n",
       " 'item_item_count',\n",
       " 'user_first_clicks_time',\n",
       " 'item_carts_user_count',\n",
       " 'user_orders_ratio',\n",
       " 'user_orders_count',\n",
       " 'interaction_carts_clicks_ratio',\n",
       " 'item_user_count',\n",
       " 'user_carts_count',\n",
       " 'item_last_orders_ts',\n",
       " 'interaction_clicks_count',\n",
       " 'user_last_orders_time',\n",
       " 'user_carts_ratio',\n",
       " 'interaction_clicks_orders_ratio',\n",
       " 'user_first_carts_time',\n",
       " 'item_first_orders_ts',\n",
       " 'user_clicks_count',\n",
       " 'user_last_clicks_time',\n",
       " 'recall_order',\n",
       " 'user_item_count',\n",
       " 'interaction_type_core',\n",
       " 'user_clicks_ratio',\n",
       " 'item_first_carts_ts',\n",
       " 'interaction_orders_carts_ratio',\n",
       " 'interaction_orders_count',\n",
       " 'item_buy_ratio',\n",
       " 'interaction_behavor_period',\n",
       " 'user_last_carts_time',\n",
       " 'interaction_orders_clicks_ratio',\n",
       " 'interaction_carts_count',\n",
       " 'interaction_timing_decay_score',\n",
       " 'interaction_behavior_count',\n",
       " 'item_clicks_item_count',\n",
       " 'item_carts_item_count',\n",
       " 'item_orders_user_count',\n",
       " 'item_last_clicks_ts',\n",
       " 'user_first_orders_time',\n",
       " 'user_behavior_count',\n",
       " 'interaction_clicks_carts_ratio',\n",
       " 'item_last_carts_ts']"
      ]
     },
     "execution_count": 8,
     "metadata": {},
     "output_type": "execute_result"
    }
   ],
   "source": [
    "FEATURE_COL = list(set(df_train_candidates.columns.tolist()) - set([\"session\", \"aid\", \"ts\", \"label\", \"user_buy_ratio\"]))\n",
    "with open(f\"FEATURE_COL_{MODEL_TYPE}.txt\", \"w\") as f:\n",
    "    f.write(\"\\n\".join(FEATURE_COL))\n",
    "\n",
    "print(f\"Count of Feature is: {len(FEATURE_COL)}\")\n",
    "print(\"\")\n",
    "FEATURE_COL"
   ]
  },
  {
   "cell_type": "code",
   "execution_count": null,
   "id": "5e99efcb",
   "metadata": {},
   "outputs": [],
   "source": []
  },
  {
   "cell_type": "markdown",
   "id": "ced552b4",
   "metadata": {},
   "source": [
    "## Training"
   ]
  },
  {
   "cell_type": "code",
   "execution_count": 9,
   "id": "1aab6e9b",
   "metadata": {},
   "outputs": [
    {
     "name": "stderr",
     "output_type": "stream",
     "text": [
      "100%|██████████████████████████████████████████████████████████████████████████████████████████████████████████████████████████████████████| 7/7 [10:21<00:00, 88.85s/it]"
     ]
    },
    {
     "name": "stdout",
     "output_type": "stream",
     "text": [
      "CPU times: user 1h 45min 35s, sys: 2min 1s, total: 1h 47min 36s\n",
      "Wall time: 10min 21s\n"
     ]
    },
    {
     "name": "stderr",
     "output_type": "stream",
     "text": [
      "\n"
     ]
    }
   ],
   "source": [
    "%%time\n",
    "n_estimators_candidates = list(range(100,401,50))\n",
    "\n",
    "for n_estimators in tqdm(n_estimators_candidates):\n",
    "    ranker = xgb.XGBRanker(\n",
    "#         tree_method='gpu_hist',\n",
    "        tree_method=\"hist\",\n",
    "        booster='gbtree',\n",
    "        objective='rank:pairwise',\n",
    "        random_state=42, \n",
    "        learning_rate=0.1,\n",
    "        colsample_bytree=0.9,  # 0.9\n",
    "        eta=0.05, \n",
    "        max_depth=6, \n",
    "        n_estimators=n_estimators,\n",
    "        subsample=0.8,\n",
    "        n_jobs=15\n",
    "    )\n",
    "\n",
    "    feature_cols = FEATURE_COL\n",
    "    label_col = 'label'\n",
    "\n",
    "    ranker.fit(\n",
    "        X=df_train_candidates[feature_cols],\n",
    "        y=df_train_candidates[label_col],\n",
    "        group=df_train_candidates.groupby(\"session\").count()[\"label\"]\n",
    "    )\n",
    "\n",
    "#     joblib.dump(ranker, f\"models/{MODEL_TYPE}_flod{Fl}_xgbranker_{str(n_estimators)}.m\")\n",
    "    joblib.dump(ranker, f\"models/{MODEL_TYPE}_xgbranker_{str(n_estimators)}.m\")"
   ]
  },
  {
   "cell_type": "code",
   "execution_count": null,
   "id": "60e2a3a4",
   "metadata": {},
   "outputs": [],
   "source": [
    "n_estimators_candidates = list(range(50,501,50))"
   ]
  },
  {
   "cell_type": "code",
   "execution_count": null,
   "id": "bfcd50d5",
   "metadata": {},
   "outputs": [],
   "source": []
  },
  {
   "cell_type": "code",
   "execution_count": null,
   "id": "773bbfda",
   "metadata": {},
   "outputs": [],
   "source": []
  },
  {
   "cell_type": "markdown",
   "id": "a8ee7835",
   "metadata": {},
   "source": [
    "# Valid"
   ]
  },
  {
   "cell_type": "code",
   "execution_count": 10,
   "id": "fb7b2ba2",
   "metadata": {},
   "outputs": [
    {
     "name": "stdout",
     "output_type": "stream",
     "text": [
      "['item_orders_item_count', 'item_first_clicks_ts', 'item_clicks_user_count', 'user_user_count', 'interaction_carts_orders_ratio', 'item_item_count', 'user_first_clicks_time', 'item_carts_user_count', 'user_orders_ratio', 'user_orders_count', 'interaction_carts_clicks_ratio', 'item_user_count', 'user_carts_count', 'item_last_orders_ts', 'interaction_clicks_count', 'user_last_orders_time', 'user_carts_ratio', 'interaction_clicks_orders_ratio', 'user_first_carts_time', 'item_first_orders_ts', 'user_clicks_count', 'user_last_clicks_time', 'recall_order', 'user_item_count', 'interaction_type_core', 'user_clicks_ratio', 'item_first_carts_ts', 'interaction_orders_carts_ratio', 'interaction_orders_count', 'item_buy_ratio', 'interaction_behavor_period', 'user_last_carts_time', 'interaction_orders_clicks_ratio', 'interaction_carts_count', 'interaction_timing_decay_score', 'interaction_behavior_count', 'item_clicks_item_count', 'item_carts_item_count', 'item_orders_user_count', 'item_last_clicks_ts', 'user_first_orders_time', 'user_behavior_count', 'interaction_clicks_carts_ratio', 'item_last_carts_ts']\n"
     ]
    },
    {
     "name": "stderr",
     "output_type": "stream",
     "text": [
      " 14%|███████████████████▏                                                                                                                  | 1/7 [00:03<00:19,  3.28s/it]"
     ]
    },
    {
     "name": "stdout",
     "output_type": "stream",
     "text": [
      "n_estimators=400 get Recall@20: 0.6636885768985322\n"
     ]
    },
    {
     "name": "stderr",
     "output_type": "stream",
     "text": [
      "\r",
      " 29%|██████████████████████████████████████▎                                                                                               | 2/7 [00:05<00:13,  2.77s/it]"
     ]
    },
    {
     "name": "stdout",
     "output_type": "stream",
     "text": [
      "n_estimators=350 get Recall@20: 0.6640076579451181\n"
     ]
    },
    {
     "name": "stderr",
     "output_type": "stream",
     "text": [
      "\r",
      " 43%|█████████████████████████████████████████████████████████▍                                                                            | 3/7 [00:08<00:11,  2.82s/it]"
     ]
    },
    {
     "name": "stdout",
     "output_type": "stream",
     "text": [
      "n_estimators=300 get Recall@20: 0.6646458200382898\n"
     ]
    },
    {
     "name": "stderr",
     "output_type": "stream",
     "text": [
      "\r",
      " 57%|████████████████████████████████████████████████████████████████████████████▌                                                         | 4/7 [00:11<00:08,  2.70s/it]"
     ]
    },
    {
     "name": "stdout",
     "output_type": "stream",
     "text": [
      "n_estimators=250 get Recall@20: 0.6649649010848756\n"
     ]
    },
    {
     "name": "stderr",
     "output_type": "stream",
     "text": [
      "\r",
      " 71%|███████████████████████████████████████████████████████████████████████████████████████████████▋                                      | 5/7 [00:13<00:05,  2.50s/it]"
     ]
    },
    {
     "name": "stdout",
     "output_type": "stream",
     "text": [
      "n_estimators=200 get Recall@20: 0.6643267389917039\n"
     ]
    },
    {
     "name": "stderr",
     "output_type": "stream",
     "text": [
      "\r",
      " 86%|██████████████████████████████████████████████████████████████████████████████████████████████████████████████████▊                   | 6/7 [00:15<00:02,  2.45s/it]"
     ]
    },
    {
     "name": "stdout",
     "output_type": "stream",
     "text": [
      "n_estimators=150 get Recall@20: 0.6636885768985322\n"
     ]
    },
    {
     "name": "stderr",
     "output_type": "stream",
     "text": [
      "100%|██████████████████████████████████████████████████████████████████████████████████████████████████████████████████████████████████████| 7/7 [00:17<00:00,  2.48s/it]"
     ]
    },
    {
     "name": "stdout",
     "output_type": "stream",
     "text": [
      "n_estimators=100 get Recall@20: 0.6649649010848756\n",
      "CPU times: user 1min 30s, sys: 2.81 s, total: 1min 33s\n",
      "Wall time: 17.4 s\n"
     ]
    },
    {
     "name": "stderr",
     "output_type": "stream",
     "text": [
      "\n"
     ]
    }
   ],
   "source": [
    "%%time\n",
    "\n",
    "# ranker = joblib.load(\"carts_xgbranker_1.m\")\n",
    "\n",
    "# FEATURE_COL = list(ranker.feature_names_in_)\n",
    "with open(f\"FEATURE_COL_{MODEL_TYPE}.txt\", \"r\") as f:\n",
    "    FEATURE_COL = f.read().splitlines()\n",
    "    \n",
    "print(FEATURE_COL)\n",
    "\n",
    "for n_estimators in tqdm(n_estimators_candidates[::-1]):\n",
    "    df_valid_candidates = pd.read_pickle(f\"df_valid_{MODEL_TYPE}_candidates.pkl\")\n",
    "    df_valid_label = pd.read_parquet(f\"df_valid_{MODEL_TYPE}_label.parquet\")\n",
    "    df_valid_label = df_valid_label[[\"session\", \"ground_truth\"]].groupby(\"session\").agg(list).reset_index()\n",
    "    ranker = joblib.load(f\"models/{MODEL_TYPE}_xgbranker_{n_estimators}.m\")\n",
    "    df_valid_candidates[\"score\"] = ranker.predict(df_valid_candidates[FEATURE_COL])\n",
    "    df_valid_candidates = df_valid_candidates.sort_values(by=['session', 'score'], ascending=False)[['session', 'aid']].reset_index(drop=True)\n",
    "    df_valid_candidates = df_valid_candidates.groupby('session').head(20).groupby('session').agg(list).reset_index(drop=False)\n",
    "    df_valid_candidates = df_valid_candidates.merge(df_valid_label, on=\"session\", how=\"left\")\n",
    "    df_valid_candidates[\"ground_truth\"] = df_valid_candidates[\"ground_truth\"].apply(lambda x: x if isinstance(x, list) else [])\n",
    "    df_valid_candidates[\"hits\"] = df_valid_candidates.apply(lambda df: len(set(df.ground_truth).intersection(set(df.aid))), axis=1)\n",
    "    df_valid_candidates['gt_count'] = df_valid_candidates.ground_truth.str.len().clip(0,20)\n",
    "    recall = df_valid_candidates[\"hits\"].sum() / df_valid_candidates['gt_count'].sum()\n",
    "\n",
    "    print(f\"n_estimators={n_estimators} get Recall@20: {recall}\")"
   ]
  },
  {
   "cell_type": "code",
   "execution_count": null,
   "id": "b24421b6",
   "metadata": {},
   "outputs": [],
   "source": []
  },
  {
   "cell_type": "code",
   "execution_count": null,
   "id": "7c7c39d0",
   "metadata": {},
   "outputs": [],
   "source": []
  },
  {
   "cell_type": "code",
   "execution_count": null,
   "id": "70b5fc43",
   "metadata": {},
   "outputs": [],
   "source": []
  },
  {
   "cell_type": "code",
   "execution_count": null,
   "id": "28213dc2",
   "metadata": {},
   "outputs": [],
   "source": []
  },
  {
   "cell_type": "markdown",
   "id": "d6bcd4f5",
   "metadata": {},
   "source": [
    "# Chunking kaggle test dataset to save memory(don't execute it)"
   ]
  },
  {
   "cell_type": "code",
   "execution_count": null,
   "id": "ba808a8f",
   "metadata": {},
   "outputs": [],
   "source": [
    "# df_kaggle_test = pd.read_parquet(os.path.join(DATA_PATH, \"input/otto-candidates/test_candidates/test_orders_candidates_top50.parquet\"))\n",
    "INFERENCE_CHUNK_NUM = 10\n",
    "df_kaggle_test = pd.read_parquet(os.path.join(DATA_PATH, f\"input/otto-candidates/test_candidates/test_{MODEL_TYPE}_candidates_top{TOPN}.parquet\"))\n",
    "\n",
    "inference_session_list = df_kaggle_test[\"session\"].unique().tolist()\n",
    "INFERENCE_CHUNK_SIZE = len(inference_session_list)//INFERENCE_CHUNK_NUM + 2\n",
    "n = 1\n",
    "for i in range(0, len(inference_session_list), INFERENCE_CHUNK_SIZE):\n",
    "    df_kaggle_test[df_kaggle_test[\"session\"].isin(inference_session_list[i:i+INFERENCE_CHUNK_SIZE])].to_parquet(\n",
    "        os.path.join(DATA_PATH, f\"input/otto-candidates/test_candidates/test_{MODEL_TYPE}_candidates_top{TOPN}_chunk_{n}.parquet\")\n",
    "    )\n",
    "    n += 1\n",
    "df_kaggle_test.head(10)"
   ]
  },
  {
   "cell_type": "markdown",
   "id": "07bde2b2",
   "metadata": {},
   "source": [
    "# Inference"
   ]
  },
  {
   "cell_type": "code",
   "execution_count": null,
   "id": "f1c38a24",
   "metadata": {},
   "outputs": [],
   "source": [
    "# INFERENCE_CHUNK_NUM = 10"
   ]
  },
  {
   "cell_type": "code",
   "execution_count": 11,
   "id": "65fb40f7",
   "metadata": {},
   "outputs": [
    {
     "name": "stdout",
     "output_type": "stream",
     "text": [
      "chunk 1 start ...\n"
     ]
    },
    {
     "name": "stderr",
     "output_type": "stream",
     "text": [
      "100%|██████████████████████████████████████████████████████████████████████████████████████████████████████████████████████████████████████| 5/5 [00:06<00:00,  1.37s/it]\n",
      "100%|██████████████████████████████████████████████████████████████████████████████████████████████████████████████████████████████████████| 7/7 [00:18<00:00,  2.70s/it]\n",
      "100%|██████████████████████████████████████████████████████████████████████████████████████████████████████████████████████████████████████| 5/5 [00:31<00:00,  6.27s/it]\n"
     ]
    },
    {
     "name": "stdout",
     "output_type": "stream",
     "text": [
      "chunk 2 start ...\n"
     ]
    },
    {
     "name": "stderr",
     "output_type": "stream",
     "text": [
      "100%|██████████████████████████████████████████████████████████████████████████████████████████████████████████████████████████████████████| 5/5 [00:06<00:00,  1.33s/it]\n",
      "100%|██████████████████████████████████████████████████████████████████████████████████████████████████████████████████████████████████████| 7/7 [00:18<00:00,  2.60s/it]\n",
      "100%|██████████████████████████████████████████████████████████████████████████████████████████████████████████████████████████████████████| 5/5 [00:31<00:00,  6.32s/it]\n"
     ]
    },
    {
     "name": "stdout",
     "output_type": "stream",
     "text": [
      "chunk 3 start ...\n"
     ]
    },
    {
     "name": "stderr",
     "output_type": "stream",
     "text": [
      "100%|██████████████████████████████████████████████████████████████████████████████████████████████████████████████████████████████████████| 5/5 [00:06<00:00,  1.26s/it]\n",
      "100%|██████████████████████████████████████████████████████████████████████████████████████████████████████████████████████████████████████| 7/7 [00:19<00:00,  2.73s/it]\n",
      "100%|██████████████████████████████████████████████████████████████████████████████████████████████████████████████████████████████████████| 5/5 [00:31<00:00,  6.32s/it]\n"
     ]
    },
    {
     "name": "stdout",
     "output_type": "stream",
     "text": [
      "chunk 4 start ...\n"
     ]
    },
    {
     "name": "stderr",
     "output_type": "stream",
     "text": [
      "100%|██████████████████████████████████████████████████████████████████████████████████████████████████████████████████████████████████████| 5/5 [00:06<00:00,  1.34s/it]\n",
      "100%|██████████████████████████████████████████████████████████████████████████████████████████████████████████████████████████████████████| 7/7 [00:18<00:00,  2.69s/it]\n",
      "100%|██████████████████████████████████████████████████████████████████████████████████████████████████████████████████████████████████████| 5/5 [00:31<00:00,  6.22s/it]\n"
     ]
    },
    {
     "name": "stdout",
     "output_type": "stream",
     "text": [
      "chunk 5 start ...\n"
     ]
    },
    {
     "name": "stderr",
     "output_type": "stream",
     "text": [
      "100%|██████████████████████████████████████████████████████████████████████████████████████████████████████████████████████████████████████| 5/5 [00:06<00:00,  1.36s/it]\n",
      "100%|██████████████████████████████████████████████████████████████████████████████████████████████████████████████████████████████████████| 7/7 [00:18<00:00,  2.67s/it]\n",
      "100%|██████████████████████████████████████████████████████████████████████████████████████████████████████████████████████████████████████| 5/5 [00:31<00:00,  6.22s/it]\n"
     ]
    },
    {
     "name": "stdout",
     "output_type": "stream",
     "text": [
      "chunk 6 start ...\n"
     ]
    },
    {
     "name": "stderr",
     "output_type": "stream",
     "text": [
      "100%|██████████████████████████████████████████████████████████████████████████████████████████████████████████████████████████████████████| 5/5 [00:06<00:00,  1.32s/it]\n",
      "100%|██████████████████████████████████████████████████████████████████████████████████████████████████████████████████████████████████████| 7/7 [00:18<00:00,  2.64s/it]\n",
      "100%|██████████████████████████████████████████████████████████████████████████████████████████████████████████████████████████████████████| 5/5 [00:30<00:00,  6.02s/it]\n"
     ]
    },
    {
     "name": "stdout",
     "output_type": "stream",
     "text": [
      "chunk 7 start ...\n"
     ]
    },
    {
     "name": "stderr",
     "output_type": "stream",
     "text": [
      "100%|██████████████████████████████████████████████████████████████████████████████████████████████████████████████████████████████████████| 5/5 [00:06<00:00,  1.26s/it]\n",
      "100%|██████████████████████████████████████████████████████████████████████████████████████████████████████████████████████████████████████| 7/7 [00:18<00:00,  2.66s/it]\n",
      "100%|██████████████████████████████████████████████████████████████████████████████████████████████████████████████████████████████████████| 5/5 [00:31<00:00,  6.20s/it]\n"
     ]
    },
    {
     "name": "stdout",
     "output_type": "stream",
     "text": [
      "chunk 8 start ...\n"
     ]
    },
    {
     "name": "stderr",
     "output_type": "stream",
     "text": [
      "100%|██████████████████████████████████████████████████████████████████████████████████████████████████████████████████████████████████████| 5/5 [00:06<00:00,  1.32s/it]\n",
      "100%|██████████████████████████████████████████████████████████████████████████████████████████████████████████████████████████████████████| 7/7 [00:18<00:00,  2.67s/it]\n",
      "100%|██████████████████████████████████████████████████████████████████████████████████████████████████████████████████████████████████████| 5/5 [00:31<00:00,  6.24s/it]\n"
     ]
    },
    {
     "name": "stdout",
     "output_type": "stream",
     "text": [
      "chunk 9 start ...\n"
     ]
    },
    {
     "name": "stderr",
     "output_type": "stream",
     "text": [
      "100%|██████████████████████████████████████████████████████████████████████████████████████████████████████████████████████████████████████| 5/5 [00:06<00:00,  1.34s/it]\n",
      "100%|██████████████████████████████████████████████████████████████████████████████████████████████████████████████████████████████████████| 7/7 [00:19<00:00,  2.73s/it]\n",
      "100%|██████████████████████████████████████████████████████████████████████████████████████████████████████████████████████████████████████| 5/5 [00:33<00:00,  6.67s/it]\n"
     ]
    },
    {
     "name": "stdout",
     "output_type": "stream",
     "text": [
      "chunk 10 start ...\n"
     ]
    },
    {
     "name": "stderr",
     "output_type": "stream",
     "text": [
      "100%|██████████████████████████████████████████████████████████████████████████████████████████████████████████████████████████████████████| 5/5 [00:06<00:00,  1.28s/it]\n",
      "100%|██████████████████████████████████████████████████████████████████████████████████████████████████████████████████████████████████████| 7/7 [00:18<00:00,  2.68s/it]\n",
      "100%|██████████████████████████████████████████████████████████████████████████████████████████████████████████████████████████████████████| 5/5 [00:31<00:00,  6.24s/it]\n"
     ]
    },
    {
     "name": "stdout",
     "output_type": "stream",
     "text": [
      "CPU times: user 12min 15s, sys: 2min 6s, total: 14min 22s\n",
      "Wall time: 14min\n"
     ]
    }
   ],
   "source": [
    "%%time\n",
    "INFERENCE_CHUNK_NUM = 10\n",
    "df_kaggle_test = None\n",
    "for n in range(1, INFERENCE_CHUNK_NUM+1):\n",
    "    print(f\"chunk {n} start ...\")\n",
    "    df_kaggle_test_chunk = pd.read_parquet(\n",
    "        os.path.join(DATA_PATH, f\"input/otto-candidates/test_candidates/test_{MODEL_TYPE}_candidates_top{TOPN}_chunk_{n}.parquet\")\n",
    "    )\n",
    "    df_kaggle_test_chunk[\"recall_order\"] = df_kaggle_test_chunk.groupby('session').cumcount()\n",
    "    test_user_feature_path = sorted(glob.glob(\n",
    "        os.path.join(DATA_PATH, \"input/feature/test/user_feature_*.parquet\")\n",
    "    ))\n",
    "    for p in tqdm(test_user_feature_path):\n",
    "        df_kaggle_test_chunk = df_kaggle_test_chunk.merge(pd.read_parquet(p), on=\"session\", how=\"left\")\n",
    "\n",
    "\n",
    "    test_item_feature_path = sorted(glob.glob(\n",
    "        os.path.join(DATA_PATH, \"input/feature/test/item_feature_*.parquet\")\n",
    "    ))\n",
    "    for p in tqdm(test_item_feature_path):\n",
    "        df_kaggle_test_chunk = df_kaggle_test_chunk.merge(pd.read_parquet(p), on=\"aid\", how=\"left\")\n",
    "\n",
    "    test_interaction_feature_path = sorted(glob.glob(\n",
    "        os.path.join(DATA_PATH, \"input/feature/test/interaction_feature_*.parquet\")\n",
    "    ))\n",
    "    for p in tqdm(test_interaction_feature_path):\n",
    "        df_kaggle_test_chunk = df_kaggle_test_chunk.merge(pd.read_parquet(p), on=[\"session\", \"aid\"], how=\"left\")\n",
    "\n",
    "\n",
    "    df_kaggle_test_chunk = fillna_default(df_kaggle_test_chunk)\n",
    "    df_kaggle_test_chunk.to_parquet(f\"df_kaggle_test_{MODEL_TYPE}_chunk_{n}.parquet\")\n",
    "    \n",
    "# df_kaggle_test.to_parquet(\"df_kaggle_test.parquet\")\n",
    "# inference_session_list = df_kaggle_test[\"session\"].unique().tolist()\n",
    "# INFERENCE_CHUNK_NUM = 10\n",
    "# INFERENCE_CHUNK_SIZE = len(inference_session_list)//INFERENCE_CHUNK_NUM + 2\n",
    "# n = 1\n",
    "# for i in range(0, len(inference_session_list), INFERENCE_CHUNK_SIZE):\n",
    "#     df_kaggle_test[df_kaggle_test[\"session\"].isin(inference_session_list[i:INFERENCE_CHUNK_SIZE])].to_parquet(f\"df_kaggle_test_chunk_{n}.parquet\")\n",
    "#     n += 1\n",
    "# df_kaggle_test.head(10)"
   ]
  },
  {
   "cell_type": "markdown",
   "id": "d251cebe",
   "metadata": {},
   "source": [
    "# Please restart kernel to save memory"
   ]
  },
  {
   "cell_type": "code",
   "execution_count": 13,
   "id": "7776f6e6",
   "metadata": {},
   "outputs": [
    {
     "name": "stdout",
     "output_type": "stream",
     "text": [
      "['item_orders_item_count', 'item_first_clicks_ts', 'item_clicks_user_count', 'user_user_count', 'interaction_carts_orders_ratio', 'item_item_count', 'user_first_clicks_time', 'item_carts_user_count', 'user_orders_ratio', 'user_orders_count', 'interaction_carts_clicks_ratio', 'item_user_count', 'user_carts_count', 'item_last_orders_ts', 'interaction_clicks_count', 'user_last_orders_time', 'user_carts_ratio', 'interaction_clicks_orders_ratio', 'user_first_carts_time', 'item_first_orders_ts', 'user_clicks_count', 'user_last_clicks_time', 'recall_order', 'user_item_count', 'interaction_type_core', 'user_clicks_ratio', 'item_first_carts_ts', 'interaction_orders_carts_ratio', 'interaction_orders_count', 'item_buy_ratio', 'interaction_behavor_period', 'user_last_carts_time', 'interaction_orders_clicks_ratio', 'interaction_carts_count', 'interaction_timing_decay_score', 'interaction_behavior_count', 'item_clicks_item_count', 'item_carts_item_count', 'item_orders_user_count', 'item_last_clicks_ts', 'user_first_orders_time', 'user_behavior_count', 'interaction_clicks_carts_ratio', 'item_last_carts_ts']\n"
     ]
    },
    {
     "name": "stderr",
     "output_type": "stream",
     "text": [
      "  0%|                                                                                                                                              | 0/7 [00:00<?, ?it/s]\n",
      "  0%|                                                                                                                                             | 0/10 [00:00<?, ?it/s]\u001b[A\n",
      " 10%|█████████████▎                                                                                                                       | 1/10 [00:15<02:17, 15.27s/it]\u001b[A\n",
      " 20%|██████████████████████████▌                                                                                                          | 2/10 [00:30<02:02, 15.28s/it]\u001b[A\n",
      " 30%|███████████████████████████████████████▉                                                                                             | 3/10 [00:45<01:44, 14.93s/it]\u001b[A\n",
      " 40%|█████████████████████████████████████████████████████▏                                                                               | 4/10 [01:01<01:32, 15.39s/it]\u001b[A\n",
      " 50%|██████████████████████████████████████████████████████████████████▌                                                                  | 5/10 [01:16<01:17, 15.50s/it]\u001b[A\n",
      " 60%|███████████████████████████████████████████████████████████████████████████████▊                                                     | 6/10 [01:31<01:00, 15.15s/it]\u001b[A\n",
      " 70%|█████████████████████████████████████████████████████████████████████████████████████████████                                        | 7/10 [01:47<00:46, 15.42s/it]\u001b[A\n",
      " 80%|██████████████████████████████████████████████████████████████████████████████████████████████████████████▍                          | 8/10 [02:01<00:30, 15.18s/it]\u001b[A\n",
      " 90%|███████████████████████████████████████████████████████████████████████████████████████████████████████████████████████▋             | 9/10 [02:17<00:15, 15.14s/it]\u001b[A\n",
      "100%|████████████████████████████████████████████████████████████████████████████████████████████████████████████████████████████████████| 10/10 [02:33<00:00, 15.32s/it]\u001b[A\n",
      " 14%|███████████████████                                                                                                                  | 1/7 [02:46<16:39, 166.51s/it]\n",
      "  0%|                                                                                                                                             | 0/10 [00:00<?, ?it/s]\u001b[A\n",
      " 10%|█████████████▎                                                                                                                       | 1/10 [00:16<02:31, 16.88s/it]\u001b[A\n",
      " 20%|██████████████████████████▌                                                                                                          | 2/10 [00:32<02:11, 16.39s/it]\u001b[A\n",
      " 30%|███████████████████████████████████████▉                                                                                             | 3/10 [00:50<01:57, 16.75s/it]\u001b[A\n",
      " 40%|█████████████████████████████████████████████████████▏                                                                               | 4/10 [01:06<01:39, 16.55s/it]\u001b[A\n",
      " 50%|██████████████████████████████████████████████████████████████████▌                                                                  | 5/10 [01:22<01:22, 16.48s/it]\u001b[A\n",
      " 60%|███████████████████████████████████████████████████████████████████████████████▊                                                     | 6/10 [01:40<01:07, 16.83s/it]\u001b[A\n",
      " 70%|█████████████████████████████████████████████████████████████████████████████████████████████                                        | 7/10 [01:56<00:50, 16.72s/it]\u001b[A\n",
      " 80%|██████████████████████████████████████████████████████████████████████████████████████████████████████████▍                          | 8/10 [02:14<00:33, 16.98s/it]\u001b[A\n",
      " 90%|███████████████████████████████████████████████████████████████████████████████████████████████████████████████████████▋             | 9/10 [02:30<00:16, 16.89s/it]\u001b[A\n",
      "100%|████████████████████████████████████████████████████████████████████████████████████████████████████████████████████████████████████| 10/10 [02:48<00:00, 16.83s/it]\u001b[A\n",
      " 29%|██████████████████████████████████████                                                                                               | 2/7 [05:48<14:36, 175.37s/it]\n",
      "  0%|                                                                                                                                             | 0/10 [00:00<?, ?it/s]\u001b[A\n",
      " 10%|█████████████▎                                                                                                                       | 1/10 [00:18<02:45, 18.40s/it]\u001b[A\n",
      " 20%|██████████████████████████▌                                                                                                          | 2/10 [00:37<02:30, 18.78s/it]\u001b[A\n",
      " 30%|███████████████████████████████████████▉                                                                                             | 3/10 [00:55<02:10, 18.66s/it]\u001b[A\n",
      " 40%|█████████████████████████████████████████████████████▏                                                                               | 4/10 [01:14<01:51, 18.58s/it]\u001b[A\n",
      " 50%|██████████████████████████████████████████████████████████████████▌                                                                  | 5/10 [01:31<01:29, 17.97s/it]\u001b[A\n",
      " 60%|███████████████████████████████████████████████████████████████████████████████▊                                                     | 6/10 [01:49<01:12, 18.11s/it]\u001b[A\n",
      " 70%|█████████████████████████████████████████████████████████████████████████████████████████████                                        | 7/10 [02:07<00:54, 18.06s/it]\u001b[A\n",
      " 80%|██████████████████████████████████████████████████████████████████████████████████████████████████████████▍                          | 8/10 [02:26<00:36, 18.19s/it]\u001b[A\n",
      " 90%|███████████████████████████████████████████████████████████████████████████████████████████████████████████████████████▋             | 9/10 [02:43<00:17, 17.92s/it]\u001b[A\n",
      "100%|████████████████████████████████████████████████████████████████████████████████████████████████████████████████████████████████████| 10/10 [03:00<00:00, 18.06s/it]\u001b[A\n",
      " 43%|█████████████████████████████████████████████████████████                                                                            | 3/7 [09:01<12:13, 183.45s/it]\n",
      "  0%|                                                                                                                                             | 0/10 [00:00<?, ?it/s]\u001b[A\n",
      " 10%|█████████████▎                                                                                                                       | 1/10 [00:18<02:50, 18.95s/it]\u001b[A\n",
      " 20%|██████████████████████████▌                                                                                                          | 2/10 [00:36<02:26, 18.34s/it]\u001b[A\n",
      " 30%|███████████████████████████████████████▉                                                                                             | 3/10 [00:56<02:12, 18.92s/it]\u001b[A\n",
      " 40%|█████████████████████████████████████████████████████▏                                                                               | 4/10 [01:15<01:53, 19.00s/it]\u001b[A\n",
      " 50%|██████████████████████████████████████████████████████████████████▌                                                                  | 5/10 [01:33<01:33, 18.72s/it]\u001b[A\n",
      " 60%|███████████████████████████████████████████████████████████████████████████████▊                                                     | 6/10 [01:52<01:14, 18.67s/it]\u001b[A\n",
      " 70%|█████████████████████████████████████████████████████████████████████████████████████████████                                        | 7/10 [02:10<00:55, 18.61s/it]\u001b[A\n",
      " 80%|██████████████████████████████████████████████████████████████████████████████████████████████████████████▍                          | 8/10 [02:30<00:38, 19.07s/it]\u001b[A\n",
      " 90%|███████████████████████████████████████████████████████████████████████████████████████████████████████████████████████▋             | 9/10 [02:49<00:18, 18.90s/it]\u001b[A\n"
     ]
    },
    {
     "name": "stderr",
     "output_type": "stream",
     "text": [
      "100%|████████████████████████████████████████████████████████████████████████████████████████████████████████████████████████████████████| 10/10 [03:08<00:00, 18.84s/it]\u001b[A\n",
      " 57%|████████████████████████████████████████████████████████████████████████████                                                         | 4/7 [12:22<09:32, 190.71s/it]\n",
      "  0%|                                                                                                                                             | 0/10 [00:00<?, ?it/s]\u001b[A\n",
      " 10%|█████████████▎                                                                                                                       | 1/10 [00:19<02:52, 19.20s/it]\u001b[A\n",
      " 20%|██████████████████████████▌                                                                                                          | 2/10 [00:40<02:43, 20.41s/it]\u001b[A\n",
      " 30%|███████████████████████████████████████▉                                                                                             | 3/10 [00:59<02:19, 19.98s/it]\u001b[A\n",
      " 40%|█████████████████████████████████████████████████████▏                                                                               | 4/10 [01:19<01:57, 19.64s/it]\u001b[A\n",
      " 50%|██████████████████████████████████████████████████████████████████▌                                                                  | 5/10 [01:34<01:29, 17.97s/it]\u001b[A\n",
      " 60%|███████████████████████████████████████████████████████████████████████████████▊                                                     | 6/10 [01:48<01:07, 16.80s/it]\u001b[A\n",
      " 70%|█████████████████████████████████████████████████████████████████████████████████████████████                                        | 7/10 [02:03<00:48, 16.25s/it]\u001b[A\n",
      " 80%|██████████████████████████████████████████████████████████████████████████████████████████████████████████▍                          | 8/10 [02:18<00:31, 15.67s/it]\u001b[A\n",
      " 90%|███████████████████████████████████████████████████████████████████████████████████████████████████████████████████████▋             | 9/10 [02:33<00:15, 15.57s/it]\u001b[A\n",
      "100%|████████████████████████████████████████████████████████████████████████████████████████████████████████████████████████████████████| 10/10 [02:49<00:00, 16.93s/it]\u001b[A\n",
      " 71%|███████████████████████████████████████████████████████████████████████████████████████████████                                      | 5/7 [15:26<06:16, 188.03s/it]\n",
      "  0%|                                                                                                                                             | 0/10 [00:00<?, ?it/s]\u001b[A\n",
      " 10%|█████████████▎                                                                                                                       | 1/10 [00:20<03:04, 20.51s/it]\u001b[A\n",
      " 20%|██████████████████████████▌                                                                                                          | 2/10 [00:42<02:49, 21.22s/it]\u001b[A\n",
      " 30%|███████████████████████████████████████▉                                                                                             | 3/10 [01:02<02:27, 21.01s/it]\u001b[A\n",
      " 40%|█████████████████████████████████████████████████████▏                                                                               | 4/10 [01:23<02:04, 20.73s/it]\u001b[A\n",
      " 50%|██████████████████████████████████████████████████████████████████▌                                                                  | 5/10 [01:45<01:45, 21.18s/it]\u001b[A\n",
      " 60%|███████████████████████████████████████████████████████████████████████████████▊                                                     | 6/10 [02:07<01:26, 21.56s/it]\u001b[A\n",
      " 70%|█████████████████████████████████████████████████████████████████████████████████████████████                                        | 7/10 [02:28<01:04, 21.41s/it]\u001b[A\n",
      " 80%|██████████████████████████████████████████████████████████████████████████████████████████████████████████▍                          | 8/10 [02:49<00:42, 21.32s/it]\u001b[A\n",
      " 90%|███████████████████████████████████████████████████████████████████████████████████████████████████████████████████████▋             | 9/10 [03:10<00:21, 21.06s/it]\u001b[A\n",
      "100%|████████████████████████████████████████████████████████████████████████████████████████████████████████████████████████████████████| 10/10 [03:31<00:00, 21.12s/it]\u001b[A\n",
      " 86%|██████████████████████████████████████████████████████████████████████████████████████████████████████████████████                   | 6/7 [19:10<03:20, 200.38s/it]\n",
      "  0%|                                                                                                                                             | 0/10 [00:00<?, ?it/s]\u001b[A\n",
      " 10%|█████████████▎                                                                                                                       | 1/10 [00:23<03:31, 23.45s/it]\u001b[A\n",
      " 20%|██████████████████████████▌                                                                                                          | 2/10 [00:46<03:05, 23.14s/it]\u001b[A\n",
      " 30%|███████████████████████████████████████▉                                                                                             | 3/10 [01:08<02:39, 22.80s/it]\u001b[A\n",
      " 40%|█████████████████████████████████████████████████████▏                                                                               | 4/10 [01:30<02:13, 22.25s/it]\u001b[A\n",
      " 50%|██████████████████████████████████████████████████████████████████▌                                                                  | 5/10 [01:52<01:50, 22.16s/it]\u001b[A\n",
      " 60%|███████████████████████████████████████████████████████████████████████████████▊                                                     | 6/10 [02:14<01:28, 22.09s/it]\u001b[A\n",
      " 70%|█████████████████████████████████████████████████████████████████████████████████████████████                                        | 7/10 [02:37<01:07, 22.38s/it]\u001b[A\n",
      " 80%|██████████████████████████████████████████████████████████████████████████████████████████████████████████▍                          | 8/10 [02:59<00:44, 22.30s/it]\u001b[A\n",
      " 90%|███████████████████████████████████████████████████████████████████████████████████████████████████████████████████████▋             | 9/10 [03:20<00:22, 22.07s/it]\u001b[A\n",
      "100%|████████████████████████████████████████████████████████████████████████████████████████████████████████████████████████████████████| 10/10 [03:43<00:00, 22.35s/it]\u001b[A\n",
      "100%|█████████████████████████████████████████████████████████████████████████████████████████████████████████████████████████████████████| 7/7 [23:07<00:00, 198.22s/it]"
     ]
    },
    {
     "name": "stdout",
     "output_type": "stream",
     "text": [
      "CPU times: user 1h 21min 12s, sys: 5min 4s, total: 1h 26min 16s\n",
      "Wall time: 23min 7s\n"
     ]
    },
    {
     "name": "stderr",
     "output_type": "stream",
     "text": [
      "\n"
     ]
    },
    {
     "data": {
      "text/html": [
       "<div>\n",
       "<style scoped>\n",
       "    .dataframe tbody tr th:only-of-type {\n",
       "        vertical-align: middle;\n",
       "    }\n",
       "\n",
       "    .dataframe tbody tr th {\n",
       "        vertical-align: top;\n",
       "    }\n",
       "\n",
       "    .dataframe thead th {\n",
       "        text-align: right;\n",
       "    }\n",
       "</style>\n",
       "<table border=\"1\" class=\"dataframe\">\n",
       "  <thead>\n",
       "    <tr style=\"text-align: right;\">\n",
       "      <th></th>\n",
       "      <th>session_type</th>\n",
       "      <th>labels</th>\n",
       "    </tr>\n",
       "  </thead>\n",
       "  <tbody>\n",
       "    <tr>\n",
       "      <th>0</th>\n",
       "      <td>12899779_orders</td>\n",
       "      <td>59625 397451 689970 731692 1493965 469285 1790...</td>\n",
       "    </tr>\n",
       "    <tr>\n",
       "      <th>1</th>\n",
       "      <td>12899780_orders</td>\n",
       "      <td>1142000 582732 736515 973453 889686 1263108 17...</td>\n",
       "    </tr>\n",
       "    <tr>\n",
       "      <th>2</th>\n",
       "      <td>12899781_orders</td>\n",
       "      <td>199008 918667 194067 57315 141736 759436 75441...</td>\n",
       "    </tr>\n",
       "    <tr>\n",
       "      <th>3</th>\n",
       "      <td>12899782_orders</td>\n",
       "      <td>834354 1344773 562753 1711180 987399 889671 74...</td>\n",
       "    </tr>\n",
       "    <tr>\n",
       "      <th>4</th>\n",
       "      <td>12899783_orders</td>\n",
       "      <td>1817895 1729553 198385 1216820 607638 1754419 ...</td>\n",
       "    </tr>\n",
       "    <tr>\n",
       "      <th>...</th>\n",
       "      <td>...</td>\n",
       "      <td>...</td>\n",
       "    </tr>\n",
       "    <tr>\n",
       "      <th>167160</th>\n",
       "      <td>14571577_orders</td>\n",
       "      <td>1141710 86916 1276792 1666114 1004292 1681772 ...</td>\n",
       "    </tr>\n",
       "    <tr>\n",
       "      <th>167161</th>\n",
       "      <td>14571578_orders</td>\n",
       "      <td>519105 822641 1811714 290137 977826 524717 476...</td>\n",
       "    </tr>\n",
       "    <tr>\n",
       "      <th>167162</th>\n",
       "      <td>14571579_orders</td>\n",
       "      <td>739876 1750859 785544 210534 1445637 857928 83...</td>\n",
       "    </tr>\n",
       "    <tr>\n",
       "      <th>167163</th>\n",
       "      <td>14571580_orders</td>\n",
       "      <td>202353 433425 1314576 528665 1231403 1324905 8...</td>\n",
       "    </tr>\n",
       "    <tr>\n",
       "      <th>167164</th>\n",
       "      <td>14571581_orders</td>\n",
       "      <td>1100210 1401429 1684953 622489 1072049 462056 ...</td>\n",
       "    </tr>\n",
       "  </tbody>\n",
       "</table>\n",
       "<p>1671803 rows × 2 columns</p>\n",
       "</div>"
      ],
      "text/plain": [
       "           session_type                                             labels\n",
       "0       12899779_orders  59625 397451 689970 731692 1493965 469285 1790...\n",
       "1       12899780_orders  1142000 582732 736515 973453 889686 1263108 17...\n",
       "2       12899781_orders  199008 918667 194067 57315 141736 759436 75441...\n",
       "3       12899782_orders  834354 1344773 562753 1711180 987399 889671 74...\n",
       "4       12899783_orders  1817895 1729553 198385 1216820 607638 1754419 ...\n",
       "...                 ...                                                ...\n",
       "167160  14571577_orders  1141710 86916 1276792 1666114 1004292 1681772 ...\n",
       "167161  14571578_orders  519105 822641 1811714 290137 977826 524717 476...\n",
       "167162  14571579_orders  739876 1750859 785544 210534 1445637 857928 83...\n",
       "167163  14571580_orders  202353 433425 1314576 528665 1231403 1324905 8...\n",
       "167164  14571581_orders  1100210 1401429 1684953 622489 1072049 462056 ...\n",
       "\n",
       "[1671803 rows x 2 columns]"
      ]
     },
     "execution_count": 13,
     "metadata": {},
     "output_type": "execute_result"
    }
   ],
   "source": [
    "%%time\n",
    "\n",
    "with open(f\"FEATURE_COL_{MODEL_TYPE}.txt\", \"r\") as f:\n",
    "    FEATURE_COL = f.read().splitlines()\n",
    "print(FEATURE_COL)\n",
    "\n",
    "\n",
    "for n_es in tqdm(n_estimators_candidates):\n",
    "# best_n_estimators = \"300\"\n",
    "    ranker = joblib.load(f\"models/{MODEL_TYPE}_xgbranker_{n_es}.m\")\n",
    "    df_kaggle_test = None\n",
    "    for n in tqdm(range(1, INFERENCE_CHUNK_NUM+1)):\n",
    "        df = pd.read_parquet(f\"df_kaggle_test_{MODEL_TYPE}_chunk_{n}.parquet\")\n",
    "        df[\"score\"] = ranker.predict(df[FEATURE_COL])\n",
    "        df = df.sort_values(by=['session', 'score'], ascending=False)[['session', 'aid']].reset_index(drop=True)\n",
    "        df = df.groupby('session').head(20).groupby('session').agg(list).reset_index(drop=False)\n",
    "        if df_kaggle_test is None:\n",
    "            df_kaggle_test = df\n",
    "        else:\n",
    "            df_kaggle_test = pd.concat([df_kaggle_test, df])\n",
    "\n",
    "    df_kaggle_test[\"session_type\"] = df_kaggle_test[\"session\"].apply(lambda x: str(x)+f\"_{MODEL_TYPE}\")\n",
    "    df_kaggle_test = df_kaggle_test.rename({\"aid\": \"labels\"}, axis=1)[[\"session_type\", \"labels\"]]\n",
    "    df_kaggle_test[\"labels\"] = df_kaggle_test[\"labels\"].apply(lambda x: \" \".join([str(_) for _ in x]))\n",
    "    df_kaggle_test.to_csv(f\"../data/output/submission_part_{MODEL_TYPE}_n_es{n_es}.csv\", index=False)\n",
    "    df_kaggle_test.shape\n"
   ]
  },
  {
   "cell_type": "markdown",
   "id": "ec5f2c77",
   "metadata": {},
   "source": [
    "# 1.31 TO DO IT"
   ]
  },
  {
   "cell_type": "code",
   "execution_count": null,
   "id": "a87bc0ab",
   "metadata": {},
   "outputs": [],
   "source": [
    "%%time\n",
    "\n",
    "df_kaggle_test[\"session_type\"] = df_kaggle_test[\"session\"].apply(lambda x: str(x)+f\"_{MODEL_TYPE}\")\n",
    "# df_test[\"session_type\"] = df_test[\"session\"].apply(lambda x: str(x)+\"_carts\")\n",
    "df_kaggle_test = df_kaggle_test.rename({\"aid\": \"labels\"}, axis=1)[[\"session_type\", \"labels\"]]\n",
    "df_kaggle_test[\"labels\"] = df_kaggle_test[\"labels\"].apply(lambda x: \" \".join([str(_) for _ in x]))\n",
    "df_submission = pd.read_csv(\"../data/output/submission_583.csv\")\n",
    "# df_submission = df_submission[~df_submission.session_type.str.contains(\"_carts$\")]\n",
    "df_submission = df_submission[~df_submission.session_type.str.contains(f\"_{MODEL_TYPE}$\")]\n",
    "df_submission = pd.concat([df_kaggle_test, df_submission])\n",
    "df_submission.to_csv(f\"../data/output/submission_optim_{MODEL_TYPE}.csv\", index=False)\n",
    "df_submission.shape"
   ]
  },
  {
   "cell_type": "code",
   "execution_count": null,
   "id": "c44ea43c",
   "metadata": {},
   "outputs": [],
   "source": []
  },
  {
   "cell_type": "code",
   "execution_count": null,
   "id": "8a9e2d0c",
   "metadata": {},
   "outputs": [],
   "source": []
  },
  {
   "cell_type": "code",
   "execution_count": null,
   "id": "b3ec24c4",
   "metadata": {},
   "outputs": [],
   "source": []
  },
  {
   "cell_type": "code",
   "execution_count": null,
   "id": "3cb6d964",
   "metadata": {},
   "outputs": [],
   "source": []
  },
  {
   "cell_type": "code",
   "execution_count": null,
   "id": "1a35cc8f",
   "metadata": {},
   "outputs": [],
   "source": []
  },
  {
   "cell_type": "code",
   "execution_count": null,
   "id": "0cb49c2e",
   "metadata": {},
   "outputs": [],
   "source": []
  },
  {
   "cell_type": "code",
   "execution_count": null,
   "id": "77e6b7ad",
   "metadata": {},
   "outputs": [],
   "source": []
  },
  {
   "cell_type": "code",
   "execution_count": null,
   "id": "d7fbc8fd",
   "metadata": {},
   "outputs": [],
   "source": []
  },
  {
   "cell_type": "code",
   "execution_count": null,
   "id": "0b7205b1",
   "metadata": {},
   "outputs": [],
   "source": [
    "%%time\n",
    "\n",
    "df_kaggle_test[\"session_type\"] = df_kaggle_test[\"session\"].apply(lambda x: str(x)+f\"_{MODEL_TYPE}\")\n",
    "# df_test[\"session_type\"] = df_test[\"session\"].apply(lambda x: str(x)+\"_carts\")\n",
    "df_kaggle_test = df_kaggle_test.rename({\"aid\": \"labels\"}, axis=1)[[\"session_type\", \"labels\"]]\n",
    "df_kaggle_test[\"labels\"] = df_kaggle_test[\"labels\"].apply(lambda x: \" \".join([str(_) for _ in x]))\n",
    "df_submission = pd.read_csv(\"../data/output/submission_581.csv\")\n",
    "# df_submission = df_submission[~df_submission.session_type.str.contains(\"_carts$\")]\n",
    "df_submission = df_submission[~df_submission.session_type.str.contains(f\"_{MODEL_TYPE}$\")]\n",
    "df_submission = pd.concat([df_kaggle_test, df_submission])\n",
    "df_submission.to_csv(f\"../data/output/submission_optim_{MODEL_TYPE}.csv\", index=False)\n",
    "df_submission.shape"
   ]
  },
  {
   "cell_type": "code",
   "execution_count": null,
   "id": "5919034a",
   "metadata": {},
   "outputs": [],
   "source": [
    "df_submission = df_submission[~df_submission.session_type.str.contains(f\"_{MODEL_TYPE}$\")]\n",
    "df_submission = pd.concat([df_kaggle_test, df_submission])\n",
    "df_submission.to_csv(f\"../data/output/submission_optim_{MODEL_TYPE}.csv\", index=False)\n",
    "df_submission.shape"
   ]
  },
  {
   "cell_type": "code",
   "execution_count": null,
   "id": "bf00c0a4",
   "metadata": {},
   "outputs": [],
   "source": []
  },
  {
   "cell_type": "code",
   "execution_count": null,
   "id": "73de2a5d",
   "metadata": {},
   "outputs": [],
   "source": []
  },
  {
   "cell_type": "code",
   "execution_count": null,
   "id": "2fb2e4e6",
   "metadata": {},
   "outputs": [],
   "source": []
  },
  {
   "cell_type": "code",
   "execution_count": null,
   "id": "e0f0ddda",
   "metadata": {},
   "outputs": [],
   "source": []
  },
  {
   "cell_type": "code",
   "execution_count": null,
   "id": "dc8e9091",
   "metadata": {},
   "outputs": [],
   "source": []
  },
  {
   "cell_type": "code",
   "execution_count": null,
   "id": "5e1e4f95",
   "metadata": {},
   "outputs": [],
   "source": []
  },
  {
   "cell_type": "code",
   "execution_count": null,
   "id": "e70d572e",
   "metadata": {},
   "outputs": [],
   "source": []
  },
  {
   "cell_type": "code",
   "execution_count": null,
   "id": "6a0d4f6a",
   "metadata": {},
   "outputs": [],
   "source": []
  },
  {
   "cell_type": "code",
   "execution_count": null,
   "id": "8d90472a",
   "metadata": {},
   "outputs": [],
   "source": []
  },
  {
   "cell_type": "code",
   "execution_count": null,
   "id": "dfcf90f6",
   "metadata": {},
   "outputs": [],
   "source": []
  },
  {
   "cell_type": "code",
   "execution_count": null,
   "id": "0ae16086",
   "metadata": {},
   "outputs": [],
   "source": []
  },
  {
   "cell_type": "code",
   "execution_count": null,
   "id": "c7f1a6ea",
   "metadata": {},
   "outputs": [],
   "source": []
  },
  {
   "cell_type": "code",
   "execution_count": null,
   "id": "dd46d467",
   "metadata": {},
   "outputs": [],
   "source": []
  },
  {
   "cell_type": "code",
   "execution_count": null,
   "id": "1b32cbce",
   "metadata": {},
   "outputs": [],
   "source": []
  },
  {
   "cell_type": "code",
   "execution_count": null,
   "id": "21a0df90",
   "metadata": {},
   "outputs": [],
   "source": []
  },
  {
   "cell_type": "code",
   "execution_count": null,
   "id": "449be061",
   "metadata": {},
   "outputs": [],
   "source": []
  },
  {
   "cell_type": "code",
   "execution_count": null,
   "id": "459129a8",
   "metadata": {},
   "outputs": [],
   "source": []
  },
  {
   "cell_type": "code",
   "execution_count": null,
   "id": "d29a4ce2",
   "metadata": {},
   "outputs": [],
   "source": []
  },
  {
   "cell_type": "code",
   "execution_count": null,
   "id": "9ca3e6df",
   "metadata": {},
   "outputs": [],
   "source": []
  },
  {
   "cell_type": "code",
   "execution_count": null,
   "id": "7e59fae4",
   "metadata": {},
   "outputs": [],
   "source": []
  }
 ],
 "metadata": {
  "kernelspec": {
   "display_name": "Python 3 (ipykernel)",
   "language": "python",
   "name": "python3"
  },
  "language_info": {
   "codemirror_mode": {
    "name": "ipython",
    "version": 3
   },
   "file_extension": ".py",
   "mimetype": "text/x-python",
   "name": "python",
   "nbconvert_exporter": "python",
   "pygments_lexer": "ipython3",
   "version": "3.8.15"
  }
 },
 "nbformat": 4,
 "nbformat_minor": 5
}
