{
 "cells": [
  {
   "cell_type": "code",
   "execution_count": 1,
   "id": "cb287cab",
   "metadata": {},
   "outputs": [],
   "source": [
    "import os\n",
    "import time\n",
    "import glob\n",
    "import gc\n",
    "import warnings\n",
    "from multiprocessing import Pool\n",
    "\n",
    "from tqdm import tqdm\n",
    "import pandas as pd\n",
    "import polars as pl\n",
    "import numpy as np\n",
    "import xgboost as xgb\n",
    "# import cudf\n",
    "from sklearn.model_selection import GroupKFold\n",
    "import joblib\n",
    "# from openfe import openfe, transform\n",
    "\n",
    "warnings.filterwarnings(\"ignore\")"
   ]
  },
  {
   "cell_type": "markdown",
   "id": "9491800c",
   "metadata": {},
   "source": [
    "# Param"
   ]
  },
  {
   "cell_type": "code",
   "execution_count": 2,
   "id": "6cd2d391",
   "metadata": {},
   "outputs": [],
   "source": [
    "DATA_PATH = \"/home/search3/lichunyu/otto-recommender-system/data\"\n",
    "TYPE_MAP = {'clicks':0, 'carts':1, 'orders':2}\n",
    "TOPN = 50\n",
    "DOWNSAMPLE_RATE = 20\n",
    "VALID_DATA_RATIO = 0.2\n",
    "MODEL_TYPE = \"clicks\"\n",
    "\n",
    "def read_parquet(f):\n",
    "    df = pd.read_parquet(f)\n",
    "    df.ts = (df.ts/1000).astype('int32')\n",
    "    df['type'] = df['type'].map(TYPE_MAP).astype('int8')\n",
    "    return df"
   ]
  },
  {
   "cell_type": "markdown",
   "id": "fa9f9dd5",
   "metadata": {},
   "source": [
    "# Fill NA"
   ]
  },
  {
   "cell_type": "code",
   "execution_count": 3,
   "id": "d46afa21",
   "metadata": {},
   "outputs": [],
   "source": [
    "def fillna_default(df):\n",
    "    df = df.fillna({\n",
    "        \"user_first_clicks_time\": 8.0,\n",
    "        \"user_last_clicks_time\": 8.0,\n",
    "        \"user_first_orders_time\": 8.0,\n",
    "        \"user_last_orders_time\": 8.0,\n",
    "        \"user_first_carts_time\": 8.0,\n",
    "        \"user_last_carts_time\": 8.0,\n",
    "        \"interaction_type_core\": 0,\n",
    "        \"item_last_clicks_ts\": 30,\n",
    "        \"item_first_clicks_ts\": 30,\n",
    "        \"item_last_carts_ts\": 30,\n",
    "        \"item_first_carts_ts\": 30,\n",
    "        \"item_last_orders_ts\": 30,\n",
    "        \"item_first_orders_ts\": 30,\n",
    "        \"interaction_clicks_carts_ratio\": 0,\n",
    "        \"interaction_carts_clicks_ratio\": 0,\n",
    "        \"interaction_clicks_orders_ratio\": 0,\n",
    "        \"interaction_orders_clicks_ratio\": 0,\n",
    "        \"interaction_orders_carts_ratio\": 0,\n",
    "        \"interaction_carts_orders_ratio\": 0,\n",
    "        \"interaction_timing_decay_score\": 0,\n",
    "        \"interaction_orders_count\": 0,\n",
    "        \"interaction_clicks_count\": 0,\n",
    "        \"interaction_carts_count\": 0,\n",
    "        \"interaction_behavior_count\": 0,\n",
    "        \"interaction_behavor_period\": 0\n",
    "    }, axis=0)\n",
    "    return df"
   ]
  },
  {
   "cell_type": "markdown",
   "id": "53bd7152",
   "metadata": {},
   "source": [
    "## Model Train"
   ]
  },
  {
   "cell_type": "code",
   "execution_count": 4,
   "id": "668ec930",
   "metadata": {},
   "outputs": [
    {
     "name": "stdout",
     "output_type": "stream",
     "text": [
      "CPU times: user 44.9 s, sys: 8.06 s, total: 53 s\n",
      "Wall time: 52.5 s\n"
     ]
    },
    {
     "data": {
      "text/plain": [
       "(90062550, 4)"
      ]
     },
     "execution_count": 4,
     "metadata": {},
     "output_type": "execute_result"
    }
   ],
   "source": [
    "%%time\n",
    "\n",
    "# valid_a_candidates_path = sorted(glob.glob(\n",
    "#     os.path.join(DATA_PATH, \"input/otto-candidates/valid_a_candidates/valid_a_candidates_buys_top50.parquet \")\n",
    "# ))\n",
    "\n",
    "# df_train_candidates = pd.concat([pd.read_parquet(i) for i in valid_a_candidates_path])\n",
    "\n",
    "# valid_a_candidates_path = os.path.join(DATA_PATH, \"input/otto-candidates/valid_a_candidates/valid_a_orders_candidates_top50.parquet\")\n",
    "valid_a_candidates_path = os.path.join(DATA_PATH, f\"input/otto-candidates/valid_a_candidates/valid_a_{MODEL_TYPE}_candidates_top{TOPN}.parquet\")\n",
    "df_train_candidates = pd.read_parquet(valid_a_candidates_path)\n",
    "\n",
    "\n",
    "df_train_label = pd.read_parquet(\n",
    "    os.path.join(DATA_PATH, \"input/otto-validation/test_labels.parquet\")\n",
    ")\n",
    "# df_train_label = df_train_label[(df_train_label[\"type\"]==\"orders\")|(df_train_label[\"type\"]==\"carts\")][[\"session\", \"ground_truth\"]] # TODO test it\n",
    "df_train_label = df_train_label[(df_train_label[\"type\"]==MODEL_TYPE)][[\"session\", \"ground_truth\"]]\n",
    "df_train_label = df_train_label.explode(\"ground_truth\").reset_index(drop=True)\n",
    "df_train_label = df_train_label.rename({\"ground_truth\": \"aid\"}, axis=1)\n",
    "df_train_label[\"label\"] = 1\n",
    "\n",
    "# df_train_candidates = df_train_candidates.merge(df_train_label, on=[\"session\", \"aid\"], how=\"outer\").fillna({\"label\": 0})\n",
    "\n",
    "df_train_candidates = df_train_candidates.merge(df_train_label, on=[\"session\", \"aid\"], how=\"left\").fillna({\"label\": 0})\n",
    "df_train_candidates[\"label\"] = df_train_candidates[\"label\"].astype(\"int\")\n",
    "df_train_candidates[\"recall_order\"] = df_train_candidates.groupby('session').cumcount()\n",
    "df_train_candidates.shape"
   ]
  },
  {
   "cell_type": "markdown",
   "id": "9331182c",
   "metadata": {},
   "source": [
    "## Downsample"
   ]
  },
  {
   "cell_type": "code",
   "execution_count": 5,
   "id": "7c433a8c",
   "metadata": {},
   "outputs": [
    {
     "name": "stdout",
     "output_type": "stream",
     "text": [
      "origin all data size: 90062550\n",
      "current negative size: 72943620, postive size: 786330, rate: 92\n",
      "df_train_candidates size: 16512930, df_valid_candidates size: 16332600\n",
      "CPU times: user 44.6 s, sys: 2.43 s, total: 47 s\n",
      "Wall time: 47 s\n"
     ]
    }
   ],
   "source": [
    "%%time\n",
    "\n",
    "def downsample(df, n=-1):\n",
    "    if n == -1:\n",
    "        n = DOWNSAMPLE_RATE\n",
    "    df_negative = df[df[\"label\"]==0]\n",
    "    df_postive = df[df[\"label\"]==1]\n",
    "    r = len(df_negative)//len(df_postive)\n",
    "    print(f\"current negative size: {len(df_negative)}, postive size: {len(df_postive)}, rate: {r}\")\n",
    "    if r > n:\n",
    "        gloden_negative_size = n * len(df_postive)\n",
    "        df_negative = df_negative.sample(gloden_negative_size)\n",
    "        df = pd.concat([df_postive, df_negative])\n",
    "    df[\"_noise\"] = np.random.randn(len(df))\n",
    "    df = df.sort_values([\"session\", \"_noise\"])\n",
    "    df = df.drop(\"_noise\", axis=1).reset_index(drop=True)\n",
    "    return df\n",
    "\n",
    "\n",
    "def train_valid_split(df):\n",
    "    print(f\"origin all data size: {len(df)}\")\n",
    "    valid_session = np.random.choice(df_train_candidates.session.unique(), int(len(df_train_candidates.session.unique())*VALID_DATA_RATIO))\n",
    "    df_train = df[~df[\"session\"].isin(valid_session)]\n",
    "    df_valid = df[df[\"session\"].isin(valid_session)]\n",
    "    df_train = downsample(df_train)\n",
    "    return df_train, df_valid\n",
    "\n",
    "\n",
    "df_train_candidates, df_valid_candidates = train_valid_split(df_train_candidates)\n",
    "df_train_candidates[\"label\"] = df_train_candidates[\"label\"].astype(\"int\")\n",
    "df_valid_candidates[\"label\"] = df_valid_candidates[\"label\"].astype(\"int\")\n",
    "print(f\"df_train_candidates size: {len(df_train_candidates)}, df_valid_candidates size: {len(df_valid_candidates)}\")"
   ]
  },
  {
   "cell_type": "markdown",
   "id": "cf1f73ee",
   "metadata": {},
   "source": [
    "## Merge Feature"
   ]
  },
  {
   "cell_type": "code",
   "execution_count": 6,
   "id": "4650e435",
   "metadata": {},
   "outputs": [
    {
     "name": "stderr",
     "output_type": "stream",
     "text": [
      "100%|██████████████████████████████████████████████████████████████████████████████████████████████████████████████████████████████████████| 7/7 [01:53<00:00, 16.16s/it]\n",
      "100%|██████████████████████████████████████████████████████████████████████████████████████████████████████████████████████████████████████| 5/5 [00:43<00:00,  8.73s/it]\n",
      "100%|██████████████████████████████████████████████████████████████████████████████████████████████████████████████████████████████████████| 5/5 [03:06<00:00, 37.24s/it]\n"
     ]
    },
    {
     "name": "stdout",
     "output_type": "stream",
     "text": [
      "df_train_candidates size: 16512930, df_valid_candidates size: 16332600\n",
      "CPU times: user 5min 51s, sys: 1min 5s, total: 6min 57s\n",
      "Wall time: 6min 52s\n"
     ]
    },
    {
     "data": {
      "text/html": [
       "<div>\n",
       "<style scoped>\n",
       "    .dataframe tbody tr th:only-of-type {\n",
       "        vertical-align: middle;\n",
       "    }\n",
       "\n",
       "    .dataframe tbody tr th {\n",
       "        vertical-align: top;\n",
       "    }\n",
       "\n",
       "    .dataframe thead th {\n",
       "        text-align: right;\n",
       "    }\n",
       "</style>\n",
       "<table border=\"1\" class=\"dataframe\">\n",
       "  <thead>\n",
       "    <tr style=\"text-align: right;\">\n",
       "      <th></th>\n",
       "      <th>session</th>\n",
       "      <th>aid</th>\n",
       "      <th>label</th>\n",
       "      <th>recall_order</th>\n",
       "      <th>item_user_count</th>\n",
       "      <th>item_item_count</th>\n",
       "      <th>item_buy_ratio</th>\n",
       "      <th>item_clicks_user_count</th>\n",
       "      <th>item_clicks_item_count</th>\n",
       "      <th>item_carts_user_count</th>\n",
       "      <th>...</th>\n",
       "      <th>interaction_clicks_orders_ratio</th>\n",
       "      <th>interaction_orders_clicks_ratio</th>\n",
       "      <th>interaction_orders_carts_ratio</th>\n",
       "      <th>interaction_carts_orders_ratio</th>\n",
       "      <th>interaction_timing_decay_score</th>\n",
       "      <th>interaction_orders_count</th>\n",
       "      <th>interaction_clicks_count</th>\n",
       "      <th>interaction_carts_count</th>\n",
       "      <th>interaction_behavior_count</th>\n",
       "      <th>interaction_behavor_period</th>\n",
       "    </tr>\n",
       "  </thead>\n",
       "  <tbody>\n",
       "    <tr>\n",
       "      <th>0</th>\n",
       "      <td>11098528</td>\n",
       "      <td>1460571</td>\n",
       "      <td>0</td>\n",
       "      <td>17</td>\n",
       "      <td>48969</td>\n",
       "      <td>99786</td>\n",
       "      <td>0.065881</td>\n",
       "      <td>48926.0</td>\n",
       "      <td>94324.0</td>\n",
       "      <td>3447.0</td>\n",
       "      <td>...</td>\n",
       "      <td>0.0</td>\n",
       "      <td>0.0</td>\n",
       "      <td>0.0</td>\n",
       "      <td>0.0</td>\n",
       "      <td>0.0</td>\n",
       "      <td>0.0</td>\n",
       "      <td>0.0</td>\n",
       "      <td>0.0</td>\n",
       "      <td>0.0</td>\n",
       "      <td>0.0</td>\n",
       "    </tr>\n",
       "    <tr>\n",
       "      <th>1</th>\n",
       "      <td>11098528</td>\n",
       "      <td>620545</td>\n",
       "      <td>0</td>\n",
       "      <td>37</td>\n",
       "      <td>30011</td>\n",
       "      <td>52190</td>\n",
       "      <td>0.044166</td>\n",
       "      <td>29997.0</td>\n",
       "      <td>50211.0</td>\n",
       "      <td>1278.0</td>\n",
       "      <td>...</td>\n",
       "      <td>0.0</td>\n",
       "      <td>0.0</td>\n",
       "      <td>0.0</td>\n",
       "      <td>0.0</td>\n",
       "      <td>0.0</td>\n",
       "      <td>0.0</td>\n",
       "      <td>0.0</td>\n",
       "      <td>0.0</td>\n",
       "      <td>0.0</td>\n",
       "      <td>0.0</td>\n",
       "    </tr>\n",
       "    <tr>\n",
       "      <th>2</th>\n",
       "      <td>11098528</td>\n",
       "      <td>1116095</td>\n",
       "      <td>0</td>\n",
       "      <td>41</td>\n",
       "      <td>20588</td>\n",
       "      <td>36367</td>\n",
       "      <td>0.104628</td>\n",
       "      <td>20503.0</td>\n",
       "      <td>32981.0</td>\n",
       "      <td>2065.0</td>\n",
       "      <td>...</td>\n",
       "      <td>0.0</td>\n",
       "      <td>0.0</td>\n",
       "      <td>0.0</td>\n",
       "      <td>0.0</td>\n",
       "      <td>0.0</td>\n",
       "      <td>0.0</td>\n",
       "      <td>0.0</td>\n",
       "      <td>0.0</td>\n",
       "      <td>0.0</td>\n",
       "      <td>0.0</td>\n",
       "    </tr>\n",
       "    <tr>\n",
       "      <th>3</th>\n",
       "      <td>11098528</td>\n",
       "      <td>855613</td>\n",
       "      <td>0</td>\n",
       "      <td>13</td>\n",
       "      <td>7049</td>\n",
       "      <td>11029</td>\n",
       "      <td>0.106719</td>\n",
       "      <td>7027.0</td>\n",
       "      <td>10097.0</td>\n",
       "      <td>606.0</td>\n",
       "      <td>...</td>\n",
       "      <td>0.0</td>\n",
       "      <td>0.0</td>\n",
       "      <td>0.0</td>\n",
       "      <td>0.0</td>\n",
       "      <td>0.0</td>\n",
       "      <td>0.0</td>\n",
       "      <td>0.0</td>\n",
       "      <td>0.0</td>\n",
       "      <td>0.0</td>\n",
       "      <td>0.0</td>\n",
       "    </tr>\n",
       "    <tr>\n",
       "      <th>4</th>\n",
       "      <td>11098528</td>\n",
       "      <td>959208</td>\n",
       "      <td>0</td>\n",
       "      <td>34</td>\n",
       "      <td>38011</td>\n",
       "      <td>49741</td>\n",
       "      <td>0.032830</td>\n",
       "      <td>37984.0</td>\n",
       "      <td>48408.0</td>\n",
       "      <td>927.0</td>\n",
       "      <td>...</td>\n",
       "      <td>0.0</td>\n",
       "      <td>0.0</td>\n",
       "      <td>0.0</td>\n",
       "      <td>0.0</td>\n",
       "      <td>0.0</td>\n",
       "      <td>0.0</td>\n",
       "      <td>0.0</td>\n",
       "      <td>0.0</td>\n",
       "      <td>0.0</td>\n",
       "      <td>0.0</td>\n",
       "    </tr>\n",
       "  </tbody>\n",
       "</table>\n",
       "<p>5 rows × 48 columns</p>\n",
       "</div>"
      ],
      "text/plain": [
       "    session      aid  label  recall_order  item_user_count  item_item_count  \\\n",
       "0  11098528  1460571      0            17            48969            99786   \n",
       "1  11098528   620545      0            37            30011            52190   \n",
       "2  11098528  1116095      0            41            20588            36367   \n",
       "3  11098528   855613      0            13             7049            11029   \n",
       "4  11098528   959208      0            34            38011            49741   \n",
       "\n",
       "   item_buy_ratio  item_clicks_user_count  item_clicks_item_count  \\\n",
       "0        0.065881                 48926.0                 94324.0   \n",
       "1        0.044166                 29997.0                 50211.0   \n",
       "2        0.104628                 20503.0                 32981.0   \n",
       "3        0.106719                  7027.0                 10097.0   \n",
       "4        0.032830                 37984.0                 48408.0   \n",
       "\n",
       "   item_carts_user_count  ...  interaction_clicks_orders_ratio  \\\n",
       "0                 3447.0  ...                              0.0   \n",
       "1                 1278.0  ...                              0.0   \n",
       "2                 2065.0  ...                              0.0   \n",
       "3                  606.0  ...                              0.0   \n",
       "4                  927.0  ...                              0.0   \n",
       "\n",
       "   interaction_orders_clicks_ratio  interaction_orders_carts_ratio  \\\n",
       "0                              0.0                             0.0   \n",
       "1                              0.0                             0.0   \n",
       "2                              0.0                             0.0   \n",
       "3                              0.0                             0.0   \n",
       "4                              0.0                             0.0   \n",
       "\n",
       "   interaction_carts_orders_ratio  interaction_timing_decay_score  \\\n",
       "0                             0.0                             0.0   \n",
       "1                             0.0                             0.0   \n",
       "2                             0.0                             0.0   \n",
       "3                             0.0                             0.0   \n",
       "4                             0.0                             0.0   \n",
       "\n",
       "   interaction_orders_count  interaction_clicks_count  \\\n",
       "0                       0.0                       0.0   \n",
       "1                       0.0                       0.0   \n",
       "2                       0.0                       0.0   \n",
       "3                       0.0                       0.0   \n",
       "4                       0.0                       0.0   \n",
       "\n",
       "   interaction_carts_count  interaction_behavior_count  \\\n",
       "0                      0.0                         0.0   \n",
       "1                      0.0                         0.0   \n",
       "2                      0.0                         0.0   \n",
       "3                      0.0                         0.0   \n",
       "4                      0.0                         0.0   \n",
       "\n",
       "   interaction_behavor_period  \n",
       "0                         0.0  \n",
       "1                         0.0  \n",
       "2                         0.0  \n",
       "3                         0.0  \n",
       "4                         0.0  \n",
       "\n",
       "[5 rows x 48 columns]"
      ]
     },
     "execution_count": 6,
     "metadata": {},
     "output_type": "execute_result"
    }
   ],
   "source": [
    "%%time\n",
    "\n",
    "train_item_feature_path = sorted(glob.glob(\n",
    "    os.path.join(DATA_PATH, \"input/feature/train/item_feature_*.parquet\")\n",
    "))\n",
    "for p in tqdm(train_item_feature_path):\n",
    "    df_train_candidates = df_train_candidates.merge(pd.read_parquet(p), on=\"aid\", how=\"left\")\n",
    "    df_valid_candidates = df_valid_candidates.merge(pd.read_parquet(p), on=\"aid\", how=\"left\")\n",
    "\n",
    "\n",
    "train_user_feature_path = sorted(glob.glob(\n",
    "    os.path.join(DATA_PATH, \"input/feature/train/user_feature_*.parquet\")\n",
    "))\n",
    "for p in tqdm(train_user_feature_path):\n",
    "    df_train_candidates = df_train_candidates.merge(pd.read_parquet(p), on=\"session\", how=\"left\")\n",
    "    df_valid_candidates = df_valid_candidates.merge(pd.read_parquet(p), on=\"session\", how=\"left\")\n",
    "\n",
    "\n",
    "train_interaction_feature_path = sorted(glob.glob(\n",
    "    os.path.join(DATA_PATH, \"input/feature/train/interaction_feature_*.parquet\")\n",
    "))\n",
    "for p in tqdm(train_interaction_feature_path):\n",
    "    df_train_candidates = df_train_candidates.merge(pd.read_parquet(p), on=[\"session\", \"aid\"], how=\"left\")\n",
    "    df_valid_candidates = df_valid_candidates.merge(pd.read_parquet(p), on=[\"session\", \"aid\"], how=\"left\")\n",
    "\n",
    "\n",
    "df_train_candidates = fillna_default(df_train_candidates)\n",
    "df_valid_candidates = fillna_default(df_valid_candidates)\n",
    "\n",
    "print(f\"df_train_candidates size: {len(df_train_candidates)}, df_valid_candidates size: {len(df_valid_candidates)}\")\n",
    "df_train_candidates.head(5)"
   ]
  },
  {
   "cell_type": "code",
   "execution_count": null,
   "id": "a161a7b1",
   "metadata": {},
   "outputs": [],
   "source": []
  },
  {
   "cell_type": "code",
   "execution_count": null,
   "id": "d4e9cf0c",
   "metadata": {},
   "outputs": [],
   "source": []
  },
  {
   "cell_type": "code",
   "execution_count": null,
   "id": "203df3c2",
   "metadata": {},
   "outputs": [],
   "source": []
  },
  {
   "cell_type": "markdown",
   "id": "6426d06c",
   "metadata": {},
   "source": [
    "## Storage"
   ]
  },
  {
   "cell_type": "code",
   "execution_count": 7,
   "id": "cbcd94ad",
   "metadata": {},
   "outputs": [],
   "source": [
    "df_train_candidates.to_pickle(f\"df_train_{MODEL_TYPE}_candidates.pkl\")\n",
    "df_valid_candidates.to_pickle(f\"df_valid_{MODEL_TYPE}_candidates.pkl\")\n",
    "df_train_label[\n",
    "    df_train_label[\"session\"].isin(df_valid_candidates[\"session\"].unique())\n",
    "].reset_index(drop=True).rename({\"aid\": \"ground_truth\"}, axis=1).to_parquet(f\"df_valid_{MODEL_TYPE}_label.parquet\")"
   ]
  },
  {
   "cell_type": "markdown",
   "id": "ddebfec5",
   "metadata": {},
   "source": [
    "## Feature Name"
   ]
  },
  {
   "cell_type": "code",
   "execution_count": 8,
   "id": "07ecd0d7",
   "metadata": {},
   "outputs": [
    {
     "name": "stdout",
     "output_type": "stream",
     "text": [
      "Count of Feature is: 44\n",
      "\n"
     ]
    },
    {
     "data": {
      "text/plain": [
       "['item_buy_ratio',\n",
       " 'item_user_count',\n",
       " 'interaction_type_core',\n",
       " 'user_last_carts_time',\n",
       " 'item_last_orders_ts',\n",
       " 'interaction_orders_clicks_ratio',\n",
       " 'user_behavior_count',\n",
       " 'user_item_count',\n",
       " 'interaction_clicks_orders_ratio',\n",
       " 'interaction_timing_decay_score',\n",
       " 'interaction_behavor_period',\n",
       " 'item_carts_user_count',\n",
       " 'item_first_carts_ts',\n",
       " 'item_orders_item_count',\n",
       " 'item_last_carts_ts',\n",
       " 'user_first_orders_time',\n",
       " 'user_first_carts_time',\n",
       " 'user_carts_count',\n",
       " 'interaction_carts_clicks_ratio',\n",
       " 'item_last_clicks_ts',\n",
       " 'recall_order',\n",
       " 'interaction_carts_count',\n",
       " 'user_user_count',\n",
       " 'interaction_clicks_count',\n",
       " 'item_clicks_user_count',\n",
       " 'user_clicks_count',\n",
       " 'item_first_clicks_ts',\n",
       " 'interaction_orders_carts_ratio',\n",
       " 'interaction_behavior_count',\n",
       " 'item_item_count',\n",
       " 'item_carts_item_count',\n",
       " 'user_last_clicks_time',\n",
       " 'interaction_clicks_carts_ratio',\n",
       " 'user_first_clicks_time',\n",
       " 'user_carts_ratio',\n",
       " 'interaction_orders_count',\n",
       " 'interaction_carts_orders_ratio',\n",
       " 'user_last_orders_time',\n",
       " 'user_orders_count',\n",
       " 'item_first_orders_ts',\n",
       " 'item_orders_user_count',\n",
       " 'user_clicks_ratio',\n",
       " 'user_orders_ratio',\n",
       " 'item_clicks_item_count']"
      ]
     },
     "execution_count": 8,
     "metadata": {},
     "output_type": "execute_result"
    }
   ],
   "source": [
    "FEATURE_COL = list(set(df_train_candidates.columns.tolist()) - set([\"session\", \"aid\", \"ts\", \"label\", \"user_buy_ratio\"]))\n",
    "with open(f\"FEATURE_COL_{MODEL_TYPE}.txt\", \"w\") as f:\n",
    "    f.write(\"\\n\".join(FEATURE_COL))\n",
    "\n",
    "print(f\"Count of Feature is: {len(FEATURE_COL)}\")\n",
    "print(\"\")\n",
    "FEATURE_COL"
   ]
  },
  {
   "cell_type": "code",
   "execution_count": null,
   "id": "5e99efcb",
   "metadata": {},
   "outputs": [],
   "source": []
  },
  {
   "cell_type": "code",
   "execution_count": null,
   "id": "3b21b99a",
   "metadata": {},
   "outputs": [],
   "source": []
  },
  {
   "cell_type": "markdown",
   "id": "ced552b4",
   "metadata": {},
   "source": [
    "## Training"
   ]
  },
  {
   "cell_type": "code",
   "execution_count": 9,
   "id": "1aab6e9b",
   "metadata": {},
   "outputs": [
    {
     "name": "stderr",
     "output_type": "stream",
     "text": [
      "100%|█████████████████████████████████████████████████████████████████████████████████████████████████████████████████████████████████████| 7/7 [24:03<00:00, 206.21s/it]"
     ]
    },
    {
     "name": "stdout",
     "output_type": "stream",
     "text": [
      "CPU times: user 5h 9min 7s, sys: 3min 23s, total: 5h 12min 31s\n",
      "Wall time: 24min 3s\n"
     ]
    },
    {
     "name": "stderr",
     "output_type": "stream",
     "text": [
      "\n"
     ]
    }
   ],
   "source": [
    "%%time\n",
    "n_estimators_candidates = list(range(100,401,50))\n",
    "\n",
    "for n_estimators in tqdm(n_estimators_candidates):\n",
    "    ranker = xgb.XGBRanker(\n",
    "#         tree_method='gpu_hist',\n",
    "        tree_method=\"hist\",\n",
    "        booster='gbtree',\n",
    "        objective='rank:pairwise',\n",
    "        random_state=42, \n",
    "        learning_rate=0.1,\n",
    "        colsample_bytree=0.9,  # 0.9\n",
    "        eta=0.05, \n",
    "        max_depth=6, \n",
    "        n_estimators=n_estimators,\n",
    "        subsample=0.8,\n",
    "        n_jobs=15\n",
    "    )\n",
    "\n",
    "    feature_cols = FEATURE_COL\n",
    "    label_col = 'label'\n",
    "\n",
    "    ranker.fit(\n",
    "        X=df_train_candidates[feature_cols],\n",
    "        y=df_train_candidates[label_col],\n",
    "        group=df_train_candidates.groupby(\"session\").count()[\"label\"]\n",
    "    )\n",
    "\n",
    "    joblib.dump(ranker, f\"models/{MODEL_TYPE}_xgbranker_{str(n_estimators)}.m\")"
   ]
  },
  {
   "cell_type": "code",
   "execution_count": null,
   "id": "60e2a3a4",
   "metadata": {},
   "outputs": [],
   "source": [
    "n_estimators_candidates = list(range(50,501,50))"
   ]
  },
  {
   "cell_type": "code",
   "execution_count": null,
   "id": "bfcd50d5",
   "metadata": {},
   "outputs": [],
   "source": []
  },
  {
   "cell_type": "code",
   "execution_count": null,
   "id": "773bbfda",
   "metadata": {},
   "outputs": [],
   "source": []
  },
  {
   "cell_type": "markdown",
   "id": "a8ee7835",
   "metadata": {},
   "source": [
    "# Valid"
   ]
  },
  {
   "cell_type": "code",
   "execution_count": 10,
   "id": "fb7b2ba2",
   "metadata": {},
   "outputs": [
    {
     "name": "stdout",
     "output_type": "stream",
     "text": [
      "['item_buy_ratio', 'item_user_count', 'interaction_type_core', 'user_last_carts_time', 'item_last_orders_ts', 'interaction_orders_clicks_ratio', 'user_behavior_count', 'user_item_count', 'interaction_clicks_orders_ratio', 'interaction_timing_decay_score', 'interaction_behavor_period', 'item_carts_user_count', 'item_first_carts_ts', 'item_orders_item_count', 'item_last_carts_ts', 'user_first_orders_time', 'user_first_carts_time', 'user_carts_count', 'interaction_carts_clicks_ratio', 'item_last_clicks_ts', 'recall_order', 'interaction_carts_count', 'user_user_count', 'interaction_clicks_count', 'item_clicks_user_count', 'user_clicks_count', 'item_first_clicks_ts', 'interaction_orders_carts_ratio', 'interaction_behavior_count', 'item_item_count', 'item_carts_item_count', 'user_last_clicks_time', 'interaction_clicks_carts_ratio', 'user_first_clicks_time', 'user_carts_ratio', 'interaction_orders_count', 'interaction_carts_orders_ratio', 'user_last_orders_time', 'user_orders_count', 'item_first_orders_ts', 'item_orders_user_count', 'user_clicks_ratio', 'user_orders_ratio', 'item_clicks_item_count']\n"
     ]
    },
    {
     "name": "stderr",
     "output_type": "stream",
     "text": [
      " 14%|███████████████████▏                                                                                                                  | 1/7 [00:47<04:45, 47.55s/it]"
     ]
    },
    {
     "name": "stdout",
     "output_type": "stream",
     "text": [
      "n_estimators=400 get Recall@20: 0.5217842030365002\n"
     ]
    },
    {
     "name": "stderr",
     "output_type": "stream",
     "text": [
      "\r",
      " 29%|██████████████████████████████████████▎                                                                                               | 2/7 [01:34<03:55, 47.12s/it]"
     ]
    },
    {
     "name": "stdout",
     "output_type": "stream",
     "text": [
      "n_estimators=350 get Recall@20: 0.5217590716464516\n"
     ]
    },
    {
     "name": "stderr",
     "output_type": "stream",
     "text": [
      "\r",
      " 43%|█████████████████████████████████████████████████████████▍                                                                            | 3/7 [02:20<03:06, 46.56s/it]"
     ]
    },
    {
     "name": "stdout",
     "output_type": "stream",
     "text": [
      "n_estimators=300 get Recall@20: 0.5217559302226955\n"
     ]
    },
    {
     "name": "stderr",
     "output_type": "stream",
     "text": [
      "\r",
      " 57%|████████████████████████████████████████████████████████████████████████████▌                                                         | 4/7 [03:04<02:17, 45.67s/it]"
     ]
    },
    {
     "name": "stdout",
     "output_type": "stream",
     "text": [
      "n_estimators=250 get Recall@20: 0.5216428389674769\n"
     ]
    },
    {
     "name": "stderr",
     "output_type": "stream",
     "text": [
      "\r",
      " 71%|███████████████████████████████████████████████████████████████████████████████████████████████▋                                      | 5/7 [03:47<01:29, 44.78s/it]"
     ]
    },
    {
     "name": "stdout",
     "output_type": "stream",
     "text": [
      "n_estimators=200 get Recall@20: 0.5215391719835264\n"
     ]
    },
    {
     "name": "stderr",
     "output_type": "stream",
     "text": [
      "\r",
      " 86%|██████████████████████████████████████████████████████████████████████████████████████████████████████████████████▊                   | 6/7 [04:29<00:43, 43.88s/it]"
     ]
    },
    {
     "name": "stdout",
     "output_type": "stream",
     "text": [
      "n_estimators=150 get Recall@20: 0.5214166564570395\n"
     ]
    },
    {
     "name": "stderr",
     "output_type": "stream",
     "text": [
      "100%|██████████████████████████████████████████████████████████████████████████████████████████████████████████████████████████████████████| 7/7 [05:09<00:00, 44.26s/it]"
     ]
    },
    {
     "name": "stdout",
     "output_type": "stream",
     "text": [
      "n_estimators=100 get Recall@20: 0.5211402111665049\n",
      "CPU times: user 14min 37s, sys: 37.7 s, total: 15min 15s\n",
      "Wall time: 5min 9s\n"
     ]
    },
    {
     "name": "stderr",
     "output_type": "stream",
     "text": [
      "\n"
     ]
    }
   ],
   "source": [
    "%%time\n",
    "\n",
    "# ranker = joblib.load(\"carts_xgbranker_1.m\")\n",
    "\n",
    "# FEATURE_COL = list(ranker.feature_names_in_)\n",
    "with open(f\"FEATURE_COL_{MODEL_TYPE}.txt\", \"r\") as f:\n",
    "    FEATURE_COL = f.read().splitlines()\n",
    "    \n",
    "print(FEATURE_COL)\n",
    "\n",
    "for n_estimators in tqdm(n_estimators_candidates[::-1]):\n",
    "    df_valid_candidates = pd.read_pickle(f\"df_valid_{MODEL_TYPE}_candidates.pkl\")\n",
    "    df_valid_label = pd.read_parquet(f\"df_valid_{MODEL_TYPE}_label.parquet\")\n",
    "    df_valid_label = df_valid_label[[\"session\", \"ground_truth\"]].groupby(\"session\").agg(list).reset_index()\n",
    "    ranker = joblib.load(f\"models/{MODEL_TYPE}_xgbranker_{n_estimators}.m\")\n",
    "    df_valid_candidates[\"score\"] = ranker.predict(df_valid_candidates[FEATURE_COL])\n",
    "    df_valid_candidates = df_valid_candidates.sort_values(by=['session', 'score'], ascending=False)[['session', 'aid']].reset_index(drop=True)\n",
    "    df_valid_candidates = df_valid_candidates.groupby('session').head(20).groupby('session').agg(list).reset_index(drop=False)\n",
    "    df_valid_candidates = df_valid_candidates.merge(df_valid_label, on=\"session\", how=\"left\")\n",
    "    df_valid_candidates[\"ground_truth\"] = df_valid_candidates[\"ground_truth\"].apply(lambda x: x if isinstance(x, list) else [])\n",
    "    df_valid_candidates[\"hits\"] = df_valid_candidates.apply(lambda df: len(set(df.ground_truth).intersection(set(df.aid))), axis=1)\n",
    "    df_valid_candidates['gt_count'] = df_valid_candidates.ground_truth.str.len().clip(0,20)\n",
    "    recall = df_valid_candidates[\"hits\"].sum() / df_valid_candidates['gt_count'].sum()\n",
    "\n",
    "    print(f\"n_estimators={n_estimators} get Recall@20: {recall}\")"
   ]
  },
  {
   "cell_type": "code",
   "execution_count": null,
   "id": "b24421b6",
   "metadata": {},
   "outputs": [],
   "source": []
  },
  {
   "cell_type": "code",
   "execution_count": null,
   "id": "7c7c39d0",
   "metadata": {},
   "outputs": [],
   "source": []
  },
  {
   "cell_type": "code",
   "execution_count": null,
   "id": "70b5fc43",
   "metadata": {},
   "outputs": [],
   "source": []
  },
  {
   "cell_type": "code",
   "execution_count": null,
   "id": "28213dc2",
   "metadata": {},
   "outputs": [],
   "source": []
  },
  {
   "cell_type": "markdown",
   "id": "d6bcd4f5",
   "metadata": {},
   "source": [
    "# Chunking kaggle test dataset to save memory(don't execute it)"
   ]
  },
  {
   "cell_type": "code",
   "execution_count": null,
   "id": "ba808a8f",
   "metadata": {},
   "outputs": [],
   "source": [
    "# df_kaggle_test = pd.read_parquet(os.path.join(DATA_PATH, \"input/otto-candidates/test_candidates/test_orders_candidates_top50.parquet\"))\n",
    "INFERENCE_CHUNK_NUM = 10\n",
    "df_kaggle_test = pd.read_parquet(os.path.join(DATA_PATH, f\"input/otto-candidates/test_candidates/test_{MODEL_TYPE}_candidates_top{TOPN}.parquet\"))\n",
    "\n",
    "inference_session_list = df_kaggle_test[\"session\"].unique().tolist()\n",
    "INFERENCE_CHUNK_SIZE = len(inference_session_list)//INFERENCE_CHUNK_NUM + 2\n",
    "n = 1\n",
    "for i in range(0, len(inference_session_list), INFERENCE_CHUNK_SIZE):\n",
    "    df_kaggle_test[df_kaggle_test[\"session\"].isin(inference_session_list[i:i+INFERENCE_CHUNK_SIZE])].to_parquet(\n",
    "        os.path.join(DATA_PATH, f\"input/otto-candidates/test_candidates/test_{MODEL_TYPE}_candidates_top{TOPN}_chunk_{n}.parquet\")\n",
    "    )\n",
    "    n += 1\n",
    "df_kaggle_test.head(10)"
   ]
  },
  {
   "cell_type": "markdown",
   "id": "07bde2b2",
   "metadata": {},
   "source": [
    "# Inference"
   ]
  },
  {
   "cell_type": "code",
   "execution_count": null,
   "id": "f1c38a24",
   "metadata": {},
   "outputs": [],
   "source": [
    "# INFERENCE_CHUNK_NUM = 10"
   ]
  },
  {
   "cell_type": "code",
   "execution_count": 11,
   "id": "65fb40f7",
   "metadata": {},
   "outputs": [
    {
     "name": "stdout",
     "output_type": "stream",
     "text": [
      "chunk 1 start ...\n"
     ]
    },
    {
     "name": "stderr",
     "output_type": "stream",
     "text": [
      "100%|██████████████████████████████████████████████████████████████████████████████████████████████████████████████████████████████████████| 5/5 [00:06<00:00,  1.20s/it]\n",
      "100%|██████████████████████████████████████████████████████████████████████████████████████████████████████████████████████████████████████| 7/7 [00:15<00:00,  2.25s/it]\n",
      "100%|██████████████████████████████████████████████████████████████████████████████████████████████████████████████████████████████████████| 5/5 [00:25<00:00,  5.19s/it]\n"
     ]
    },
    {
     "name": "stdout",
     "output_type": "stream",
     "text": [
      "chunk 2 start ...\n"
     ]
    },
    {
     "name": "stderr",
     "output_type": "stream",
     "text": [
      "100%|██████████████████████████████████████████████████████████████████████████████████████████████████████████████████████████████████████| 5/5 [00:05<00:00,  1.20s/it]\n",
      "100%|██████████████████████████████████████████████████████████████████████████████████████████████████████████████████████████████████████| 7/7 [00:15<00:00,  2.24s/it]\n",
      "100%|██████████████████████████████████████████████████████████████████████████████████████████████████████████████████████████████████████| 5/5 [00:26<00:00,  5.21s/it]\n"
     ]
    },
    {
     "name": "stdout",
     "output_type": "stream",
     "text": [
      "chunk 3 start ...\n"
     ]
    },
    {
     "name": "stderr",
     "output_type": "stream",
     "text": [
      "100%|██████████████████████████████████████████████████████████████████████████████████████████████████████████████████████████████████████| 5/5 [00:06<00:00,  1.33s/it]\n",
      "100%|██████████████████████████████████████████████████████████████████████████████████████████████████████████████████████████████████████| 7/7 [00:17<00:00,  2.51s/it]\n",
      "100%|██████████████████████████████████████████████████████████████████████████████████████████████████████████████████████████████████████| 5/5 [00:28<00:00,  5.66s/it]\n"
     ]
    },
    {
     "name": "stdout",
     "output_type": "stream",
     "text": [
      "chunk 4 start ...\n"
     ]
    },
    {
     "name": "stderr",
     "output_type": "stream",
     "text": [
      "100%|██████████████████████████████████████████████████████████████████████████████████████████████████████████████████████████████████████| 5/5 [00:06<00:00,  1.31s/it]\n",
      "100%|██████████████████████████████████████████████████████████████████████████████████████████████████████████████████████████████████████| 7/7 [00:17<00:00,  2.52s/it]\n",
      "100%|██████████████████████████████████████████████████████████████████████████████████████████████████████████████████████████████████████| 5/5 [00:28<00:00,  5.73s/it]\n"
     ]
    },
    {
     "name": "stdout",
     "output_type": "stream",
     "text": [
      "chunk 5 start ...\n"
     ]
    },
    {
     "name": "stderr",
     "output_type": "stream",
     "text": [
      "100%|██████████████████████████████████████████████████████████████████████████████████████████████████████████████████████████████████████| 5/5 [00:06<00:00,  1.31s/it]\n",
      "100%|██████████████████████████████████████████████████████████████████████████████████████████████████████████████████████████████████████| 7/7 [00:17<00:00,  2.52s/it]\n",
      "100%|██████████████████████████████████████████████████████████████████████████████████████████████████████████████████████████████████████| 5/5 [00:28<00:00,  5.69s/it]\n"
     ]
    },
    {
     "name": "stdout",
     "output_type": "stream",
     "text": [
      "chunk 6 start ...\n"
     ]
    },
    {
     "name": "stderr",
     "output_type": "stream",
     "text": [
      "100%|██████████████████████████████████████████████████████████████████████████████████████████████████████████████████████████████████████| 5/5 [00:06<00:00,  1.32s/it]\n",
      "100%|██████████████████████████████████████████████████████████████████████████████████████████████████████████████████████████████████████| 7/7 [00:17<00:00,  2.53s/it]\n",
      "100%|██████████████████████████████████████████████████████████████████████████████████████████████████████████████████████████████████████| 5/5 [00:28<00:00,  5.69s/it]\n"
     ]
    },
    {
     "name": "stdout",
     "output_type": "stream",
     "text": [
      "chunk 7 start ...\n"
     ]
    },
    {
     "name": "stderr",
     "output_type": "stream",
     "text": [
      "100%|██████████████████████████████████████████████████████████████████████████████████████████████████████████████████████████████████████| 5/5 [00:06<00:00,  1.29s/it]\n",
      "100%|██████████████████████████████████████████████████████████████████████████████████████████████████████████████████████████████████████| 7/7 [00:17<00:00,  2.46s/it]\n",
      "100%|██████████████████████████████████████████████████████████████████████████████████████████████████████████████████████████████████████| 5/5 [00:27<00:00,  5.56s/it]\n"
     ]
    },
    {
     "name": "stdout",
     "output_type": "stream",
     "text": [
      "chunk 8 start ...\n"
     ]
    },
    {
     "name": "stderr",
     "output_type": "stream",
     "text": [
      "100%|██████████████████████████████████████████████████████████████████████████████████████████████████████████████████████████████████████| 5/5 [00:06<00:00,  1.26s/it]\n",
      "100%|██████████████████████████████████████████████████████████████████████████████████████████████████████████████████████████████████████| 7/7 [00:16<00:00,  2.37s/it]\n",
      "100%|██████████████████████████████████████████████████████████████████████████████████████████████████████████████████████████████████████| 5/5 [00:26<00:00,  5.36s/it]\n"
     ]
    },
    {
     "name": "stdout",
     "output_type": "stream",
     "text": [
      "chunk 9 start ...\n"
     ]
    },
    {
     "name": "stderr",
     "output_type": "stream",
     "text": [
      "100%|██████████████████████████████████████████████████████████████████████████████████████████████████████████████████████████████████████| 5/5 [00:06<00:00,  1.29s/it]\n",
      "100%|██████████████████████████████████████████████████████████████████████████████████████████████████████████████████████████████████████| 7/7 [00:17<00:00,  2.45s/it]\n",
      "100%|██████████████████████████████████████████████████████████████████████████████████████████████████████████████████████████████████████| 5/5 [00:28<00:00,  5.65s/it]\n"
     ]
    },
    {
     "name": "stdout",
     "output_type": "stream",
     "text": [
      "chunk 10 start ...\n"
     ]
    },
    {
     "name": "stderr",
     "output_type": "stream",
     "text": [
      "100%|██████████████████████████████████████████████████████████████████████████████████████████████████████████████████████████████████████| 5/5 [00:06<00:00,  1.25s/it]\n",
      "100%|██████████████████████████████████████████████████████████████████████████████████████████████████████████████████████████████████████| 7/7 [00:16<00:00,  2.34s/it]\n",
      "100%|██████████████████████████████████████████████████████████████████████████████████████████████████████████████████████████████████████| 5/5 [00:26<00:00,  5.34s/it]\n"
     ]
    },
    {
     "name": "stdout",
     "output_type": "stream",
     "text": [
      "CPU times: user 11min 11s, sys: 2min 16s, total: 13min 27s\n",
      "Wall time: 12min 48s\n"
     ]
    }
   ],
   "source": [
    "%%time\n",
    "INFERENCE_CHUNK_NUM = 10\n",
    "df_kaggle_test = None\n",
    "for n in range(1, INFERENCE_CHUNK_NUM+1):\n",
    "    print(f\"chunk {n} start ...\")\n",
    "    df_kaggle_test_chunk = pd.read_parquet(\n",
    "        os.path.join(DATA_PATH, f\"input/otto-candidates/test_candidates/test_{MODEL_TYPE}_candidates_top{TOPN}_chunk_{n}.parquet\")\n",
    "    )\n",
    "    df_kaggle_test_chunk[\"recall_order\"] = df_kaggle_test_chunk.groupby('session').cumcount()\n",
    "    test_user_feature_path = sorted(glob.glob(\n",
    "        os.path.join(DATA_PATH, \"input/feature/test/user_feature_*.parquet\")\n",
    "    ))\n",
    "    for p in tqdm(test_user_feature_path):\n",
    "        df_kaggle_test_chunk = df_kaggle_test_chunk.merge(pd.read_parquet(p), on=\"session\", how=\"left\")\n",
    "\n",
    "\n",
    "    test_item_feature_path = sorted(glob.glob(\n",
    "        os.path.join(DATA_PATH, \"input/feature/test/item_feature_*.parquet\")\n",
    "    ))\n",
    "    for p in tqdm(test_item_feature_path):\n",
    "        df_kaggle_test_chunk = df_kaggle_test_chunk.merge(pd.read_parquet(p), on=\"aid\", how=\"left\")\n",
    "\n",
    "    test_interaction_feature_path = sorted(glob.glob(\n",
    "        os.path.join(DATA_PATH, \"input/feature/test/interaction_feature_*.parquet\")\n",
    "    ))\n",
    "    for p in tqdm(test_interaction_feature_path):\n",
    "        df_kaggle_test_chunk = df_kaggle_test_chunk.merge(pd.read_parquet(p), on=[\"session\", \"aid\"], how=\"left\")\n",
    "\n",
    "\n",
    "    df_kaggle_test_chunk = fillna_default(df_kaggle_test_chunk)\n",
    "    df_kaggle_test_chunk.to_parquet(f\"df_kaggle_test_{MODEL_TYPE}_chunk_{n}.parquet\")\n",
    "    \n",
    "# df_kaggle_test.to_parquet(\"df_kaggle_test.parquet\")\n",
    "# inference_session_list = df_kaggle_test[\"session\"].unique().tolist()\n",
    "# INFERENCE_CHUNK_NUM = 10\n",
    "# INFERENCE_CHUNK_SIZE = len(inference_session_list)//INFERENCE_CHUNK_NUM + 2\n",
    "# n = 1\n",
    "# for i in range(0, len(inference_session_list), INFERENCE_CHUNK_SIZE):\n",
    "#     df_kaggle_test[df_kaggle_test[\"session\"].isin(inference_session_list[i:INFERENCE_CHUNK_SIZE])].to_parquet(f\"df_kaggle_test_chunk_{n}.parquet\")\n",
    "#     n += 1\n",
    "# df_kaggle_test.head(10)"
   ]
  },
  {
   "cell_type": "markdown",
   "id": "d251cebe",
   "metadata": {},
   "source": [
    "# Please restart kernel to save memory"
   ]
  },
  {
   "cell_type": "code",
   "execution_count": 12,
   "id": "7776f6e6",
   "metadata": {},
   "outputs": [
    {
     "name": "stdout",
     "output_type": "stream",
     "text": [
      "['item_buy_ratio', 'item_user_count', 'interaction_type_core', 'user_last_carts_time', 'item_last_orders_ts', 'interaction_orders_clicks_ratio', 'user_behavior_count', 'user_item_count', 'interaction_clicks_orders_ratio', 'interaction_timing_decay_score', 'interaction_behavor_period', 'item_carts_user_count', 'item_first_carts_ts', 'item_orders_item_count', 'item_last_carts_ts', 'user_first_orders_time', 'user_first_carts_time', 'user_carts_count', 'interaction_carts_clicks_ratio', 'item_last_clicks_ts', 'recall_order', 'interaction_carts_count', 'user_user_count', 'interaction_clicks_count', 'item_clicks_user_count', 'user_clicks_count', 'item_first_clicks_ts', 'interaction_orders_carts_ratio', 'interaction_behavior_count', 'item_item_count', 'item_carts_item_count', 'user_last_clicks_time', 'interaction_clicks_carts_ratio', 'user_first_clicks_time', 'user_carts_ratio', 'interaction_orders_count', 'interaction_carts_orders_ratio', 'user_last_orders_time', 'user_orders_count', 'item_first_orders_ts', 'item_orders_user_count', 'user_clicks_ratio', 'user_orders_ratio', 'item_clicks_item_count']\n"
     ]
    },
    {
     "name": "stderr",
     "output_type": "stream",
     "text": [
      "100%|████████████████████████████████████████████████████████████████████████████████████████████████████████████████████████████████████| 10/10 [02:15<00:00, 13.56s/it]"
     ]
    },
    {
     "name": "stdout",
     "output_type": "stream",
     "text": [
      "CPU times: user 8min 43s, sys: 45.6 s, total: 9min 29s\n",
      "Wall time: 2min 15s\n"
     ]
    },
    {
     "name": "stderr",
     "output_type": "stream",
     "text": [
      "\n"
     ]
    },
    {
     "data": {
      "text/html": [
       "<div>\n",
       "<style scoped>\n",
       "    .dataframe tbody tr th:only-of-type {\n",
       "        vertical-align: middle;\n",
       "    }\n",
       "\n",
       "    .dataframe tbody tr th {\n",
       "        vertical-align: top;\n",
       "    }\n",
       "\n",
       "    .dataframe thead th {\n",
       "        text-align: right;\n",
       "    }\n",
       "</style>\n",
       "<table border=\"1\" class=\"dataframe\">\n",
       "  <thead>\n",
       "    <tr style=\"text-align: right;\">\n",
       "      <th></th>\n",
       "      <th>session</th>\n",
       "      <th>aid</th>\n",
       "    </tr>\n",
       "  </thead>\n",
       "  <tbody>\n",
       "    <tr>\n",
       "      <th>0</th>\n",
       "      <td>12899779</td>\n",
       "      <td>[59625, 1253524, 737445, 731692, 438191, 17907...</td>\n",
       "    </tr>\n",
       "    <tr>\n",
       "      <th>1</th>\n",
       "      <td>12899780</td>\n",
       "      <td>[1142000, 736515, 973453, 582732, 889686, 4871...</td>\n",
       "    </tr>\n",
       "    <tr>\n",
       "      <th>2</th>\n",
       "      <td>12899781</td>\n",
       "      <td>[199008, 918667, 194067, 57315, 141736, 811084...</td>\n",
       "    </tr>\n",
       "    <tr>\n",
       "      <th>3</th>\n",
       "      <td>12899782</td>\n",
       "      <td>[1007613, 595994, 1033148, 834354, 479970, 169...</td>\n",
       "    </tr>\n",
       "    <tr>\n",
       "      <th>4</th>\n",
       "      <td>12899783</td>\n",
       "      <td>[607638, 1817895, 1754419, 1216820, 1729553, 1...</td>\n",
       "    </tr>\n",
       "    <tr>\n",
       "      <th>...</th>\n",
       "      <td>...</td>\n",
       "      <td>...</td>\n",
       "    </tr>\n",
       "    <tr>\n",
       "      <th>167160</th>\n",
       "      <td>14571577</td>\n",
       "      <td>[1141710, 1276792, 1004292, 86916, 1666114, 36...</td>\n",
       "    </tr>\n",
       "    <tr>\n",
       "      <th>167161</th>\n",
       "      <td>14571578</td>\n",
       "      <td>[519105, 977826, 1811714, 822641, 815460, 1671...</td>\n",
       "    </tr>\n",
       "    <tr>\n",
       "      <th>167162</th>\n",
       "      <td>14571579</td>\n",
       "      <td>[739876, 1209992, 1750859, 51363, 870569, 1796...</td>\n",
       "    </tr>\n",
       "    <tr>\n",
       "      <th>167163</th>\n",
       "      <td>14571580</td>\n",
       "      <td>[202353, 1314576, 433425, 1231403, 871658, 679...</td>\n",
       "    </tr>\n",
       "    <tr>\n",
       "      <th>167164</th>\n",
       "      <td>14571581</td>\n",
       "      <td>[1100210, 1684953, 462056, 1401429, 1158237, 6...</td>\n",
       "    </tr>\n",
       "  </tbody>\n",
       "</table>\n",
       "<p>1671803 rows × 2 columns</p>\n",
       "</div>"
      ],
      "text/plain": [
       "         session                                                aid\n",
       "0       12899779  [59625, 1253524, 737445, 731692, 438191, 17907...\n",
       "1       12899780  [1142000, 736515, 973453, 582732, 889686, 4871...\n",
       "2       12899781  [199008, 918667, 194067, 57315, 141736, 811084...\n",
       "3       12899782  [1007613, 595994, 1033148, 834354, 479970, 169...\n",
       "4       12899783  [607638, 1817895, 1754419, 1216820, 1729553, 1...\n",
       "...          ...                                                ...\n",
       "167160  14571577  [1141710, 1276792, 1004292, 86916, 1666114, 36...\n",
       "167161  14571578  [519105, 977826, 1811714, 822641, 815460, 1671...\n",
       "167162  14571579  [739876, 1209992, 1750859, 51363, 870569, 1796...\n",
       "167163  14571580  [202353, 1314576, 433425, 1231403, 871658, 679...\n",
       "167164  14571581  [1100210, 1684953, 462056, 1401429, 1158237, 6...\n",
       "\n",
       "[1671803 rows x 2 columns]"
      ]
     },
     "execution_count": 12,
     "metadata": {},
     "output_type": "execute_result"
    }
   ],
   "source": [
    "%%time\n",
    "\n",
    "with open(f\"FEATURE_COL_{MODEL_TYPE}.txt\", \"r\") as f:\n",
    "    FEATURE_COL = f.read().splitlines()\n",
    "print(FEATURE_COL)\n",
    "\n",
    "best_n_estimators = \"200\"\n",
    "ranker = joblib.load(f\"models/{MODEL_TYPE}_xgbranker_{best_n_estimators}.m\")\n",
    "df_kaggle_test = None\n",
    "for n in tqdm(range(1, INFERENCE_CHUNK_NUM+1)):\n",
    "    df = pd.read_parquet(f\"df_kaggle_test_{MODEL_TYPE}_chunk_{n}.parquet\")\n",
    "    df[\"score\"] = ranker.predict(df[FEATURE_COL])\n",
    "    df = df.sort_values(by=['session', 'score'], ascending=False)[['session', 'aid']].reset_index(drop=True)\n",
    "    df = df.groupby('session').head(20).groupby('session').agg(list).reset_index(drop=False)\n",
    "    if df_kaggle_test is None:\n",
    "        df_kaggle_test = df\n",
    "    else:\n",
    "        df_kaggle_test = pd.concat([df_kaggle_test, df])\n",
    "\n",
    "# df_kaggle_test[\"score\"] = ranker.predict(df_kaggle_test[FEATURE_COL])\n",
    "# df_kaggle_test = df_kaggle_test.sort_values(by=['session', 'score'], ascending=False)[['session', 'aid']].reset_index(drop=True)\n",
    "# df_kaggle_test = df_kaggle_test.groupby('session').head(20).groupby('session').agg(list).reset_index(drop=False)\n",
    "df_kaggle_test"
   ]
  },
  {
   "cell_type": "code",
   "execution_count": 13,
   "id": "a87bc0ab",
   "metadata": {},
   "outputs": [
    {
     "name": "stdout",
     "output_type": "stream",
     "text": [
      "CPU times: user 28.3 s, sys: 1.07 s, total: 29.4 s\n",
      "Wall time: 29.4 s\n"
     ]
    },
    {
     "data": {
      "text/plain": [
       "(5015409, 2)"
      ]
     },
     "execution_count": 13,
     "metadata": {},
     "output_type": "execute_result"
    }
   ],
   "source": [
    "%%time\n",
    "\n",
    "df_kaggle_test[\"session_type\"] = df_kaggle_test[\"session\"].apply(lambda x: str(x)+f\"_{MODEL_TYPE}\")\n",
    "# df_test[\"session_type\"] = df_test[\"session\"].apply(lambda x: str(x)+\"_carts\")\n",
    "df_kaggle_test = df_kaggle_test.rename({\"aid\": \"labels\"}, axis=1)[[\"session_type\", \"labels\"]]\n",
    "df_kaggle_test[\"labels\"] = df_kaggle_test[\"labels\"].apply(lambda x: \" \".join([str(_) for _ in x]))\n",
    "df_submission = pd.read_csv(\"../data/output/submission_583.csv\")\n",
    "# df_submission = df_submission[~df_submission.session_type.str.contains(\"_carts$\")]\n",
    "df_submission = df_submission[~df_submission.session_type.str.contains(f\"_{MODEL_TYPE}$\")]\n",
    "df_submission = pd.concat([df_kaggle_test, df_submission])\n",
    "df_submission.to_csv(f\"../data/output/submission_optim_{MODEL_TYPE}.csv\", index=False)\n",
    "df_submission.shape"
   ]
  },
  {
   "cell_type": "code",
   "execution_count": null,
   "id": "81bb0446",
   "metadata": {},
   "outputs": [],
   "source": []
  },
  {
   "cell_type": "code",
   "execution_count": null,
   "id": "c44ea43c",
   "metadata": {},
   "outputs": [],
   "source": []
  },
  {
   "cell_type": "code",
   "execution_count": null,
   "id": "8a9e2d0c",
   "metadata": {},
   "outputs": [],
   "source": []
  },
  {
   "cell_type": "code",
   "execution_count": null,
   "id": "b3ec24c4",
   "metadata": {},
   "outputs": [],
   "source": []
  },
  {
   "cell_type": "code",
   "execution_count": null,
   "id": "3cb6d964",
   "metadata": {},
   "outputs": [],
   "source": []
  },
  {
   "cell_type": "code",
   "execution_count": null,
   "id": "1a35cc8f",
   "metadata": {},
   "outputs": [],
   "source": []
  },
  {
   "cell_type": "code",
   "execution_count": null,
   "id": "0cb49c2e",
   "metadata": {},
   "outputs": [],
   "source": []
  },
  {
   "cell_type": "code",
   "execution_count": null,
   "id": "77e6b7ad",
   "metadata": {},
   "outputs": [],
   "source": []
  },
  {
   "cell_type": "code",
   "execution_count": null,
   "id": "d7fbc8fd",
   "metadata": {},
   "outputs": [],
   "source": []
  },
  {
   "cell_type": "code",
   "execution_count": null,
   "id": "bf00c0a4",
   "metadata": {},
   "outputs": [],
   "source": []
  },
  {
   "cell_type": "code",
   "execution_count": null,
   "id": "73de2a5d",
   "metadata": {},
   "outputs": [],
   "source": []
  },
  {
   "cell_type": "code",
   "execution_count": null,
   "id": "2fb2e4e6",
   "metadata": {},
   "outputs": [],
   "source": []
  },
  {
   "cell_type": "code",
   "execution_count": null,
   "id": "e0f0ddda",
   "metadata": {},
   "outputs": [],
   "source": []
  },
  {
   "cell_type": "code",
   "execution_count": null,
   "id": "dc8e9091",
   "metadata": {},
   "outputs": [],
   "source": []
  },
  {
   "cell_type": "code",
   "execution_count": null,
   "id": "5e1e4f95",
   "metadata": {},
   "outputs": [],
   "source": []
  },
  {
   "cell_type": "code",
   "execution_count": null,
   "id": "e70d572e",
   "metadata": {},
   "outputs": [],
   "source": []
  },
  {
   "cell_type": "code",
   "execution_count": null,
   "id": "6a0d4f6a",
   "metadata": {},
   "outputs": [],
   "source": []
  },
  {
   "cell_type": "code",
   "execution_count": null,
   "id": "8d90472a",
   "metadata": {},
   "outputs": [],
   "source": []
  },
  {
   "cell_type": "code",
   "execution_count": null,
   "id": "dfcf90f6",
   "metadata": {},
   "outputs": [],
   "source": []
  },
  {
   "cell_type": "code",
   "execution_count": null,
   "id": "0ae16086",
   "metadata": {},
   "outputs": [],
   "source": []
  },
  {
   "cell_type": "code",
   "execution_count": null,
   "id": "c7f1a6ea",
   "metadata": {},
   "outputs": [],
   "source": []
  },
  {
   "cell_type": "code",
   "execution_count": null,
   "id": "dd46d467",
   "metadata": {},
   "outputs": [],
   "source": []
  },
  {
   "cell_type": "code",
   "execution_count": null,
   "id": "1b32cbce",
   "metadata": {},
   "outputs": [],
   "source": []
  },
  {
   "cell_type": "code",
   "execution_count": null,
   "id": "21a0df90",
   "metadata": {},
   "outputs": [],
   "source": []
  },
  {
   "cell_type": "code",
   "execution_count": null,
   "id": "449be061",
   "metadata": {},
   "outputs": [],
   "source": []
  },
  {
   "cell_type": "code",
   "execution_count": null,
   "id": "459129a8",
   "metadata": {},
   "outputs": [],
   "source": []
  },
  {
   "cell_type": "code",
   "execution_count": null,
   "id": "d29a4ce2",
   "metadata": {},
   "outputs": [],
   "source": []
  },
  {
   "cell_type": "code",
   "execution_count": null,
   "id": "9ca3e6df",
   "metadata": {},
   "outputs": [],
   "source": []
  },
  {
   "cell_type": "code",
   "execution_count": null,
   "id": "7e59fae4",
   "metadata": {},
   "outputs": [],
   "source": []
  }
 ],
 "metadata": {
  "kernelspec": {
   "display_name": "Python 3 (ipykernel)",
   "language": "python",
   "name": "python3"
  },
  "language_info": {
   "codemirror_mode": {
    "name": "ipython",
    "version": 3
   },
   "file_extension": ".py",
   "mimetype": "text/x-python",
   "name": "python",
   "nbconvert_exporter": "python",
   "pygments_lexer": "ipython3",
   "version": "3.8.15"
  }
 },
 "nbformat": 4,
 "nbformat_minor": 5
}
