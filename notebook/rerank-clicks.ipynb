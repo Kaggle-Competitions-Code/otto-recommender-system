{
 "cells": [
  {
   "cell_type": "code",
   "execution_count": 1,
   "id": "cb287cab",
   "metadata": {},
   "outputs": [],
   "source": [
    "import os\n",
    "import time\n",
    "import glob\n",
    "import gc\n",
    "import warnings\n",
    "from multiprocessing import Pool\n",
    "\n",
    "from tqdm import tqdm\n",
    "import pandas as pd\n",
    "import polars as pl\n",
    "import numpy as np\n",
    "import xgboost as xgb\n",
    "# import cudf\n",
    "from sklearn.model_selection import GroupKFold\n",
    "import joblib\n",
    "# from openfe import openfe, transform\n",
    "\n",
    "warnings.filterwarnings(\"ignore\")"
   ]
  },
  {
   "cell_type": "markdown",
   "id": "9491800c",
   "metadata": {},
   "source": [
    "# Param"
   ]
  },
  {
   "cell_type": "code",
   "execution_count": 2,
   "id": "6cd2d391",
   "metadata": {},
   "outputs": [],
   "source": [
    "DATA_PATH = \"/home/search3/lichunyu/otto-recommender-system/data\"\n",
    "TYPE_MAP = {'clicks':0, 'carts':1, 'orders':2}\n",
    "TOPN = 50\n",
    "DOWNSAMPLE_RATE = 20\n",
    "VALID_DATA_RATIO = 0.01\n",
    "MODEL_TYPE = \"clicks\"\n",
    "\n",
    "def read_parquet(f):\n",
    "    df = pd.read_parquet(f)\n",
    "    df.ts = (df.ts/1000).astype('int32')\n",
    "    df['type'] = df['type'].map(TYPE_MAP).astype('int8')\n",
    "    return df"
   ]
  },
  {
   "cell_type": "markdown",
   "id": "fa9f9dd5",
   "metadata": {},
   "source": [
    "# Fill NA"
   ]
  },
  {
   "cell_type": "code",
   "execution_count": 3,
   "id": "d46afa21",
   "metadata": {},
   "outputs": [],
   "source": [
    "def fillna_default(df):\n",
    "    df = df.fillna({\n",
    "        \"user_first_clicks_time\": 8.0,\n",
    "        \"user_last_clicks_time\": 8.0,\n",
    "        \"user_first_orders_time\": 8.0,\n",
    "        \"user_last_orders_time\": 8.0,\n",
    "        \"user_first_carts_time\": 8.0,\n",
    "        \"user_last_carts_time\": 8.0,\n",
    "        \"interaction_type_core\": 0,\n",
    "        \"item_last_clicks_ts\": 30,\n",
    "        \"item_first_clicks_ts\": 30,\n",
    "        \"item_last_carts_ts\": 30,\n",
    "        \"item_first_carts_ts\": 30,\n",
    "        \"item_last_orders_ts\": 30,\n",
    "        \"item_first_orders_ts\": 30,\n",
    "        \"interaction_clicks_carts_ratio\": 0,\n",
    "        \"interaction_carts_clicks_ratio\": 0,\n",
    "        \"interaction_clicks_orders_ratio\": 0,\n",
    "        \"interaction_orders_clicks_ratio\": 0,\n",
    "        \"interaction_orders_carts_ratio\": 0,\n",
    "        \"interaction_carts_orders_ratio\": 0,\n",
    "        \"interaction_timing_decay_score\": 0,\n",
    "        \"interaction_orders_count\": 0,\n",
    "        \"interaction_clicks_count\": 0,\n",
    "        \"interaction_carts_count\": 0,\n",
    "        \"interaction_behavior_count\": 0,\n",
    "        \"interaction_behavor_period\": 0\n",
    "    }, axis=0)\n",
    "    return df"
   ]
  },
  {
   "cell_type": "markdown",
   "id": "53bd7152",
   "metadata": {},
   "source": [
    "## Model Train"
   ]
  },
  {
   "cell_type": "code",
   "execution_count": 4,
   "id": "668ec930",
   "metadata": {},
   "outputs": [
    {
     "name": "stdout",
     "output_type": "stream",
     "text": [
      "CPU times: user 50.4 s, sys: 8.64 s, total: 59 s\n",
      "Wall time: 58.4 s\n"
     ]
    },
    {
     "data": {
      "text/plain": [
       "(90062550, 4)"
      ]
     },
     "execution_count": 4,
     "metadata": {},
     "output_type": "execute_result"
    }
   ],
   "source": [
    "%%time\n",
    "\n",
    "# valid_a_candidates_path = sorted(glob.glob(\n",
    "#     os.path.join(DATA_PATH, \"input/otto-candidates/valid_a_candidates/valid_a_candidates_buys_top50.parquet \")\n",
    "# ))\n",
    "\n",
    "# df_train_candidates = pd.concat([pd.read_parquet(i) for i in valid_a_candidates_path])\n",
    "\n",
    "# valid_a_candidates_path = os.path.join(DATA_PATH, \"input/otto-candidates/valid_a_candidates/valid_a_orders_candidates_top50.parquet\")\n",
    "valid_a_candidates_path = os.path.join(DATA_PATH, f\"input/otto-candidates/valid_a_candidates/valid_a_{MODEL_TYPE}_candidates_top{TOPN}.parquet\")\n",
    "df_train_candidates = pd.read_parquet(valid_a_candidates_path)\n",
    "\n",
    "\n",
    "df_train_label = pd.read_parquet(\n",
    "    os.path.join(DATA_PATH, \"input/otto-validation/test_labels.parquet\")\n",
    ")\n",
    "# df_train_label = df_train_label[(df_train_label[\"type\"]==\"orders\")|(df_train_label[\"type\"]==\"carts\")][[\"session\", \"ground_truth\"]] # TODO test it\n",
    "df_train_label = df_train_label[(df_train_label[\"type\"]==MODEL_TYPE)][[\"session\", \"ground_truth\"]]\n",
    "df_train_label = df_train_label.explode(\"ground_truth\").reset_index(drop=True)\n",
    "df_train_label = df_train_label.rename({\"ground_truth\": \"aid\"}, axis=1)\n",
    "df_train_label[\"label\"] = 1\n",
    "\n",
    "# df_train_candidates = df_train_candidates.merge(df_train_label, on=[\"session\", \"aid\"], how=\"outer\").fillna({\"label\": 0})\n",
    "\n",
    "df_train_candidates = df_train_candidates.merge(df_train_label, on=[\"session\", \"aid\"], how=\"left\").fillna({\"label\": 0})\n",
    "df_train_candidates[\"label\"] = df_train_candidates[\"label\"].astype(\"int\")\n",
    "df_train_candidates[\"recall_order\"] = df_train_candidates.groupby('session').cumcount()\n",
    "df_train_candidates.shape"
   ]
  },
  {
   "cell_type": "markdown",
   "id": "9331182c",
   "metadata": {},
   "source": [
    "## Downsample"
   ]
  },
  {
   "cell_type": "code",
   "execution_count": 5,
   "id": "7c433a8c",
   "metadata": {},
   "outputs": [
    {
     "name": "stdout",
     "output_type": "stream",
     "text": [
      "origin all data size: 90062550\n",
      "current negative size: 88216587, postive size: 950963, rate: 92\n",
      "df_train_candidates size: 19970223, df_valid_candidates size: 895000\n",
      "CPU times: user 54.3 s, sys: 2.79 s, total: 57.1 s\n",
      "Wall time: 57.1 s\n"
     ]
    }
   ],
   "source": [
    "%%time\n",
    "\n",
    "def downsample(df, n=-1):\n",
    "    if n == -1:\n",
    "        n = DOWNSAMPLE_RATE\n",
    "    df_negative = df[df[\"label\"]==0]\n",
    "    df_postive = df[df[\"label\"]==1]\n",
    "    r = len(df_negative)//len(df_postive)\n",
    "    print(f\"current negative size: {len(df_negative)}, postive size: {len(df_postive)}, rate: {r}\")\n",
    "    if r > n:\n",
    "        gloden_negative_size = n * len(df_postive)\n",
    "        df_negative = df_negative.sample(gloden_negative_size)\n",
    "        df = pd.concat([df_postive, df_negative])\n",
    "    df[\"_noise\"] = np.random.randn(len(df))\n",
    "    df = df.sort_values([\"session\", \"_noise\"])\n",
    "    df = df.drop(\"_noise\", axis=1).reset_index(drop=True)\n",
    "    return df\n",
    "\n",
    "\n",
    "def train_valid_split(df):\n",
    "    print(f\"origin all data size: {len(df)}\")\n",
    "    valid_session = np.random.choice(df_train_candidates.session.unique(), int(len(df_train_candidates.session.unique())*VALID_DATA_RATIO))\n",
    "    df_train = df[~df[\"session\"].isin(valid_session)]\n",
    "    df_valid = df[df[\"session\"].isin(valid_session)]\n",
    "    df_train = downsample(df_train)\n",
    "    return df_train, df_valid\n",
    "\n",
    "\n",
    "df_train_candidates, df_valid_candidates = train_valid_split(df_train_candidates)\n",
    "df_train_candidates[\"label\"] = df_train_candidates[\"label\"].astype(\"int\")\n",
    "df_valid_candidates[\"label\"] = df_valid_candidates[\"label\"].astype(\"int\")\n",
    "print(f\"df_train_candidates size: {len(df_train_candidates)}, df_valid_candidates size: {len(df_valid_candidates)}\")"
   ]
  },
  {
   "cell_type": "markdown",
   "id": "cf1f73ee",
   "metadata": {},
   "source": [
    "## Merge Feature"
   ]
  },
  {
   "cell_type": "code",
   "execution_count": 6,
   "id": "4650e435",
   "metadata": {},
   "outputs": [
    {
     "name": "stderr",
     "output_type": "stream",
     "text": [
      "100%|██████████████████████████████████████████████████████████████████████████████████████████████████████████████████████████████████████| 7/7 [01:25<00:00, 12.23s/it]\n",
      "100%|██████████████████████████████████████████████████████████████████████████████████████████████████████████████████████████████████████| 5/5 [00:31<00:00,  6.25s/it]\n",
      "100%|██████████████████████████████████████████████████████████████████████████████████████████████████████████████████████████████████████| 5/5 [02:18<00:00, 27.72s/it]\n"
     ]
    },
    {
     "name": "stdout",
     "output_type": "stream",
     "text": [
      "df_train_candidates size: 19970223, df_valid_candidates size: 895000\n",
      "CPU times: user 4min 23s, sys: 42.9 s, total: 5min 6s\n",
      "Wall time: 5min 1s\n"
     ]
    },
    {
     "data": {
      "text/html": [
       "<div>\n",
       "<style scoped>\n",
       "    .dataframe tbody tr th:only-of-type {\n",
       "        vertical-align: middle;\n",
       "    }\n",
       "\n",
       "    .dataframe tbody tr th {\n",
       "        vertical-align: top;\n",
       "    }\n",
       "\n",
       "    .dataframe thead th {\n",
       "        text-align: right;\n",
       "    }\n",
       "</style>\n",
       "<table border=\"1\" class=\"dataframe\">\n",
       "  <thead>\n",
       "    <tr style=\"text-align: right;\">\n",
       "      <th></th>\n",
       "      <th>session</th>\n",
       "      <th>aid</th>\n",
       "      <th>label</th>\n",
       "      <th>recall_order</th>\n",
       "      <th>item_user_count</th>\n",
       "      <th>item_item_count</th>\n",
       "      <th>item_buy_ratio</th>\n",
       "      <th>item_clicks_user_count</th>\n",
       "      <th>item_clicks_item_count</th>\n",
       "      <th>item_carts_user_count</th>\n",
       "      <th>...</th>\n",
       "      <th>interaction_clicks_orders_ratio</th>\n",
       "      <th>interaction_orders_clicks_ratio</th>\n",
       "      <th>interaction_orders_carts_ratio</th>\n",
       "      <th>interaction_carts_orders_ratio</th>\n",
       "      <th>interaction_timing_decay_score</th>\n",
       "      <th>interaction_orders_count</th>\n",
       "      <th>interaction_clicks_count</th>\n",
       "      <th>interaction_carts_count</th>\n",
       "      <th>interaction_behavior_count</th>\n",
       "      <th>interaction_behavor_period</th>\n",
       "    </tr>\n",
       "  </thead>\n",
       "  <tbody>\n",
       "    <tr>\n",
       "      <th>0</th>\n",
       "      <td>11098528</td>\n",
       "      <td>801774</td>\n",
       "      <td>0</td>\n",
       "      <td>48</td>\n",
       "      <td>31553</td>\n",
       "      <td>49410</td>\n",
       "      <td>0.182473</td>\n",
       "      <td>31223.0</td>\n",
       "      <td>42502.0</td>\n",
       "      <td>4069.0</td>\n",
       "      <td>...</td>\n",
       "      <td>0.0</td>\n",
       "      <td>0.0</td>\n",
       "      <td>0.0</td>\n",
       "      <td>0.0</td>\n",
       "      <td>0.0</td>\n",
       "      <td>0.0</td>\n",
       "      <td>0.0</td>\n",
       "      <td>0.0</td>\n",
       "      <td>0.0</td>\n",
       "      <td>0.0</td>\n",
       "    </tr>\n",
       "    <tr>\n",
       "      <th>1</th>\n",
       "      <td>11098528</td>\n",
       "      <td>634452</td>\n",
       "      <td>0</td>\n",
       "      <td>32</td>\n",
       "      <td>13361</td>\n",
       "      <td>30211</td>\n",
       "      <td>0.175466</td>\n",
       "      <td>13341.0</td>\n",
       "      <td>25890.0</td>\n",
       "      <td>2469.0</td>\n",
       "      <td>...</td>\n",
       "      <td>0.0</td>\n",
       "      <td>0.0</td>\n",
       "      <td>0.0</td>\n",
       "      <td>0.0</td>\n",
       "      <td>0.0</td>\n",
       "      <td>0.0</td>\n",
       "      <td>0.0</td>\n",
       "      <td>0.0</td>\n",
       "      <td>0.0</td>\n",
       "      <td>0.0</td>\n",
       "    </tr>\n",
       "    <tr>\n",
       "      <th>2</th>\n",
       "      <td>11098528</td>\n",
       "      <td>307904</td>\n",
       "      <td>0</td>\n",
       "      <td>9</td>\n",
       "      <td>5352</td>\n",
       "      <td>8581</td>\n",
       "      <td>0.121897</td>\n",
       "      <td>5322.0</td>\n",
       "      <td>7774.0</td>\n",
       "      <td>488.0</td>\n",
       "      <td>...</td>\n",
       "      <td>0.0</td>\n",
       "      <td>0.0</td>\n",
       "      <td>0.0</td>\n",
       "      <td>0.0</td>\n",
       "      <td>0.0</td>\n",
       "      <td>0.0</td>\n",
       "      <td>0.0</td>\n",
       "      <td>0.0</td>\n",
       "      <td>0.0</td>\n",
       "      <td>0.0</td>\n",
       "    </tr>\n",
       "    <tr>\n",
       "      <th>3</th>\n",
       "      <td>11098528</td>\n",
       "      <td>1633746</td>\n",
       "      <td>0</td>\n",
       "      <td>12</td>\n",
       "      <td>14840</td>\n",
       "      <td>24869</td>\n",
       "      <td>0.183079</td>\n",
       "      <td>14748.0</td>\n",
       "      <td>21380.0</td>\n",
       "      <td>2077.0</td>\n",
       "      <td>...</td>\n",
       "      <td>0.0</td>\n",
       "      <td>0.0</td>\n",
       "      <td>0.0</td>\n",
       "      <td>0.0</td>\n",
       "      <td>0.0</td>\n",
       "      <td>0.0</td>\n",
       "      <td>0.0</td>\n",
       "      <td>0.0</td>\n",
       "      <td>0.0</td>\n",
       "      <td>0.0</td>\n",
       "    </tr>\n",
       "    <tr>\n",
       "      <th>4</th>\n",
       "      <td>11098528</td>\n",
       "      <td>1531805</td>\n",
       "      <td>0</td>\n",
       "      <td>29</td>\n",
       "      <td>13832</td>\n",
       "      <td>30129</td>\n",
       "      <td>0.125560</td>\n",
       "      <td>13809.0</td>\n",
       "      <td>27055.0</td>\n",
       "      <td>1782.0</td>\n",
       "      <td>...</td>\n",
       "      <td>0.0</td>\n",
       "      <td>0.0</td>\n",
       "      <td>0.0</td>\n",
       "      <td>0.0</td>\n",
       "      <td>0.0</td>\n",
       "      <td>0.0</td>\n",
       "      <td>0.0</td>\n",
       "      <td>0.0</td>\n",
       "      <td>0.0</td>\n",
       "      <td>0.0</td>\n",
       "    </tr>\n",
       "  </tbody>\n",
       "</table>\n",
       "<p>5 rows × 48 columns</p>\n",
       "</div>"
      ],
      "text/plain": [
       "    session      aid  label  recall_order  item_user_count  item_item_count  \\\n",
       "0  11098528   801774      0            48            31553            49410   \n",
       "1  11098528   634452      0            32            13361            30211   \n",
       "2  11098528   307904      0             9             5352             8581   \n",
       "3  11098528  1633746      0            12            14840            24869   \n",
       "4  11098528  1531805      0            29            13832            30129   \n",
       "\n",
       "   item_buy_ratio  item_clicks_user_count  item_clicks_item_count  \\\n",
       "0        0.182473                 31223.0                 42502.0   \n",
       "1        0.175466                 13341.0                 25890.0   \n",
       "2        0.121897                  5322.0                  7774.0   \n",
       "3        0.183079                 14748.0                 21380.0   \n",
       "4        0.125560                 13809.0                 27055.0   \n",
       "\n",
       "   item_carts_user_count  ...  interaction_clicks_orders_ratio  \\\n",
       "0                 4069.0  ...                              0.0   \n",
       "1                 2469.0  ...                              0.0   \n",
       "2                  488.0  ...                              0.0   \n",
       "3                 2077.0  ...                              0.0   \n",
       "4                 1782.0  ...                              0.0   \n",
       "\n",
       "   interaction_orders_clicks_ratio  interaction_orders_carts_ratio  \\\n",
       "0                              0.0                             0.0   \n",
       "1                              0.0                             0.0   \n",
       "2                              0.0                             0.0   \n",
       "3                              0.0                             0.0   \n",
       "4                              0.0                             0.0   \n",
       "\n",
       "   interaction_carts_orders_ratio  interaction_timing_decay_score  \\\n",
       "0                             0.0                             0.0   \n",
       "1                             0.0                             0.0   \n",
       "2                             0.0                             0.0   \n",
       "3                             0.0                             0.0   \n",
       "4                             0.0                             0.0   \n",
       "\n",
       "   interaction_orders_count  interaction_clicks_count  \\\n",
       "0                       0.0                       0.0   \n",
       "1                       0.0                       0.0   \n",
       "2                       0.0                       0.0   \n",
       "3                       0.0                       0.0   \n",
       "4                       0.0                       0.0   \n",
       "\n",
       "   interaction_carts_count  interaction_behavior_count  \\\n",
       "0                      0.0                         0.0   \n",
       "1                      0.0                         0.0   \n",
       "2                      0.0                         0.0   \n",
       "3                      0.0                         0.0   \n",
       "4                      0.0                         0.0   \n",
       "\n",
       "   interaction_behavor_period  \n",
       "0                         0.0  \n",
       "1                         0.0  \n",
       "2                         0.0  \n",
       "3                         0.0  \n",
       "4                         0.0  \n",
       "\n",
       "[5 rows x 48 columns]"
      ]
     },
     "execution_count": 6,
     "metadata": {},
     "output_type": "execute_result"
    }
   ],
   "source": [
    "%%time\n",
    "\n",
    "train_item_feature_path = sorted(glob.glob(\n",
    "    os.path.join(DATA_PATH, \"input/feature/train/item_feature_*.parquet\")\n",
    "))\n",
    "for p in tqdm(train_item_feature_path):\n",
    "    df_train_candidates = df_train_candidates.merge(pd.read_parquet(p), on=\"aid\", how=\"left\")\n",
    "    df_valid_candidates = df_valid_candidates.merge(pd.read_parquet(p), on=\"aid\", how=\"left\")\n",
    "\n",
    "\n",
    "train_user_feature_path = sorted(glob.glob(\n",
    "    os.path.join(DATA_PATH, \"input/feature/train/user_feature_*.parquet\")\n",
    "))\n",
    "for p in tqdm(train_user_feature_path):\n",
    "    df_train_candidates = df_train_candidates.merge(pd.read_parquet(p), on=\"session\", how=\"left\")\n",
    "    df_valid_candidates = df_valid_candidates.merge(pd.read_parquet(p), on=\"session\", how=\"left\")\n",
    "\n",
    "\n",
    "train_interaction_feature_path = sorted(glob.glob(\n",
    "    os.path.join(DATA_PATH, \"input/feature/train/interaction_feature_*.parquet\")\n",
    "))\n",
    "for p in tqdm(train_interaction_feature_path):\n",
    "    df_train_candidates = df_train_candidates.merge(pd.read_parquet(p), on=[\"session\", \"aid\"], how=\"left\")\n",
    "    df_valid_candidates = df_valid_candidates.merge(pd.read_parquet(p), on=[\"session\", \"aid\"], how=\"left\")\n",
    "\n",
    "\n",
    "df_train_candidates = fillna_default(df_train_candidates)\n",
    "df_valid_candidates = fillna_default(df_valid_candidates)\n",
    "\n",
    "print(f\"df_train_candidates size: {len(df_train_candidates)}, df_valid_candidates size: {len(df_valid_candidates)}\")\n",
    "df_train_candidates.head(5)"
   ]
  },
  {
   "cell_type": "code",
   "execution_count": null,
   "id": "a161a7b1",
   "metadata": {},
   "outputs": [],
   "source": []
  },
  {
   "cell_type": "code",
   "execution_count": null,
   "id": "d4e9cf0c",
   "metadata": {},
   "outputs": [],
   "source": []
  },
  {
   "cell_type": "code",
   "execution_count": null,
   "id": "203df3c2",
   "metadata": {},
   "outputs": [],
   "source": []
  },
  {
   "cell_type": "markdown",
   "id": "6426d06c",
   "metadata": {},
   "source": [
    "## Storage"
   ]
  },
  {
   "cell_type": "code",
   "execution_count": 7,
   "id": "cbcd94ad",
   "metadata": {},
   "outputs": [],
   "source": [
    "df_train_candidates.to_pickle(f\"df_train_{MODEL_TYPE}_candidates.pkl\")\n",
    "df_valid_candidates.to_pickle(f\"df_valid_{MODEL_TYPE}_candidates.pkl\")\n",
    "df_train_label[\n",
    "    df_train_label[\"session\"].isin(df_valid_candidates[\"session\"].unique())\n",
    "].reset_index(drop=True).rename({\"aid\": \"ground_truth\"}, axis=1).to_parquet(f\"df_valid_{MODEL_TYPE}_label.parquet\")"
   ]
  },
  {
   "cell_type": "markdown",
   "id": "ddebfec5",
   "metadata": {},
   "source": [
    "## Feature Name"
   ]
  },
  {
   "cell_type": "code",
   "execution_count": 8,
   "id": "07ecd0d7",
   "metadata": {},
   "outputs": [
    {
     "name": "stdout",
     "output_type": "stream",
     "text": [
      "Count of Feature is: 44\n",
      "\n"
     ]
    },
    {
     "data": {
      "text/plain": [
       "['item_first_orders_ts',\n",
       " 'item_first_carts_ts',\n",
       " 'user_last_orders_time',\n",
       " 'user_carts_ratio',\n",
       " 'interaction_behavior_count',\n",
       " 'item_orders_item_count',\n",
       " 'user_last_carts_time',\n",
       " 'item_clicks_item_count',\n",
       " 'user_first_orders_time',\n",
       " 'item_first_clicks_ts',\n",
       " 'interaction_type_core',\n",
       " 'item_item_count',\n",
       " 'user_clicks_count',\n",
       " 'interaction_clicks_carts_ratio',\n",
       " 'user_user_count',\n",
       " 'interaction_clicks_orders_ratio',\n",
       " 'user_orders_ratio',\n",
       " 'user_behavior_count',\n",
       " 'item_orders_user_count',\n",
       " 'interaction_clicks_count',\n",
       " 'item_last_clicks_ts',\n",
       " 'interaction_orders_count',\n",
       " 'user_carts_count',\n",
       " 'user_clicks_ratio',\n",
       " 'user_orders_count',\n",
       " 'user_last_clicks_time',\n",
       " 'interaction_timing_decay_score',\n",
       " 'recall_order',\n",
       " 'interaction_orders_clicks_ratio',\n",
       " 'user_first_carts_time',\n",
       " 'item_carts_user_count',\n",
       " 'interaction_carts_orders_ratio',\n",
       " 'item_carts_item_count',\n",
       " 'user_item_count',\n",
       " 'interaction_carts_count',\n",
       " 'item_last_orders_ts',\n",
       " 'item_buy_ratio',\n",
       " 'item_user_count',\n",
       " 'interaction_orders_carts_ratio',\n",
       " 'interaction_behavor_period',\n",
       " 'item_last_carts_ts',\n",
       " 'interaction_carts_clicks_ratio',\n",
       " 'item_clicks_user_count',\n",
       " 'user_first_clicks_time']"
      ]
     },
     "execution_count": 8,
     "metadata": {},
     "output_type": "execute_result"
    }
   ],
   "source": [
    "FEATURE_COL = list(set(df_train_candidates.columns.tolist()) - set([\"session\", \"aid\", \"ts\", \"label\", \"user_buy_ratio\"]))\n",
    "with open(f\"FEATURE_COL_{MODEL_TYPE}.txt\", \"w\") as f:\n",
    "    f.write(\"\\n\".join(FEATURE_COL))\n",
    "\n",
    "print(f\"Count of Feature is: {len(FEATURE_COL)}\")\n",
    "print(\"\")\n",
    "FEATURE_COL"
   ]
  },
  {
   "cell_type": "code",
   "execution_count": null,
   "id": "5e99efcb",
   "metadata": {},
   "outputs": [],
   "source": []
  },
  {
   "cell_type": "code",
   "execution_count": null,
   "id": "3b21b99a",
   "metadata": {},
   "outputs": [],
   "source": []
  },
  {
   "cell_type": "markdown",
   "id": "ced552b4",
   "metadata": {},
   "source": [
    "## Training"
   ]
  },
  {
   "cell_type": "code",
   "execution_count": 9,
   "id": "1aab6e9b",
   "metadata": {},
   "outputs": [
    {
     "name": "stderr",
     "output_type": "stream",
     "text": [
      "100%|█████████████████████████████████████████████████████████████████████████████████████████████████████████████████████████████████████| 7/7 [31:41<00:00, 271.63s/it]"
     ]
    },
    {
     "name": "stdout",
     "output_type": "stream",
     "text": [
      "CPU times: user 6h 41min 43s, sys: 5min 8s, total: 6h 46min 52s\n",
      "Wall time: 31min 41s\n"
     ]
    },
    {
     "name": "stderr",
     "output_type": "stream",
     "text": [
      "\n"
     ]
    }
   ],
   "source": [
    "%%time\n",
    "n_estimators_candidates = list(range(100,401,50))\n",
    "\n",
    "for n_estimators in tqdm(n_estimators_candidates):\n",
    "    ranker = xgb.XGBRanker(\n",
    "#         tree_method='gpu_hist',\n",
    "        tree_method=\"hist\",\n",
    "        booster='gbtree',\n",
    "        objective='rank:pairwise',\n",
    "        random_state=42, \n",
    "        learning_rate=0.1,\n",
    "        colsample_bytree=0.9,  # 0.9\n",
    "        eta=0.05, \n",
    "        max_depth=6, \n",
    "        n_estimators=n_estimators,\n",
    "        subsample=0.8,\n",
    "        n_jobs=15\n",
    "    )\n",
    "\n",
    "    feature_cols = FEATURE_COL\n",
    "    label_col = 'label'\n",
    "\n",
    "    ranker.fit(\n",
    "        X=df_train_candidates[feature_cols],\n",
    "        y=df_train_candidates[label_col],\n",
    "        group=df_train_candidates.groupby(\"session\").count()[\"label\"]\n",
    "    )\n",
    "\n",
    "    joblib.dump(ranker, f\"models/{MODEL_TYPE}_xgbranker_{str(n_estimators)}.m\")"
   ]
  },
  {
   "cell_type": "code",
   "execution_count": null,
   "id": "60e2a3a4",
   "metadata": {},
   "outputs": [],
   "source": [
    "n_estimators_candidates = list(range(50,501,50))"
   ]
  },
  {
   "cell_type": "code",
   "execution_count": null,
   "id": "bfcd50d5",
   "metadata": {},
   "outputs": [],
   "source": []
  },
  {
   "cell_type": "code",
   "execution_count": null,
   "id": "773bbfda",
   "metadata": {},
   "outputs": [],
   "source": []
  },
  {
   "cell_type": "markdown",
   "id": "a8ee7835",
   "metadata": {},
   "source": [
    "# Valid"
   ]
  },
  {
   "cell_type": "code",
   "execution_count": 10,
   "id": "fb7b2ba2",
   "metadata": {},
   "outputs": [
    {
     "name": "stdout",
     "output_type": "stream",
     "text": [
      "['item_first_orders_ts', 'item_first_carts_ts', 'user_last_orders_time', 'user_carts_ratio', 'interaction_behavior_count', 'item_orders_item_count', 'user_last_carts_time', 'item_clicks_item_count', 'user_first_orders_time', 'item_first_clicks_ts', 'interaction_type_core', 'item_item_count', 'user_clicks_count', 'interaction_clicks_carts_ratio', 'user_user_count', 'interaction_clicks_orders_ratio', 'user_orders_ratio', 'user_behavior_count', 'item_orders_user_count', 'interaction_clicks_count', 'item_last_clicks_ts', 'interaction_orders_count', 'user_carts_count', 'user_clicks_ratio', 'user_orders_count', 'user_last_clicks_time', 'interaction_timing_decay_score', 'recall_order', 'interaction_orders_clicks_ratio', 'user_first_carts_time', 'item_carts_user_count', 'interaction_carts_orders_ratio', 'item_carts_item_count', 'user_item_count', 'interaction_carts_count', 'item_last_orders_ts', 'item_buy_ratio', 'item_user_count', 'interaction_orders_carts_ratio', 'interaction_behavor_period', 'item_last_carts_ts', 'interaction_carts_clicks_ratio', 'item_clicks_user_count', 'user_first_clicks_time']\n"
     ]
    },
    {
     "name": "stderr",
     "output_type": "stream",
     "text": [
      " 14%|███████████████████▏                                                                                                                  | 1/7 [00:04<00:25,  4.20s/it]"
     ]
    },
    {
     "name": "stdout",
     "output_type": "stream",
     "text": [
      "n_estimators=400 get Recall@20: 0.513791919423143\n"
     ]
    },
    {
     "name": "stderr",
     "output_type": "stream",
     "text": [
      "\r",
      " 29%|██████████████████████████████████████▎                                                                                               | 2/7 [00:06<00:15,  3.14s/it]"
     ]
    },
    {
     "name": "stdout",
     "output_type": "stream",
     "text": [
      "n_estimators=350 get Recall@20: 0.5136774636602953\n"
     ]
    },
    {
     "name": "stderr",
     "output_type": "stream",
     "text": [
      "\r",
      " 43%|█████████████████████████████████████████████████████████▍                                                                            | 3/7 [00:08<00:11,  2.76s/it]"
     ]
    },
    {
     "name": "stdout",
     "output_type": "stream",
     "text": [
      "n_estimators=300 get Recall@20: 0.5140208309488383\n"
     ]
    },
    {
     "name": "stderr",
     "output_type": "stream",
     "text": [
      "\r",
      " 57%|████████████████████████████████████████████████████████████████████████████▌                                                         | 4/7 [00:11<00:07,  2.58s/it]"
     ]
    },
    {
     "name": "stdout",
     "output_type": "stream",
     "text": [
      "n_estimators=250 get Recall@20: 0.5138491473045668\n"
     ]
    },
    {
     "name": "stderr",
     "output_type": "stream",
     "text": [
      "\r",
      " 71%|███████████████████████████████████████████████████████████████████████████████████████████████▋                                      | 5/7 [00:13<00:04,  2.43s/it]"
     ]
    },
    {
     "name": "stdout",
     "output_type": "stream",
     "text": [
      "n_estimators=200 get Recall@20: 0.5138491473045668\n"
     ]
    },
    {
     "name": "stderr",
     "output_type": "stream",
     "text": [
      "\r",
      " 86%|██████████████████████████████████████████████████████████████████████████████████████████████████████████████████▊                   | 6/7 [00:15<00:02,  2.38s/it]"
     ]
    },
    {
     "name": "stdout",
     "output_type": "stream",
     "text": [
      "n_estimators=150 get Recall@20: 0.5133340963717523\n"
     ]
    },
    {
     "name": "stderr",
     "output_type": "stream",
     "text": [
      "100%|██████████████████████████████████████████████████████████████████████████████████████████████████████████████████████████████████████| 7/7 [00:17<00:00,  2.53s/it]"
     ]
    },
    {
     "name": "stdout",
     "output_type": "stream",
     "text": [
      "n_estimators=100 get Recall@20: 0.5125901339132425\n",
      "CPU times: user 1min 35s, sys: 2.57 s, total: 1min 37s\n",
      "Wall time: 17.7 s\n"
     ]
    },
    {
     "name": "stderr",
     "output_type": "stream",
     "text": [
      "\n"
     ]
    }
   ],
   "source": [
    "%%time\n",
    "\n",
    "# ranker = joblib.load(\"carts_xgbranker_1.m\")\n",
    "\n",
    "# FEATURE_COL = list(ranker.feature_names_in_)\n",
    "with open(f\"FEATURE_COL_{MODEL_TYPE}.txt\", \"r\") as f:\n",
    "    FEATURE_COL = f.read().splitlines()\n",
    "    \n",
    "print(FEATURE_COL)\n",
    "\n",
    "for n_estimators in tqdm(n_estimators_candidates[::-1]):\n",
    "    df_valid_candidates = pd.read_pickle(f\"df_valid_{MODEL_TYPE}_candidates.pkl\")\n",
    "    df_valid_label = pd.read_parquet(f\"df_valid_{MODEL_TYPE}_label.parquet\")\n",
    "    df_valid_label = df_valid_label[[\"session\", \"ground_truth\"]].groupby(\"session\").agg(list).reset_index()\n",
    "    ranker = joblib.load(f\"models/{MODEL_TYPE}_xgbranker_{n_estimators}.m\")\n",
    "    df_valid_candidates[\"score\"] = ranker.predict(df_valid_candidates[FEATURE_COL])\n",
    "    df_valid_candidates = df_valid_candidates.sort_values(by=['session', 'score'], ascending=False)[['session', 'aid']].reset_index(drop=True)\n",
    "    df_valid_candidates = df_valid_candidates.groupby('session').head(20).groupby('session').agg(list).reset_index(drop=False)\n",
    "    df_valid_candidates = df_valid_candidates.merge(df_valid_label, on=\"session\", how=\"left\")\n",
    "    df_valid_candidates[\"ground_truth\"] = df_valid_candidates[\"ground_truth\"].apply(lambda x: x if isinstance(x, list) else [])\n",
    "    df_valid_candidates[\"hits\"] = df_valid_candidates.apply(lambda df: len(set(df.ground_truth).intersection(set(df.aid))), axis=1)\n",
    "    df_valid_candidates['gt_count'] = df_valid_candidates.ground_truth.str.len().clip(0,20)\n",
    "    recall = df_valid_candidates[\"hits\"].sum() / df_valid_candidates['gt_count'].sum()\n",
    "\n",
    "    print(f\"n_estimators={n_estimators} get Recall@20: {recall}\")"
   ]
  },
  {
   "cell_type": "code",
   "execution_count": null,
   "id": "b24421b6",
   "metadata": {},
   "outputs": [],
   "source": []
  },
  {
   "cell_type": "code",
   "execution_count": null,
   "id": "7c7c39d0",
   "metadata": {},
   "outputs": [],
   "source": []
  },
  {
   "cell_type": "code",
   "execution_count": null,
   "id": "70b5fc43",
   "metadata": {},
   "outputs": [],
   "source": []
  },
  {
   "cell_type": "code",
   "execution_count": null,
   "id": "28213dc2",
   "metadata": {},
   "outputs": [],
   "source": []
  },
  {
   "cell_type": "markdown",
   "id": "d6bcd4f5",
   "metadata": {},
   "source": [
    "# Chunking kaggle test dataset to save memory(don't execute it)"
   ]
  },
  {
   "cell_type": "code",
   "execution_count": null,
   "id": "ba808a8f",
   "metadata": {},
   "outputs": [],
   "source": [
    "# df_kaggle_test = pd.read_parquet(os.path.join(DATA_PATH, \"input/otto-candidates/test_candidates/test_orders_candidates_top50.parquet\"))\n",
    "INFERENCE_CHUNK_NUM = 10\n",
    "df_kaggle_test = pd.read_parquet(os.path.join(DATA_PATH, f\"input/otto-candidates/test_candidates/test_{MODEL_TYPE}_candidates_top{TOPN}.parquet\"))\n",
    "\n",
    "inference_session_list = df_kaggle_test[\"session\"].unique().tolist()\n",
    "INFERENCE_CHUNK_SIZE = len(inference_session_list)//INFERENCE_CHUNK_NUM + 2\n",
    "n = 1\n",
    "for i in range(0, len(inference_session_list), INFERENCE_CHUNK_SIZE):\n",
    "    df_kaggle_test[df_kaggle_test[\"session\"].isin(inference_session_list[i:i+INFERENCE_CHUNK_SIZE])].to_parquet(\n",
    "        os.path.join(DATA_PATH, f\"input/otto-candidates/test_candidates/test_{MODEL_TYPE}_candidates_top{TOPN}_chunk_{n}.parquet\")\n",
    "    )\n",
    "    n += 1\n",
    "df_kaggle_test.head(10)"
   ]
  },
  {
   "cell_type": "markdown",
   "id": "07bde2b2",
   "metadata": {},
   "source": [
    "# Inference"
   ]
  },
  {
   "cell_type": "code",
   "execution_count": null,
   "id": "f1c38a24",
   "metadata": {},
   "outputs": [],
   "source": [
    "# INFERENCE_CHUNK_NUM = 10"
   ]
  },
  {
   "cell_type": "code",
   "execution_count": 11,
   "id": "65fb40f7",
   "metadata": {},
   "outputs": [
    {
     "name": "stdout",
     "output_type": "stream",
     "text": [
      "chunk 1 start ...\n"
     ]
    },
    {
     "name": "stderr",
     "output_type": "stream",
     "text": [
      "100%|██████████████████████████████████████████████████████████████████████████████████████████████████████████████████████████████████████| 5/5 [00:06<00:00,  1.23s/it]\n",
      "100%|██████████████████████████████████████████████████████████████████████████████████████████████████████████████████████████████████████| 7/7 [00:16<00:00,  2.35s/it]\n",
      "100%|██████████████████████████████████████████████████████████████████████████████████████████████████████████████████████████████████████| 5/5 [00:27<00:00,  5.41s/it]\n"
     ]
    },
    {
     "name": "stdout",
     "output_type": "stream",
     "text": [
      "chunk 2 start ...\n"
     ]
    },
    {
     "name": "stderr",
     "output_type": "stream",
     "text": [
      "100%|██████████████████████████████████████████████████████████████████████████████████████████████████████████████████████████████████████| 5/5 [00:05<00:00,  1.18s/it]\n",
      "100%|██████████████████████████████████████████████████████████████████████████████████████████████████████████████████████████████████████| 7/7 [00:15<00:00,  2.22s/it]\n",
      "100%|██████████████████████████████████████████████████████████████████████████████████████████████████████████████████████████████████████| 5/5 [00:25<00:00,  5.20s/it]\n"
     ]
    },
    {
     "name": "stdout",
     "output_type": "stream",
     "text": [
      "chunk 3 start ...\n"
     ]
    },
    {
     "name": "stderr",
     "output_type": "stream",
     "text": [
      "100%|██████████████████████████████████████████████████████████████████████████████████████████████████████████████████████████████████████| 5/5 [00:06<00:00,  1.28s/it]\n",
      "100%|██████████████████████████████████████████████████████████████████████████████████████████████████████████████████████████████████████| 7/7 [00:17<00:00,  2.45s/it]\n",
      "100%|██████████████████████████████████████████████████████████████████████████████████████████████████████████████████████████████████████| 5/5 [00:28<00:00,  5.64s/it]\n"
     ]
    },
    {
     "name": "stdout",
     "output_type": "stream",
     "text": [
      "chunk 4 start ...\n"
     ]
    },
    {
     "name": "stderr",
     "output_type": "stream",
     "text": [
      "100%|██████████████████████████████████████████████████████████████████████████████████████████████████████████████████████████████████████| 5/5 [00:05<00:00,  1.18s/it]\n",
      "100%|██████████████████████████████████████████████████████████████████████████████████████████████████████████████████████████████████████| 7/7 [00:15<00:00,  2.24s/it]\n",
      "100%|██████████████████████████████████████████████████████████████████████████████████████████████████████████████████████████████████████| 5/5 [00:26<00:00,  5.22s/it]\n"
     ]
    },
    {
     "name": "stdout",
     "output_type": "stream",
     "text": [
      "chunk 5 start ...\n"
     ]
    },
    {
     "name": "stderr",
     "output_type": "stream",
     "text": [
      "100%|██████████████████████████████████████████████████████████████████████████████████████████████████████████████████████████████████████| 5/5 [00:06<00:00,  1.26s/it]\n",
      "100%|██████████████████████████████████████████████████████████████████████████████████████████████████████████████████████████████████████| 7/7 [00:16<00:00,  2.40s/it]\n",
      "100%|██████████████████████████████████████████████████████████████████████████████████████████████████████████████████████████████████████| 5/5 [00:27<00:00,  5.49s/it]\n"
     ]
    },
    {
     "name": "stdout",
     "output_type": "stream",
     "text": [
      "chunk 6 start ...\n"
     ]
    },
    {
     "name": "stderr",
     "output_type": "stream",
     "text": [
      "100%|██████████████████████████████████████████████████████████████████████████████████████████████████████████████████████████████████████| 5/5 [00:05<00:00,  1.18s/it]\n",
      "100%|██████████████████████████████████████████████████████████████████████████████████████████████████████████████████████████████████████| 7/7 [00:15<00:00,  2.22s/it]\n",
      "100%|██████████████████████████████████████████████████████████████████████████████████████████████████████████████████████████████████████| 5/5 [00:26<00:00,  5.21s/it]\n"
     ]
    },
    {
     "name": "stdout",
     "output_type": "stream",
     "text": [
      "chunk 7 start ...\n"
     ]
    },
    {
     "name": "stderr",
     "output_type": "stream",
     "text": [
      "100%|██████████████████████████████████████████████████████████████████████████████████████████████████████████████████████████████████████| 5/5 [00:05<00:00,  1.18s/it]\n",
      "100%|██████████████████████████████████████████████████████████████████████████████████████████████████████████████████████████████████████| 7/7 [00:15<00:00,  2.24s/it]\n",
      "100%|██████████████████████████████████████████████████████████████████████████████████████████████████████████████████████████████████████| 5/5 [00:26<00:00,  5.23s/it]\n"
     ]
    },
    {
     "name": "stdout",
     "output_type": "stream",
     "text": [
      "chunk 8 start ...\n"
     ]
    },
    {
     "name": "stderr",
     "output_type": "stream",
     "text": [
      "100%|██████████████████████████████████████████████████████████████████████████████████████████████████████████████████████████████████████| 5/5 [00:06<00:00,  1.30s/it]\n",
      "100%|██████████████████████████████████████████████████████████████████████████████████████████████████████████████████████████████████████| 7/7 [00:17<00:00,  2.48s/it]\n",
      "100%|██████████████████████████████████████████████████████████████████████████████████████████████████████████████████████████████████████| 5/5 [00:28<00:00,  5.69s/it]\n"
     ]
    },
    {
     "name": "stdout",
     "output_type": "stream",
     "text": [
      "chunk 9 start ...\n"
     ]
    },
    {
     "name": "stderr",
     "output_type": "stream",
     "text": [
      "100%|██████████████████████████████████████████████████████████████████████████████████████████████████████████████████████████████████████| 5/5 [00:06<00:00,  1.26s/it]\n",
      "100%|██████████████████████████████████████████████████████████████████████████████████████████████████████████████████████████████████████| 7/7 [00:16<00:00,  2.41s/it]\n",
      "100%|██████████████████████████████████████████████████████████████████████████████████████████████████████████████████████████████████████| 5/5 [00:28<00:00,  5.64s/it]\n"
     ]
    },
    {
     "name": "stdout",
     "output_type": "stream",
     "text": [
      "chunk 10 start ...\n"
     ]
    },
    {
     "name": "stderr",
     "output_type": "stream",
     "text": [
      "100%|██████████████████████████████████████████████████████████████████████████████████████████████████████████████████████████████████████| 5/5 [00:06<00:00,  1.24s/it]\n",
      "100%|██████████████████████████████████████████████████████████████████████████████████████████████████████████████████████████████████████| 7/7 [00:16<00:00,  2.35s/it]\n",
      "100%|██████████████████████████████████████████████████████████████████████████████████████████████████████████████████████████████████████| 5/5 [00:27<00:00,  5.44s/it]\n"
     ]
    },
    {
     "name": "stdout",
     "output_type": "stream",
     "text": [
      "CPU times: user 11min, sys: 2min 12s, total: 13min 13s\n",
      "Wall time: 12min 36s\n"
     ]
    }
   ],
   "source": [
    "%%time\n",
    "INFERENCE_CHUNK_NUM = 10\n",
    "df_kaggle_test = None\n",
    "for n in range(1, INFERENCE_CHUNK_NUM+1):\n",
    "    print(f\"chunk {n} start ...\")\n",
    "    df_kaggle_test_chunk = pd.read_parquet(\n",
    "        os.path.join(DATA_PATH, f\"input/otto-candidates/test_candidates/test_{MODEL_TYPE}_candidates_top{TOPN}_chunk_{n}.parquet\")\n",
    "    )\n",
    "    df_kaggle_test_chunk[\"recall_order\"] = df_kaggle_test_chunk.groupby('session').cumcount()\n",
    "    test_user_feature_path = sorted(glob.glob(\n",
    "        os.path.join(DATA_PATH, \"input/feature/test/user_feature_*.parquet\")\n",
    "    ))\n",
    "    for p in tqdm(test_user_feature_path):\n",
    "        df_kaggle_test_chunk = df_kaggle_test_chunk.merge(pd.read_parquet(p), on=\"session\", how=\"left\")\n",
    "\n",
    "\n",
    "    test_item_feature_path = sorted(glob.glob(\n",
    "        os.path.join(DATA_PATH, \"input/feature/test/item_feature_*.parquet\")\n",
    "    ))\n",
    "    for p in tqdm(test_item_feature_path):\n",
    "        df_kaggle_test_chunk = df_kaggle_test_chunk.merge(pd.read_parquet(p), on=\"aid\", how=\"left\")\n",
    "\n",
    "    test_interaction_feature_path = sorted(glob.glob(\n",
    "        os.path.join(DATA_PATH, \"input/feature/test/interaction_feature_*.parquet\")\n",
    "    ))\n",
    "    for p in tqdm(test_interaction_feature_path):\n",
    "        df_kaggle_test_chunk = df_kaggle_test_chunk.merge(pd.read_parquet(p), on=[\"session\", \"aid\"], how=\"left\")\n",
    "\n",
    "\n",
    "    df_kaggle_test_chunk = fillna_default(df_kaggle_test_chunk)\n",
    "    df_kaggle_test_chunk.to_parquet(f\"df_kaggle_test_{MODEL_TYPE}_chunk_{n}.parquet\")\n",
    "    \n",
    "# df_kaggle_test.to_parquet(\"df_kaggle_test.parquet\")\n",
    "# inference_session_list = df_kaggle_test[\"session\"].unique().tolist()\n",
    "# INFERENCE_CHUNK_NUM = 10\n",
    "# INFERENCE_CHUNK_SIZE = len(inference_session_list)//INFERENCE_CHUNK_NUM + 2\n",
    "# n = 1\n",
    "# for i in range(0, len(inference_session_list), INFERENCE_CHUNK_SIZE):\n",
    "#     df_kaggle_test[df_kaggle_test[\"session\"].isin(inference_session_list[i:INFERENCE_CHUNK_SIZE])].to_parquet(f\"df_kaggle_test_chunk_{n}.parquet\")\n",
    "#     n += 1\n",
    "# df_kaggle_test.head(10)"
   ]
  },
  {
   "cell_type": "markdown",
   "id": "157a3164",
   "metadata": {},
   "source": [
    "# For Ensemble"
   ]
  },
  {
   "cell_type": "code",
   "execution_count": 12,
   "id": "e58150f6",
   "metadata": {},
   "outputs": [
    {
     "name": "stdout",
     "output_type": "stream",
     "text": [
      "['item_first_orders_ts', 'item_first_carts_ts', 'user_last_orders_time', 'user_carts_ratio', 'interaction_behavior_count', 'item_orders_item_count', 'user_last_carts_time', 'item_clicks_item_count', 'user_first_orders_time', 'item_first_clicks_ts', 'interaction_type_core', 'item_item_count', 'user_clicks_count', 'interaction_clicks_carts_ratio', 'user_user_count', 'interaction_clicks_orders_ratio', 'user_orders_ratio', 'user_behavior_count', 'item_orders_user_count', 'interaction_clicks_count', 'item_last_clicks_ts', 'interaction_orders_count', 'user_carts_count', 'user_clicks_ratio', 'user_orders_count', 'user_last_clicks_time', 'interaction_timing_decay_score', 'recall_order', 'interaction_orders_clicks_ratio', 'user_first_carts_time', 'item_carts_user_count', 'interaction_carts_orders_ratio', 'item_carts_item_count', 'user_item_count', 'interaction_carts_count', 'item_last_orders_ts', 'item_buy_ratio', 'item_user_count', 'interaction_orders_carts_ratio', 'interaction_behavor_period', 'item_last_carts_ts', 'interaction_carts_clicks_ratio', 'item_clicks_user_count', 'user_first_clicks_time']\n"
     ]
    },
    {
     "name": "stderr",
     "output_type": "stream",
     "text": [
      "  0%|                                                                                                                                              | 0/7 [00:00<?, ?it/s]\n",
      "  0%|                                                                                                                                             | 0/10 [00:00<?, ?it/s]\u001b[A\n",
      " 10%|█████████████▎                                                                                                                       | 1/10 [00:12<01:50, 12.25s/it]\u001b[A\n",
      " 20%|██████████████████████████▌                                                                                                          | 2/10 [00:24<01:36, 12.09s/it]\u001b[A\n",
      " 30%|███████████████████████████████████████▉                                                                                             | 3/10 [00:36<01:24, 12.14s/it]\u001b[A\n",
      " 40%|█████████████████████████████████████████████████████▏                                                                               | 4/10 [00:48<01:13, 12.20s/it]\u001b[A\n",
      " 50%|██████████████████████████████████████████████████████████████████▌                                                                  | 5/10 [01:00<01:00, 12.19s/it]\u001b[A\n",
      " 60%|███████████████████████████████████████████████████████████████████████████████▊                                                     | 6/10 [01:12<00:48, 12.00s/it]\u001b[A\n",
      " 70%|█████████████████████████████████████████████████████████████████████████████████████████████                                        | 7/10 [01:24<00:36, 12.13s/it]\u001b[A\n",
      " 80%|██████████████████████████████████████████████████████████████████████████████████████████████████████████▍                          | 8/10 [01:36<00:23, 11.98s/it]\u001b[A\n",
      " 90%|███████████████████████████████████████████████████████████████████████████████████████████████████████████████████████▋             | 9/10 [01:49<00:12, 12.16s/it]\u001b[A\n",
      "100%|████████████████████████████████████████████████████████████████████████████████████████████████████████████████████████████████████| 10/10 [02:01<00:00, 12.12s/it]\u001b[A\n",
      " 14%|███████████████████                                                                                                                  | 1/7 [02:11<13:09, 131.55s/it]\n",
      "  0%|                                                                                                                                             | 0/10 [00:00<?, ?it/s]\u001b[A\n",
      " 10%|█████████████▎                                                                                                                       | 1/10 [00:12<01:56, 12.95s/it]\u001b[A\n",
      " 20%|██████████████████████████▌                                                                                                          | 2/10 [00:26<01:44, 13.08s/it]\u001b[A\n",
      " 30%|███████████████████████████████████████▉                                                                                             | 3/10 [00:39<01:32, 13.17s/it]\u001b[A\n",
      " 40%|█████████████████████████████████████████████████████▏                                                                               | 4/10 [00:52<01:19, 13.22s/it]\u001b[A\n",
      " 50%|██████████████████████████████████████████████████████████████████▌                                                                  | 5/10 [01:06<01:06, 13.28s/it]\u001b[A\n",
      " 60%|███████████████████████████████████████████████████████████████████████████████▊                                                     | 6/10 [01:19<00:53, 13.31s/it]\u001b[A\n",
      " 70%|█████████████████████████████████████████████████████████████████████████████████████████████                                        | 7/10 [01:32<00:39, 13.20s/it]\u001b[A\n",
      " 80%|██████████████████████████████████████████████████████████████████████████████████████████████████████████▍                          | 8/10 [01:45<00:26, 13.29s/it]\u001b[A\n",
      " 90%|███████████████████████████████████████████████████████████████████████████████████████████████████████████████████████▋             | 9/10 [01:58<00:12, 12.98s/it]\u001b[A\n",
      "100%|████████████████████████████████████████████████████████████████████████████████████████████████████████████████████████████████████| 10/10 [02:11<00:00, 13.18s/it]\u001b[A\n",
      " 29%|██████████████████████████████████████                                                                                               | 2/7 [04:34<11:30, 138.04s/it]\n",
      "  0%|                                                                                                                                             | 0/10 [00:00<?, ?it/s]\u001b[A\n",
      " 10%|█████████████▎                                                                                                                       | 1/10 [00:13<02:03, 13.68s/it]\u001b[A\n",
      " 20%|██████████████████████████▌                                                                                                          | 2/10 [00:27<01:47, 13.49s/it]\u001b[A\n",
      " 30%|███████████████████████████████████████▉                                                                                             | 3/10 [00:41<01:36, 13.72s/it]\u001b[A\n",
      " 40%|█████████████████████████████████████████████████████▏                                                                               | 4/10 [00:55<01:23, 13.91s/it]\u001b[A\n",
      " 50%|██████████████████████████████████████████████████████████████████▌                                                                  | 5/10 [01:09<01:10, 14.01s/it]\u001b[A\n",
      " 60%|███████████████████████████████████████████████████████████████████████████████▊                                                     | 6/10 [01:22<00:55, 13.80s/it]\u001b[A\n",
      " 70%|█████████████████████████████████████████████████████████████████████████████████████████████                                        | 7/10 [01:37<00:41, 13.94s/it]\u001b[A\n",
      " 80%|██████████████████████████████████████████████████████████████████████████████████████████████████████████▍                          | 8/10 [01:50<00:27, 13.81s/it]\u001b[A\n",
      " 90%|███████████████████████████████████████████████████████████████████████████████████████████████████████████████████████▋             | 9/10 [02:04<00:13, 13.85s/it]\u001b[A\n",
      "100%|████████████████████████████████████████████████████████████████████████████████████████████████████████████████████████████████████| 10/10 [02:17<00:00, 13.79s/it]\u001b[A\n",
      " 43%|█████████████████████████████████████████████████████████                                                                            | 3/7 [07:02<09:31, 142.83s/it]\n",
      "  0%|                                                                                                                                             | 0/10 [00:00<?, ?it/s]\u001b[A\n",
      " 10%|█████████████▎                                                                                                                       | 1/10 [00:14<02:10, 14.49s/it]\u001b[A\n",
      " 20%|██████████████████████████▌                                                                                                          | 2/10 [00:29<01:56, 14.53s/it]\u001b[A\n",
      " 30%|███████████████████████████████████████▉                                                                                             | 3/10 [00:43<01:41, 14.56s/it]\u001b[A\n",
      " 40%|█████████████████████████████████████████████████████▏                                                                               | 4/10 [00:58<01:29, 14.85s/it]\u001b[A\n",
      " 50%|██████████████████████████████████████████████████████████████████▌                                                                  | 5/10 [01:14<01:15, 15.00s/it]\u001b[A\n",
      " 60%|███████████████████████████████████████████████████████████████████████████████▊                                                     | 6/10 [01:28<00:59, 14.93s/it]\u001b[A\n",
      " 70%|█████████████████████████████████████████████████████████████████████████████████████████████                                        | 7/10 [01:44<00:44, 14.99s/it]\u001b[A\n",
      " 80%|██████████████████████████████████████████████████████████████████████████████████████████████████████████▍                          | 8/10 [01:59<00:29, 14.99s/it]\u001b[A\n",
      " 90%|███████████████████████████████████████████████████████████████████████████████████████████████████████████████████████▋             | 9/10 [02:13<00:14, 14.77s/it]\u001b[A\n"
     ]
    },
    {
     "name": "stderr",
     "output_type": "stream",
     "text": [
      "100%|████████████████████████████████████████████████████████████████████████████████████████████████████████████████████████████████████| 10/10 [02:27<00:00, 14.75s/it]\u001b[A\n",
      " 57%|████████████████████████████████████████████████████████████████████████████                                                         | 4/7 [09:41<07:26, 148.96s/it]\n",
      "  0%|                                                                                                                                             | 0/10 [00:00<?, ?it/s]\u001b[A\n",
      " 10%|█████████████▎                                                                                                                       | 1/10 [00:15<02:15, 15.06s/it]\u001b[A\n",
      " 20%|██████████████████████████▌                                                                                                          | 2/10 [00:30<02:01, 15.23s/it]\u001b[A\n",
      " 30%|███████████████████████████████████████▉                                                                                             | 3/10 [00:45<01:46, 15.23s/it]\u001b[A\n",
      " 40%|█████████████████████████████████████████████████████▏                                                                               | 4/10 [01:00<01:30, 15.16s/it]\u001b[A\n",
      " 50%|██████████████████████████████████████████████████████████████████▌                                                                  | 5/10 [01:15<01:15, 15.10s/it]\u001b[A\n",
      " 60%|███████████████████████████████████████████████████████████████████████████████▊                                                     | 6/10 [01:31<01:00, 15.21s/it]\u001b[A\n",
      " 70%|█████████████████████████████████████████████████████████████████████████████████████████████                                        | 7/10 [01:46<00:45, 15.25s/it]\u001b[A\n",
      " 80%|██████████████████████████████████████████████████████████████████████████████████████████████████████████▍                          | 8/10 [02:01<00:30, 15.12s/it]\u001b[A\n",
      " 90%|███████████████████████████████████████████████████████████████████████████████████████████████████████████████████████▋             | 9/10 [02:16<00:15, 15.24s/it]\u001b[A\n",
      "100%|████████████████████████████████████████████████████████████████████████████████████████████████████████████████████████████████████| 10/10 [02:31<00:00, 15.18s/it]\u001b[A\n",
      " 71%|███████████████████████████████████████████████████████████████████████████████████████████████                                      | 5/7 [12:23<05:07, 153.96s/it]\n",
      "  0%|                                                                                                                                             | 0/10 [00:00<?, ?it/s]\u001b[A\n",
      " 10%|█████████████▎                                                                                                                       | 1/10 [00:15<02:16, 15.16s/it]\u001b[A\n",
      " 20%|██████████████████████████▌                                                                                                          | 2/10 [00:30<02:04, 15.50s/it]\u001b[A\n",
      " 30%|███████████████████████████████████████▉                                                                                             | 3/10 [00:46<01:48, 15.54s/it]\u001b[A\n",
      " 40%|█████████████████████████████████████████████████████▏                                                                               | 4/10 [01:02<01:34, 15.75s/it]\u001b[A\n",
      " 50%|██████████████████████████████████████████████████████████████████▌                                                                  | 5/10 [01:17<01:17, 15.59s/it]\u001b[A\n",
      " 60%|███████████████████████████████████████████████████████████████████████████████▊                                                     | 6/10 [01:33<01:02, 15.73s/it]\u001b[A\n",
      " 70%|█████████████████████████████████████████████████████████████████████████████████████████████                                        | 7/10 [01:49<00:47, 15.77s/it]\u001b[A\n",
      " 80%|██████████████████████████████████████████████████████████████████████████████████████████████████████████▍                          | 8/10 [02:05<00:31, 15.71s/it]\u001b[A\n",
      " 90%|███████████████████████████████████████████████████████████████████████████████████████████████████████████████████████▋             | 9/10 [02:21<00:15, 15.92s/it]\u001b[A\n",
      "100%|████████████████████████████████████████████████████████████████████████████████████████████████████████████████████████████████████| 10/10 [02:37<00:00, 15.72s/it]\u001b[A\n",
      " 86%|██████████████████████████████████████████████████████████████████████████████████████████████████████████████████                   | 6/7 [15:11<02:38, 158.77s/it]\n",
      "  0%|                                                                                                                                             | 0/10 [00:00<?, ?it/s]\u001b[A\n",
      " 10%|█████████████▎                                                                                                                       | 1/10 [00:15<02:22, 15.85s/it]\u001b[A\n",
      " 20%|██████████████████████████▌                                                                                                          | 2/10 [00:32<02:10, 16.28s/it]\u001b[A\n",
      " 30%|███████████████████████████████████████▉                                                                                             | 3/10 [00:48<01:53, 16.26s/it]\u001b[A\n",
      " 40%|█████████████████████████████████████████████████████▏                                                                               | 4/10 [01:05<01:37, 16.30s/it]\u001b[A\n",
      " 50%|██████████████████████████████████████████████████████████████████▌                                                                  | 5/10 [01:21<01:20, 16.19s/it]\u001b[A\n",
      " 60%|███████████████████████████████████████████████████████████████████████████████▊                                                     | 6/10 [01:37<01:05, 16.28s/it]\u001b[A\n",
      " 70%|█████████████████████████████████████████████████████████████████████████████████████████████                                        | 7/10 [01:54<00:49, 16.38s/it]\u001b[A\n",
      " 80%|██████████████████████████████████████████████████████████████████████████████████████████████████████████▍                          | 8/10 [02:10<00:32, 16.27s/it]\u001b[A\n",
      " 90%|███████████████████████████████████████████████████████████████████████████████████████████████████████████████████████▋             | 9/10 [02:26<00:16, 16.42s/it]\u001b[A\n",
      "100%|████████████████████████████████████████████████████████████████████████████████████████████████████████████████████████████████████| 10/10 [02:42<00:00, 16.29s/it]\u001b[A\n",
      "100%|█████████████████████████████████████████████████████████████████████████████████████████████████████████████████████████████████████| 7/7 [18:05<00:00, 155.10s/it]"
     ]
    },
    {
     "name": "stdout",
     "output_type": "stream",
     "text": [
      "CPU times: user 1h 12min 26s, sys: 5min 20s, total: 1h 17min 47s\n",
      "Wall time: 18min 5s\n"
     ]
    },
    {
     "name": "stderr",
     "output_type": "stream",
     "text": [
      "\n"
     ]
    }
   ],
   "source": [
    "%%time\n",
    "\n",
    "with open(f\"FEATURE_COL_{MODEL_TYPE}.txt\", \"r\") as f:\n",
    "    FEATURE_COL = f.read().splitlines()\n",
    "print(FEATURE_COL)\n",
    "\n",
    "\n",
    "for n_es in tqdm(n_estimators_candidates):\n",
    "# best_n_estimators = \"300\"\n",
    "    ranker = joblib.load(f\"models/{MODEL_TYPE}_xgbranker_{n_es}.m\")\n",
    "    df_kaggle_test = None\n",
    "    for n in tqdm(range(1, INFERENCE_CHUNK_NUM+1)):\n",
    "        df = pd.read_parquet(f\"df_kaggle_test_{MODEL_TYPE}_chunk_{n}.parquet\")\n",
    "        df[\"score\"] = ranker.predict(df[FEATURE_COL])\n",
    "        df = df.sort_values(by=['session', 'score'], ascending=False)[['session', 'aid']].reset_index(drop=True)\n",
    "        df = df.groupby('session').head(20).groupby('session').agg(list).reset_index(drop=False)\n",
    "        if df_kaggle_test is None:\n",
    "            df_kaggle_test = df\n",
    "        else:\n",
    "            df_kaggle_test = pd.concat([df_kaggle_test, df])\n",
    "\n",
    "    df_kaggle_test[\"session_type\"] = df_kaggle_test[\"session\"].apply(lambda x: str(x)+f\"_{MODEL_TYPE}\")\n",
    "    df_kaggle_test = df_kaggle_test.rename({\"aid\": \"labels\"}, axis=1)[[\"session_type\", \"labels\"]]\n",
    "    df_kaggle_test[\"labels\"] = df_kaggle_test[\"labels\"].apply(lambda x: \" \".join([str(_) for _ in x]))\n",
    "    df_kaggle_test.to_csv(f\"../data/output/submission_part_{MODEL_TYPE}_n_es{n_es}.csv\", index=False)\n",
    "    df_kaggle_test.shape\n"
   ]
  },
  {
   "cell_type": "code",
   "execution_count": null,
   "id": "1845c22f",
   "metadata": {},
   "outputs": [],
   "source": []
  },
  {
   "cell_type": "code",
   "execution_count": null,
   "id": "33eabfbf",
   "metadata": {},
   "outputs": [],
   "source": []
  },
  {
   "cell_type": "code",
   "execution_count": null,
   "id": "cc9bf8a5",
   "metadata": {},
   "outputs": [],
   "source": []
  },
  {
   "cell_type": "code",
   "execution_count": null,
   "id": "822e1a40",
   "metadata": {},
   "outputs": [],
   "source": []
  },
  {
   "cell_type": "code",
   "execution_count": null,
   "id": "7cbf7c52",
   "metadata": {},
   "outputs": [],
   "source": []
  },
  {
   "cell_type": "markdown",
   "id": "d251cebe",
   "metadata": {},
   "source": [
    "# Please restart kernel to save memory"
   ]
  },
  {
   "cell_type": "code",
   "execution_count": null,
   "id": "7776f6e6",
   "metadata": {},
   "outputs": [],
   "source": [
    "%%time\n",
    "\n",
    "with open(f\"FEATURE_COL_{MODEL_TYPE}.txt\", \"r\") as f:\n",
    "    FEATURE_COL = f.read().splitlines()\n",
    "print(FEATURE_COL)\n",
    "\n",
    "best_n_estimators = \"200\"\n",
    "ranker = joblib.load(f\"models/{MODEL_TYPE}_xgbranker_{best_n_estimators}.m\")\n",
    "df_kaggle_test = None\n",
    "for n in tqdm(range(1, INFERENCE_CHUNK_NUM+1)):\n",
    "    df = pd.read_parquet(f\"df_kaggle_test_{MODEL_TYPE}_chunk_{n}.parquet\")\n",
    "    df[\"score\"] = ranker.predict(df[FEATURE_COL])\n",
    "    df = df.sort_values(by=['session', 'score'], ascending=False)[['session', 'aid']].reset_index(drop=True)\n",
    "    df = df.groupby('session').head(20).groupby('session').agg(list).reset_index(drop=False)\n",
    "    if df_kaggle_test is None:\n",
    "        df_kaggle_test = df\n",
    "    else:\n",
    "        df_kaggle_test = pd.concat([df_kaggle_test, df])\n",
    "\n",
    "# df_kaggle_test[\"score\"] = ranker.predict(df_kaggle_test[FEATURE_COL])\n",
    "# df_kaggle_test = df_kaggle_test.sort_values(by=['session', 'score'], ascending=False)[['session', 'aid']].reset_index(drop=True)\n",
    "# df_kaggle_test = df_kaggle_test.groupby('session').head(20).groupby('session').agg(list).reset_index(drop=False)\n",
    "df_kaggle_test"
   ]
  },
  {
   "cell_type": "code",
   "execution_count": null,
   "id": "a87bc0ab",
   "metadata": {},
   "outputs": [],
   "source": [
    "%%time\n",
    "\n",
    "df_kaggle_test[\"session_type\"] = df_kaggle_test[\"session\"].apply(lambda x: str(x)+f\"_{MODEL_TYPE}\")\n",
    "# df_test[\"session_type\"] = df_test[\"session\"].apply(lambda x: str(x)+\"_carts\")\n",
    "df_kaggle_test = df_kaggle_test.rename({\"aid\": \"labels\"}, axis=1)[[\"session_type\", \"labels\"]]\n",
    "df_kaggle_test[\"labels\"] = df_kaggle_test[\"labels\"].apply(lambda x: \" \".join([str(_) for _ in x]))\n",
    "df_submission = pd.read_csv(\"../data/output/submission_583.csv\")\n",
    "# df_submission = df_submission[~df_submission.session_type.str.contains(\"_carts$\")]\n",
    "df_submission = df_submission[~df_submission.session_type.str.contains(f\"_{MODEL_TYPE}$\")]\n",
    "df_submission = pd.concat([df_kaggle_test, df_submission])\n",
    "df_submission.to_csv(f\"../data/output/submission_optim_{MODEL_TYPE}.csv\", index=False)\n",
    "df_submission.shape"
   ]
  },
  {
   "cell_type": "code",
   "execution_count": null,
   "id": "81bb0446",
   "metadata": {},
   "outputs": [],
   "source": []
  },
  {
   "cell_type": "code",
   "execution_count": null,
   "id": "c44ea43c",
   "metadata": {},
   "outputs": [],
   "source": []
  },
  {
   "cell_type": "code",
   "execution_count": null,
   "id": "8a9e2d0c",
   "metadata": {},
   "outputs": [],
   "source": []
  },
  {
   "cell_type": "code",
   "execution_count": null,
   "id": "b3ec24c4",
   "metadata": {},
   "outputs": [],
   "source": []
  },
  {
   "cell_type": "code",
   "execution_count": null,
   "id": "3cb6d964",
   "metadata": {},
   "outputs": [],
   "source": []
  },
  {
   "cell_type": "code",
   "execution_count": null,
   "id": "1a35cc8f",
   "metadata": {},
   "outputs": [],
   "source": []
  },
  {
   "cell_type": "code",
   "execution_count": null,
   "id": "0cb49c2e",
   "metadata": {},
   "outputs": [],
   "source": []
  },
  {
   "cell_type": "code",
   "execution_count": null,
   "id": "77e6b7ad",
   "metadata": {},
   "outputs": [],
   "source": []
  },
  {
   "cell_type": "code",
   "execution_count": null,
   "id": "d7fbc8fd",
   "metadata": {},
   "outputs": [],
   "source": []
  },
  {
   "cell_type": "code",
   "execution_count": null,
   "id": "bf00c0a4",
   "metadata": {},
   "outputs": [],
   "source": []
  },
  {
   "cell_type": "code",
   "execution_count": null,
   "id": "73de2a5d",
   "metadata": {},
   "outputs": [],
   "source": []
  },
  {
   "cell_type": "code",
   "execution_count": null,
   "id": "2fb2e4e6",
   "metadata": {},
   "outputs": [],
   "source": []
  },
  {
   "cell_type": "code",
   "execution_count": null,
   "id": "e0f0ddda",
   "metadata": {},
   "outputs": [],
   "source": []
  },
  {
   "cell_type": "code",
   "execution_count": null,
   "id": "dc8e9091",
   "metadata": {},
   "outputs": [],
   "source": []
  },
  {
   "cell_type": "code",
   "execution_count": null,
   "id": "5e1e4f95",
   "metadata": {},
   "outputs": [],
   "source": []
  },
  {
   "cell_type": "code",
   "execution_count": null,
   "id": "e70d572e",
   "metadata": {},
   "outputs": [],
   "source": []
  },
  {
   "cell_type": "code",
   "execution_count": null,
   "id": "6a0d4f6a",
   "metadata": {},
   "outputs": [],
   "source": []
  },
  {
   "cell_type": "code",
   "execution_count": null,
   "id": "8d90472a",
   "metadata": {},
   "outputs": [],
   "source": []
  },
  {
   "cell_type": "code",
   "execution_count": null,
   "id": "dfcf90f6",
   "metadata": {},
   "outputs": [],
   "source": []
  },
  {
   "cell_type": "code",
   "execution_count": null,
   "id": "0ae16086",
   "metadata": {},
   "outputs": [],
   "source": []
  },
  {
   "cell_type": "code",
   "execution_count": null,
   "id": "c7f1a6ea",
   "metadata": {},
   "outputs": [],
   "source": []
  },
  {
   "cell_type": "code",
   "execution_count": null,
   "id": "dd46d467",
   "metadata": {},
   "outputs": [],
   "source": []
  },
  {
   "cell_type": "code",
   "execution_count": null,
   "id": "1b32cbce",
   "metadata": {},
   "outputs": [],
   "source": []
  },
  {
   "cell_type": "code",
   "execution_count": null,
   "id": "21a0df90",
   "metadata": {},
   "outputs": [],
   "source": []
  },
  {
   "cell_type": "code",
   "execution_count": null,
   "id": "449be061",
   "metadata": {},
   "outputs": [],
   "source": []
  },
  {
   "cell_type": "code",
   "execution_count": null,
   "id": "459129a8",
   "metadata": {},
   "outputs": [],
   "source": []
  },
  {
   "cell_type": "code",
   "execution_count": null,
   "id": "d29a4ce2",
   "metadata": {},
   "outputs": [],
   "source": []
  },
  {
   "cell_type": "code",
   "execution_count": null,
   "id": "9ca3e6df",
   "metadata": {},
   "outputs": [],
   "source": []
  },
  {
   "cell_type": "code",
   "execution_count": null,
   "id": "7e59fae4",
   "metadata": {},
   "outputs": [],
   "source": []
  }
 ],
 "metadata": {
  "kernelspec": {
   "display_name": "Python 3 (ipykernel)",
   "language": "python",
   "name": "python3"
  },
  "language_info": {
   "codemirror_mode": {
    "name": "ipython",
    "version": 3
   },
   "file_extension": ".py",
   "mimetype": "text/x-python",
   "name": "python",
   "nbconvert_exporter": "python",
   "pygments_lexer": "ipython3",
   "version": "3.8.15"
  }
 },
 "nbformat": 4,
 "nbformat_minor": 5
}
