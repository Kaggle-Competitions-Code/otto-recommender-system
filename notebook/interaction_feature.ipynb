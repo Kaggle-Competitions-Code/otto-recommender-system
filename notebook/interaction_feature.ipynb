{
 "cells": [
  {
   "cell_type": "code",
   "execution_count": 1,
   "id": "618325a0",
   "metadata": {},
   "outputs": [],
   "source": [
    "import os\n",
    "import time\n",
    "import glob\n",
    "import gc\n",
    "import warnings\n",
    "from multiprocessing import Pool\n",
    "\n",
    "from tqdm import tqdm\n",
    "import pandas as pd\n",
    "import polars as pl\n",
    "import numpy as np\n",
    "import xgboost as xgb\n",
    "# import cudf\n",
    "from sklearn.model_selection import GroupKFold\n",
    "import joblib\n",
    "# from openfe import openfe, transform\n",
    "\n",
    "warnings.filterwarnings(\"ignore\")"
   ]
  },
  {
   "cell_type": "markdown",
   "id": "35fde8e5",
   "metadata": {},
   "source": [
    "# Setup"
   ]
  },
  {
   "cell_type": "code",
   "execution_count": 2,
   "id": "071119df",
   "metadata": {},
   "outputs": [],
   "source": [
    "DATA_PATH = \"/home/search3/lichunyu/otto-recommender-system/data\"\n",
    "TYPE_MAP = {'clicks':0, 'carts':1, 'orders':2}\n",
    "DOWNSAMPLE_RATE = 20\n",
    "\n",
    "def read_parquet(f):\n",
    "    df = pd.read_parquet(f)\n",
    "    df.ts = (df.ts/1000).astype('int32')\n",
    "    df['type'] = df['type'].map(TYPE_MAP).astype('int8')\n",
    "    return df"
   ]
  },
  {
   "cell_type": "markdown",
   "id": "c35c1f6c",
   "metadata": {},
   "source": [
    "# Interacition Feature"
   ]
  },
  {
   "cell_type": "code",
   "execution_count": 3,
   "id": "b72cf536",
   "metadata": {},
   "outputs": [],
   "source": [
    "def interaction_feature_1(df, prefix):\n",
    "    if isinstance(df, pd.DataFrame):\n",
    "        df = pl.DataFrame(df)\n",
    "    def func(x):\n",
    "        if x == TYPE_MAP[\"clicks\"]:\n",
    "            return 1\n",
    "        elif x == TYPE_MAP[\"orders\"]:\n",
    "            return 6\n",
    "        elif x == TYPE_MAP[\"carts\"]:\n",
    "            return 3\n",
    "\n",
    "    df = df.with_columns([\n",
    "        pl.col(\"type\").apply(func).alias(\"type_score\")\n",
    "    ]).groupby([\"session\", \"aid\"]).agg([\n",
    "        pl.col(\"type_score\").sum().alias(\"interaction_type_core\")\n",
    "    ])\n",
    "    df.to_pandas().to_parquet(\n",
    "        os.path.join(DATA_PATH, f\"input/feature/{prefix}/interaction_feature_1.parquet\")\n",
    "    )\n",
    "    return df\n",
    "\n",
    "def interaction_feature_2(df, prefix):\n",
    "    if isinstance(df, pd.DataFrame):\n",
    "        df = pl.DataFrame(df)\n",
    "\n",
    "    df = df.groupby([\"session\", \"aid\"]).agg([\n",
    "        (pl.col(\"type\").filter(pl.col(\"type\")==TYPE_MAP[\"clicks\"]).count()/pl.col(\"type\").filter(pl.col(\"type\")==TYPE_MAP[\"carts\"]).count().count()).alias(\"interaction_clicks_carts_ratio\"),\n",
    "        (pl.col(\"type\").filter(pl.col(\"type\")==TYPE_MAP[\"carts\"]).count()/pl.col(\"type\").filter(pl.col(\"type\")==TYPE_MAP[\"clicks\"]).count().count()).alias(\"interaction_carts_clicks_ratio\"),\n",
    "        (pl.col(\"type\").filter(pl.col(\"type\")==TYPE_MAP[\"clicks\"]).count()/pl.col(\"type\").filter(pl.col(\"type\")==TYPE_MAP[\"orders\"]).count().count()).alias(\"interaction_clicks_orders_ratio\"),\n",
    "        (pl.col(\"type\").filter(pl.col(\"type\")==TYPE_MAP[\"orders\"]).count()/pl.col(\"type\").filter(pl.col(\"type\")==TYPE_MAP[\"clicks\"]).count().count()).alias(\"interaction_orders_clicks_ratio\"),\n",
    "        (pl.col(\"type\").filter(pl.col(\"type\")==TYPE_MAP[\"orders\"]).count()/pl.col(\"type\").filter(pl.col(\"type\")==TYPE_MAP[\"carts\"]).count().count()).alias(\"interaction_orders_carts_ratio\"),\n",
    "        (pl.col(\"type\").filter(pl.col(\"type\")==TYPE_MAP[\"carts\"]).count()/pl.col(\"type\").filter(pl.col(\"type\")==TYPE_MAP[\"orders\"]).count().count()).alias(\"interaction_carts_orders_ratio\"),\n",
    "    ])\n",
    "    df.to_pandas().to_parquet(\n",
    "        os.path.join(DATA_PATH, f\"input/feature/{prefix}/interaction_feature_2.parquet\")\n",
    "    )\n",
    "    return df\n",
    "\n",
    "def interaction_feature_3(df, prefix):\n",
    "    if isinstance(df, pd.DataFrame):\n",
    "        df = pl.DataFrame(df)\n",
    "    def func(x):\n",
    "        if x == TYPE_MAP[\"clicks\"]:\n",
    "            return 1\n",
    "        elif x == TYPE_MAP[\"orders\"]:\n",
    "            return 6\n",
    "        elif x == TYPE_MAP[\"carts\"]:\n",
    "            return 3\n",
    "    ts_maximal = df_train_interaction[\"ts\"].max()\n",
    "    df = df.with_columns([\n",
    "        (-(pl.col(\"ts\")-ts_maximal)/(24*60*60)).alias(\"ts_day\")\n",
    "    ]).with_columns([\n",
    "        (10/(pl.col(\"ts_day\")+1)).alias(\"ts_day_score\"),\n",
    "        pl.col(\"type\").apply(func).alias(\"type_score\")\n",
    "    ]).with_columns([\n",
    "        (pl.col(\"type_score\")*pl.col(\"ts_day_score\")).alias(\"ts_day_type_score\")\n",
    "    ]).groupby([\"session\", \"aid\"]).agg([\n",
    "        pl.col(\"ts_day_type_score\").sum().alias(\"interaction_timing_decay_score\")\n",
    "    ])\n",
    "    df.to_pandas().to_parquet(\n",
    "        os.path.join(DATA_PATH, f\"input/feature/{prefix}/interaction_feature_3.parquet\")\n",
    "    )\n",
    "    return df\n",
    "\n",
    "def interaction_feature_4(df, prefix):\n",
    "    if isinstance(df, pd.DataFrame):\n",
    "        df = pl.DataFrame(df)\n",
    "    df = df.groupby([\"session\", \"aid\"]).agg([\n",
    "        (pl.col(\"type\")==TYPE_MAP[\"orders\"]).sum().alias(\"interaction_orders_count\"),\n",
    "        (pl.col(\"type\")==TYPE_MAP[\"clicks\"]).sum().alias(\"interaction_clicks_count\"),\n",
    "        (pl.col(\"type\")==TYPE_MAP[\"carts\"]).sum().alias(\"interaction_carts_count\"),\n",
    "        (pl.col(\"type\")<5).sum().alias(\"interaction_behavior_count\")\n",
    "    ])\n",
    "    df.to_pandas().to_parquet(\n",
    "        os.path.join(DATA_PATH, f\"input/feature/{prefix}/interaction_feature_4.parquet\")\n",
    "    )\n",
    "    return df\n",
    "\n",
    "def interaction_feature_5(df, prefix):\n",
    "    if isinstance(df, pd.DataFrame):\n",
    "        df = pl.DataFrame(df)\n",
    "    df = df.groupby([\"session\", \"aid\"]).agg([\n",
    "        ((pl.col(\"ts\").max()-pl.col(\"ts\").min())/(24*60*60)).alias(\"interaction_behavor_period\")\n",
    "    ])\n",
    "    df.to_pandas().to_parquet(\n",
    "        os.path.join(DATA_PATH, f\"input/feature/{prefix}/interaction_feature_5.parquet\")\n",
    "    )\n",
    "    return df"
   ]
  },
  {
   "cell_type": "code",
   "execution_count": null,
   "id": "1710c6e8",
   "metadata": {},
   "outputs": [],
   "source": []
  },
  {
   "cell_type": "code",
   "execution_count": null,
   "id": "c1bc2e32",
   "metadata": {},
   "outputs": [],
   "source": [
    "pipeline = [\n",
    "    interaction_feature_1,\n",
    "    interaction_feature_2,\n",
    "    interaction_feature_3,\n",
    "    interaction_feature_4,\n",
    "    interaction_feature_5,\n",
    "]"
   ]
  },
  {
   "cell_type": "code",
   "execution_count": 4,
   "id": "7db48337",
   "metadata": {},
   "outputs": [],
   "source": [
    "pipeline = [\n",
    "    interaction_feature_3,\n",
    "    interaction_feature_4,\n",
    "    interaction_feature_5,\n",
    "]"
   ]
  },
  {
   "cell_type": "code",
   "execution_count": null,
   "id": "423875be",
   "metadata": {},
   "outputs": [],
   "source": []
  },
  {
   "cell_type": "code",
   "execution_count": null,
   "id": "012f6376",
   "metadata": {},
   "outputs": [],
   "source": []
  },
  {
   "cell_type": "code",
   "execution_count": null,
   "id": "a76915c8",
   "metadata": {},
   "outputs": [],
   "source": []
  },
  {
   "cell_type": "code",
   "execution_count": null,
   "id": "a51c66b4",
   "metadata": {},
   "outputs": [],
   "source": []
  },
  {
   "cell_type": "markdown",
   "id": "9d4b42e4",
   "metadata": {},
   "source": [
    "# Build"
   ]
  },
  {
   "cell_type": "markdown",
   "id": "54e43889",
   "metadata": {},
   "source": [
    "## Train"
   ]
  },
  {
   "cell_type": "code",
   "execution_count": 5,
   "id": "8d338ce4",
   "metadata": {},
   "outputs": [
    {
     "name": "stdout",
     "output_type": "stream",
     "text": [
      "df_train_interaction size: 7683577\n",
      "CPU times: user 1.43 s, sys: 221 ms, total: 1.66 s\n",
      "Wall time: 1.33 s\n"
     ]
    },
    {
     "data": {
      "text/html": [
       "<div>\n",
       "<style scoped>\n",
       "    .dataframe tbody tr th:only-of-type {\n",
       "        vertical-align: middle;\n",
       "    }\n",
       "\n",
       "    .dataframe tbody tr th {\n",
       "        vertical-align: top;\n",
       "    }\n",
       "\n",
       "    .dataframe thead th {\n",
       "        text-align: right;\n",
       "    }\n",
       "</style>\n",
       "<table border=\"1\" class=\"dataframe\">\n",
       "  <thead>\n",
       "    <tr style=\"text-align: right;\">\n",
       "      <th></th>\n",
       "      <th>session</th>\n",
       "      <th>aid</th>\n",
       "      <th>ts</th>\n",
       "      <th>type</th>\n",
       "    </tr>\n",
       "  </thead>\n",
       "  <tbody>\n",
       "    <tr>\n",
       "      <th>0</th>\n",
       "      <td>11098528</td>\n",
       "      <td>11830</td>\n",
       "      <td>1661119200</td>\n",
       "      <td>0</td>\n",
       "    </tr>\n",
       "    <tr>\n",
       "      <th>1</th>\n",
       "      <td>11098529</td>\n",
       "      <td>1105029</td>\n",
       "      <td>1661119200</td>\n",
       "      <td>0</td>\n",
       "    </tr>\n",
       "    <tr>\n",
       "      <th>2</th>\n",
       "      <td>11098530</td>\n",
       "      <td>264500</td>\n",
       "      <td>1661119200</td>\n",
       "      <td>0</td>\n",
       "    </tr>\n",
       "    <tr>\n",
       "      <th>3</th>\n",
       "      <td>11098530</td>\n",
       "      <td>264500</td>\n",
       "      <td>1661119288</td>\n",
       "      <td>0</td>\n",
       "    </tr>\n",
       "    <tr>\n",
       "      <th>4</th>\n",
       "      <td>11098530</td>\n",
       "      <td>409236</td>\n",
       "      <td>1661119369</td>\n",
       "      <td>0</td>\n",
       "    </tr>\n",
       "  </tbody>\n",
       "</table>\n",
       "</div>"
      ],
      "text/plain": [
       "    session      aid          ts  type\n",
       "0  11098528    11830  1661119200     0\n",
       "1  11098529  1105029  1661119200     0\n",
       "2  11098530   264500  1661119200     0\n",
       "3  11098530   264500  1661119288     0\n",
       "4  11098530   409236  1661119369     0"
      ]
     },
     "execution_count": 5,
     "metadata": {},
     "output_type": "execute_result"
    }
   ],
   "source": [
    "%%time\n",
    "\n",
    "valid_a_path = sorted(glob.glob(\n",
    "    os.path.join(DATA_PATH, \"input/otto-validation/test_parquet/*.parquet\")\n",
    "))\n",
    "\n",
    "df_train_interaction = pd.concat([read_parquet(i) for i in valid_a_path])\n",
    "# df_train_interaction = pl.DataFrame(df_train_interaction)\n",
    "print(f\"df_train_interaction size: {len(df_train_interaction)}\")\n",
    "df_train_interaction.head(5)"
   ]
  },
  {
   "cell_type": "code",
   "execution_count": 6,
   "id": "15197ee6",
   "metadata": {},
   "outputs": [
    {
     "name": "stderr",
     "output_type": "stream",
     "text": [
      "100%|██████████████████████████████████████████████████████████████████████████████████████████████████████████████████████████████████████| 3/3 [00:04<00:00,  1.41s/it]\n"
     ]
    }
   ],
   "source": [
    "for p in tqdm(pipeline):\n",
    "    p(df_train_interaction, \"train\")"
   ]
  },
  {
   "cell_type": "code",
   "execution_count": null,
   "id": "798caaf8",
   "metadata": {},
   "outputs": [],
   "source": []
  },
  {
   "cell_type": "code",
   "execution_count": null,
   "id": "905c8cbf",
   "metadata": {},
   "outputs": [],
   "source": []
  },
  {
   "cell_type": "code",
   "execution_count": null,
   "id": "e5907a44",
   "metadata": {},
   "outputs": [],
   "source": []
  },
  {
   "cell_type": "code",
   "execution_count": null,
   "id": "1eb3e11d",
   "metadata": {},
   "outputs": [],
   "source": []
  },
  {
   "cell_type": "code",
   "execution_count": null,
   "id": "32493a41",
   "metadata": {},
   "outputs": [],
   "source": []
  },
  {
   "cell_type": "code",
   "execution_count": null,
   "id": "39e90e8f",
   "metadata": {},
   "outputs": [],
   "source": []
  },
  {
   "cell_type": "code",
   "execution_count": null,
   "id": "ad2d90ae",
   "metadata": {},
   "outputs": [],
   "source": []
  },
  {
   "cell_type": "code",
   "execution_count": null,
   "id": "ed5a6f6c",
   "metadata": {},
   "outputs": [],
   "source": []
  },
  {
   "cell_type": "code",
   "execution_count": null,
   "id": "4dbbc9f6",
   "metadata": {},
   "outputs": [],
   "source": []
  },
  {
   "cell_type": "code",
   "execution_count": null,
   "id": "5627b4ba",
   "metadata": {},
   "outputs": [],
   "source": []
  },
  {
   "cell_type": "code",
   "execution_count": null,
   "id": "6381900c",
   "metadata": {},
   "outputs": [],
   "source": []
  },
  {
   "cell_type": "code",
   "execution_count": null,
   "id": "7cb4f31b",
   "metadata": {},
   "outputs": [],
   "source": []
  },
  {
   "cell_type": "markdown",
   "id": "daf6c98f",
   "metadata": {},
   "source": [
    "## Test"
   ]
  },
  {
   "cell_type": "code",
   "execution_count": 7,
   "id": "2a4f45d0",
   "metadata": {},
   "outputs": [
    {
     "name": "stdout",
     "output_type": "stream",
     "text": [
      "CPU times: user 1.78 s, sys: 238 ms, total: 2.02 s\n",
      "Wall time: 1.95 s\n"
     ]
    },
    {
     "data": {
      "text/plain": [
       "(6928123, 4)"
      ]
     },
     "execution_count": 7,
     "metadata": {},
     "output_type": "execute_result"
    }
   ],
   "source": [
    "%%time\n",
    "\n",
    "kaggle_test_path = sorted(glob.glob(\n",
    "    os.path.join(DATA_PATH, \"input/otto-chunk-data-inparquet-format/test_parquet/*.parquet\")\n",
    "))\n",
    "\n",
    "df_test_interaction = pd.concat([read_parquet(i) for i in kaggle_test_path])\n",
    "# df_test_interaction = pl.DataFrame(df_test_interaction)\n",
    "df_test_interaction.shape"
   ]
  },
  {
   "cell_type": "code",
   "execution_count": 8,
   "id": "fb138b97",
   "metadata": {},
   "outputs": [
    {
     "name": "stderr",
     "output_type": "stream",
     "text": [
      "100%|██████████████████████████████████████████████████████████████████████████████████████████████████████████████████████████████████████| 3/3 [00:04<00:00,  1.57s/it]\n"
     ]
    }
   ],
   "source": [
    "for p in tqdm(pipeline):\n",
    "    p(df_test_interaction, \"test\")"
   ]
  },
  {
   "cell_type": "code",
   "execution_count": null,
   "id": "db319e99",
   "metadata": {},
   "outputs": [],
   "source": []
  },
  {
   "cell_type": "code",
   "execution_count": null,
   "id": "23086716",
   "metadata": {},
   "outputs": [],
   "source": []
  },
  {
   "cell_type": "code",
   "execution_count": null,
   "id": "a9950311",
   "metadata": {},
   "outputs": [],
   "source": []
  },
  {
   "cell_type": "code",
   "execution_count": null,
   "id": "a78c2478",
   "metadata": {},
   "outputs": [],
   "source": []
  },
  {
   "cell_type": "code",
   "execution_count": null,
   "id": "6a8c4afa",
   "metadata": {},
   "outputs": [],
   "source": []
  },
  {
   "cell_type": "markdown",
   "id": "4ef00218",
   "metadata": {},
   "source": [
    "# Todo"
   ]
  },
  {
   "cell_type": "code",
   "execution_count": null,
   "id": "f654c6f6",
   "metadata": {},
   "outputs": [],
   "source": [
    "def ts_day(df):\n",
    "    ts_minimal = df[\"ts\"].min()\n",
    "    df[\"ts_day\"] = (df[\"ts\"]-ts_minimal) // (24*60*60)\n",
    "    return df\n",
    "\n",
    "def add_session_length(df):\n",
    "    # If not using cuDF, remove .to_pandas()\n",
    "    df['session_length'] = df.groupby('session')['ts'].transform('count')\n",
    "    return df\n",
    "\n",
    "def add_action_num_reverse_chrono(df):\n",
    "    df['action_num_reverse_chrono'] = df.session_length - df.groupby('session').cumcount() - 1\n",
    "    return df\n",
    "\n",
    "def add_log_recency_score(df):\n",
    "    linear_interpolation = 0.1 + ((1-0.1) / (df['session_length']-1)) * (df['session_length']-df['action_num_reverse_chrono']-1)\n",
    "    df['log_recency_score'] = (2 ** linear_interpolation - 1).fillna(1.0)\n",
    "    return df\n",
    "\n",
    "def add_type_weighted_log_recency_score(df):\n",
    "    type_weights = {0:1, 1:6, 2:3, 3:0.1}\n",
    "    df['type_weighted_log_recency_score'] = df['log_recency_score'] / df['type'].map(type_weights)\n",
    "    return df\n",
    "\n",
    "\n",
    "\n",
    "pipeline = [\n",
    "    ts_day,\n",
    "    add_session_length,\n",
    "    add_action_num_reverse_chrono,\n",
    "    add_log_recency_score,\n",
    "    add_type_weighted_log_recency_score\n",
    "]"
   ]
  },
  {
   "cell_type": "code",
   "execution_count": null,
   "id": "dbddee65",
   "metadata": {},
   "outputs": [],
   "source": []
  },
  {
   "cell_type": "code",
   "execution_count": null,
   "id": "e690594d",
   "metadata": {},
   "outputs": [],
   "source": []
  },
  {
   "cell_type": "code",
   "execution_count": null,
   "id": "8265a294",
   "metadata": {},
   "outputs": [],
   "source": []
  },
  {
   "cell_type": "code",
   "execution_count": null,
   "id": "b2e70f70",
   "metadata": {},
   "outputs": [],
   "source": []
  }
 ],
 "metadata": {
  "kernelspec": {
   "display_name": "Python 3 (ipykernel)",
   "language": "python",
   "name": "python3"
  },
  "language_info": {
   "codemirror_mode": {
    "name": "ipython",
    "version": 3
   },
   "file_extension": ".py",
   "mimetype": "text/x-python",
   "name": "python",
   "nbconvert_exporter": "python",
   "pygments_lexer": "ipython3",
   "version": "3.8.15"
  }
 },
 "nbformat": 4,
 "nbformat_minor": 5
}
